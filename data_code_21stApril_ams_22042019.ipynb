{
 "cells": [
  {
   "cell_type": "markdown",
   "metadata": {
    "extensions": {
     "jupyter_dashboards": {
      "version": 1,
      "views": {
       "grid_default": {
        "col": 0,
        "height": 2,
        "hidden": false,
        "row": 0,
        "width": 12
       },
       "report_default": {}
      }
     }
    }
   },
   "source": [
    "<h1><center> Research Methods for Quantitative Professionals </center></h1>"
   ]
  },
  {
   "cell_type": "markdown",
   "metadata": {
    "extensions": {
     "jupyter_dashboards": {
      "version": 1,
      "views": {
       "grid_default": {
        "col": 0,
        "height": 2,
        "hidden": false,
        "row": 2,
        "width": 12
       },
       "report_default": {}
      }
     }
    }
   },
   "source": [
    "<h2><center> Historical Performance of Assets in Regimes </center></h2>"
   ]
  },
  {
   "cell_type": "markdown",
   "metadata": {
    "extensions": {
     "jupyter_dashboards": {
      "version": 1,
      "views": {
       "grid_default": {
        "col": 0,
        "height": 4,
        "hidden": true,
        "row": 0,
        "width": 4
       },
       "report_default": {
        "hidden": false
       }
      }
     }
    }
   },
   "source": [
    "## Libraries:"
   ]
  },
  {
   "cell_type": "code",
   "execution_count": 1,
   "metadata": {
    "extensions": {
     "jupyter_dashboards": {
      "version": 1,
      "views": {
       "grid_default": {
        "hidden": true
       },
       "report_default": {}
      }
     }
    }
   },
   "outputs": [],
   "source": [
    "\n",
    "## Libraries:import pandas as pd\n",
    "import pandas as pd\n",
    "import numpy as np\n",
    "import datetime\n",
    "import matplotlib.pyplot as plt\n",
    "import math\n",
    "from openpyxl import load_workbook \n",
    "import seaborn as sns\n",
    "import warnings \n",
    "from IPython.display import Image\n",
    "from statistics import mean \n",
    "\n",
    "from dfply import *\n",
    "\n",
    "import seaborn as sns\n",
    "sns.set(rc={'figure.figsize':(11.7,8.27)})\n",
    "\n",
    "\n",
    "import warnings\n",
    "warnings.filterwarnings('ignore')\n",
    "\n",
    "from IPython.display import Image , display, Javascript\n",
    "# from IPython.html.widgets import interact, SelectWidget, CheckboxWidget, RadioButtonsWidget, SelectMultiple\n",
    "from __future__ import print_function\n",
    "\n",
    "from ipywidgets.widgets import (interact, interactive, interactive_output, fixed, ToggleButtons,\n",
    "interact_manual, SelectMultiple, Output, RadioButtons,IntSlider, Dropdown, Layout, Select, HBox, VBox, Checkbox, Button)\n",
    "#import ipywidgets as widgets\n",
    "\n",
    "from traitlets import link , dlink\n",
    "\n",
    "import asyncio\n",
    "import re\n",
    "\n",
    "\n",
    "from plotly import plotly\n",
    "\n",
    "\n",
    "import itertools\n",
    "\n",
    "from decimal import Decimal\n",
    "\n",
    "from colour import Color\n",
    "\n",
    "import mpld3"
   ]
  },
  {
   "cell_type": "markdown",
   "metadata": {
    "extensions": {
     "jupyter_dashboards": {
      "version": 1,
      "views": {
       "grid_default": {
        "col": 8,
        "height": 4,
        "hidden": true,
        "row": 0,
        "width": 4
       },
       "report_default": {
        "hidden": false
       }
      }
     }
    }
   },
   "source": [
    "## Setting the size of the output window:"
   ]
  },
  {
   "cell_type": "code",
   "execution_count": 2,
   "metadata": {
    "extensions": {
     "jupyter_dashboards": {
      "version": 1,
      "views": {
       "grid_default": {
        "col": 4,
        "height": 4,
        "hidden": true,
        "row": 0,
        "width": 4
       },
       "report_default": {
        "hidden": false
       }
      }
     }
    }
   },
   "outputs": [
    {
     "data": {
      "text/html": [
       "<style>\n",
       ".output_wrapper, .output {\n",
       "    height:auto !important;\n",
       "    max-height:2000px;  /* your desired max-height here */\n",
       "    max-width: 2000px;\n",
       "}\n",
       ".output_scroll {\n",
       "    box-shadow:none !important;\n",
       "    webkit-box-shadow:none !important;\n",
       "}\n",
       "</style>"
      ],
      "text/plain": [
       "<IPython.core.display.HTML object>"
      ]
     },
     "metadata": {},
     "output_type": "display_data"
    }
   ],
   "source": [
    "%%html\n",
    "<style>\n",
    ".output_wrapper, .output {\n",
    "    height:auto !important;\n",
    "    max-height:2000px;  /* your desired max-height here */\n",
    "    max-width: 2000px;\n",
    "}\n",
    ".output_scroll {\n",
    "    box-shadow:none !important;\n",
    "    webkit-box-shadow:none !important;\n",
    "}\n",
    "</style>"
   ]
  },
  {
   "cell_type": "markdown",
   "metadata": {
    "extensions": {
     "jupyter_dashboards": {
      "version": 1,
      "views": {
       "grid_default": {
        "col": 4,
        "height": 4,
        "hidden": true,
        "row": 0,
        "width": 4
       },
       "report_default": {
        "hidden": false
       }
      }
     }
    }
   },
   "source": [
    "## Function to store values from the widgets:"
   ]
  },
  {
   "cell_type": "code",
   "execution_count": 3,
   "metadata": {
    "extensions": {
     "jupyter_dashboards": {
      "version": 1,
      "views": {
       "grid_default": {
        "hidden": true
       },
       "report_default": {
        "hidden": true
       }
      }
     }
    }
   },
   "outputs": [],
   "source": [
    "%gui asyncio\n",
    "\n",
    "def wait_for_change(widget, value):\n",
    "    future = asyncio.Future()\n",
    "    def getvalue(change):\n",
    "        # make the new value available\n",
    "        future.set_result(change.new)\n",
    "        widget.unobserve(getvalue, value)\n",
    "    widget.observe(getvalue, value)\n",
    "    temp = future\n",
    "    return future"
   ]
  },
  {
   "cell_type": "code",
   "execution_count": 4,
   "metadata": {
    "extensions": {
     "jupyter_dashboards": {
      "version": 1,
      "views": {
       "grid_default": {
        "col": 8,
        "height": 4,
        "hidden": false,
        "row": 4,
        "width": 2
       },
       "report_default": {}
      }
     }
    },
    "scrolled": false
   },
   "outputs": [
    {
     "data": {
      "image/jpeg": "[encoded data removed]",
      "text/plain": [
       "<IPython.core.display.Image object>"
      ]
     },
     "execution_count": 4,
     "metadata": {},
     "output_type": "execute_result"
    }
   ],
   "source": [
    "Image(filename='quad.jpg')"
   ]
  },
  {
   "cell_type": "markdown",
   "metadata": {
    "extensions": {
     "jupyter_dashboards": {
      "version": 1,
      "views": {
       "grid_default": {
        "col": 0,
        "height": 4,
        "hidden": true,
        "row": 95,
        "width": 4
       },
       "report_default": {}
      }
     }
    }
   },
   "source": [
    "## Define a custom color map function:"
   ]
  },
  {
   "cell_type": "code",
   "execution_count": 5,
   "metadata": {
    "extensions": {
     "jupyter_dashboards": {
      "version": 1,
      "views": {
       "grid_default": {
        "hidden": true
       },
       "report_default": {}
      }
     }
    }
   },
   "outputs": [],
   "source": [
    "def my_color_map(val):\n",
    "    if type(val) == str:\n",
    "        val = re.sub(r'%', ' ', val) # Remove '%', if any\n",
    "        color = 'red' if int(val) <= 0 else 'green'\n",
    "    else:\n",
    "        color = 'red' if val <= 0 else 'green'\n",
    "    return 'color: %s' % color\n",
    "\n",
    "# display(avg_table.style.background_gradient( cmap = \"coolwarm_r\" , axis = 0 ))"
   ]
  },
  {
   "cell_type": "markdown",
   "metadata": {
    "extensions": {
     "jupyter_dashboards": {
      "version": 1,
      "views": {
       "grid_default": {
        "col": 0,
        "height": 4,
        "hidden": true,
        "row": 40,
        "width": 4
       },
       "report_default": {}
      }
     }
    }
   },
   "source": [
    "# Collecting Data from excel and trimming it based on the requirement"
   ]
  },
  {
   "cell_type": "code",
   "execution_count": 6,
   "metadata": {
    "extensions": {
     "jupyter_dashboards": {
      "version": 1,
      "views": {
       "grid_default": {
        "hidden": true
       },
       "report_default": {}
      }
     }
    }
   },
   "outputs": [],
   "source": [
    "df_USD = pd.read_excel(\"Data.xlsx\", header = None,sheet_name = 'USD')\n",
    "df_gold = pd.read_excel(\"Data.xlsx\", header = None,sheet_name = 'gold')\n",
    "df_equity = pd.read_excel(\"Data.xlsx\", header = None,sheet_name = 'equity')\n",
    "df_bonds = pd.read_excel(\"Data.xlsx\", header = None,sheet_name = 'bonds')\n",
    "df_commodities = pd.read_excel(\"Data.xlsx\", header = None,sheet_name = 'commodities')\n",
    "df_GDP = pd.read_excel(\"Data.xlsx\", header = None,sheet_name = 'GDP')\n",
    "df_CPI = pd.read_excel(\"Data.xlsx\", header = None,sheet_name = 'CPI')\n",
    "\n",
    "\n",
    "df_USD.columns = ['Date','price']\n",
    "df_gold.columns = ['Date','price']\n",
    "df_equity.columns = ['Date','price']\n",
    "df_bonds.columns = ['Date','price']\n",
    "df_commodities.columns = ['Date','price']\n",
    "df_GDP.columns = ['Date','return']\n",
    "df_CPI.columns = ['Date','return']\n",
    "\n",
    "\n",
    "####   input below --- till what date you want to trim the data?\n",
    "\n",
    "Last_date_input = \"01OCT2015\"\n",
    "\n",
    "date = datetime.datetime.strptime(Last_date_input, \"%d%b%Y\")\n",
    "\n",
    "Last_date = date\n",
    "\n",
    "index_for_Last_date_testing =0\n",
    "\n",
    "\n",
    "for i in range(len(df_USD)):\n",
    "    \n",
    "    \n",
    "    if df_USD['Date'][i] ==  Last_date:\n",
    "        \n",
    "        index_for_Last_date_testing  = i\n",
    "        \n",
    "        break\n",
    "    \n",
    "    else:\n",
    "        continue\n",
    "\n",
    "        \n",
    "############## Below dataframes are new dateframes created from orginal dataframes which include entrire data\n",
    "############## Dataframes are trimmed according to the 'Date' inputed above \n",
    "\n",
    "df_USD = df_USD.loc[:index_for_Last_date_testing,:]\n",
    "df_gold = df_gold.loc[:index_for_Last_date_testing,:]\n",
    "df_equity = df_equity.loc[:index_for_Last_date_testing,:]\n",
    "df_bonds = df_bonds.loc[:index_for_Last_date_testing,:]\n",
    "df_commodities = df_commodities.loc[:index_for_Last_date_testing,:]\n",
    "df_GDP = df_GDP.loc[:index_for_Last_date_testing,:]\n",
    "df_CPI = df_CPI.loc[:index_for_Last_date_testing,:]\n"
   ]
  },
  {
   "cell_type": "markdown",
   "metadata": {
    "extensions": {
     "jupyter_dashboards": {
      "version": 1,
      "views": {
       "grid_default": {
        "col": 4,
        "height": 4,
        "hidden": true,
        "row": 40,
        "width": 4
       },
       "report_default": {}
      }
     }
    }
   },
   "source": [
    "# Splitting data in the above DataFrames -- to study correlation "
   ]
  },
  {
   "cell_type": "code",
   "execution_count": 7,
   "metadata": {
    "extensions": {
     "jupyter_dashboards": {
      "version": 1,
      "views": {
       "grid_default": {
        "hidden": true
       },
       "report_default": {}
      }
     }
    }
   },
   "outputs": [],
   "source": [
    "n = 10 # 'n' is number of splits you want in data\n",
    "\n",
    "num = [ i+1 for i in range(n) ] "
   ]
  },
  {
   "cell_type": "code",
   "execution_count": 8,
   "metadata": {
    "extensions": {
     "jupyter_dashboards": {
      "version": 1,
      "views": {
       "grid_default": {
        "hidden": true
       },
       "report_default": {}
      }
     }
    }
   },
   "outputs": [],
   "source": [
    "for i in num:\n",
    "    \n",
    "\n",
    "    if i != num[-1]:\n",
    "        \n",
    "        vars()['dataUSD' + str(i)] = df_USD.iloc[(i-1)*math.floor(len(df_USD)/n):i*math.floor(len(df_USD)/n)]\n",
    "        vars()['datagold' + str(i)] = df_gold.iloc[(i-1)*math.floor(len(df_gold)/n):i*math.floor(len(df_gold)/n)]\n",
    "        vars()['dataequity' + str(i)] = df_equity.iloc[(i-1)*math.floor(len(df_equity)/n):i*math.floor(len(df_equity)/n)]\n",
    "        vars()['databonds' + str(i)] = df_bonds.iloc[(i-1)*math.floor(len(df_bonds)/n):i*math.floor(len(df_bonds)/n)]\n",
    "        vars()['datacommodities' + str(i)] = df_commodities.iloc[(i-1)*math.floor(len(df_commodities)/n):i*math.floor(len(df_commodities)/n)]\n",
    "        vars()['dataGDP' + str(i)] = df_GDP.iloc[(i-1)*math.floor(len(df_GDP)/n):i*math.floor(len(df_GDP)/n)] \n",
    "        vars()['dataCPI' + str(i)] = df_CPI.iloc[(i-1)*math.floor(len(df_CPI)/n):i*math.floor(len(df_CPI)/n)] \n",
    "        \n",
    "    else:\n",
    "        \n",
    "        vars()['dataUSD' + str(i)] = df_USD.iloc[(i-1)*math.floor(len(df_USD)/n):]\n",
    "        vars()['datagold' + str(i)] = df_gold.iloc[(i-1)*math.floor(len(df_gold)/n):]\n",
    "        vars()['dataequity' + str(i)] = df_equity.iloc[(i-1)*math.floor(len(df_equity)/n):]\n",
    "        vars()['databonds' + str(i)] = df_bonds.iloc[(i-1)*math.floor(len(df_bonds)/n):]\n",
    "        vars()['datacommodities' + str(i)] = df_commodities.iloc[(i-1)*math.floor(len(df_commodities)/n):]\n",
    "        vars()['dataGDP' + str(i)] = df_GDP.iloc[(i-1)*math.floor(len(df_GDP)/n):] \n",
    "        vars()['dataCPI' + str(i)] = df_CPI.iloc[(i-1)*math.floor(len(df_CPI)/n):]\n",
    "        \n",
    "    \n",
    "    vars()['dataUSD_return' + str(i)] = vars()['dataUSD' + str(i)]['price'].pct_change()\n",
    "    vars()['datagold_return' + str(i)] = vars()['datagold' + str(i)]['price'].pct_change()\n",
    "    vars()['dataequity_return' + str(i)] = vars()['dataequity' + str(i)]['price'].pct_change()\n",
    "    vars()['databonds_return' + str(i)] = -vars()['databonds' + str(i)]['price'].pct_change()\n",
    "    vars()['datacommodities_return' + str(i)] = vars()['datacommodities' + str(i)]['price'].pct_change()\n",
    "    vars()['dataGDP_return' + str(i)] = vars()['dataGDP' + str(i)]['return'].pct_change()\n",
    "    vars()['dataCPI_return' + str(i)] = vars()['dataCPI' + str(i)]['return'].pct_change()\n",
    "    \n",
    "    \n",
    "    \n",
    "    \n",
    "    vars()['AssetClass'+str(i)] = pd.DataFrame()\n",
    "    vars()['AssetClass'+str(i)]['Equity'] = vars()['dataequity_return' + str(i)] \n",
    "    vars()['AssetClass'+str(i)]['Bonds'] = vars()['databonds_return' + str(i)]\n",
    "    vars()['AssetClass'+str(i)]['USD'] = vars()['dataUSD_return' + str(i)]\n",
    "    vars()['AssetClass'+str(i)]['Gold'] = vars()['datagold_return' + str(i)]\n",
    "    vars()['AssetClass'+str(i)]['commodities']= vars()['datacommodities_return' + str(i)]\n",
    "    vars()['AssetClass'+str(i)]['GDP'] = vars()['dataGDP_return' + str(i)]\n",
    "    vars()['AssetClass'+str(i)]['CPI'] = vars()['dataCPI_return' + str(i)]\n",
    "    \n",
    "    vars()['AssetClass'+str(i)].dropna(inplace=True)\n",
    "\n",
    "    vars()['AssetCorrmatrix'+str(i)]=vars()['AssetClass'+str(i)].corr()\n",
    "    \n"
   ]
  },
  {
   "cell_type": "code",
   "execution_count": 9,
   "metadata": {
    "extensions": {
     "jupyter_dashboards": {
      "version": 1,
      "views": {
       "grid_default": {
        "col": 0,
        "height": 8,
        "hidden": true,
        "row": 59,
        "width": 7
       },
       "report_default": {}
      }
     }
    }
   },
   "outputs": [
    {
     "data": {
      "text/html": [
       "<div>\n",
       "<style scoped>\n",
       "    .dataframe tbody tr th:only-of-type {\n",
       "        vertical-align: middle;\n",
       "    }\n",
       "\n",
       "    .dataframe tbody tr th {\n",
       "        vertical-align: top;\n",
       "    }\n",
       "\n",
       "    .dataframe thead th {\n",
       "        text-align: right;\n",
       "    }\n",
       "</style>\n",
       "<table border=\"1\" class=\"dataframe\">\n",
       "  <thead>\n",
       "    <tr style=\"text-align: right;\">\n",
       "      <th></th>\n",
       "      <th>Equity</th>\n",
       "      <th>Bonds</th>\n",
       "      <th>USD</th>\n",
       "      <th>Gold</th>\n",
       "      <th>commodities</th>\n",
       "      <th>GDP</th>\n",
       "      <th>CPI</th>\n",
       "    </tr>\n",
       "  </thead>\n",
       "  <tbody>\n",
       "    <tr>\n",
       "      <th>Equity</th>\n",
       "      <td>1.000000</td>\n",
       "      <td>0.456469</td>\n",
       "      <td>-0.302280</td>\n",
       "      <td>-0.325105</td>\n",
       "      <td>0.008882</td>\n",
       "      <td>-0.156794</td>\n",
       "      <td>-0.419605</td>\n",
       "    </tr>\n",
       "    <tr>\n",
       "      <th>Bonds</th>\n",
       "      <td>0.456469</td>\n",
       "      <td>1.000000</td>\n",
       "      <td>-0.502053</td>\n",
       "      <td>-0.118363</td>\n",
       "      <td>0.516755</td>\n",
       "      <td>-0.559094</td>\n",
       "      <td>-0.196658</td>\n",
       "    </tr>\n",
       "    <tr>\n",
       "      <th>USD</th>\n",
       "      <td>-0.302280</td>\n",
       "      <td>-0.502053</td>\n",
       "      <td>1.000000</td>\n",
       "      <td>-0.274335</td>\n",
       "      <td>-0.654394</td>\n",
       "      <td>-0.041842</td>\n",
       "      <td>-0.552962</td>\n",
       "    </tr>\n",
       "    <tr>\n",
       "      <th>Gold</th>\n",
       "      <td>-0.325105</td>\n",
       "      <td>-0.118363</td>\n",
       "      <td>-0.274335</td>\n",
       "      <td>1.000000</td>\n",
       "      <td>0.635226</td>\n",
       "      <td>-0.173003</td>\n",
       "      <td>0.512334</td>\n",
       "    </tr>\n",
       "    <tr>\n",
       "      <th>commodities</th>\n",
       "      <td>0.008882</td>\n",
       "      <td>0.516755</td>\n",
       "      <td>-0.654394</td>\n",
       "      <td>0.635226</td>\n",
       "      <td>1.000000</td>\n",
       "      <td>-0.170134</td>\n",
       "      <td>0.427330</td>\n",
       "    </tr>\n",
       "    <tr>\n",
       "      <th>GDP</th>\n",
       "      <td>-0.156794</td>\n",
       "      <td>-0.559094</td>\n",
       "      <td>-0.041842</td>\n",
       "      <td>-0.173003</td>\n",
       "      <td>-0.170134</td>\n",
       "      <td>1.000000</td>\n",
       "      <td>0.177559</td>\n",
       "    </tr>\n",
       "    <tr>\n",
       "      <th>CPI</th>\n",
       "      <td>-0.419605</td>\n",
       "      <td>-0.196658</td>\n",
       "      <td>-0.552962</td>\n",
       "      <td>0.512334</td>\n",
       "      <td>0.427330</td>\n",
       "      <td>0.177559</td>\n",
       "      <td>1.000000</td>\n",
       "    </tr>\n",
       "  </tbody>\n",
       "</table>\n",
       "</div>"
      ],
      "text/plain": [
       "               Equity     Bonds       USD      Gold  commodities       GDP  \\\n",
       "Equity       1.000000  0.456469 -0.302280 -0.325105     0.008882 -0.156794   \n",
       "Bonds        0.456469  1.000000 -0.502053 -0.118363     0.516755 -0.559094   \n",
       "USD         -0.302280 -0.502053  1.000000 -0.274335    -0.654394 -0.041842   \n",
       "Gold        -0.325105 -0.118363 -0.274335  1.000000     0.635226 -0.173003   \n",
       "commodities  0.008882  0.516755 -0.654394  0.635226     1.000000 -0.170134   \n",
       "GDP         -0.156794 -0.559094 -0.041842 -0.173003    -0.170134  1.000000   \n",
       "CPI         -0.419605 -0.196658 -0.552962  0.512334     0.427330  0.177559   \n",
       "\n",
       "                  CPI  \n",
       "Equity      -0.419605  \n",
       "Bonds       -0.196658  \n",
       "USD         -0.552962  \n",
       "Gold         0.512334  \n",
       "commodities  0.427330  \n",
       "GDP          0.177559  \n",
       "CPI          1.000000  "
      ]
     },
     "execution_count": 9,
     "metadata": {},
     "output_type": "execute_result"
    }
   ],
   "source": [
    "# type 'AssetCorrmatrix2' -- this will give the correlation matrix if we had 2 splits in the data -- \n",
    "# if you have 3 splits then type 3 at end\n",
    "\n",
    "AssetCorrmatrix2"
   ]
  },
  {
   "cell_type": "code",
   "execution_count": 10,
   "metadata": {
    "extensions": {
     "jupyter_dashboards": {
      "version": 1,
      "views": {
       "grid_default": {
        "hidden": true
       },
       "report_default": {}
      }
     }
    }
   },
   "outputs": [],
   "source": [
    "### for example : equity_bond -- this will give the list of correlations between equity and bond --- \n",
    "### correlation in the list are in order --- first element in the list will give you correlation of all the returns \\\\\\\n",
    "### of bonds and equity that fall into first cluster of data ( after splitting it into 'n' clusters)\n",
    "\n",
    "equity_bond = []\n",
    "equity_USD = []\n",
    "equity_gold = []\n",
    "equity_commodities = []\n",
    "bonds_USD = []\n",
    "bonds_gold =[]\n",
    "bonds_commodities = []\n",
    "USD_gold =[]\n",
    "USD_commodities =[]\n",
    "gold_commodities = []\n",
    "\n",
    "\n",
    "for i in num:\n",
    "    equity_bond.append(vars()['AssetCorrmatrix' + str(i)]['Equity']['Bonds']) \n",
    "    equity_USD.append(vars()['AssetCorrmatrix' + str(i)]['Equity']['USD'])\n",
    "    equity_gold.append(vars()['AssetCorrmatrix' + str(i)]['Equity']['Gold'])\n",
    "    equity_commodities.append(vars()['AssetCorrmatrix' + str(i)]['Equity']['commodities'])\n",
    "    bonds_USD.append(vars()['AssetCorrmatrix' + str(i)]['Bonds']['USD'])\n",
    "    bonds_gold.append(vars()['AssetCorrmatrix' + str(i)]['Bonds']['Gold'])\n",
    "    bonds_commodities.append(vars()['AssetCorrmatrix' + str(i)]['Bonds']['commodities'])\n",
    "    USD_gold.append(vars()['AssetCorrmatrix' + str(i)]['USD']['Gold'])\n",
    "    USD_commodities.append(vars()['AssetCorrmatrix' + str(i)]['USD']['commodities'])\n",
    "    gold_commodities.append(vars()['AssetCorrmatrix' + str(i)]['Gold']['commodities'])"
   ]
  },
  {
   "cell_type": "code",
   "execution_count": 11,
   "metadata": {
    "extensions": {
     "jupyter_dashboards": {
      "version": 1,
      "views": {
       "grid_default": {
        "hidden": true
       },
       "report_default": {}
      }
     }
    }
   },
   "outputs": [],
   "source": [
    "correlation = pd.DataFrame()  #shows correlation of different asset classes over different time spans "
   ]
  },
  {
   "cell_type": "code",
   "execution_count": 12,
   "metadata": {
    "extensions": {
     "jupyter_dashboards": {
      "version": 1,
      "views": {
       "grid_default": {
        "hidden": true
       },
       "report_default": {}
      }
     }
    }
   },
   "outputs": [],
   "source": [
    "correlation['equity_bond'] = equity_bond\n",
    "correlation['equity_USD'] = equity_USD\n",
    "correlation['equity_gold'] = equity_gold\n",
    "correlation['equity_commodities'] = equity_commodities\n",
    "correlation['bonds_USD'] = bonds_USD\n",
    "correlation['bonds_gold'] = bonds_gold\n",
    "correlation['bonds_commodities'] = bonds_commodities\n",
    "correlation['USD_gold'] = USD_gold\n",
    "correlation['USD_commodities '] = USD_commodities \n",
    "correlation['gold_commodities'] = gold_commodities"
   ]
  },
  {
   "cell_type": "code",
   "execution_count": 13,
   "metadata": {
    "extensions": {
     "jupyter_dashboards": {
      "version": 1,
      "views": {
       "grid_default": {
        "col": 0,
        "height": 11,
        "hidden": true,
        "row": 59,
        "width": 11
       },
       "report_default": {}
      }
     }
    }
   },
   "outputs": [
    {
     "data": {
      "text/html": [
       "<div>\n",
       "<style scoped>\n",
       "    .dataframe tbody tr th:only-of-type {\n",
       "        vertical-align: middle;\n",
       "    }\n",
       "\n",
       "    .dataframe tbody tr th {\n",
       "        vertical-align: top;\n",
       "    }\n",
       "\n",
       "    .dataframe thead th {\n",
       "        text-align: right;\n",
       "    }\n",
       "</style>\n",
       "<table border=\"1\" class=\"dataframe\">\n",
       "  <thead>\n",
       "    <tr style=\"text-align: right;\">\n",
       "      <th></th>\n",
       "      <th>equity_bond</th>\n",
       "      <th>equity_USD</th>\n",
       "      <th>equity_gold</th>\n",
       "      <th>equity_commodities</th>\n",
       "      <th>bonds_USD</th>\n",
       "      <th>bonds_gold</th>\n",
       "      <th>bonds_commodities</th>\n",
       "      <th>USD_gold</th>\n",
       "      <th>USD_commodities</th>\n",
       "      <th>gold_commodities</th>\n",
       "    </tr>\n",
       "  </thead>\n",
       "  <tbody>\n",
       "    <tr>\n",
       "      <th>0</th>\n",
       "      <td>0.682897</td>\n",
       "      <td>-0.432370</td>\n",
       "      <td>0.059507</td>\n",
       "      <td>-0.335089</td>\n",
       "      <td>-0.089790</td>\n",
       "      <td>-0.008510</td>\n",
       "      <td>-0.304258</td>\n",
       "      <td>0.451228</td>\n",
       "      <td>-0.477509</td>\n",
       "      <td>-0.816371</td>\n",
       "    </tr>\n",
       "    <tr>\n",
       "      <th>1</th>\n",
       "      <td>0.456469</td>\n",
       "      <td>-0.302280</td>\n",
       "      <td>-0.325105</td>\n",
       "      <td>0.008882</td>\n",
       "      <td>-0.502053</td>\n",
       "      <td>-0.118363</td>\n",
       "      <td>0.516755</td>\n",
       "      <td>-0.274335</td>\n",
       "      <td>-0.654394</td>\n",
       "      <td>0.635226</td>\n",
       "    </tr>\n",
       "    <tr>\n",
       "      <th>2</th>\n",
       "      <td>-0.522645</td>\n",
       "      <td>0.367548</td>\n",
       "      <td>-0.267876</td>\n",
       "      <td>-0.476849</td>\n",
       "      <td>-0.618678</td>\n",
       "      <td>0.024871</td>\n",
       "      <td>-0.417753</td>\n",
       "      <td>-0.525862</td>\n",
       "      <td>0.113770</td>\n",
       "      <td>0.535009</td>\n",
       "    </tr>\n",
       "    <tr>\n",
       "      <th>3</th>\n",
       "      <td>-0.825121</td>\n",
       "      <td>0.400387</td>\n",
       "      <td>-0.319991</td>\n",
       "      <td>0.219876</td>\n",
       "      <td>-0.472020</td>\n",
       "      <td>0.172659</td>\n",
       "      <td>0.037520</td>\n",
       "      <td>-0.745897</td>\n",
       "      <td>-0.085595</td>\n",
       "      <td>0.057888</td>\n",
       "    </tr>\n",
       "    <tr>\n",
       "      <th>4</th>\n",
       "      <td>-0.644014</td>\n",
       "      <td>-0.070399</td>\n",
       "      <td>0.320773</td>\n",
       "      <td>-0.115040</td>\n",
       "      <td>0.249655</td>\n",
       "      <td>-0.555537</td>\n",
       "      <td>0.339963</td>\n",
       "      <td>-0.145843</td>\n",
       "      <td>0.321274</td>\n",
       "      <td>0.135005</td>\n",
       "    </tr>\n",
       "    <tr>\n",
       "      <th>5</th>\n",
       "      <td>-0.280561</td>\n",
       "      <td>-0.411620</td>\n",
       "      <td>0.393040</td>\n",
       "      <td>-0.555073</td>\n",
       "      <td>0.310992</td>\n",
       "      <td>-0.328805</td>\n",
       "      <td>-0.211255</td>\n",
       "      <td>-0.342054</td>\n",
       "      <td>0.215663</td>\n",
       "      <td>-0.341864</td>\n",
       "    </tr>\n",
       "    <tr>\n",
       "      <th>6</th>\n",
       "      <td>-0.454245</td>\n",
       "      <td>-0.326216</td>\n",
       "      <td>0.051915</td>\n",
       "      <td>0.233620</td>\n",
       "      <td>-0.308041</td>\n",
       "      <td>0.621594</td>\n",
       "      <td>-0.257502</td>\n",
       "      <td>-0.795830</td>\n",
       "      <td>-0.647177</td>\n",
       "      <td>0.491431</td>\n",
       "    </tr>\n",
       "    <tr>\n",
       "      <th>7</th>\n",
       "      <td>-0.270261</td>\n",
       "      <td>-0.812964</td>\n",
       "      <td>-0.272250</td>\n",
       "      <td>0.678747</td>\n",
       "      <td>0.053351</td>\n",
       "      <td>0.398809</td>\n",
       "      <td>-0.755676</td>\n",
       "      <td>0.258642</td>\n",
       "      <td>-0.611654</td>\n",
       "      <td>-0.412686</td>\n",
       "    </tr>\n",
       "    <tr>\n",
       "      <th>8</th>\n",
       "      <td>-0.851151</td>\n",
       "      <td>-0.427457</td>\n",
       "      <td>-0.172057</td>\n",
       "      <td>0.829827</td>\n",
       "      <td>0.627873</td>\n",
       "      <td>0.154661</td>\n",
       "      <td>-0.732629</td>\n",
       "      <td>-0.342184</td>\n",
       "      <td>-0.469562</td>\n",
       "      <td>0.169899</td>\n",
       "    </tr>\n",
       "    <tr>\n",
       "      <th>9</th>\n",
       "      <td>-0.444577</td>\n",
       "      <td>-0.146992</td>\n",
       "      <td>-0.049818</td>\n",
       "      <td>0.173597</td>\n",
       "      <td>0.495052</td>\n",
       "      <td>0.256872</td>\n",
       "      <td>-0.534350</td>\n",
       "      <td>-0.413947</td>\n",
       "      <td>-0.602912</td>\n",
       "      <td>0.446680</td>\n",
       "    </tr>\n",
       "  </tbody>\n",
       "</table>\n",
       "</div>"
      ],
      "text/plain": [
       "   equity_bond  equity_USD  equity_gold  equity_commodities  bonds_USD  \\\n",
       "0     0.682897   -0.432370     0.059507           -0.335089  -0.089790   \n",
       "1     0.456469   -0.302280    -0.325105            0.008882  -0.502053   \n",
       "2    -0.522645    0.367548    -0.267876           -0.476849  -0.618678   \n",
       "3    -0.825121    0.400387    -0.319991            0.219876  -0.472020   \n",
       "4    -0.644014   -0.070399     0.320773           -0.115040   0.249655   \n",
       "5    -0.280561   -0.411620     0.393040           -0.555073   0.310992   \n",
       "6    -0.454245   -0.326216     0.051915            0.233620  -0.308041   \n",
       "7    -0.270261   -0.812964    -0.272250            0.678747   0.053351   \n",
       "8    -0.851151   -0.427457    -0.172057            0.829827   0.627873   \n",
       "9    -0.444577   -0.146992    -0.049818            0.173597   0.495052   \n",
       "\n",
       "   bonds_gold  bonds_commodities  USD_gold  USD_commodities   gold_commodities  \n",
       "0   -0.008510          -0.304258  0.451228         -0.477509         -0.816371  \n",
       "1   -0.118363           0.516755 -0.274335         -0.654394          0.635226  \n",
       "2    0.024871          -0.417753 -0.525862          0.113770          0.535009  \n",
       "3    0.172659           0.037520 -0.745897         -0.085595          0.057888  \n",
       "4   -0.555537           0.339963 -0.145843          0.321274          0.135005  \n",
       "5   -0.328805          -0.211255 -0.342054          0.215663         -0.341864  \n",
       "6    0.621594          -0.257502 -0.795830         -0.647177          0.491431  \n",
       "7    0.398809          -0.755676  0.258642         -0.611654         -0.412686  \n",
       "8    0.154661          -0.732629 -0.342184         -0.469562          0.169899  \n",
       "9    0.256872          -0.534350 -0.413947         -0.602912          0.446680  "
      ]
     },
     "execution_count": 13,
     "metadata": {},
     "output_type": "execute_result"
    }
   ],
   "source": [
    "correlation   "
   ]
  },
  {
   "cell_type": "markdown",
   "metadata": {
    "extensions": {
     "jupyter_dashboards": {
      "version": 1,
      "views": {
       "grid_default": {
        "col": 8,
        "height": 4,
        "hidden": true,
        "row": 40,
        "width": 4
       },
       "report_default": {}
      }
     }
    }
   },
   "source": [
    "# Plotting the correlation of assets in each time-span that was split above"
   ]
  },
  {
   "cell_type": "code",
   "execution_count": 14,
   "metadata": {
    "extensions": {
     "jupyter_dashboards": {
      "version": 1,
      "views": {
       "grid_default": {
        "hidden": true
       },
       "report_default": {}
      }
     }
    }
   },
   "outputs": [],
   "source": [
    "# plt.figure(figsize=(30, 30))\n",
    "\n",
    "# plt.subplot(4,3,1)\n",
    "# plt.plot(num,equity_bond)\n",
    "# plt.title('equity and bonds')\n",
    "\n",
    "# plt.subplot(4,3,2)\n",
    "# plt.plot(num,equity_USD)\n",
    "# plt.title('equity and USD')\n",
    "\n",
    "# plt.subplot(4,3,3)\n",
    "# plt.plot(num,equity_gold)\n",
    "# plt.title('equity and gold')\n",
    "\n",
    "# plt.subplot(4,3,4)\n",
    "# plt.plot(num,equity_commodities)\n",
    "# plt.title('equity and commodities')\n",
    "\n",
    "# plt.subplot(4,3,5)\n",
    "# plt.plot(num, bonds_USD)\n",
    "# plt.title('Bonds and USD')\n",
    "\n",
    "# plt.subplot(4,3,6)\n",
    "# plt.plot(num, bonds_gold)\n",
    "# plt.title('Bonds and Gold')\n",
    "\n",
    "# plt.subplot(4,3,7)\n",
    "# plt.plot(num, bonds_commodities)\n",
    "# plt.title('Bonds and Commodities')\n",
    "\n",
    "# plt.subplot(4,3,8)\n",
    "# plt.plot(num, USD_gold)\n",
    "# plt.title('USD and Gold')\n",
    "\n",
    "# plt.subplot(4,3,9)\n",
    "# plt.plot(num, USD_commodities )\n",
    "# plt.title('USD and Commodities')\n",
    "\n",
    "# plt.subplot(4,3,10)\n",
    "# plt.plot(num, USD_commodities )\n",
    "# plt.title('USD and Commodities')\n",
    "\n",
    "#plt.show()\n"
   ]
  },
  {
   "cell_type": "markdown",
   "metadata": {
    "extensions": {
     "jupyter_dashboards": {
      "version": 1,
      "views": {
       "grid_default": {
        "col": 7,
        "height": 4,
        "hidden": true,
        "row": 40,
        "width": 4
       },
       "report_default": {}
      }
     }
    }
   },
   "source": [
    "# below code output will produce heat maps for each split we made in the data "
   ]
  },
  {
   "cell_type": "code",
   "execution_count": 15,
   "metadata": {
    "extensions": {
     "jupyter_dashboards": {
      "version": 1,
      "views": {
       "grid_default": {
        "hidden": true
       },
       "report_default": {}
      }
     }
    }
   },
   "outputs": [],
   "source": [
    "# # Compute the correlation matrix\n",
    "# for i in num:\n",
    "#     corr = vars()['AssetCorrmatrix' + str(i)]\n",
    "#     sns.set(style = \"white\")\n",
    "\n",
    "# # Generate a mask for the upper triangle\n",
    "#     mask = np.zeros_like(corr, dtype = np.bool)\n",
    "#     mask[np.triu_indices_from(mask)] = True\n",
    "\n",
    "# # Set up the matplotlib figure\n",
    "#     f, ax = plt.subplots(figsize=(11, 9))\n",
    "\n",
    "# # Generate a custom diverging colormap\n",
    "#     cmap = sns.diverging_palette(220, 10, as_cmap = True)\n",
    "\n",
    "# # # Draw the heatmap with the mask and correct aspect ratio\n",
    "# #     sns.heatmap(corr, mask = mask, cmap = cmap, vmax = 0.3, center = 0, \n",
    "# #                 square = True, linewidths = 0.5, cbar_kws = {\"shrink\": 0.5})\n",
    "\n",
    "# # Looking at the heatmap, we don't see much correlation among variables, expect for an inverse mpg to engine size, which makes sense"
   ]
  },
  {
   "cell_type": "markdown",
   "metadata": {
    "extensions": {
     "jupyter_dashboards": {
      "version": 1,
      "views": {
       "grid_default": {
        "col": 0,
        "height": 4,
        "hidden": true,
        "row": 59,
        "width": 12
       },
       "report_default": {}
      }
     }
    }
   },
   "source": [
    "# Creating a DataFrame to observe correlation between each Asset class and GDP, PCE"
   ]
  },
  {
   "cell_type": "code",
   "execution_count": 16,
   "metadata": {
    "extensions": {
     "jupyter_dashboards": {
      "version": 1,
      "views": {
       "grid_default": {
        "hidden": true
       },
       "report_default": {}
      }
     }
    }
   },
   "outputs": [],
   "source": [
    "equity_GDP = []\n",
    "equity_CPI = []\n",
    "\n",
    "bonds_GDP = []\n",
    "bonds_CPI =[]\n",
    "\n",
    "USD_GDP =[]\n",
    "USD_CPI =[]\n",
    "\n",
    "gold_GDP = []\n",
    "gold_CPI = []\n",
    "\n",
    "commodities_GDP = []\n",
    "commodities_CPI = []\n",
    "\n",
    "GDP_CPI = []\n",
    "\n",
    "\n",
    "\n",
    "for i in num:\n",
    "    \n",
    "    equity_GDP.append(vars()['AssetCorrmatrix' + str(i)]['Equity']['GDP']) \n",
    "    equity_CPI.append(vars()['AssetCorrmatrix' + str(i)]['Equity']['CPI'])\n",
    "    \n",
    "    bonds_GDP.append(vars()['AssetCorrmatrix' + str(i)]['Bonds']['GDP'])\n",
    "    bonds_CPI.append(vars()['AssetCorrmatrix' + str(i)]['Bonds']['CPI'])\n",
    "    \n",
    "    USD_GDP.append(vars()['AssetCorrmatrix' + str(i)]['USD']['GDP'])\n",
    "    USD_CPI.append(vars()['AssetCorrmatrix' + str(i)]['USD']['CPI'])\n",
    "    \n",
    "    gold_GDP.append(vars()['AssetCorrmatrix' + str(i)]['Gold']['GDP'])\n",
    "    gold_CPI.append(vars()['AssetCorrmatrix' + str(i)]['Gold']['CPI'])\n",
    "    \n",
    "    commodities_GDP.append(vars()['AssetCorrmatrix' + str(i)]['commodities']['GDP'])\n",
    "    commodities_CPI.append(vars()['AssetCorrmatrix' + str(i)]['commodities']['CPI'])\n",
    "    \n",
    "    GDP_CPI.append(vars()['AssetCorrmatrix' + str(i)]['CPI']['GDP'])\n",
    "    "
   ]
  },
  {
   "cell_type": "code",
   "execution_count": 17,
   "metadata": {
    "extensions": {
     "jupyter_dashboards": {
      "version": 1,
      "views": {
       "grid_default": {
        "hidden": true
       },
       "report_default": {}
      }
     }
    }
   },
   "outputs": [],
   "source": [
    "correlation_Assets_GDP_CPI = pd.DataFrame()"
   ]
  },
  {
   "cell_type": "code",
   "execution_count": 18,
   "metadata": {
    "extensions": {
     "jupyter_dashboards": {
      "version": 1,
      "views": {
       "grid_default": {
        "hidden": true
       },
       "report_default": {}
      }
     }
    }
   },
   "outputs": [],
   "source": [
    "correlation_Assets_GDP_CPI['equity_GDP'] = equity_GDP\n",
    "correlation_Assets_GDP_CPI['equity_CPI'] = equity_CPI\n",
    "\n",
    "correlation_Assets_GDP_CPI['bonds_GDP'] = bonds_GDP\n",
    "correlation_Assets_GDP_CPI['bonds_CPI'] = bonds_CPI\n",
    "\n",
    "correlation_Assets_GDP_CPI['USD_GDP'] = USD_GDP\n",
    "correlation_Assets_GDP_CPI['USD_CPI'] = USD_CPI\n",
    "\n",
    "correlation_Assets_GDP_CPI['gold_GDP'] = gold_GDP\n",
    "correlation_Assets_GDP_CPI['gold_CPI'] = gold_CPI\n",
    "\n",
    "correlation_Assets_GDP_CPI['commodities_GDP'] = commodities_GDP\n",
    "correlation_Assets_GDP_CPI['commodities_CPI'] = commodities_CPI\n",
    "\n",
    "correlation_Assets_GDP_CPI['GDP_CPI'] = GDP_CPI\n"
   ]
  },
  {
   "cell_type": "code",
   "execution_count": 19,
   "metadata": {
    "extensions": {
     "jupyter_dashboards": {
      "version": 1,
      "views": {
       "grid_default": {
        "col": 0,
        "height": 11,
        "hidden": true,
        "row": 70,
        "width": 10
       },
       "report_default": {}
      }
     }
    }
   },
   "outputs": [
    {
     "data": {
      "text/html": [
       "<div>\n",
       "<style scoped>\n",
       "    .dataframe tbody tr th:only-of-type {\n",
       "        vertical-align: middle;\n",
       "    }\n",
       "\n",
       "    .dataframe tbody tr th {\n",
       "        vertical-align: top;\n",
       "    }\n",
       "\n",
       "    .dataframe thead th {\n",
       "        text-align: right;\n",
       "    }\n",
       "</style>\n",
       "<table border=\"1\" class=\"dataframe\">\n",
       "  <thead>\n",
       "    <tr style=\"text-align: right;\">\n",
       "      <th></th>\n",
       "      <th>equity_GDP</th>\n",
       "      <th>equity_CPI</th>\n",
       "      <th>bonds_GDP</th>\n",
       "      <th>bonds_CPI</th>\n",
       "      <th>USD_GDP</th>\n",
       "      <th>USD_CPI</th>\n",
       "      <th>gold_GDP</th>\n",
       "      <th>gold_CPI</th>\n",
       "      <th>commodities_GDP</th>\n",
       "      <th>commodities_CPI</th>\n",
       "      <th>GDP_CPI</th>\n",
       "    </tr>\n",
       "  </thead>\n",
       "  <tbody>\n",
       "    <tr>\n",
       "      <th>0</th>\n",
       "      <td>-0.554265</td>\n",
       "      <td>0.604674</td>\n",
       "      <td>-0.962953</td>\n",
       "      <td>0.069792</td>\n",
       "      <td>-0.074962</td>\n",
       "      <td>-0.291396</td>\n",
       "      <td>-0.014722</td>\n",
       "      <td>0.265482</td>\n",
       "      <td>0.341077</td>\n",
       "      <td>-0.441087</td>\n",
       "      <td>-0.005847</td>\n",
       "    </tr>\n",
       "    <tr>\n",
       "      <th>1</th>\n",
       "      <td>-0.156794</td>\n",
       "      <td>-0.419605</td>\n",
       "      <td>-0.559094</td>\n",
       "      <td>-0.196658</td>\n",
       "      <td>-0.041842</td>\n",
       "      <td>-0.552962</td>\n",
       "      <td>-0.173003</td>\n",
       "      <td>0.512334</td>\n",
       "      <td>-0.170134</td>\n",
       "      <td>0.427330</td>\n",
       "      <td>0.177559</td>\n",
       "    </tr>\n",
       "    <tr>\n",
       "      <th>2</th>\n",
       "      <td>0.597251</td>\n",
       "      <td>-0.103167</td>\n",
       "      <td>-0.171681</td>\n",
       "      <td>-0.479896</td>\n",
       "      <td>-0.177191</td>\n",
       "      <td>-0.192820</td>\n",
       "      <td>0.142575</td>\n",
       "      <td>0.473870</td>\n",
       "      <td>-0.213984</td>\n",
       "      <td>0.541904</td>\n",
       "      <td>-0.245171</td>\n",
       "    </tr>\n",
       "    <tr>\n",
       "      <th>3</th>\n",
       "      <td>-0.152494</td>\n",
       "      <td>0.132246</td>\n",
       "      <td>0.164927</td>\n",
       "      <td>0.166836</td>\n",
       "      <td>0.227840</td>\n",
       "      <td>0.101183</td>\n",
       "      <td>-0.080217</td>\n",
       "      <td>0.055214</td>\n",
       "      <td>0.767503</td>\n",
       "      <td>0.517620</td>\n",
       "      <td>0.408787</td>\n",
       "    </tr>\n",
       "    <tr>\n",
       "      <th>4</th>\n",
       "      <td>-0.225092</td>\n",
       "      <td>-0.214933</td>\n",
       "      <td>0.099817</td>\n",
       "      <td>-0.072881</td>\n",
       "      <td>0.375006</td>\n",
       "      <td>0.388151</td>\n",
       "      <td>0.518713</td>\n",
       "      <td>0.037147</td>\n",
       "      <td>0.401734</td>\n",
       "      <td>0.061653</td>\n",
       "      <td>0.101165</td>\n",
       "    </tr>\n",
       "    <tr>\n",
       "      <th>5</th>\n",
       "      <td>0.131665</td>\n",
       "      <td>0.408738</td>\n",
       "      <td>-0.603635</td>\n",
       "      <td>-0.604185</td>\n",
       "      <td>0.201473</td>\n",
       "      <td>-0.370706</td>\n",
       "      <td>-0.257470</td>\n",
       "      <td>0.103353</td>\n",
       "      <td>0.246952</td>\n",
       "      <td>0.339454</td>\n",
       "      <td>0.141262</td>\n",
       "    </tr>\n",
       "    <tr>\n",
       "      <th>6</th>\n",
       "      <td>0.766054</td>\n",
       "      <td>0.040605</td>\n",
       "      <td>-0.299932</td>\n",
       "      <td>-0.017786</td>\n",
       "      <td>-0.645926</td>\n",
       "      <td>-0.054427</td>\n",
       "      <td>0.439709</td>\n",
       "      <td>0.364035</td>\n",
       "      <td>0.674209</td>\n",
       "      <td>0.443259</td>\n",
       "      <td>0.263368</td>\n",
       "    </tr>\n",
       "    <tr>\n",
       "      <th>7</th>\n",
       "      <td>-0.064277</td>\n",
       "      <td>0.673396</td>\n",
       "      <td>0.202700</td>\n",
       "      <td>0.012315</td>\n",
       "      <td>0.328395</td>\n",
       "      <td>-0.571369</td>\n",
       "      <td>-0.506774</td>\n",
       "      <td>-0.213515</td>\n",
       "      <td>-0.341391</td>\n",
       "      <td>0.408156</td>\n",
       "      <td>0.153449</td>\n",
       "    </tr>\n",
       "    <tr>\n",
       "      <th>8</th>\n",
       "      <td>0.838252</td>\n",
       "      <td>-0.201305</td>\n",
       "      <td>-0.555557</td>\n",
       "      <td>0.072195</td>\n",
       "      <td>-0.263517</td>\n",
       "      <td>-0.440070</td>\n",
       "      <td>-0.028893</td>\n",
       "      <td>0.731808</td>\n",
       "      <td>0.719098</td>\n",
       "      <td>0.022362</td>\n",
       "      <td>-0.271494</td>\n",
       "    </tr>\n",
       "    <tr>\n",
       "      <th>9</th>\n",
       "      <td>0.447269</td>\n",
       "      <td>0.594630</td>\n",
       "      <td>-0.083361</td>\n",
       "      <td>0.228435</td>\n",
       "      <td>0.005550</td>\n",
       "      <td>-0.017054</td>\n",
       "      <td>0.102719</td>\n",
       "      <td>0.045073</td>\n",
       "      <td>0.317652</td>\n",
       "      <td>-0.057843</td>\n",
       "      <td>0.383856</td>\n",
       "    </tr>\n",
       "  </tbody>\n",
       "</table>\n",
       "</div>"
      ],
      "text/plain": [
       "   equity_GDP  equity_CPI  bonds_GDP  bonds_CPI   USD_GDP   USD_CPI  gold_GDP  \\\n",
       "0   -0.554265    0.604674  -0.962953   0.069792 -0.074962 -0.291396 -0.014722   \n",
       "1   -0.156794   -0.419605  -0.559094  -0.196658 -0.041842 -0.552962 -0.173003   \n",
       "2    0.597251   -0.103167  -0.171681  -0.479896 -0.177191 -0.192820  0.142575   \n",
       "3   -0.152494    0.132246   0.164927   0.166836  0.227840  0.101183 -0.080217   \n",
       "4   -0.225092   -0.214933   0.099817  -0.072881  0.375006  0.388151  0.518713   \n",
       "5    0.131665    0.408738  -0.603635  -0.604185  0.201473 -0.370706 -0.257470   \n",
       "6    0.766054    0.040605  -0.299932  -0.017786 -0.645926 -0.054427  0.439709   \n",
       "7   -0.064277    0.673396   0.202700   0.012315  0.328395 -0.571369 -0.506774   \n",
       "8    0.838252   -0.201305  -0.555557   0.072195 -0.263517 -0.440070 -0.028893   \n",
       "9    0.447269    0.594630  -0.083361   0.228435  0.005550 -0.017054  0.102719   \n",
       "\n",
       "   gold_CPI  commodities_GDP  commodities_CPI   GDP_CPI  \n",
       "0  0.265482         0.341077        -0.441087 -0.005847  \n",
       "1  0.512334        -0.170134         0.427330  0.177559  \n",
       "2  0.473870        -0.213984         0.541904 -0.245171  \n",
       "3  0.055214         0.767503         0.517620  0.408787  \n",
       "4  0.037147         0.401734         0.061653  0.101165  \n",
       "5  0.103353         0.246952         0.339454  0.141262  \n",
       "6  0.364035         0.674209         0.443259  0.263368  \n",
       "7 -0.213515        -0.341391         0.408156  0.153449  \n",
       "8  0.731808         0.719098         0.022362 -0.271494  \n",
       "9  0.045073         0.317652        -0.057843  0.383856  "
      ]
     },
     "execution_count": 19,
     "metadata": {},
     "output_type": "execute_result"
    }
   ],
   "source": [
    "correlation_Assets_GDP_CPI"
   ]
  },
  {
   "cell_type": "markdown",
   "metadata": {
    "extensions": {
     "jupyter_dashboards": {
      "version": 1,
      "views": {
       "grid_default": {
        "col": 7,
        "height": 4,
        "hidden": true,
        "row": 40,
        "width": 4
       },
       "report_default": {}
      }
     }
    }
   },
   "source": [
    "# Plotting the Correlation between Assets - GDP&CPI "
   ]
  },
  {
   "cell_type": "code",
   "execution_count": 20,
   "metadata": {
    "extensions": {
     "jupyter_dashboards": {
      "version": 1,
      "views": {
       "grid_default": {
        "hidden": true
       },
       "report_default": {}
      }
     }
    }
   },
   "outputs": [],
   "source": [
    "\n",
    "# plt.figure(figsize=(30, 30))\n",
    "\n",
    "# plt.subplot(4,3,1)\n",
    "# plt.plot(num,equity_GDP)\n",
    "# plt.title('equity and GDP')\n",
    "\n",
    "# plt.subplot(4,3,2)\n",
    "# plt.plot(num,equity_CPI)\n",
    "# plt.title('equity and CPI')\n",
    "\n",
    "# plt.subplot(4,3,3)\n",
    "# plt.plot(num,bonds_GDP)\n",
    "# plt.title('Bonds and GDP')\n",
    "\n",
    "# plt.subplot(4,3,4)\n",
    "# plt.plot(num,bonds_CPI)\n",
    "# plt.title('Bonds and CPI')\n",
    "\n",
    "# plt.subplot(4,3,5)\n",
    "# plt.plot(num, USD_GDP)\n",
    "# plt.title('USD and GDP')\n",
    "\n",
    "# plt.subplot(4,3,6)\n",
    "# plt.plot(num,USD_CPI)\n",
    "# plt.title('USD and CPI')\n",
    "\n",
    "# plt.subplot(4,3,7)\n",
    "# plt.plot(num, commodities_GDP)\n",
    "# plt.title('Commodities and GDP')\n",
    "\n",
    "# plt.subplot(4,3,8)\n",
    "# plt.plot(num, commodities_CPI)\n",
    "# plt.title('commodities and CPI')\n",
    "\n",
    "# plt.subplot(4,3,9)\n",
    "# plt.plot(num, gold_GDP )\n",
    "# plt.title('Gold and GDP')\n",
    "\n",
    "# plt.subplot(4,3,10)\n",
    "# plt.plot(num, gold_CPI )\n",
    "# plt.title('gold and CPI')\n",
    "\n",
    "# plt.subplot(4,3,11)\n",
    "# plt.plot(num, GDP_CPI )\n",
    "# plt.title('GDP and CPI')\n",
    "\n",
    "# plt.show()\n"
   ]
  },
  {
   "cell_type": "code",
   "execution_count": 21,
   "metadata": {
    "extensions": {
     "jupyter_dashboards": {
      "version": 1,
      "views": {
       "grid_default": {
        "hidden": true
       },
       "report_default": {}
      }
     }
    }
   },
   "outputs": [],
   "source": [
    "#### below list contains change in GDP values quarter on quarter \n",
    "\n",
    "delta_change_GDP = [df_GDP['return'][i+1] - df_GDP['return'][i] for i in range(len(df_GDP)-1)]\n",
    "\n"
   ]
  },
  {
   "cell_type": "code",
   "execution_count": 22,
   "metadata": {
    "extensions": {
     "jupyter_dashboards": {
      "version": 1,
      "views": {
       "grid_default": {
        "hidden": true
       },
       "report_default": {}
      }
     }
    }
   },
   "outputs": [],
   "source": [
    "#### below list contains change in CPI values quarter on quarter \n",
    "\n",
    "delta_change_CPI = [df_CPI['return'][i+1] - df_CPI['return'][i] for i in range(len(df_GDP)-1)]\n"
   ]
  },
  {
   "cell_type": "markdown",
   "metadata": {
    "extensions": {
     "jupyter_dashboards": {
      "version": 1,
      "views": {
       "grid_default": {
        "col": 0,
        "height": 4,
        "hidden": true,
        "row": 70,
        "width": 4
       },
       "report_default": {}
      }
     }
    }
   },
   "source": [
    "# Plotting values of GDP and Inflation - Data is from 1993 Q1 to 2015 Q4"
   ]
  },
  {
   "cell_type": "code",
   "execution_count": 23,
   "metadata": {
    "extensions": {
     "jupyter_dashboards": {
      "version": 1,
      "views": {
       "grid_default": {
        "col": 4,
        "height": 14,
        "hidden": true,
        "row": 70,
        "width": 4
       },
       "report_default": {}
      }
     }
    }
   },
   "outputs": [
    {
     "data": {
      "text/plain": [
       "Text(0,0.5,'GDP in a quarter')"
      ]
     },
     "execution_count": 23,
     "metadata": {},
     "output_type": "execute_result"
    },
    {
     "data": {
      "image/png": "[encoded data removed]",
      "text/plain": [
       "<Figure size 720x720 with 1 Axes>"
      ]
     },
     "metadata": {},
     "output_type": "display_data"
    }
   ],
   "source": [
    "plt.figure(figsize=(10, 10))\n",
    "plt.plot([0,0],[-5,6], linewidth=0.5, color='green' )\n",
    "plt.plot([-5,6],[0,0], linewidth=0.5, color='green' )\n",
    "plt.plot(df_CPI['return'],df_GDP['return'],'.')\n",
    "plt.xlabel('Inflation in a quarter')\n",
    "plt.ylabel('GDP in a quarter')"
   ]
  },
  {
   "cell_type": "markdown",
   "metadata": {
    "extensions": {
     "jupyter_dashboards": {
      "version": 1,
      "views": {
       "grid_default": {
        "col": 8,
        "height": 4,
        "hidden": true,
        "row": 70,
        "width": 4
       },
       "report_default": {}
      }
     }
    }
   },
   "source": [
    "# Plotting change in GDP and Inflation values -  Data is from 1993 Q1 to 2015 Q4"
   ]
  },
  {
   "cell_type": "code",
   "execution_count": 24,
   "metadata": {
    "extensions": {
     "jupyter_dashboards": {
      "version": 1,
      "views": {
       "grid_default": {
        "col": 0,
        "height": 14,
        "hidden": false,
        "row": 35,
        "width": 4
       },
       "report_default": {}
      }
     }
    }
   },
   "outputs": [
    {
     "data": {
      "text/plain": [
       "Text(0,0.5,'GDP change quater on quarter')"
      ]
     },
     "execution_count": 24,
     "metadata": {},
     "output_type": "execute_result"
    },
    {
     "data": {
      "image/png": "[encoded data removed]",
      "text/plain": [
       "<Figure size 720x720 with 1 Axes>"
      ]
     },
     "metadata": {},
     "output_type": "display_data"
    }
   ],
   "source": [
    "##### How I defined the quadrant\n",
    "##### Quadrant 1 - Growing GDP(y-axis) & growing inflation(x-axis)\n",
    "##### Quadrant 2 - Growing GDP(y-axis) & falling inflation(x-axis)\n",
    "##### Quadrant 3 - Falling is(y-axis) & falling inflation(x-axis)\n",
    "##### Quadrant 4 - Falling is(y-axis) & growing inflation(x-axis)\n",
    "\n",
    "\n",
    "plt.figure(figsize=(10, 10))\n",
    "plt.plot([0,0],[-5,5], linewidth=0.5, color='green' )\n",
    "plt.plot([-5,5],[0,0], linewidth=0.5, color='green' )\n",
    "plt.plot(delta_change_CPI,delta_change_GDP,'.')\n",
    "plt.xlabel('Inflation change quarter on quarter')\n",
    "plt.ylabel('GDP change quater on quarter')"
   ]
  },
  {
   "cell_type": "markdown",
   "metadata": {
    "extensions": {
     "jupyter_dashboards": {
      "version": 1,
      "views": {
       "grid_default": {
        "col": 0,
        "height": 5,
        "hidden": true,
        "row": 84,
        "width": 12
       },
       "report_default": {}
      }
     }
    }
   },
   "source": [
    "# Creating a DataFrame - 'data_point' to study the data points collected above \n",
    "\n",
    "# Data points here are all the ( delta inflation, delta GDP) points in between 1993 Q1 and 2015 Q4"
   ]
  },
  {
   "cell_type": "code",
   "execution_count": 25,
   "metadata": {
    "extensions": {
     "jupyter_dashboards": {
      "version": 1,
      "views": {
       "grid_default": {
        "hidden": true
       },
       "report_default": {}
      }
     }
    }
   },
   "outputs": [],
   "source": [
    "data_point = pd.DataFrame()\n",
    "data_point['Date'] = df_GDP['Date'][1:]\n",
    "data_point['delta_change_CPI'] = delta_change_CPI\n",
    "data_point['delta_change_GDP'] = delta_change_GDP\n",
    "data_point['quadrant_number'] = np.zeros(len(delta_change_CPI))\n"
   ]
  },
  {
   "cell_type": "code",
   "execution_count": 26,
   "metadata": {
    "extensions": {
     "jupyter_dashboards": {
      "version": 1,
      "views": {
       "grid_default": {
        "hidden": true
       },
       "report_default": {}
      }
     }
    }
   },
   "outputs": [],
   "source": [
    "#### for example: 'index_quadrant1' will give us a list of index of all the data points that fall into 1st quadrant  ( index is coming from 'data_point' DataFrame)\n",
    "#### for example: 'Date_quadrant2' will give us a list of dates of all the data points that fall into 1st quadrant \n",
    "\n",
    "Date_quadrant1 = []\n",
    "index_quadrant1 = []\n",
    "\n",
    "Date_quadrant2 = []\n",
    "index_quadrant2 = []\n",
    "\n",
    "Date_quadrant3 = []\n",
    "index_quadrant3 = []\n",
    "\n",
    "Date_quadrant4 = []\n",
    "index_quadrant4 = []\n"
   ]
  },
  {
   "cell_type": "code",
   "execution_count": 27,
   "metadata": {
    "extensions": {
     "jupyter_dashboards": {
      "version": 1,
      "views": {
       "grid_default": {
        "hidden": true
       },
       "report_default": {}
      }
     }
    }
   },
   "outputs": [],
   "source": [
    "\n",
    "for i in range(len(delta_change_CPI)):\n",
    "    \n",
    "    if data_point.iloc[i,1]>=0 and data_point.iloc[i,2]>=0:\n",
    "        \n",
    "        Date_quadrant1.append(data_point['Date'][i+1])\n",
    "        index_quadrant1.append(i+1)\n",
    "        \n",
    "        \n",
    "    elif data_point.iloc[i,1]<0 and data_point.iloc[i,2]>=0:\n",
    "        Date_quadrant2.append(data_point['Date'][i+1])    \n",
    "        index_quadrant2.append(i+1)\n",
    "        \n",
    "        \n",
    "    elif data_point.iloc[i,1]<0 and data_point.iloc[i,2]<0:\n",
    "        Date_quadrant3.append(data_point['Date'][i+1])    \n",
    "        index_quadrant3.append(i+1)\n",
    "        \n",
    "        \n",
    "    else:\n",
    "        Date_quadrant4.append(data_point['Date'][i+1])\n",
    "        index_quadrant4.append(i+1)\n",
    "        \n",
    "        \n",
    "        "
   ]
  },
  {
   "cell_type": "code",
   "execution_count": 28,
   "metadata": {
    "extensions": {
     "jupyter_dashboards": {
      "version": 1,
      "views": {
       "grid_default": {
        "hidden": true
       },
       "report_default": {}
      }
     }
    }
   },
   "outputs": [],
   "source": [
    "for i in index_quadrant1:\n",
    "    data_point.loc[i,'quadrant_number'] = int(1)\n",
    "\n",
    "for i in index_quadrant2:\n",
    "    data_point.loc[i,'quadrant_number'] = int(2)\n",
    "    \n",
    "for i in index_quadrant3:\n",
    "    data_point.loc[i,'quadrant_number'] = int(3)\n",
    "    \n",
    "for i in index_quadrant4:\n",
    "    data_point.loc[i,'quadrant_number'] = int(4)"
   ]
  },
  {
   "cell_type": "code",
   "execution_count": 29,
   "metadata": {
    "extensions": {
     "jupyter_dashboards": {
      "version": 1,
      "views": {
       "grid_default": {
        "hidden": true
       },
       "report_default": {}
      }
     }
    }
   },
   "outputs": [],
   "source": [
    "data_point['previous_quadrant'] = np.zeros(len(data_point))\n",
    "data_point['next_quadrant'] = np.zeros(len(data_point))"
   ]
  },
  {
   "cell_type": "code",
   "execution_count": 30,
   "metadata": {
    "extensions": {
     "jupyter_dashboards": {
      "version": 1,
      "views": {
       "grid_default": {
        "hidden": true
       },
       "report_default": {}
      }
     }
    }
   },
   "outputs": [],
   "source": [
    "warnings.filterwarnings('ignore') \n",
    "data_point['previous_quadrant'][1] = 'data_not_available'\n",
    "data_point['next_quadrant'][len(data_point)] = 'data_not_available'\n"
   ]
  },
  {
   "cell_type": "code",
   "execution_count": 31,
   "metadata": {
    "extensions": {
     "jupyter_dashboards": {
      "version": 1,
      "views": {
       "grid_default": {
        "hidden": true
       },
       "report_default": {}
      }
     }
    }
   },
   "outputs": [],
   "source": [
    "warnings.filterwarnings('ignore') \n",
    "for i in data_point.index[1:]:\n",
    "        data_point['previous_quadrant'][i] = data_point['quadrant_number'][i-1]\n",
    "\n",
    "for i in data_point.index[:-1]:\n",
    "        data_point['next_quadrant'][i] = data_point['quadrant_number'][i+1]  \n",
    "                "
   ]
  },
  {
   "cell_type": "code",
   "execution_count": 32,
   "metadata": {
    "extensions": {
     "jupyter_dashboards": {
      "version": 1,
      "views": {
       "grid_default": {
        "col": 0,
        "height": 67,
        "hidden": true,
        "row": 84,
        "width": 7
       },
       "report_default": {}
      }
     }
    }
   },
   "outputs": [
    {
     "data": {
      "text/html": [
       "<div>\n",
       "<style scoped>\n",
       "    .dataframe tbody tr th:only-of-type {\n",
       "        vertical-align: middle;\n",
       "    }\n",
       "\n",
       "    .dataframe tbody tr th {\n",
       "        vertical-align: top;\n",
       "    }\n",
       "\n",
       "    .dataframe thead th {\n",
       "        text-align: right;\n",
       "    }\n",
       "</style>\n",
       "<table border=\"1\" class=\"dataframe\">\n",
       "  <thead>\n",
       "    <tr style=\"text-align: right;\">\n",
       "      <th></th>\n",
       "      <th>Date</th>\n",
       "      <th>delta_change_CPI</th>\n",
       "      <th>delta_change_GDP</th>\n",
       "      <th>quadrant_number</th>\n",
       "      <th>previous_quadrant</th>\n",
       "      <th>next_quadrant</th>\n",
       "    </tr>\n",
       "  </thead>\n",
       "  <tbody>\n",
       "    <tr>\n",
       "      <th>1</th>\n",
       "      <td>1993-Q2</td>\n",
       "      <td>-0.1</td>\n",
       "      <td>-0.5</td>\n",
       "      <td>3.0</td>\n",
       "      <td>data_not_available</td>\n",
       "      <td>3</td>\n",
       "    </tr>\n",
       "    <tr>\n",
       "      <th>2</th>\n",
       "      <td>1993-Q3</td>\n",
       "      <td>-0.3</td>\n",
       "      <td>-0.5</td>\n",
       "      <td>3.0</td>\n",
       "      <td>3</td>\n",
       "      <td>1</td>\n",
       "    </tr>\n",
       "    <tr>\n",
       "      <th>3</th>\n",
       "      <td>1993-Q4</td>\n",
       "      <td>0.0</td>\n",
       "      <td>0.3</td>\n",
       "      <td>1.0</td>\n",
       "      <td>3</td>\n",
       "      <td>2</td>\n",
       "    </tr>\n",
       "    <tr>\n",
       "      <th>4</th>\n",
       "      <td>1994-Q1</td>\n",
       "      <td>-0.2</td>\n",
       "      <td>0.8</td>\n",
       "      <td>2.0</td>\n",
       "      <td>1</td>\n",
       "      <td>1</td>\n",
       "    </tr>\n",
       "    <tr>\n",
       "      <th>5</th>\n",
       "      <td>1994-Q2</td>\n",
       "      <td>0.0</td>\n",
       "      <td>0.8</td>\n",
       "      <td>1.0</td>\n",
       "      <td>2</td>\n",
       "      <td>1</td>\n",
       "    </tr>\n",
       "    <tr>\n",
       "      <th>6</th>\n",
       "      <td>1994-Q3</td>\n",
       "      <td>0.5</td>\n",
       "      <td>0.1</td>\n",
       "      <td>1.0</td>\n",
       "      <td>1</td>\n",
       "      <td>3</td>\n",
       "    </tr>\n",
       "    <tr>\n",
       "      <th>7</th>\n",
       "      <td>1994-Q4</td>\n",
       "      <td>-0.3</td>\n",
       "      <td>-0.2</td>\n",
       "      <td>3.0</td>\n",
       "      <td>1</td>\n",
       "      <td>4</td>\n",
       "    </tr>\n",
       "    <tr>\n",
       "      <th>8</th>\n",
       "      <td>1995-Q1</td>\n",
       "      <td>0.2</td>\n",
       "      <td>-0.6</td>\n",
       "      <td>4.0</td>\n",
       "      <td>3</td>\n",
       "      <td>4</td>\n",
       "    </tr>\n",
       "    <tr>\n",
       "      <th>9</th>\n",
       "      <td>1995-Q2</td>\n",
       "      <td>0.1</td>\n",
       "      <td>-1.1</td>\n",
       "      <td>4.0</td>\n",
       "      <td>4</td>\n",
       "      <td>2</td>\n",
       "    </tr>\n",
       "    <tr>\n",
       "      <th>10</th>\n",
       "      <td>1995-Q3</td>\n",
       "      <td>-0.5</td>\n",
       "      <td>0.3</td>\n",
       "      <td>2.0</td>\n",
       "      <td>4</td>\n",
       "      <td>4</td>\n",
       "    </tr>\n",
       "    <tr>\n",
       "      <th>11</th>\n",
       "      <td>1995-Q4</td>\n",
       "      <td>0.0</td>\n",
       "      <td>-0.5</td>\n",
       "      <td>4.0</td>\n",
       "      <td>2</td>\n",
       "      <td>1</td>\n",
       "    </tr>\n",
       "    <tr>\n",
       "      <th>12</th>\n",
       "      <td>1996-Q1</td>\n",
       "      <td>0.3</td>\n",
       "      <td>0.4</td>\n",
       "      <td>1.0</td>\n",
       "      <td>4</td>\n",
       "      <td>1</td>\n",
       "    </tr>\n",
       "    <tr>\n",
       "      <th>13</th>\n",
       "      <td>1996-Q2</td>\n",
       "      <td>0.0</td>\n",
       "      <td>1.4</td>\n",
       "      <td>1.0</td>\n",
       "      <td>1</td>\n",
       "      <td>1</td>\n",
       "    </tr>\n",
       "    <tr>\n",
       "      <th>14</th>\n",
       "      <td>1996-Q3</td>\n",
       "      <td>0.2</td>\n",
       "      <td>0.1</td>\n",
       "      <td>1.0</td>\n",
       "      <td>1</td>\n",
       "      <td>1</td>\n",
       "    </tr>\n",
       "    <tr>\n",
       "      <th>15</th>\n",
       "      <td>1996-Q4</td>\n",
       "      <td>0.3</td>\n",
       "      <td>0.3</td>\n",
       "      <td>1.0</td>\n",
       "      <td>1</td>\n",
       "      <td>3</td>\n",
       "    </tr>\n",
       "    <tr>\n",
       "      <th>16</th>\n",
       "      <td>1997-Q1</td>\n",
       "      <td>-0.5</td>\n",
       "      <td>-0.1</td>\n",
       "      <td>3.0</td>\n",
       "      <td>1</td>\n",
       "      <td>2</td>\n",
       "    </tr>\n",
       "    <tr>\n",
       "      <th>17</th>\n",
       "      <td>1997-Q2</td>\n",
       "      <td>-0.5</td>\n",
       "      <td>0.0</td>\n",
       "      <td>2.0</td>\n",
       "      <td>3</td>\n",
       "      <td>2</td>\n",
       "    </tr>\n",
       "    <tr>\n",
       "      <th>18</th>\n",
       "      <td>1997-Q3</td>\n",
       "      <td>-0.1</td>\n",
       "      <td>0.4</td>\n",
       "      <td>2.0</td>\n",
       "      <td>2</td>\n",
       "      <td>3</td>\n",
       "    </tr>\n",
       "    <tr>\n",
       "      <th>19</th>\n",
       "      <td>1997-Q4</td>\n",
       "      <td>-0.5</td>\n",
       "      <td>-0.2</td>\n",
       "      <td>3.0</td>\n",
       "      <td>2</td>\n",
       "      <td>2</td>\n",
       "    </tr>\n",
       "    <tr>\n",
       "      <th>20</th>\n",
       "      <td>1998-Q1</td>\n",
       "      <td>-0.3</td>\n",
       "      <td>0.4</td>\n",
       "      <td>2.0</td>\n",
       "      <td>3</td>\n",
       "      <td>4</td>\n",
       "    </tr>\n",
       "    <tr>\n",
       "      <th>21</th>\n",
       "      <td>1998-Q2</td>\n",
       "      <td>0.3</td>\n",
       "      <td>-0.8</td>\n",
       "      <td>4.0</td>\n",
       "      <td>2</td>\n",
       "      <td>2</td>\n",
       "    </tr>\n",
       "    <tr>\n",
       "      <th>22</th>\n",
       "      <td>1998-Q3</td>\n",
       "      <td>-0.2</td>\n",
       "      <td>0.0</td>\n",
       "      <td>2.0</td>\n",
       "      <td>4</td>\n",
       "      <td>1</td>\n",
       "    </tr>\n",
       "    <tr>\n",
       "      <th>23</th>\n",
       "      <td>1998-Q4</td>\n",
       "      <td>0.1</td>\n",
       "      <td>0.8</td>\n",
       "      <td>1.0</td>\n",
       "      <td>2</td>\n",
       "      <td>4</td>\n",
       "    </tr>\n",
       "    <tr>\n",
       "      <th>24</th>\n",
       "      <td>1999-Q1</td>\n",
       "      <td>0.1</td>\n",
       "      <td>-0.1</td>\n",
       "      <td>4.0</td>\n",
       "      <td>1</td>\n",
       "      <td>4</td>\n",
       "    </tr>\n",
       "    <tr>\n",
       "      <th>25</th>\n",
       "      <td>1999-Q2</td>\n",
       "      <td>0.3</td>\n",
       "      <td>-0.1</td>\n",
       "      <td>4.0</td>\n",
       "      <td>4</td>\n",
       "      <td>1</td>\n",
       "    </tr>\n",
       "    <tr>\n",
       "      <th>26</th>\n",
       "      <td>1999-Q3</td>\n",
       "      <td>0.6</td>\n",
       "      <td>0.0</td>\n",
       "      <td>1.0</td>\n",
       "      <td>4</td>\n",
       "      <td>1</td>\n",
       "    </tr>\n",
       "    <tr>\n",
       "      <th>27</th>\n",
       "      <td>1999-Q4</td>\n",
       "      <td>0.1</td>\n",
       "      <td>0.1</td>\n",
       "      <td>1.0</td>\n",
       "      <td>1</td>\n",
       "      <td>4</td>\n",
       "    </tr>\n",
       "    <tr>\n",
       "      <th>28</th>\n",
       "      <td>2000-Q1</td>\n",
       "      <td>1.1</td>\n",
       "      <td>-0.6</td>\n",
       "      <td>4.0</td>\n",
       "      <td>1</td>\n",
       "      <td>2</td>\n",
       "    </tr>\n",
       "    <tr>\n",
       "      <th>29</th>\n",
       "      <td>2000-Q2</td>\n",
       "      <td>-0.1</td>\n",
       "      <td>1.1</td>\n",
       "      <td>2.0</td>\n",
       "      <td>4</td>\n",
       "      <td>3</td>\n",
       "    </tr>\n",
       "    <tr>\n",
       "      <th>30</th>\n",
       "      <td>2000-Q3</td>\n",
       "      <td>-0.2</td>\n",
       "      <td>-1.2</td>\n",
       "      <td>3.0</td>\n",
       "      <td>2</td>\n",
       "      <td>3</td>\n",
       "    </tr>\n",
       "    <tr>\n",
       "      <th>...</th>\n",
       "      <td>...</td>\n",
       "      <td>...</td>\n",
       "      <td>...</td>\n",
       "      <td>...</td>\n",
       "      <td>...</td>\n",
       "      <td>...</td>\n",
       "    </tr>\n",
       "    <tr>\n",
       "      <th>62</th>\n",
       "      <td>2008-Q3</td>\n",
       "      <td>-0.1</td>\n",
       "      <td>-1.1</td>\n",
       "      <td>3.0</td>\n",
       "      <td>1</td>\n",
       "      <td>3</td>\n",
       "    </tr>\n",
       "    <tr>\n",
       "      <th>63</th>\n",
       "      <td>2008-Q4</td>\n",
       "      <td>-4.8</td>\n",
       "      <td>-2.8</td>\n",
       "      <td>3.0</td>\n",
       "      <td>3</td>\n",
       "      <td>3</td>\n",
       "    </tr>\n",
       "    <tr>\n",
       "      <th>64</th>\n",
       "      <td>2009-Q1</td>\n",
       "      <td>-0.5</td>\n",
       "      <td>-0.5</td>\n",
       "      <td>3.0</td>\n",
       "      <td>3</td>\n",
       "      <td>3</td>\n",
       "    </tr>\n",
       "    <tr>\n",
       "      <th>65</th>\n",
       "      <td>2009-Q2</td>\n",
       "      <td>-1.0</td>\n",
       "      <td>-0.6</td>\n",
       "      <td>3.0</td>\n",
       "      <td>3</td>\n",
       "      <td>1</td>\n",
       "    </tr>\n",
       "    <tr>\n",
       "      <th>66</th>\n",
       "      <td>2009-Q3</td>\n",
       "      <td>0.1</td>\n",
       "      <td>0.9</td>\n",
       "      <td>1.0</td>\n",
       "      <td>3</td>\n",
       "      <td>1</td>\n",
       "    </tr>\n",
       "    <tr>\n",
       "      <th>67</th>\n",
       "      <td>2009-Q4</td>\n",
       "      <td>4.0</td>\n",
       "      <td>3.2</td>\n",
       "      <td>1.0</td>\n",
       "      <td>1</td>\n",
       "      <td>2</td>\n",
       "    </tr>\n",
       "    <tr>\n",
       "      <th>68</th>\n",
       "      <td>2010-Q1</td>\n",
       "      <td>-0.4</td>\n",
       "      <td>1.5</td>\n",
       "      <td>2.0</td>\n",
       "      <td>1</td>\n",
       "      <td>2</td>\n",
       "    </tr>\n",
       "    <tr>\n",
       "      <th>69</th>\n",
       "      <td>2010-Q2</td>\n",
       "      <td>-1.2</td>\n",
       "      <td>1.1</td>\n",
       "      <td>2.0</td>\n",
       "      <td>2</td>\n",
       "      <td>1</td>\n",
       "    </tr>\n",
       "    <tr>\n",
       "      <th>70</th>\n",
       "      <td>2010-Q3</td>\n",
       "      <td>0.0</td>\n",
       "      <td>0.4</td>\n",
       "      <td>1.0</td>\n",
       "      <td>2</td>\n",
       "      <td>4</td>\n",
       "    </tr>\n",
       "    <tr>\n",
       "      <th>71</th>\n",
       "      <td>2010-Q4</td>\n",
       "      <td>0.4</td>\n",
       "      <td>-0.6</td>\n",
       "      <td>4.0</td>\n",
       "      <td>1</td>\n",
       "      <td>4</td>\n",
       "    </tr>\n",
       "    <tr>\n",
       "      <th>72</th>\n",
       "      <td>2011-Q1</td>\n",
       "      <td>1.2</td>\n",
       "      <td>-0.7</td>\n",
       "      <td>4.0</td>\n",
       "      <td>4</td>\n",
       "      <td>4</td>\n",
       "    </tr>\n",
       "    <tr>\n",
       "      <th>73</th>\n",
       "      <td>2011-Q2</td>\n",
       "      <td>0.9</td>\n",
       "      <td>-0.2</td>\n",
       "      <td>4.0</td>\n",
       "      <td>4</td>\n",
       "      <td>4</td>\n",
       "    </tr>\n",
       "    <tr>\n",
       "      <th>74</th>\n",
       "      <td>2011-Q3</td>\n",
       "      <td>0.3</td>\n",
       "      <td>-0.8</td>\n",
       "      <td>4.0</td>\n",
       "      <td>4</td>\n",
       "      <td>2</td>\n",
       "    </tr>\n",
       "    <tr>\n",
       "      <th>75</th>\n",
       "      <td>2011-Q4</td>\n",
       "      <td>-0.9</td>\n",
       "      <td>0.7</td>\n",
       "      <td>2.0</td>\n",
       "      <td>4</td>\n",
       "      <td>2</td>\n",
       "    </tr>\n",
       "    <tr>\n",
       "      <th>76</th>\n",
       "      <td>2012-Q1</td>\n",
       "      <td>-0.3</td>\n",
       "      <td>1.1</td>\n",
       "      <td>2.0</td>\n",
       "      <td>2</td>\n",
       "      <td>3</td>\n",
       "    </tr>\n",
       "    <tr>\n",
       "      <th>77</th>\n",
       "      <td>2012-Q2</td>\n",
       "      <td>-1.0</td>\n",
       "      <td>-0.3</td>\n",
       "      <td>3.0</td>\n",
       "      <td>2</td>\n",
       "      <td>1</td>\n",
       "    </tr>\n",
       "    <tr>\n",
       "      <th>78</th>\n",
       "      <td>2012-Q3</td>\n",
       "      <td>0.3</td>\n",
       "      <td>0.1</td>\n",
       "      <td>1.0</td>\n",
       "      <td>3</td>\n",
       "      <td>3</td>\n",
       "    </tr>\n",
       "    <tr>\n",
       "      <th>79</th>\n",
       "      <td>2012-Q4</td>\n",
       "      <td>-0.3</td>\n",
       "      <td>-1.0</td>\n",
       "      <td>3.0</td>\n",
       "      <td>1</td>\n",
       "      <td>2</td>\n",
       "    </tr>\n",
       "    <tr>\n",
       "      <th>80</th>\n",
       "      <td>2013-Q1</td>\n",
       "      <td>-0.2</td>\n",
       "      <td>0.1</td>\n",
       "      <td>2.0</td>\n",
       "      <td>3</td>\n",
       "      <td>4</td>\n",
       "    </tr>\n",
       "    <tr>\n",
       "      <th>81</th>\n",
       "      <td>2013-Q2</td>\n",
       "      <td>0.3</td>\n",
       "      <td>-0.3</td>\n",
       "      <td>4.0</td>\n",
       "      <td>2</td>\n",
       "      <td>2</td>\n",
       "    </tr>\n",
       "    <tr>\n",
       "      <th>82</th>\n",
       "      <td>2013-Q3</td>\n",
       "      <td>-0.6</td>\n",
       "      <td>0.6</td>\n",
       "      <td>2.0</td>\n",
       "      <td>4</td>\n",
       "      <td>1</td>\n",
       "    </tr>\n",
       "    <tr>\n",
       "      <th>83</th>\n",
       "      <td>2013-Q4</td>\n",
       "      <td>0.3</td>\n",
       "      <td>0.7</td>\n",
       "      <td>1.0</td>\n",
       "      <td>2</td>\n",
       "      <td>4</td>\n",
       "    </tr>\n",
       "    <tr>\n",
       "      <th>84</th>\n",
       "      <td>2014-Q1</td>\n",
       "      <td>0.0</td>\n",
       "      <td>-1.1</td>\n",
       "      <td>4.0</td>\n",
       "      <td>1</td>\n",
       "      <td>1</td>\n",
       "    </tr>\n",
       "    <tr>\n",
       "      <th>85</th>\n",
       "      <td>2014-Q2</td>\n",
       "      <td>0.6</td>\n",
       "      <td>1.1</td>\n",
       "      <td>1.0</td>\n",
       "      <td>4</td>\n",
       "      <td>2</td>\n",
       "    </tr>\n",
       "    <tr>\n",
       "      <th>86</th>\n",
       "      <td>2014-Q3</td>\n",
       "      <td>-0.4</td>\n",
       "      <td>0.4</td>\n",
       "      <td>2.0</td>\n",
       "      <td>1</td>\n",
       "      <td>3</td>\n",
       "    </tr>\n",
       "    <tr>\n",
       "      <th>87</th>\n",
       "      <td>2014-Q4</td>\n",
       "      <td>-0.9</td>\n",
       "      <td>-0.3</td>\n",
       "      <td>3.0</td>\n",
       "      <td>2</td>\n",
       "      <td>2</td>\n",
       "    </tr>\n",
       "    <tr>\n",
       "      <th>88</th>\n",
       "      <td>2015-Q1</td>\n",
       "      <td>-0.9</td>\n",
       "      <td>1.1</td>\n",
       "      <td>2.0</td>\n",
       "      <td>3</td>\n",
       "      <td>4</td>\n",
       "    </tr>\n",
       "    <tr>\n",
       "      <th>89</th>\n",
       "      <td>2015-Q2</td>\n",
       "      <td>0.2</td>\n",
       "      <td>-0.4</td>\n",
       "      <td>4.0</td>\n",
       "      <td>2</td>\n",
       "      <td>3</td>\n",
       "    </tr>\n",
       "    <tr>\n",
       "      <th>90</th>\n",
       "      <td>2015-Q3</td>\n",
       "      <td>-0.1</td>\n",
       "      <td>-1.0</td>\n",
       "      <td>3.0</td>\n",
       "      <td>4</td>\n",
       "      <td>4</td>\n",
       "    </tr>\n",
       "    <tr>\n",
       "      <th>91</th>\n",
       "      <td>2015-Q4</td>\n",
       "      <td>0.7</td>\n",
       "      <td>-0.4</td>\n",
       "      <td>4.0</td>\n",
       "      <td>3</td>\n",
       "      <td>data_not_available</td>\n",
       "    </tr>\n",
       "  </tbody>\n",
       "</table>\n",
       "<p>91 rows × 6 columns</p>\n",
       "</div>"
      ],
      "text/plain": [
       "       Date  delta_change_CPI  delta_change_GDP  quadrant_number  \\\n",
       "1   1993-Q2              -0.1              -0.5              3.0   \n",
       "2   1993-Q3              -0.3              -0.5              3.0   \n",
       "3   1993-Q4               0.0               0.3              1.0   \n",
       "4   1994-Q1              -0.2               0.8              2.0   \n",
       "5   1994-Q2               0.0               0.8              1.0   \n",
       "6   1994-Q3               0.5               0.1              1.0   \n",
       "7   1994-Q4              -0.3              -0.2              3.0   \n",
       "8   1995-Q1               0.2              -0.6              4.0   \n",
       "9   1995-Q2               0.1              -1.1              4.0   \n",
       "10  1995-Q3              -0.5               0.3              2.0   \n",
       "11  1995-Q4               0.0              -0.5              4.0   \n",
       "12  1996-Q1               0.3               0.4              1.0   \n",
       "13  1996-Q2               0.0               1.4              1.0   \n",
       "14  1996-Q3               0.2               0.1              1.0   \n",
       "15  1996-Q4               0.3               0.3              1.0   \n",
       "16  1997-Q1              -0.5              -0.1              3.0   \n",
       "17  1997-Q2              -0.5               0.0              2.0   \n",
       "18  1997-Q3              -0.1               0.4              2.0   \n",
       "19  1997-Q4              -0.5              -0.2              3.0   \n",
       "20  1998-Q1              -0.3               0.4              2.0   \n",
       "21  1998-Q2               0.3              -0.8              4.0   \n",
       "22  1998-Q3              -0.2               0.0              2.0   \n",
       "23  1998-Q4               0.1               0.8              1.0   \n",
       "24  1999-Q1               0.1              -0.1              4.0   \n",
       "25  1999-Q2               0.3              -0.1              4.0   \n",
       "26  1999-Q3               0.6               0.0              1.0   \n",
       "27  1999-Q4               0.1               0.1              1.0   \n",
       "28  2000-Q1               1.1              -0.6              4.0   \n",
       "29  2000-Q2              -0.1               1.1              2.0   \n",
       "30  2000-Q3              -0.2              -1.2              3.0   \n",
       "..      ...               ...               ...              ...   \n",
       "62  2008-Q3              -0.1              -1.1              3.0   \n",
       "63  2008-Q4              -4.8              -2.8              3.0   \n",
       "64  2009-Q1              -0.5              -0.5              3.0   \n",
       "65  2009-Q2              -1.0              -0.6              3.0   \n",
       "66  2009-Q3               0.1               0.9              1.0   \n",
       "67  2009-Q4               4.0               3.2              1.0   \n",
       "68  2010-Q1              -0.4               1.5              2.0   \n",
       "69  2010-Q2              -1.2               1.1              2.0   \n",
       "70  2010-Q3               0.0               0.4              1.0   \n",
       "71  2010-Q4               0.4              -0.6              4.0   \n",
       "72  2011-Q1               1.2              -0.7              4.0   \n",
       "73  2011-Q2               0.9              -0.2              4.0   \n",
       "74  2011-Q3               0.3              -0.8              4.0   \n",
       "75  2011-Q4              -0.9               0.7              2.0   \n",
       "76  2012-Q1              -0.3               1.1              2.0   \n",
       "77  2012-Q2              -1.0              -0.3              3.0   \n",
       "78  2012-Q3               0.3               0.1              1.0   \n",
       "79  2012-Q4              -0.3              -1.0              3.0   \n",
       "80  2013-Q1              -0.2               0.1              2.0   \n",
       "81  2013-Q2               0.3              -0.3              4.0   \n",
       "82  2013-Q3              -0.6               0.6              2.0   \n",
       "83  2013-Q4               0.3               0.7              1.0   \n",
       "84  2014-Q1               0.0              -1.1              4.0   \n",
       "85  2014-Q2               0.6               1.1              1.0   \n",
       "86  2014-Q3              -0.4               0.4              2.0   \n",
       "87  2014-Q4              -0.9              -0.3              3.0   \n",
       "88  2015-Q1              -0.9               1.1              2.0   \n",
       "89  2015-Q2               0.2              -0.4              4.0   \n",
       "90  2015-Q3              -0.1              -1.0              3.0   \n",
       "91  2015-Q4               0.7              -0.4              4.0   \n",
       "\n",
       "     previous_quadrant       next_quadrant  \n",
       "1   data_not_available                   3  \n",
       "2                    3                   1  \n",
       "3                    3                   2  \n",
       "4                    1                   1  \n",
       "5                    2                   1  \n",
       "6                    1                   3  \n",
       "7                    1                   4  \n",
       "8                    3                   4  \n",
       "9                    4                   2  \n",
       "10                   4                   4  \n",
       "11                   2                   1  \n",
       "12                   4                   1  \n",
       "13                   1                   1  \n",
       "14                   1                   1  \n",
       "15                   1                   3  \n",
       "16                   1                   2  \n",
       "17                   3                   2  \n",
       "18                   2                   3  \n",
       "19                   2                   2  \n",
       "20                   3                   4  \n",
       "21                   2                   2  \n",
       "22                   4                   1  \n",
       "23                   2                   4  \n",
       "24                   1                   4  \n",
       "25                   4                   1  \n",
       "26                   4                   1  \n",
       "27                   1                   4  \n",
       "28                   1                   2  \n",
       "29                   4                   3  \n",
       "30                   2                   3  \n",
       "..                 ...                 ...  \n",
       "62                   1                   3  \n",
       "63                   3                   3  \n",
       "64                   3                   3  \n",
       "65                   3                   1  \n",
       "66                   3                   1  \n",
       "67                   1                   2  \n",
       "68                   1                   2  \n",
       "69                   2                   1  \n",
       "70                   2                   4  \n",
       "71                   1                   4  \n",
       "72                   4                   4  \n",
       "73                   4                   4  \n",
       "74                   4                   2  \n",
       "75                   4                   2  \n",
       "76                   2                   3  \n",
       "77                   2                   1  \n",
       "78                   3                   3  \n",
       "79                   1                   2  \n",
       "80                   3                   4  \n",
       "81                   2                   2  \n",
       "82                   4                   1  \n",
       "83                   2                   4  \n",
       "84                   1                   1  \n",
       "85                   4                   2  \n",
       "86                   1                   3  \n",
       "87                   2                   2  \n",
       "88                   3                   4  \n",
       "89                   2                   3  \n",
       "90                   4                   4  \n",
       "91                   3  data_not_available  \n",
       "\n",
       "[91 rows x 6 columns]"
      ]
     },
     "execution_count": 32,
     "metadata": {},
     "output_type": "execute_result"
    }
   ],
   "source": [
    "data_point"
   ]
  },
  {
   "cell_type": "code",
   "execution_count": 33,
   "metadata": {
    "extensions": {
     "jupyter_dashboards": {
      "version": 1,
      "views": {
       "grid_default": {
        "hidden": true
       },
       "report_default": {}
      }
     }
    },
    "scrolled": false
   },
   "outputs": [],
   "source": [
    "data_point['USD returns'] = df_USD['price'].pct_change()[1:]*100\n",
    "data_point['gold returns'] = df_gold['price'].pct_change()[1:]*100\n",
    "data_point['equity returns'] = df_equity['price'].pct_change()[1:]*100\n",
    "data_point['bonds returns'] = -df_bonds['price'].pct_change()[1:]*100\n",
    "data_point['commodities returns'] = df_commodities['price'].pct_change()[1:]*100\n",
    "#data_point\n"
   ]
  },
  {
   "cell_type": "code",
   "execution_count": 34,
   "metadata": {
    "extensions": {
     "jupyter_dashboards": {
      "version": 1,
      "views": {
       "grid_default": {
        "col": 0,
        "height": 9,
        "hidden": true,
        "row": 73,
        "width": 11
       },
       "report_default": {}
      }
     }
    }
   },
   "outputs": [
    {
     "data": {
      "text/html": [
       "<div>\n",
       "<style scoped>\n",
       "    .dataframe tbody tr th:only-of-type {\n",
       "        vertical-align: middle;\n",
       "    }\n",
       "\n",
       "    .dataframe tbody tr th {\n",
       "        vertical-align: top;\n",
       "    }\n",
       "\n",
       "    .dataframe thead th {\n",
       "        text-align: right;\n",
       "    }\n",
       "</style>\n",
       "<table border=\"1\" class=\"dataframe\">\n",
       "  <thead>\n",
       "    <tr style=\"text-align: right;\">\n",
       "      <th></th>\n",
       "      <th>Date</th>\n",
       "      <th>delta_change_CPI</th>\n",
       "      <th>delta_change_GDP</th>\n",
       "      <th>quadrant_number</th>\n",
       "      <th>previous_quadrant</th>\n",
       "      <th>next_quadrant</th>\n",
       "      <th>USD returns</th>\n",
       "      <th>gold returns</th>\n",
       "      <th>equity returns</th>\n",
       "      <th>bonds returns</th>\n",
       "      <th>commodities returns</th>\n",
       "      <th>Year</th>\n",
       "    </tr>\n",
       "  </thead>\n",
       "  <tbody>\n",
       "    <tr>\n",
       "      <th>1</th>\n",
       "      <td>1993-Q2</td>\n",
       "      <td>-0.1</td>\n",
       "      <td>-0.5</td>\n",
       "      <td>3.0</td>\n",
       "      <td>data_not_available</td>\n",
       "      <td>3</td>\n",
       "      <td>1.893981</td>\n",
       "      <td>11.533923</td>\n",
       "      <td>-0.276625</td>\n",
       "      <td>4.116866</td>\n",
       "      <td>-7.467700</td>\n",
       "      <td>1993</td>\n",
       "    </tr>\n",
       "    <tr>\n",
       "      <th>2</th>\n",
       "      <td>1993-Q3</td>\n",
       "      <td>-0.3</td>\n",
       "      <td>-0.5</td>\n",
       "      <td>3.0</td>\n",
       "      <td>3</td>\n",
       "      <td>1</td>\n",
       "      <td>-0.843927</td>\n",
       "      <td>-6.003703</td>\n",
       "      <td>1.941748</td>\n",
       "      <td>6.821330</td>\n",
       "      <td>0.788432</td>\n",
       "      <td>1993</td>\n",
       "    </tr>\n",
       "    <tr>\n",
       "      <th>3</th>\n",
       "      <td>1993-Q4</td>\n",
       "      <td>0.0</td>\n",
       "      <td>0.3</td>\n",
       "      <td>1.0</td>\n",
       "      <td>3</td>\n",
       "      <td>2</td>\n",
       "      <td>4.330963</td>\n",
       "      <td>9.932470</td>\n",
       "      <td>1.428680</td>\n",
       "      <td>-7.655147</td>\n",
       "      <td>-7.782495</td>\n",
       "      <td>1993</td>\n",
       "    </tr>\n",
       "    <tr>\n",
       "      <th>4</th>\n",
       "      <td>1994-Q1</td>\n",
       "      <td>-0.2</td>\n",
       "      <td>0.8</td>\n",
       "      <td>2.0</td>\n",
       "      <td>1</td>\n",
       "      <td>1</td>\n",
       "      <td>-3.903346</td>\n",
       "      <td>0.076785</td>\n",
       "      <td>-4.292417</td>\n",
       "      <td>-16.292717</td>\n",
       "      <td>4.177025</td>\n",
       "      <td>1994</td>\n",
       "    </tr>\n",
       "    <tr>\n",
       "      <th>5</th>\n",
       "      <td>1994-Q2</td>\n",
       "      <td>0.0</td>\n",
       "      <td>0.8</td>\n",
       "      <td>1.0</td>\n",
       "      <td>2</td>\n",
       "      <td>1</td>\n",
       "      <td>-3.696540</td>\n",
       "      <td>-1.202046</td>\n",
       "      <td>-0.280308</td>\n",
       "      <td>-8.637578</td>\n",
       "      <td>5.691492</td>\n",
       "      <td>1994</td>\n",
       "    </tr>\n",
       "  </tbody>\n",
       "</table>\n",
       "</div>"
      ],
      "text/plain": [
       "      Date  delta_change_CPI  delta_change_GDP  quadrant_number  \\\n",
       "1  1993-Q2              -0.1              -0.5              3.0   \n",
       "2  1993-Q3              -0.3              -0.5              3.0   \n",
       "3  1993-Q4               0.0               0.3              1.0   \n",
       "4  1994-Q1              -0.2               0.8              2.0   \n",
       "5  1994-Q2               0.0               0.8              1.0   \n",
       "\n",
       "    previous_quadrant next_quadrant  USD returns  gold returns  \\\n",
       "1  data_not_available             3     1.893981     11.533923   \n",
       "2                   3             1    -0.843927     -6.003703   \n",
       "3                   3             2     4.330963      9.932470   \n",
       "4                   1             1    -3.903346      0.076785   \n",
       "5                   2             1    -3.696540     -1.202046   \n",
       "\n",
       "   equity returns  bonds returns  commodities returns  Year  \n",
       "1       -0.276625       4.116866            -7.467700  1993  \n",
       "2        1.941748       6.821330             0.788432  1993  \n",
       "3        1.428680      -7.655147            -7.782495  1993  \n",
       "4       -4.292417     -16.292717             4.177025  1994  \n",
       "5       -0.280308      -8.637578             5.691492  1994  "
      ]
     },
     "execution_count": 34,
     "metadata": {},
     "output_type": "execute_result"
    }
   ],
   "source": [
    "data_point['Year'] = data_point.Date.str.slice(0, 4) ## Extract the year\n",
    "data_point.head()\n"
   ]
  },
  {
   "cell_type": "markdown",
   "metadata": {
    "extensions": {
     "jupyter_dashboards": {
      "version": 1,
      "views": {
       "grid_default": {
        "col": 0,
        "height": 4,
        "hidden": true,
        "row": 0,
        "width": 4
       },
       "report_default": {
        "hidden": false
       }
      }
     }
    }
   },
   "source": [
    "## Create required dictionaries:"
   ]
  },
  {
   "cell_type": "code",
   "execution_count": 35,
   "metadata": {
    "extensions": {
     "jupyter_dashboards": {
      "version": 1,
      "views": {
       "grid_default": {
        "hidden": true
       },
       "report_default": {
        "hidden": true
       }
      }
     }
    }
   },
   "outputs": [],
   "source": [
    "## Create dictionary with Assets available: \n",
    "asset_dic = ['USD' , 'gold' , 'equity' , 'bonds' , 'commodities']\n",
    "asset_list = {key: value for (key, value) in zip(asset_dic, asset_dic)}\n",
    "\n",
    "## Create a Dictionary of all the available timeperiods:\n",
    "timeframe_dic = list(data_point.Year.unique())\n",
    "timeframe_list = {key: value for (key, value) in zip(timeframe_dic, timeframe_dic)}\n"
   ]
  },
  {
   "cell_type": "markdown",
   "metadata": {
    "extensions": {
     "jupyter_dashboards": {
      "version": 1,
      "views": {
       "grid_default": {
        "col": 8,
        "height": 4,
        "hidden": true,
        "row": 0,
        "width": 4
       },
       "report_default": {
        "hidden": false
       }
      }
     }
    }
   },
   "source": [
    "## Based on User Inputs, Select the Assets and Fields:"
   ]
  },
  {
   "cell_type": "code",
   "execution_count": 36,
   "metadata": {
    "extensions": {
     "jupyter_dashboards": {
      "version": 1,
      "views": {
       "grid_default": {
        "col": 0,
        "height": 13,
        "hidden": true,
        "row": 0,
        "width": 12
       },
       "report_default": {
        "hidden": false
       }
      }
     }
    },
    "scrolled": true
   },
   "outputs": [
    {
     "data": {
      "text/plain": [
       "<Task pending coro=<f_corr() running at <ipython-input-36-2bcba32fffa0>:86>>"
      ]
     },
     "execution_count": 36,
     "metadata": {},
     "output_type": "execute_result"
    }
   ],
   "source": [
    "## Define functions for the widgets:\n",
    "\n",
    "# Print Asset Selected:\n",
    "def print_assets(Asset_Class):\n",
    "    Asset_Class\n",
    "\n",
    "# Timeframe Selection:\n",
    "def print_time(Timeframe):\n",
    "    Timeframe     \n",
    "    \n",
    "## Count of instances Selection:\n",
    "def count_selection(count):\n",
    "    count \n",
    "          \n",
    "## Correlation view type selection -- Decide whether or not to display values on the correlation matrix:\n",
    "def corr_selection(corr_vis):\n",
    "    corr_vis \n",
    "\n",
    "    \n",
    "    \n",
    "    \n",
    "#### Define the widgets:\n",
    "\n",
    "# Asset Widget\n",
    "assetW = SelectMultiple( options = asset_dic , value = [asset_dic[0]] )\n",
    "\n",
    "# Timeframe Widget\n",
    "timeframeW = SelectMultiple( options = timeframe_dic , value = [timeframe_dic[0]])\n",
    "\n",
    "# Count of instances in quadrant/regime Widget\n",
    "count_w = Checkbox( value = False , description = 'Include Count of Instances')\n",
    "\n",
    "# Selection display type from corr_toggle_button Widget\n",
    "corr_toggle_button = ToggleButtons( options = ['Yes', 'No'],\n",
    "                                    value = 'No',\n",
    "                                    description = 'Corr. values:',\n",
    "                                    disabled = False,\n",
    "                                    button_style = '', # 'success', 'info', 'warning', 'danger' or ''\n",
    "                                    tooltips=['Show the correlation values'],\n",
    "                                    # icons=['check'] * 3 \n",
    "                                  )\n",
    "\n",
    "## Calling widget functions:\n",
    "\n",
    "asset_w_call = interactive( print_assets , Asset_Class = assetW )\n",
    "\n",
    "timeframe_w_call = interactive( print_time , Timeframe = timeframeW )\n",
    "\n",
    "count_w_call = interactive ( count_selection , count = count_w )\n",
    "\n",
    "corr_toggle_call = interactive ( corr_selection , corr_vis = corr_toggle_button )\n",
    "\n",
    "\n",
    "\n",
    "\n",
    "## Initialize the diplayed values into lists:\n",
    "\n",
    "asset_w_call_list = [assetW.value]\n",
    "timeframe_w_call_list = [timeframeW.value]\n",
    "count_call_list = [count_w.value]\n",
    "corr_toggle_call_list = [corr_toggle_button.options[1]]\n",
    "\n",
    "## Functions to store the changes in the widget selections:\n",
    "        \n",
    "async def f_asset():\n",
    "    for i in range(100):\n",
    "\n",
    "        asset_w_call_val = await wait_for_change(assetW, 'value')\n",
    "        asset_w_call_list.append(asset_w_call_val)\n",
    "      \n",
    "    \n",
    "async def f_timeframe():\n",
    "    for i in range(100):\n",
    "\n",
    "        timeframe_w_call_val = await wait_for_change(timeframeW, 'value')\n",
    "        timeframe_w_call_list.append(timeframe_w_call_val)\n",
    "      \n",
    "    \n",
    "async def f_count():\n",
    "    for i in range(100):\n",
    "\n",
    "        count_call_val = await wait_for_change(count_w, 'value')\n",
    "        count_call_list.append(count_call_val)\n",
    "        \n",
    "        \n",
    "async def f_corr():\n",
    "    for i in range(100):\n",
    "\n",
    "        corr_toggle_call_val = await wait_for_change(corr_toggle_button, 'value')\n",
    "        corr_toggle_call_list.append(corr_toggle_call_val)\n",
    "        \n",
    "        \n",
    "## Capture the value changes in the widgets: \n",
    "asyncio.ensure_future(f_asset())\n",
    "asyncio.ensure_future(f_timeframe())\n",
    "asyncio.ensure_future(f_count())\n",
    "asyncio.ensure_future(f_corr())\n"
   ]
  },
  {
   "cell_type": "markdown",
   "metadata": {
    "extensions": {
     "jupyter_dashboards": {
      "version": 1,
      "views": {
       "grid_default": {
        "col": 4,
        "height": 4,
        "hidden": true,
        "row": 25,
        "width": 4
       },
       "report_default": {}
      }
     }
    }
   },
   "source": [
    "## Widget Container and Display:"
   ]
  },
  {
   "cell_type": "code",
   "execution_count": 37,
   "metadata": {
    "extensions": {
     "jupyter_dashboards": {
      "version": 1,
      "views": {
       "grid_default": {
        "col": 0,
        "height": 6,
        "hidden": false,
        "row": 4,
        "width": 8
       },
       "report_default": {
        "hidden": false
       }
      }
     }
    },
    "scrolled": true
   },
   "outputs": [
    {
     "data": {
      "application/vnd.jupyter.widget-view+json": {
       "model_id": "5d0e090593594d998e408856c03def59",
       "version_major": 2,
       "version_minor": 0
      },
      "text/plain": [
       "VBox(children=(HBox(children=(interactive(children=(SelectMultiple(description='Asset_Class', index=(0,), opti…"
      ]
     },
     "metadata": {},
     "output_type": "display_data"
    }
   ],
   "source": [
    "## Place the Widgets in a container:\n",
    "ui = VBox([\n",
    "           \n",
    "                    HBox([asset_w_call, timeframe_w_call]),\n",
    "                     \n",
    "                    HBox([corr_toggle_button , count_w_call])\n",
    "          ])\n",
    "         \n",
    "\n",
    "## Display the widgets:\n",
    "ui\n"
   ]
  },
  {
   "cell_type": "markdown",
   "metadata": {
    "extensions": {
     "jupyter_dashboards": {
      "version": 1,
      "views": {
       "grid_default": {
        "col": 6,
        "height": 4,
        "hidden": true,
        "row": 9,
        "width": 4
       },
       "report_default": {
        "hidden": false
       }
      }
     }
    }
   },
   "source": [
    "## Run the cells below by clicking the following button:"
   ]
  },
  {
   "cell_type": "code",
   "execution_count": 95,
   "metadata": {
    "extensions": {
     "jupyter_dashboards": {
      "version": 1,
      "views": {
       "grid_default": {
        "col": 8,
        "height": 2,
        "hidden": false,
        "row": 8,
        "width": 2
       },
       "report_default": {
        "hidden": false
       }
      }
     }
    }
   },
   "outputs": [
    {
     "data": {
      "application/javascript": [
       "IPython.notebook.execute_cells_below()"
      ],
      "text/plain": [
       "<IPython.core.display.Javascript object>"
      ]
     },
     "metadata": {},
     "output_type": "display_data"
    },
    {
     "data": {
      "application/vnd.jupyter.widget-view+json": {
       "model_id": "f296510c65f84eca944bacfb4ea4b8d4",
       "version_major": 2,
       "version_minor": 0
      },
      "text/plain": [
       "Button(description='Confirm Selection', style=ButtonStyle())"
      ]
     },
     "metadata": {},
     "output_type": "display_data"
    }
   ],
   "source": [
    "def run_all(ev):\n",
    "    display(Javascript('IPython.notebook.execute_cells_below()'))\n",
    "\n",
    "button = Button(description = \"Confirm Selection\")\n",
    "button.on_click(run_all)\n",
    "display(button)"
   ]
  },
  {
   "cell_type": "markdown",
   "metadata": {
    "extensions": {
     "jupyter_dashboards": {
      "version": 1,
      "views": {
       "grid_default": {
        "col": 0,
        "height": 4,
        "hidden": true,
        "row": 0,
        "width": 4
       },
       "report_default": {
        "hidden": false
       }
      }
     }
    }
   },
   "source": [
    "## Store the user selections into variables:"
   ]
  },
  {
   "cell_type": "code",
   "execution_count": 96,
   "metadata": {
    "extensions": {
     "jupyter_dashboards": {
      "version": 1,
      "views": {
       "grid_default": {
        "col": 8,
        "height": 4,
        "hidden": true,
        "row": 0,
        "width": 4
       },
       "report_default": {
        "hidden": true
       }
      }
     }
    }
   },
   "outputs": [],
   "source": [
    "## Store the selections made by the user:\n",
    "\n",
    "selected_assets = asset_w_call_list[-1]\n",
    "selected_timeframe = timeframe_w_call_list[-1]\n",
    "selected_count = count_call_list[-1]\n",
    "selected_corr_view = corr_toggle_call_list[-1]\n",
    "\n",
    "#display(selected_assets, selected_timeframe, selected_count,selected_corr_view )"
   ]
  },
  {
   "cell_type": "markdown",
   "metadata": {
    "extensions": {
     "jupyter_dashboards": {
      "version": 1,
      "views": {
       "grid_default": {
        "col": 8,
        "height": 4,
        "hidden": true,
        "row": 70,
        "width": 4
       },
       "report_default": {}
      }
     }
    }
   },
   "source": [
    "## Subset based on assets and timeframe:"
   ]
  },
  {
   "cell_type": "code",
   "execution_count": 97,
   "metadata": {
    "extensions": {
     "jupyter_dashboards": {
      "version": 1,
      "views": {
       "grid_default": {
        "col": 4,
        "height": 81,
        "hidden": false,
        "row": 38,
        "width": 8
       },
       "report_default": {}
      }
     }
    },
    "scrolled": true
   },
   "outputs": [
    {
     "data": {
      "text/html": [
       "<div>\n",
       "<style scoped>\n",
       "    .dataframe tbody tr th:only-of-type {\n",
       "        vertical-align: middle;\n",
       "    }\n",
       "\n",
       "    .dataframe tbody tr th {\n",
       "        vertical-align: top;\n",
       "    }\n",
       "\n",
       "    .dataframe thead th {\n",
       "        text-align: right;\n",
       "    }\n",
       "</style>\n",
       "<table border=\"1\" class=\"dataframe\">\n",
       "  <thead>\n",
       "    <tr style=\"text-align: right;\">\n",
       "      <th></th>\n",
       "      <th>Date</th>\n",
       "      <th>Year</th>\n",
       "      <th>delta_change_CPI</th>\n",
       "      <th>delta_change_GDP</th>\n",
       "      <th>USD returns</th>\n",
       "      <th>gold returns</th>\n",
       "      <th>equity returns</th>\n",
       "      <th>bonds returns</th>\n",
       "      <th>commodities returns</th>\n",
       "    </tr>\n",
       "  </thead>\n",
       "  <tbody>\n",
       "    <tr>\n",
       "      <th>1</th>\n",
       "      <td>1993-Q2</td>\n",
       "      <td>1993</td>\n",
       "      <td>-0.1</td>\n",
       "      <td>-0.5</td>\n",
       "      <td>1.893981</td>\n",
       "      <td>11.533923</td>\n",
       "      <td>-0.276625</td>\n",
       "      <td>4.116866</td>\n",
       "      <td>-7.467700</td>\n",
       "    </tr>\n",
       "    <tr>\n",
       "      <th>2</th>\n",
       "      <td>1993-Q3</td>\n",
       "      <td>1993</td>\n",
       "      <td>-0.3</td>\n",
       "      <td>-0.5</td>\n",
       "      <td>-0.843927</td>\n",
       "      <td>-6.003703</td>\n",
       "      <td>1.941748</td>\n",
       "      <td>6.821330</td>\n",
       "      <td>0.788432</td>\n",
       "    </tr>\n",
       "    <tr>\n",
       "      <th>3</th>\n",
       "      <td>1993-Q4</td>\n",
       "      <td>1993</td>\n",
       "      <td>0.0</td>\n",
       "      <td>0.3</td>\n",
       "      <td>4.330963</td>\n",
       "      <td>9.932470</td>\n",
       "      <td>1.428680</td>\n",
       "      <td>-7.655147</td>\n",
       "      <td>-7.782495</td>\n",
       "    </tr>\n",
       "    <tr>\n",
       "      <th>4</th>\n",
       "      <td>1994-Q1</td>\n",
       "      <td>1994</td>\n",
       "      <td>-0.2</td>\n",
       "      <td>0.8</td>\n",
       "      <td>-3.903346</td>\n",
       "      <td>0.076785</td>\n",
       "      <td>-4.292417</td>\n",
       "      <td>-16.292717</td>\n",
       "      <td>4.177025</td>\n",
       "    </tr>\n",
       "    <tr>\n",
       "      <th>5</th>\n",
       "      <td>1994-Q2</td>\n",
       "      <td>1994</td>\n",
       "      <td>0.0</td>\n",
       "      <td>0.8</td>\n",
       "      <td>-3.696540</td>\n",
       "      <td>-1.202046</td>\n",
       "      <td>-0.280308</td>\n",
       "      <td>-8.637578</td>\n",
       "      <td>5.691492</td>\n",
       "    </tr>\n",
       "    <tr>\n",
       "      <th>6</th>\n",
       "      <td>1994-Q3</td>\n",
       "      <td>1994</td>\n",
       "      <td>0.5</td>\n",
       "      <td>0.1</td>\n",
       "      <td>-1.941531</td>\n",
       "      <td>2.057986</td>\n",
       "      <td>3.829876</td>\n",
       "      <td>-3.866120</td>\n",
       "      <td>-4.813103</td>\n",
       "    </tr>\n",
       "    <tr>\n",
       "      <th>7</th>\n",
       "      <td>1994-Q4</td>\n",
       "      <td>1994</td>\n",
       "      <td>-0.3</td>\n",
       "      <td>-0.2</td>\n",
       "      <td>0.955849</td>\n",
       "      <td>-2.802790</td>\n",
       "      <td>-1.319850</td>\n",
       "      <td>-2.880442</td>\n",
       "      <td>5.449906</td>\n",
       "    </tr>\n",
       "    <tr>\n",
       "      <th>8</th>\n",
       "      <td>1995-Q1</td>\n",
       "      <td>1995</td>\n",
       "      <td>0.2</td>\n",
       "      <td>-0.6</td>\n",
       "      <td>-7.687106</td>\n",
       "      <td>2.139875</td>\n",
       "      <td>9.979479</td>\n",
       "      <td>8.003068</td>\n",
       "      <td>-0.939434</td>\n",
       "    </tr>\n",
       "    <tr>\n",
       "      <th>9</th>\n",
       "      <td>1995-Q2</td>\n",
       "      <td>1995</td>\n",
       "      <td>0.1</td>\n",
       "      <td>-1.1</td>\n",
       "      <td>-0.390720</td>\n",
       "      <td>-1.737353</td>\n",
       "      <td>8.575038</td>\n",
       "      <td>13.799333</td>\n",
       "      <td>-2.552668</td>\n",
       "    </tr>\n",
       "    <tr>\n",
       "      <th>10</th>\n",
       "      <td>1995-Q3</td>\n",
       "      <td>1995</td>\n",
       "      <td>-0.5</td>\n",
       "      <td>0.3</td>\n",
       "      <td>3.321893</td>\n",
       "      <td>-0.156006</td>\n",
       "      <td>7.495639</td>\n",
       "      <td>0.338546</td>\n",
       "      <td>3.778235</td>\n",
       "    </tr>\n",
       "    <tr>\n",
       "      <th>11</th>\n",
       "      <td>1995-Q4</td>\n",
       "      <td>1995</td>\n",
       "      <td>0.0</td>\n",
       "      <td>-0.5</td>\n",
       "      <td>0.557599</td>\n",
       "      <td>0.807292</td>\n",
       "      <td>5.129573</td>\n",
       "      <td>9.867357</td>\n",
       "      <td>12.378736</td>\n",
       "    </tr>\n",
       "    <tr>\n",
       "      <th>12</th>\n",
       "      <td>1996-Q1</td>\n",
       "      <td>1996</td>\n",
       "      <td>0.3</td>\n",
       "      <td>0.4</td>\n",
       "      <td>2.076451</td>\n",
       "      <td>2.157065</td>\n",
       "      <td>5.209614</td>\n",
       "      <td>-13.549892</td>\n",
       "      <td>1.556238</td>\n",
       "    </tr>\n",
       "    <tr>\n",
       "      <th>13</th>\n",
       "      <td>1996-Q2</td>\n",
       "      <td>1996</td>\n",
       "      <td>0.0</td>\n",
       "      <td>1.4</td>\n",
       "      <td>1.502543</td>\n",
       "      <td>-3.793147</td>\n",
       "      <td>3.744000</td>\n",
       "      <td>-6.069227</td>\n",
       "      <td>-0.068904</td>\n",
       "    </tr>\n",
       "    <tr>\n",
       "      <th>14</th>\n",
       "      <td>1996-Q3</td>\n",
       "      <td>1996</td>\n",
       "      <td>0.2</td>\n",
       "      <td>0.1</td>\n",
       "      <td>0.136643</td>\n",
       "      <td>-0.538836</td>\n",
       "      <td>2.258402</td>\n",
       "      <td>0.119207</td>\n",
       "      <td>-0.632234</td>\n",
       "    </tr>\n",
       "    <tr>\n",
       "      <th>15</th>\n",
       "      <td>1996-Q4</td>\n",
       "      <td>1996</td>\n",
       "      <td>0.3</td>\n",
       "      <td>0.3</td>\n",
       "      <td>0.204685</td>\n",
       "      <td>-2.827696</td>\n",
       "      <td>7.604809</td>\n",
       "      <td>4.251828</td>\n",
       "      <td>4.892603</td>\n",
       "    </tr>\n",
       "    <tr>\n",
       "      <th>16</th>\n",
       "      <td>1997-Q1</td>\n",
       "      <td>1997</td>\n",
       "      <td>-0.5</td>\n",
       "      <td>-0.1</td>\n",
       "      <td>7.489787</td>\n",
       "      <td>-4.473756</td>\n",
       "      <td>1.904290</td>\n",
       "      <td>-7.556871</td>\n",
       "      <td>-10.604753</td>\n",
       "    </tr>\n",
       "    <tr>\n",
       "      <th>17</th>\n",
       "      <td>1997-Q2</td>\n",
       "      <td>1997</td>\n",
       "      <td>-0.5</td>\n",
       "      <td>0.0</td>\n",
       "      <td>1.002956</td>\n",
       "      <td>-4.925267</td>\n",
       "      <td>17.358804</td>\n",
       "      <td>5.838041</td>\n",
       "      <td>-3.772822</td>\n",
       "    </tr>\n",
       "    <tr>\n",
       "      <th>18</th>\n",
       "      <td>1997-Q3</td>\n",
       "      <td>1997</td>\n",
       "      <td>-0.1</td>\n",
       "      <td>0.4</td>\n",
       "      <td>1.505174</td>\n",
       "      <td>0.149723</td>\n",
       "      <td>6.864827</td>\n",
       "      <td>6.107692</td>\n",
       "      <td>8.945671</td>\n",
       "    </tr>\n",
       "    <tr>\n",
       "      <th>19</th>\n",
       "      <td>1997-Q4</td>\n",
       "      <td>1997</td>\n",
       "      <td>-0.5</td>\n",
       "      <td>-0.2</td>\n",
       "      <td>2.615591</td>\n",
       "      <td>-13.574525</td>\n",
       "      <td>2.847682</td>\n",
       "      <td>5.915124</td>\n",
       "      <td>-12.943066</td>\n",
       "    </tr>\n",
       "    <tr>\n",
       "      <th>20</th>\n",
       "      <td>1998-Q1</td>\n",
       "      <td>1998</td>\n",
       "      <td>-0.3</td>\n",
       "      <td>0.4</td>\n",
       "      <td>1.856498</td>\n",
       "      <td>4.116935</td>\n",
       "      <td>13.264649</td>\n",
       "      <td>1.532567</td>\n",
       "      <td>-5.072229</td>\n",
       "    </tr>\n",
       "    <tr>\n",
       "      <th>21</th>\n",
       "      <td>1998-Q2</td>\n",
       "      <td>1998</td>\n",
       "      <td>0.3</td>\n",
       "      <td>-0.8</td>\n",
       "      <td>-0.325123</td>\n",
       "      <td>-1.329124</td>\n",
       "      <td>3.069926</td>\n",
       "      <td>3.678811</td>\n",
       "      <td>-6.907417</td>\n",
       "    </tr>\n",
       "    <tr>\n",
       "      <th>22</th>\n",
       "      <td>1998-Q3</td>\n",
       "      <td>1998</td>\n",
       "      <td>-0.2</td>\n",
       "      <td>0.0</td>\n",
       "      <td>-4.942177</td>\n",
       "      <td>0.000000</td>\n",
       "      <td>-10.204082</td>\n",
       "      <td>18.839515</td>\n",
       "      <td>-0.923780</td>\n",
       "    </tr>\n",
       "    <tr>\n",
       "      <th>23</th>\n",
       "      <td>1998-Q4</td>\n",
       "      <td>1998</td>\n",
       "      <td>0.1</td>\n",
       "      <td>0.8</td>\n",
       "      <td>-2.079651</td>\n",
       "      <td>-2.929786</td>\n",
       "      <td>21.191646</td>\n",
       "      <td>-5.158371</td>\n",
       "      <td>-13.492355</td>\n",
       "    </tr>\n",
       "    <tr>\n",
       "      <th>24</th>\n",
       "      <td>1999-Q1</td>\n",
       "      <td>1999</td>\n",
       "      <td>0.1</td>\n",
       "      <td>-0.1</td>\n",
       "      <td>6.297122</td>\n",
       "      <td>-2.844753</td>\n",
       "      <td>4.105423</td>\n",
       "      <td>-12.779690</td>\n",
       "      <td>15.724370</td>\n",
       "    </tr>\n",
       "    <tr>\n",
       "      <th>25</th>\n",
       "      <td>1999-Q2</td>\n",
       "      <td>1999</td>\n",
       "      <td>0.3</td>\n",
       "      <td>-0.1</td>\n",
       "      <td>2.747253</td>\n",
       "      <td>-6.266738</td>\n",
       "      <td>6.718598</td>\n",
       "      <td>-10.263258</td>\n",
       "      <td>6.123738</td>\n",
       "    </tr>\n",
       "    <tr>\n",
       "      <th>26</th>\n",
       "      <td>1999-Q3</td>\n",
       "      <td>1999</td>\n",
       "      <td>0.6</td>\n",
       "      <td>0.0</td>\n",
       "      <td>-4.190569</td>\n",
       "      <td>13.809524</td>\n",
       "      <td>-6.021898</td>\n",
       "      <td>-1.678201</td>\n",
       "      <td>16.956820</td>\n",
       "    </tr>\n",
       "    <tr>\n",
       "      <th>27</th>\n",
       "      <td>1999-Q4</td>\n",
       "      <td>1999</td>\n",
       "      <td>0.1</td>\n",
       "      <td>0.1</td>\n",
       "      <td>3.379338</td>\n",
       "      <td>-3.598326</td>\n",
       "      <td>14.077670</td>\n",
       "      <td>-9.613749</td>\n",
       "      <td>1.818353</td>\n",
       "    </tr>\n",
       "    <tr>\n",
       "      <th>28</th>\n",
       "      <td>2000-Q1</td>\n",
       "      <td>2000</td>\n",
       "      <td>1.1</td>\n",
       "      <td>-0.6</td>\n",
       "      <td>3.504466</td>\n",
       "      <td>-3.097222</td>\n",
       "      <td>2.382979</td>\n",
       "      <td>6.799131</td>\n",
       "      <td>6.345470</td>\n",
       "    </tr>\n",
       "    <tr>\n",
       "      <th>29</th>\n",
       "      <td>2000-Q2</td>\n",
       "      <td>2000</td>\n",
       "      <td>-0.1</td>\n",
       "      <td>1.1</td>\n",
       "      <td>1.327769</td>\n",
       "      <td>3.744446</td>\n",
       "      <td>-3.387332</td>\n",
       "      <td>-0.449700</td>\n",
       "      <td>13.936577</td>\n",
       "    </tr>\n",
       "    <tr>\n",
       "      <th>30</th>\n",
       "      <td>2000-Q3</td>\n",
       "      <td>2000</td>\n",
       "      <td>-0.2</td>\n",
       "      <td>-1.2</td>\n",
       "      <td>5.999626</td>\n",
       "      <td>-5.277519</td>\n",
       "      <td>-1.140064</td>\n",
       "      <td>3.797049</td>\n",
       "      <td>0.750741</td>\n",
       "    </tr>\n",
       "    <tr>\n",
       "      <th>...</th>\n",
       "      <td>...</td>\n",
       "      <td>...</td>\n",
       "      <td>...</td>\n",
       "      <td>...</td>\n",
       "      <td>...</td>\n",
       "      <td>...</td>\n",
       "      <td>...</td>\n",
       "      <td>...</td>\n",
       "      <td>...</td>\n",
       "    </tr>\n",
       "    <tr>\n",
       "      <th>38</th>\n",
       "      <td>2002-Q3</td>\n",
       "      <td>2002</td>\n",
       "      <td>0.4</td>\n",
       "      <td>0.9</td>\n",
       "      <td>0.716238</td>\n",
       "      <td>2.893942</td>\n",
       "      <td>-17.350445</td>\n",
       "      <td>25.067722</td>\n",
       "      <td>12.205162</td>\n",
       "    </tr>\n",
       "    <tr>\n",
       "      <th>39</th>\n",
       "      <td>2002-Q4</td>\n",
       "      <td>2002</td>\n",
       "      <td>0.9</td>\n",
       "      <td>-0.1</td>\n",
       "      <td>-4.697296</td>\n",
       "      <td>7.572245</td>\n",
       "      <td>7.873823</td>\n",
       "      <td>-6.117909</td>\n",
       "      <td>3.352764</td>\n",
       "    </tr>\n",
       "    <tr>\n",
       "      <th>40</th>\n",
       "      <td>2003-Q1</td>\n",
       "      <td>2003</td>\n",
       "      <td>0.6</td>\n",
       "      <td>-0.3</td>\n",
       "      <td>-2.916053</td>\n",
       "      <td>-3.045539</td>\n",
       "      <td>-3.955571</td>\n",
       "      <td>0.471698</td>\n",
       "      <td>-1.222730</td>\n",
       "    </tr>\n",
       "    <tr>\n",
       "      <th>41</th>\n",
       "      <td>2003-Q2</td>\n",
       "      <td>2003</td>\n",
       "      <td>-0.9</td>\n",
       "      <td>0.2</td>\n",
       "      <td>-4.197006</td>\n",
       "      <td>2.652245</td>\n",
       "      <td>15.211234</td>\n",
       "      <td>7.451290</td>\n",
       "      <td>0.397798</td>\n",
       "    </tr>\n",
       "    <tr>\n",
       "      <th>42</th>\n",
       "      <td>2003-Q3</td>\n",
       "      <td>2003</td>\n",
       "      <td>0.2</td>\n",
       "      <td>1.3</td>\n",
       "      <td>-1.984588</td>\n",
       "      <td>11.244226</td>\n",
       "      <td>2.376319</td>\n",
       "      <td>-12.062589</td>\n",
       "      <td>-0.243736</td>\n",
       "    </tr>\n",
       "    <tr>\n",
       "      <th>43</th>\n",
       "      <td>2003-Q4</td>\n",
       "      <td>2003</td>\n",
       "      <td>-0.4</td>\n",
       "      <td>1.0</td>\n",
       "      <td>-6.386645</td>\n",
       "      <td>7.811081</td>\n",
       "      <td>11.335668</td>\n",
       "      <td>-7.844631</td>\n",
       "      <td>11.996936</td>\n",
       "    </tr>\n",
       "    <tr>\n",
       "      <th>44</th>\n",
       "      <td>2004-Q1</td>\n",
       "      <td>2004</td>\n",
       "      <td>-0.2</td>\n",
       "      <td>0.0</td>\n",
       "      <td>0.793833</td>\n",
       "      <td>2.647731</td>\n",
       "      <td>1.635514</td>\n",
       "      <td>9.675141</td>\n",
       "      <td>8.282421</td>\n",
       "    </tr>\n",
       "    <tr>\n",
       "      <th>45</th>\n",
       "      <td>2004-Q2</td>\n",
       "      <td>2004</td>\n",
       "      <td>1.6</td>\n",
       "      <td>-0.1</td>\n",
       "      <td>1.358292</td>\n",
       "      <td>-7.550709</td>\n",
       "      <td>1.264368</td>\n",
       "      <td>-19.442273</td>\n",
       "      <td>1.500269</td>\n",
       "    </tr>\n",
       "    <tr>\n",
       "      <th>46</th>\n",
       "      <td>2004-Q3</td>\n",
       "      <td>2004</td>\n",
       "      <td>-0.8</td>\n",
       "      <td>-0.8</td>\n",
       "      <td>-1.610360</td>\n",
       "      <td>6.087508</td>\n",
       "      <td>-2.418580</td>\n",
       "      <td>10.080733</td>\n",
       "      <td>17.941872</td>\n",
       "    </tr>\n",
       "    <tr>\n",
       "      <th>47</th>\n",
       "      <td>2004-Q4</td>\n",
       "      <td>2004</td>\n",
       "      <td>0.8</td>\n",
       "      <td>-0.1</td>\n",
       "      <td>-7.462516</td>\n",
       "      <td>4.829647</td>\n",
       "      <td>8.151396</td>\n",
       "      <td>-2.402330</td>\n",
       "      <td>-8.073098</td>\n",
       "    </tr>\n",
       "    <tr>\n",
       "      <th>48</th>\n",
       "      <td>2005-Q1</td>\n",
       "      <td>2005</td>\n",
       "      <td>-0.2</td>\n",
       "      <td>0.6</td>\n",
       "      <td>3.970315</td>\n",
       "      <td>-2.303569</td>\n",
       "      <td>-2.407545</td>\n",
       "      <td>-6.232227</td>\n",
       "      <td>23.562804</td>\n",
       "    </tr>\n",
       "    <tr>\n",
       "      <th>49</th>\n",
       "      <td>2005-Q2</td>\n",
       "      <td>2005</td>\n",
       "      <td>-0.6</td>\n",
       "      <td>-0.3</td>\n",
       "      <td>5.983821</td>\n",
       "      <td>1.669196</td>\n",
       "      <td>1.034249</td>\n",
       "      <td>12.670087</td>\n",
       "      <td>-0.999473</td>\n",
       "    </tr>\n",
       "    <tr>\n",
       "      <th>50</th>\n",
       "      <td>2005-Q3</td>\n",
       "      <td>2005</td>\n",
       "      <td>2.2</td>\n",
       "      <td>-0.1</td>\n",
       "      <td>0.482658</td>\n",
       "      <td>7.761194</td>\n",
       "      <td>3.238798</td>\n",
       "      <td>-10.498084</td>\n",
       "      <td>23.637299</td>\n",
       "    </tr>\n",
       "    <tr>\n",
       "      <th>51</th>\n",
       "      <td>2005-Q4</td>\n",
       "      <td>2005</td>\n",
       "      <td>-1.3</td>\n",
       "      <td>-0.4</td>\n",
       "      <td>1.843164</td>\n",
       "      <td>10.164074</td>\n",
       "      <td>1.194733</td>\n",
       "      <td>-1.548775</td>\n",
       "      <td>-8.058212</td>\n",
       "    </tr>\n",
       "    <tr>\n",
       "      <th>52</th>\n",
       "      <td>2006-Q1</td>\n",
       "      <td>2006</td>\n",
       "      <td>0.0</td>\n",
       "      <td>0.3</td>\n",
       "      <td>-1.579467</td>\n",
       "      <td>12.891683</td>\n",
       "      <td>4.272749</td>\n",
       "      <td>-10.380150</td>\n",
       "      <td>2.501057</td>\n",
       "    </tr>\n",
       "    <tr>\n",
       "      <th>53</th>\n",
       "      <td>2006-Q2</td>\n",
       "      <td>2006</td>\n",
       "      <td>0.9</td>\n",
       "      <td>-0.3</td>\n",
       "      <td>-5.093057</td>\n",
       "      <td>5.517005</td>\n",
       "      <td>-2.002619</td>\n",
       "      <td>-5.959992</td>\n",
       "      <td>9.526438</td>\n",
       "    </tr>\n",
       "    <tr>\n",
       "      <th>54</th>\n",
       "      <td>2006-Q3</td>\n",
       "      <td>2006</td>\n",
       "      <td>-2.2</td>\n",
       "      <td>-0.7</td>\n",
       "      <td>1.021606</td>\n",
       "      <td>-2.849720</td>\n",
       "      <td>4.990961</td>\n",
       "      <td>9.887116</td>\n",
       "      <td>-11.682460</td>\n",
       "    </tr>\n",
       "    <tr>\n",
       "      <th>55</th>\n",
       "      <td>2006-Q4</td>\n",
       "      <td>2006</td>\n",
       "      <td>0.4</td>\n",
       "      <td>0.2</td>\n",
       "      <td>-2.766477</td>\n",
       "      <td>6.418185</td>\n",
       "      <td>6.018865</td>\n",
       "      <td>-1.598272</td>\n",
       "      <td>1.306660</td>\n",
       "    </tr>\n",
       "    <tr>\n",
       "      <th>56</th>\n",
       "      <td>2007-Q1</td>\n",
       "      <td>2007</td>\n",
       "      <td>0.3</td>\n",
       "      <td>-1.1</td>\n",
       "      <td>-0.860729</td>\n",
       "      <td>4.256322</td>\n",
       "      <td>0.268324</td>\n",
       "      <td>1.232993</td>\n",
       "      <td>7.948525</td>\n",
       "    </tr>\n",
       "    <tr>\n",
       "      <th>57</th>\n",
       "      <td>2007-Q2</td>\n",
       "      <td>2007</td>\n",
       "      <td>-0.1</td>\n",
       "      <td>0.3</td>\n",
       "      <td>-1.217895</td>\n",
       "      <td>-2.131666</td>\n",
       "      <td>5.936620</td>\n",
       "      <td>-8.179079</td>\n",
       "      <td>4.493981</td>\n",
       "    </tr>\n",
       "    <tr>\n",
       "      <th>58</th>\n",
       "      <td>2007-Q3</td>\n",
       "      <td>2007</td>\n",
       "      <td>0.1</td>\n",
       "      <td>0.4</td>\n",
       "      <td>-5.128174</td>\n",
       "      <td>14.461633</td>\n",
       "      <td>1.429236</td>\n",
       "      <td>8.714684</td>\n",
       "      <td>11.648935</td>\n",
       "    </tr>\n",
       "    <tr>\n",
       "      <th>59</th>\n",
       "      <td>2007-Q4</td>\n",
       "      <td>2007</td>\n",
       "      <td>1.3</td>\n",
       "      <td>-0.2</td>\n",
       "      <td>-1.317567</td>\n",
       "      <td>12.116729</td>\n",
       "      <td>-4.174859</td>\n",
       "      <td>12.271142</td>\n",
       "      <td>11.725349</td>\n",
       "    </tr>\n",
       "    <tr>\n",
       "      <th>60</th>\n",
       "      <td>2008-Q1</td>\n",
       "      <td>2008</td>\n",
       "      <td>-0.1</td>\n",
       "      <td>-0.9</td>\n",
       "      <td>-6.379816</td>\n",
       "      <td>9.979609</td>\n",
       "      <td>-9.739416</td>\n",
       "      <td>15.254658</td>\n",
       "      <td>9.627497</td>\n",
       "    </tr>\n",
       "    <tr>\n",
       "      <th>61</th>\n",
       "      <td>2008-Q2</td>\n",
       "      <td>2008</td>\n",
       "      <td>1.0</td>\n",
       "      <td>0.0</td>\n",
       "      <td>0.920587</td>\n",
       "      <td>0.927037</td>\n",
       "      <td>-3.023414</td>\n",
       "      <td>-16.417473</td>\n",
       "      <td>28.986729</td>\n",
       "    </tr>\n",
       "    <tr>\n",
       "      <th>62</th>\n",
       "      <td>2008-Q3</td>\n",
       "      <td>2008</td>\n",
       "      <td>-0.1</td>\n",
       "      <td>-1.1</td>\n",
       "      <td>9.639402</td>\n",
       "      <td>-5.883942</td>\n",
       "      <td>-9.368651</td>\n",
       "      <td>3.676656</td>\n",
       "      <td>-27.882417</td>\n",
       "    </tr>\n",
       "    <tr>\n",
       "      <th>63</th>\n",
       "      <td>2008-Q4</td>\n",
       "      <td>2008</td>\n",
       "      <td>-4.8</td>\n",
       "      <td>-2.8</td>\n",
       "      <td>2.341154</td>\n",
       "      <td>1.274470</td>\n",
       "      <td>-22.200190</td>\n",
       "      <td>42.117647</td>\n",
       "      <td>-43.905939</td>\n",
       "    </tr>\n",
       "    <tr>\n",
       "      <th>64</th>\n",
       "      <td>2009-Q1</td>\n",
       "      <td>2009</td>\n",
       "      <td>-0.5</td>\n",
       "      <td>-0.5</td>\n",
       "      <td>5.069612</td>\n",
       "      <td>4.228785</td>\n",
       "      <td>-11.879433</td>\n",
       "      <td>-20.370370</td>\n",
       "      <td>2.718329</td>\n",
       "    </tr>\n",
       "    <tr>\n",
       "      <th>65</th>\n",
       "      <td>2009-Q2</td>\n",
       "      <td>2009</td>\n",
       "      <td>-1.0</td>\n",
       "      <td>-0.6</td>\n",
       "      <td>-6.200398</td>\n",
       "      <td>0.777723</td>\n",
       "      <td>15.631288</td>\n",
       "      <td>-32.645403</td>\n",
       "      <td>25.574435</td>\n",
       "    </tr>\n",
       "    <tr>\n",
       "      <th>66</th>\n",
       "      <td>2009-Q3</td>\n",
       "      <td>2009</td>\n",
       "      <td>0.1</td>\n",
       "      <td>0.9</td>\n",
       "      <td>-4.342780</td>\n",
       "      <td>8.764166</td>\n",
       "      <td>14.834149</td>\n",
       "      <td>6.449788</td>\n",
       "      <td>2.783324</td>\n",
       "    </tr>\n",
       "    <tr>\n",
       "      <th>67</th>\n",
       "      <td>2009-Q4</td>\n",
       "      <td>2009</td>\n",
       "      <td>4.0</td>\n",
       "      <td>3.2</td>\n",
       "      <td>1.574629</td>\n",
       "      <td>8.859780</td>\n",
       "      <td>5.540297</td>\n",
       "      <td>-16.087088</td>\n",
       "      <td>13.370776</td>\n",
       "    </tr>\n",
       "  </tbody>\n",
       "</table>\n",
       "<p>67 rows × 9 columns</p>\n",
       "</div>"
      ],
      "text/plain": [
       "       Date  Year  delta_change_CPI  delta_change_GDP  USD returns  \\\n",
       "1   1993-Q2  1993              -0.1              -0.5     1.893981   \n",
       "2   1993-Q3  1993              -0.3              -0.5    -0.843927   \n",
       "3   1993-Q4  1993               0.0               0.3     4.330963   \n",
       "4   1994-Q1  1994              -0.2               0.8    -3.903346   \n",
       "5   1994-Q2  1994               0.0               0.8    -3.696540   \n",
       "6   1994-Q3  1994               0.5               0.1    -1.941531   \n",
       "7   1994-Q4  1994              -0.3              -0.2     0.955849   \n",
       "8   1995-Q1  1995               0.2              -0.6    -7.687106   \n",
       "9   1995-Q2  1995               0.1              -1.1    -0.390720   \n",
       "10  1995-Q3  1995              -0.5               0.3     3.321893   \n",
       "11  1995-Q4  1995               0.0              -0.5     0.557599   \n",
       "12  1996-Q1  1996               0.3               0.4     2.076451   \n",
       "13  1996-Q2  1996               0.0               1.4     1.502543   \n",
       "14  1996-Q3  1996               0.2               0.1     0.136643   \n",
       "15  1996-Q4  1996               0.3               0.3     0.204685   \n",
       "16  1997-Q1  1997              -0.5              -0.1     7.489787   \n",
       "17  1997-Q2  1997              -0.5               0.0     1.002956   \n",
       "18  1997-Q3  1997              -0.1               0.4     1.505174   \n",
       "19  1997-Q4  1997              -0.5              -0.2     2.615591   \n",
       "20  1998-Q1  1998              -0.3               0.4     1.856498   \n",
       "21  1998-Q2  1998               0.3              -0.8    -0.325123   \n",
       "22  1998-Q3  1998              -0.2               0.0    -4.942177   \n",
       "23  1998-Q4  1998               0.1               0.8    -2.079651   \n",
       "24  1999-Q1  1999               0.1              -0.1     6.297122   \n",
       "25  1999-Q2  1999               0.3              -0.1     2.747253   \n",
       "26  1999-Q3  1999               0.6               0.0    -4.190569   \n",
       "27  1999-Q4  1999               0.1               0.1     3.379338   \n",
       "28  2000-Q1  2000               1.1              -0.6     3.504466   \n",
       "29  2000-Q2  2000              -0.1               1.1     1.327769   \n",
       "30  2000-Q3  2000              -0.2              -1.2     5.999626   \n",
       "..      ...   ...               ...               ...          ...   \n",
       "38  2002-Q3  2002               0.4               0.9     0.716238   \n",
       "39  2002-Q4  2002               0.9              -0.1    -4.697296   \n",
       "40  2003-Q1  2003               0.6              -0.3    -2.916053   \n",
       "41  2003-Q2  2003              -0.9               0.2    -4.197006   \n",
       "42  2003-Q3  2003               0.2               1.3    -1.984588   \n",
       "43  2003-Q4  2003              -0.4               1.0    -6.386645   \n",
       "44  2004-Q1  2004              -0.2               0.0     0.793833   \n",
       "45  2004-Q2  2004               1.6              -0.1     1.358292   \n",
       "46  2004-Q3  2004              -0.8              -0.8    -1.610360   \n",
       "47  2004-Q4  2004               0.8              -0.1    -7.462516   \n",
       "48  2005-Q1  2005              -0.2               0.6     3.970315   \n",
       "49  2005-Q2  2005              -0.6              -0.3     5.983821   \n",
       "50  2005-Q3  2005               2.2              -0.1     0.482658   \n",
       "51  2005-Q4  2005              -1.3              -0.4     1.843164   \n",
       "52  2006-Q1  2006               0.0               0.3    -1.579467   \n",
       "53  2006-Q2  2006               0.9              -0.3    -5.093057   \n",
       "54  2006-Q3  2006              -2.2              -0.7     1.021606   \n",
       "55  2006-Q4  2006               0.4               0.2    -2.766477   \n",
       "56  2007-Q1  2007               0.3              -1.1    -0.860729   \n",
       "57  2007-Q2  2007              -0.1               0.3    -1.217895   \n",
       "58  2007-Q3  2007               0.1               0.4    -5.128174   \n",
       "59  2007-Q4  2007               1.3              -0.2    -1.317567   \n",
       "60  2008-Q1  2008              -0.1              -0.9    -6.379816   \n",
       "61  2008-Q2  2008               1.0               0.0     0.920587   \n",
       "62  2008-Q3  2008              -0.1              -1.1     9.639402   \n",
       "63  2008-Q4  2008              -4.8              -2.8     2.341154   \n",
       "64  2009-Q1  2009              -0.5              -0.5     5.069612   \n",
       "65  2009-Q2  2009              -1.0              -0.6    -6.200398   \n",
       "66  2009-Q3  2009               0.1               0.9    -4.342780   \n",
       "67  2009-Q4  2009               4.0               3.2     1.574629   \n",
       "\n",
       "    gold returns  equity returns  bonds returns  commodities returns  \n",
       "1      11.533923       -0.276625       4.116866            -7.467700  \n",
       "2      -6.003703        1.941748       6.821330             0.788432  \n",
       "3       9.932470        1.428680      -7.655147            -7.782495  \n",
       "4       0.076785       -4.292417     -16.292717             4.177025  \n",
       "5      -1.202046       -0.280308      -8.637578             5.691492  \n",
       "6       2.057986        3.829876      -3.866120            -4.813103  \n",
       "7      -2.802790       -1.319850      -2.880442             5.449906  \n",
       "8       2.139875        9.979479       8.003068            -0.939434  \n",
       "9      -1.737353        8.575038      13.799333            -2.552668  \n",
       "10     -0.156006        7.495639       0.338546             3.778235  \n",
       "11      0.807292        5.129573       9.867357            12.378736  \n",
       "12      2.157065        5.209614     -13.549892             1.556238  \n",
       "13     -3.793147        3.744000      -6.069227            -0.068904  \n",
       "14     -0.538836        2.258402       0.119207            -0.632234  \n",
       "15     -2.827696        7.604809       4.251828             4.892603  \n",
       "16     -4.473756        1.904290      -7.556871           -10.604753  \n",
       "17     -4.925267       17.358804       5.838041            -3.772822  \n",
       "18      0.149723        6.864827       6.107692             8.945671  \n",
       "19    -13.574525        2.847682       5.915124           -12.943066  \n",
       "20      4.116935       13.264649       1.532567            -5.072229  \n",
       "21     -1.329124        3.069926       3.678811            -6.907417  \n",
       "22      0.000000      -10.204082      18.839515            -0.923780  \n",
       "23     -2.929786       21.191646      -5.158371           -13.492355  \n",
       "24     -2.844753        4.105423     -12.779690            15.724370  \n",
       "25     -6.266738        6.718598     -10.263258             6.123738  \n",
       "26     13.809524       -6.021898      -1.678201            16.956820  \n",
       "27     -3.598326       14.077670      -9.613749             1.818353  \n",
       "28     -3.097222        2.382979       6.799131             6.345470  \n",
       "29      3.744446       -3.387332      -0.449700            13.936577  \n",
       "30     -5.277519       -1.140064       3.797049             0.750741  \n",
       "..           ...             ...            ...                  ...  \n",
       "38      2.893942      -17.350445      25.067722            12.205162  \n",
       "39      7.572245        7.873823      -6.117909             3.352764  \n",
       "40     -3.045539       -3.955571       0.471698            -1.222730  \n",
       "41      2.652245       15.211234       7.451290             0.397798  \n",
       "42     11.244226        2.376319     -12.062589            -0.243736  \n",
       "43      7.811081       11.335668      -7.844631            11.996936  \n",
       "44      2.647731        1.635514       9.675141             8.282421  \n",
       "45     -7.550709        1.264368     -19.442273             1.500269  \n",
       "46      6.087508       -2.418580      10.080733            17.941872  \n",
       "47      4.829647        8.151396      -2.402330            -8.073098  \n",
       "48     -2.303569       -2.407545      -6.232227            23.562804  \n",
       "49      1.669196        1.034249      12.670087            -0.999473  \n",
       "50      7.761194        3.238798     -10.498084            23.637299  \n",
       "51     10.164074        1.194733      -1.548775            -8.058212  \n",
       "52     12.891683        4.272749     -10.380150             2.501057  \n",
       "53      5.517005       -2.002619      -5.959992             9.526438  \n",
       "54     -2.849720        4.990961       9.887116           -11.682460  \n",
       "55      6.418185        6.018865      -1.598272             1.306660  \n",
       "56      4.256322        0.268324       1.232993             7.948525  \n",
       "57     -2.131666        5.936620      -8.179079             4.493981  \n",
       "58     14.461633        1.429236       8.714684            11.648935  \n",
       "59     12.116729       -4.174859      12.271142            11.725349  \n",
       "60      9.979609       -9.739416      15.254658             9.627497  \n",
       "61      0.927037       -3.023414     -16.417473            28.986729  \n",
       "62     -5.883942       -9.368651       3.676656           -27.882417  \n",
       "63      1.274470      -22.200190      42.117647           -43.905939  \n",
       "64      4.228785      -11.879433     -20.370370             2.718329  \n",
       "65      0.777723       15.631288     -32.645403            25.574435  \n",
       "66      8.764166       14.834149       6.449788             2.783324  \n",
       "67      8.859780        5.540297     -16.087088            13.370776  \n",
       "\n",
       "[67 rows x 9 columns]"
      ]
     },
     "execution_count": 97,
     "metadata": {},
     "output_type": "execute_result"
    }
   ],
   "source": [
    "selected_timeframe_list = list(selected_timeframe)\n",
    "df_sub = data_point.loc[data_point['Year'].isin(selected_timeframe_list)]\n",
    "\n",
    "selected_assets_list = list(selected_assets)\n",
    "selected_assets_list = [ i + ' returns' for i in selected_assets_list]\n",
    "fields = ['Date' , 'Year' , 'delta_change_CPI' , 'delta_change_GDP'] + selected_assets_list\n",
    "\n",
    "df_sub  >>= select (fields)\n",
    "df_sub\n"
   ]
  },
  {
   "cell_type": "markdown",
   "metadata": {
    "extensions": {
     "jupyter_dashboards": {
      "version": 1,
      "views": {
       "grid_default": {
        "col": 0,
        "height": 4,
        "hidden": true,
        "row": 0,
        "width": 4
       },
       "report_default": {
        "hidden": false
       }
      }
     }
    }
   },
   "source": [
    "## Intuitive Correlation Matrix Plot Function:\n"
   ]
  },
  {
   "cell_type": "code",
   "execution_count": 98,
   "metadata": {
    "extensions": {
     "jupyter_dashboards": {
      "version": 1,
      "views": {
       "grid_default": {
        "hidden": true
       },
       "report_default": {
        "hidden": true
       }
      }
     }
    }
   },
   "outputs": [],
   "source": [
    "## Intuitive Correlation Matrix Plot Funtion:\n",
    "\n",
    "def my_heatmap( x , y , size , color , field_len , num_show ):\n",
    "    \n",
    "    fig, ax = plt.subplots()\n",
    "    \n",
    "    # Mapping from column names to integer coordinates\n",
    "    x_labels = [v for v in sorted(x.unique())]\n",
    "    y_labels = [v for v in sorted(y.unique())]\n",
    "    x_to_num = {p[1]:p[0] for p in enumerate(x_labels)} \n",
    "    y_to_num = {p[1]:p[0] for p in enumerate(y_labels)} \n",
    "    \n",
    "    size_scale = ( 350 / field_len ) ** 2\n",
    "    \n",
    "    n_colors = 256 # Use 256 colors for the diverging color palette\n",
    "    palette = sns.diverging_palette(20, 220, n=n_colors) # Create the palette\n",
    "    color_min, color_max = [-1, 1] # Range of values that will be mapped to the palette, i.e. min and max possible correlation\n",
    "\n",
    "    def value_to_color(val):\n",
    "        val_position = float((val - color_min)) / (color_max - color_min) # position of value in the input range, relative to the length of the input range\n",
    "        ind = int(val_position * (n_colors - 1)) # target index in the color palette\n",
    "        return palette[ind]\n",
    "    \n",
    "    plot_grid = plt.GridSpec(1, 15, hspace=0.2, wspace=0.1) # Setup a 1x15 grid\n",
    "    ax = plt.subplot(plot_grid[:,:-1]) # Use the leftmost 14 columns of the grid for the main plot\n",
    "    \n",
    "    ax.scatter(\n",
    "        x = x.map(x_to_num), # Use mapping for x\n",
    "        y = y.map(y_to_num), # Use mapping for y\n",
    "        s = size.abs() * size_scale, # Vector of square sizes, proportional to size parameter\n",
    "        c = color.apply(value_to_color), # Vector of square colors, mapped to color palette\n",
    "        marker='s' # Use square as scatterplot marker\n",
    "    )\n",
    "    \n",
    "    # Show column labels on the axes\n",
    "    ax.set_xticks([x_to_num[v] for v in x_labels])\n",
    "    ax.set_xticklabels(x_labels, rotation=45, horizontalalignment='right')\n",
    "    ax.set_yticks([y_to_num[v] for v in y_labels])\n",
    "    ax.set_yticklabels(y_labels)\n",
    "    \n",
    "    ax.grid(False, 'major') # Turn off major gridlines\n",
    "    ax.grid(True, 'minor') # Turn on minor gridlines\n",
    "    ax.set_xticks([t + 0.5 for t in ax.get_xticks()], minor=True) # Set gridlines to appear between integer coordinates\n",
    "    ax.set_yticks([t + 0.5 for t in ax.get_yticks()], minor=True) # Do the same for y axis\n",
    "    \n",
    "    ax.set_xlim([-0.5, max([v for v in x_to_num.values()]) + 0.5]) \n",
    "    ax.set_ylim([-0.5, max([v for v in y_to_num.values()]) + 0.5])\n",
    "    \n",
    "    ## Displaying the numerical values:\n",
    "    \n",
    "    if num_show == 'Yes':\n",
    "        \n",
    "            size_disp = [round(i,2) for i in size]\n",
    "\n",
    "            for i, txt in enumerate(size_disp):\n",
    "                ax.annotate(txt , (x.map(x_to_num)[i] , y.map(y_to_num)[i]) , fontsize = 150 / field_len)\n",
    "\n",
    "       \n",
    "    # Add color legend on the right side of the plot\n",
    "    ax = plt.subplot(plot_grid[:,-1]) # Use the rightmost column of the plot\n",
    "\n",
    "    col_x = [0]*len(palette) # Fixed x coordinate for the bars\n",
    "    y=np.linspace(color_min, color_max, n_colors) # y coordinates for each of the n_colors bars\n",
    "\n",
    "    bar_height = y[1] - y[0]\n",
    "    ax.barh(\n",
    "        y=y,\n",
    "        width=[5]*len(palette), # Make bars 5 units wide\n",
    "        left=col_x, # Make bars start at 0\n",
    "        height=bar_height,\n",
    "        color=palette,\n",
    "        linewidth=0\n",
    "    )\n",
    "    ax.set_xlim(1, 2) # Bars are going from 0 to 5, so lets crop the plot somewhere in the middle\n",
    "    ax.grid(False) # Hide grid\n",
    "    ax.set_facecolor('white') # Make background white\n",
    "    ax.set_xticks([]) # Remove horizontal ticks\n",
    "    ax.set_yticks(np.linspace(min(y), max(y), 3)) # Show vertical ticks for min, middle and max\n",
    "    ax.yaxis.tick_right() # Show vertical ticks on the right "
   ]
  },
  {
   "cell_type": "markdown",
   "metadata": {
    "extensions": {
     "jupyter_dashboards": {
      "version": 1,
      "views": {
       "grid_default": {
        "col": 0,
        "height": 4,
        "hidden": true,
        "row": 0,
        "width": 4
       },
       "report_default": {
        "hidden": false
       }
      }
     }
    }
   },
   "source": [
    "## Create a Correlation Matrix based on the 'Returns' Columns for the selected assets:"
   ]
  },
  {
   "cell_type": "code",
   "execution_count": 99,
   "metadata": {
    "extensions": {
     "jupyter_dashboards": {
      "version": 1,
      "views": {
       "grid_default": {
        "col": 5,
        "height": 19,
        "hidden": false,
        "row": 19,
        "width": 7
       },
       "report_default": {
        "hidden": true
       }
      }
     }
    }
   },
   "outputs": [
    {
     "data": {
      "image/png": "[encoded data removed]",
      "text/plain": [
       "<Figure size 842.4x595.44 with 2 Axes>"
      ]
     },
     "metadata": {},
     "output_type": "display_data"
    }
   ],
   "source": [
    "# Selected view type of the correlation matrix:\n",
    "\n",
    "sns.set(rc={'figure.figsize':(11.7,8.27)})\n",
    "corr_df = df_sub >> select (selected_assets_list) \n",
    "corr_df = corr_df.dropna()\n",
    "corr_in = corr_df.corr()\n",
    "corr = pd.melt(corr_in.reset_index(), id_vars='index') # Unpivot the dataframe, so we can get pair of arrays for x and y\n",
    "corr.columns = ['x', 'y', 'value']\n",
    "\n",
    "corr_plot_store = my_heatmap(x = corr['x'],\n",
    "                             y = corr['y'],\n",
    "                             size = corr['value'],\n",
    "                             color = corr['value'],\n",
    "                             field_len = len(fields),\n",
    "                             num_show = selected_corr_view)\n"
   ]
  },
  {
   "cell_type": "markdown",
   "metadata": {
    "extensions": {
     "jupyter_dashboards": {
      "version": 1,
      "views": {
       "grid_default": {
        "col": 0,
        "height": 4,
        "hidden": true,
        "row": 94,
        "width": 4
       },
       "report_default": {}
      }
     }
    }
   },
   "source": [
    "## Chart to track Regime Change over time:"
   ]
  },
  {
   "cell_type": "code",
   "execution_count": 100,
   "metadata": {
    "extensions": {
     "jupyter_dashboards": {
      "version": 1,
      "views": {
       "grid_default": {
        "col": 0,
        "height": 9,
        "hidden": false,
        "row": 10,
        "width": 12
       },
       "report_default": {}
      }
     }
    }
   },
   "outputs": [
    {
     "data": {
      "text/html": [
       "\n",
       "\n",
       "<style>\n",
       "\n",
       "</style>\n",
       "\n",
       "<div id=\"fig_el1810828247991894801941132635\"></div>\n",
       "<script>\n",
       "function mpld3_load_lib(url, callback){\n",
       "  var s = document.createElement('script');\n",
       "  s.src = url;\n",
       "  s.async = true;\n",
       "  s.onreadystatechange = s.onload = callback;\n",
       "  s.onerror = function(){console.warn(\"failed to load library \" + url);};\n",
       "  document.getElementsByTagName(\"head\")[0].appendChild(s);\n",
       "}\n",
       "\n",
       "if(typeof(mpld3) !== \"undefined\" && mpld3._mpld3IsLoaded){\n",
       "   // already loaded: just create the figure\n",
       "   !function(mpld3){\n",
       "       \n",
       "       mpld3.draw_figure(\"fig_el1810828247991894801941132635\", {\"width\": 1008.0, \"height\": 252.0, \"axes\": [{\"bbox\": [0.125, 0.125, 0.775, 0.755], \"xlim\": [-3.3000000000000003, 69.3], \"ylim\": [0.85, 4.15], \"xdomain\": [-3.3000000000000003, 69.3], \"ydomain\": [0.85, 4.15], \"xscale\": \"linear\", \"yscale\": \"linear\", \"axes\": [{\"position\": \"bottom\", \"nticks\": 67, \"tickvalues\": null, \"tickformat\": null, \"scale\": \"linear\", \"fontsize\": 1.0, \"grid\": {\"gridOn\": false}, \"visible\": true}, {\"position\": \"left\", \"nticks\": 4, \"tickvalues\": [1, 2, 3, 4], \"tickformat\": null, \"scale\": \"linear\", \"fontsize\": 18.0, \"grid\": {\"gridOn\": false}, \"visible\": true}], \"axesbg\": \"#EAEAF2\", \"axesbgalpha\": null, \"zoomable\": true, \"id\": \"el181082824805410408\", \"lines\": [{\"data\": \"data01\", \"xindex\": 0, \"yindex\": 1, \"coordinates\": \"data\", \"id\": \"el181082824801123520\", \"color\": \"#4C72B0\", \"linewidth\": 1.75, \"dasharray\": \"1.75,2.8874999999999997\", \"alpha\": 1, \"zorder\": 2, \"drawstyle\": \"default\"}], \"paths\": [], \"markers\": [{\"data\": \"data01\", \"xindex\": 0, \"yindex\": 1, \"coordinates\": \"data\", \"id\": \"el181082824801123520pts\", \"facecolor\": \"#4C72B0\", \"edgecolor\": \"#4C72B0\", \"edgewidth\": 0.0, \"alpha\": 1, \"zorder\": 2, \"markerpath\": [[[0.0, 3.5], [0.9282108500000001, 3.5], [1.8185295477469872, 3.131217920558846], [2.4748737341529163, 2.4748737341529163], [3.131217920558846, 1.8185295477469872], [3.5, 0.9282108500000001], [3.5, 0.0], [3.5, -0.9282108500000001], [3.131217920558846, -1.8185295477469872], [2.4748737341529163, -2.4748737341529163], [1.8185295477469872, -3.131217920558846], [0.9282108500000001, -3.5], [0.0, -3.5], [-0.9282108500000001, -3.5], [-1.8185295477469872, -3.131217920558846], [-2.4748737341529163, -2.4748737341529163], [-3.131217920558846, -1.8185295477469872], [-3.5, -0.9282108500000001], [-3.5, 0.0], [-3.5, 0.9282108500000001], [-3.131217920558846, 1.8185295477469872], [-2.4748737341529163, 2.4748737341529163], [-1.8185295477469872, 3.131217920558846], [-0.9282108500000001, 3.5], [0.0, 3.5]], [\"M\", \"C\", \"C\", \"C\", \"C\", \"C\", \"C\", \"C\", \"C\", \"Z\"]]}], \"texts\": [{\"text\": \"Time\", \"position\": [0.5, -0.08244621617112684], \"coordinates\": \"axes\", \"h_anchor\": \"middle\", \"v_baseline\": \"hanging\", \"rotation\": -0.0, \"fontsize\": 10.0, \"color\": \"#262626\", \"alpha\": 1, \"zorder\": 3, \"id\": \"el181082824802551008\"}, {\"text\": \"Regime\", \"position\": [-0.028161802355350735, 0.5], \"coordinates\": \"axes\", \"h_anchor\": \"middle\", \"v_baseline\": \"auto\", \"rotation\": -90.0, \"fontsize\": 10.0, \"color\": \"#262626\", \"alpha\": 1, \"zorder\": 3, \"id\": \"el181082824805052256\"}, {\"text\": \"Regime Changes over Time with GDP and PCE\", \"position\": [0.5, 1.0315357931251972], \"coordinates\": \"axes\", \"h_anchor\": \"middle\", \"v_baseline\": \"auto\", \"rotation\": -0.0, \"fontsize\": 18.0, \"color\": \"#262626\", \"alpha\": 1, \"zorder\": 3, \"id\": \"el181082824801096648\"}], \"collections\": [], \"images\": [], \"sharex\": [], \"sharey\": []}], \"data\": {\"data01\": [[0.0, 3.0], [1.0, 3.0], [2.0, 1.0], [3.0, 2.0], [4.0, 1.0], [5.0, 1.0], [6.0, 3.0], [7.0, 4.0], [8.0, 4.0], [9.0, 2.0], [10.0, 4.0], [11.0, 1.0], [12.0, 1.0], [13.0, 1.0], [14.0, 1.0], [15.0, 3.0], [16.0, 2.0], [17.0, 2.0], [18.0, 3.0], [19.0, 2.0], [20.0, 4.0], [21.0, 2.0], [22.0, 1.0], [23.0, 4.0], [24.0, 4.0], [25.0, 1.0], [26.0, 1.0], [27.0, 4.0], [28.0, 2.0], [29.0, 3.0], [30.0, 3.0], [31.0, 3.0], [32.0, 4.0], [33.0, 3.0], [34.0, 3.0], [35.0, 2.0], [36.0, 2.0], [37.0, 1.0], [38.0, 4.0], [39.0, 4.0], [40.0, 2.0], [41.0, 1.0], [42.0, 2.0], [43.0, 2.0], [44.0, 4.0], [45.0, 3.0], [46.0, 4.0], [47.0, 2.0], [48.0, 3.0], [49.0, 4.0], [50.0, 3.0], [51.0, 1.0], [52.0, 4.0], [53.0, 3.0], [54.0, 1.0], [55.0, 4.0], [56.0, 2.0], [57.0, 1.0], [58.0, 4.0], [59.0, 3.0], [60.0, 1.0], [61.0, 3.0], [62.0, 3.0], [63.0, 3.0], [64.0, 3.0], [65.0, 1.0], [66.0, 1.0]]}, \"id\": \"el181082824799189480\", \"plugins\": [{\"type\": \"reset\"}, {\"type\": \"zoom\", \"button\": true, \"enabled\": false}, {\"type\": \"boxzoom\", \"button\": true, \"enabled\": false}, {\"type\": \"tooltip\", \"id\": \"el181082824801123520pts\", \"labels\": [\"1993-Q2\", \"1993-Q3\", \"1993-Q4\", \"1994-Q1\", \"1994-Q2\", \"1994-Q3\", \"1994-Q4\", \"1995-Q1\", \"1995-Q2\", \"1995-Q3\", \"1995-Q4\", \"1996-Q1\", \"1996-Q2\", \"1996-Q3\", \"1996-Q4\", \"1997-Q1\", \"1997-Q2\", \"1997-Q3\", \"1997-Q4\", \"1998-Q1\", \"1998-Q2\", \"1998-Q3\", \"1998-Q4\", \"1999-Q1\", \"1999-Q2\", \"1999-Q3\", \"1999-Q4\", \"2000-Q1\", \"2000-Q2\", \"2000-Q3\", \"2000-Q4\", \"2001-Q1\", \"2001-Q2\", \"2001-Q3\", \"2001-Q4\", \"2002-Q1\", \"2002-Q2\", \"2002-Q3\", \"2002-Q4\", \"2003-Q1\", \"2003-Q2\", \"2003-Q3\", \"2003-Q4\", \"2004-Q1\", \"2004-Q2\", \"2004-Q3\", \"2004-Q4\", \"2005-Q1\", \"2005-Q2\", \"2005-Q3\", \"2005-Q4\", \"2006-Q1\", \"2006-Q2\", \"2006-Q3\", \"2006-Q4\", \"2007-Q1\", \"2007-Q2\", \"2007-Q3\", \"2007-Q4\", \"2008-Q1\", \"2008-Q2\", \"2008-Q3\", \"2008-Q4\", \"2009-Q1\", \"2009-Q2\", \"2009-Q3\", \"2009-Q4\"], \"hoffset\": 0, \"voffset\": 10, \"location\": \"mouse\"}]});\n",
       "   }(mpld3);\n",
       "}else if(typeof define === \"function\" && define.amd){\n",
       "   // require.js is available: use it to load d3/mpld3\n",
       "   require.config({paths: {d3: \"https://mpld3.github.io/js/d3.v3.min\"}});\n",
       "   require([\"d3\"], function(d3){\n",
       "      window.d3 = d3;\n",
       "      mpld3_load_lib(\"https://mpld3.github.io/js/mpld3.v0.3.js\", function(){\n",
       "         \n",
       "         mpld3.draw_figure(\"fig_el1810828247991894801941132635\", {\"width\": 1008.0, \"height\": 252.0, \"axes\": [{\"bbox\": [0.125, 0.125, 0.775, 0.755], \"xlim\": [-3.3000000000000003, 69.3], \"ylim\": [0.85, 4.15], \"xdomain\": [-3.3000000000000003, 69.3], \"ydomain\": [0.85, 4.15], \"xscale\": \"linear\", \"yscale\": \"linear\", \"axes\": [{\"position\": \"bottom\", \"nticks\": 67, \"tickvalues\": null, \"tickformat\": null, \"scale\": \"linear\", \"fontsize\": 1.0, \"grid\": {\"gridOn\": false}, \"visible\": true}, {\"position\": \"left\", \"nticks\": 4, \"tickvalues\": [1, 2, 3, 4], \"tickformat\": null, \"scale\": \"linear\", \"fontsize\": 18.0, \"grid\": {\"gridOn\": false}, \"visible\": true}], \"axesbg\": \"#EAEAF2\", \"axesbgalpha\": null, \"zoomable\": true, \"id\": \"el181082824805410408\", \"lines\": [{\"data\": \"data01\", \"xindex\": 0, \"yindex\": 1, \"coordinates\": \"data\", \"id\": \"el181082824801123520\", \"color\": \"#4C72B0\", \"linewidth\": 1.75, \"dasharray\": \"1.75,2.8874999999999997\", \"alpha\": 1, \"zorder\": 2, \"drawstyle\": \"default\"}], \"paths\": [], \"markers\": [{\"data\": \"data01\", \"xindex\": 0, \"yindex\": 1, \"coordinates\": \"data\", \"id\": \"el181082824801123520pts\", \"facecolor\": \"#4C72B0\", \"edgecolor\": \"#4C72B0\", \"edgewidth\": 0.0, \"alpha\": 1, \"zorder\": 2, \"markerpath\": [[[0.0, 3.5], [0.9282108500000001, 3.5], [1.8185295477469872, 3.131217920558846], [2.4748737341529163, 2.4748737341529163], [3.131217920558846, 1.8185295477469872], [3.5, 0.9282108500000001], [3.5, 0.0], [3.5, -0.9282108500000001], [3.131217920558846, -1.8185295477469872], [2.4748737341529163, -2.4748737341529163], [1.8185295477469872, -3.131217920558846], [0.9282108500000001, -3.5], [0.0, -3.5], [-0.9282108500000001, -3.5], [-1.8185295477469872, -3.131217920558846], [-2.4748737341529163, -2.4748737341529163], [-3.131217920558846, -1.8185295477469872], [-3.5, -0.9282108500000001], [-3.5, 0.0], [-3.5, 0.9282108500000001], [-3.131217920558846, 1.8185295477469872], [-2.4748737341529163, 2.4748737341529163], [-1.8185295477469872, 3.131217920558846], [-0.9282108500000001, 3.5], [0.0, 3.5]], [\"M\", \"C\", \"C\", \"C\", \"C\", \"C\", \"C\", \"C\", \"C\", \"Z\"]]}], \"texts\": [{\"text\": \"Time\", \"position\": [0.5, -0.08244621617112684], \"coordinates\": \"axes\", \"h_anchor\": \"middle\", \"v_baseline\": \"hanging\", \"rotation\": -0.0, \"fontsize\": 10.0, \"color\": \"#262626\", \"alpha\": 1, \"zorder\": 3, \"id\": \"el181082824802551008\"}, {\"text\": \"Regime\", \"position\": [-0.028161802355350735, 0.5], \"coordinates\": \"axes\", \"h_anchor\": \"middle\", \"v_baseline\": \"auto\", \"rotation\": -90.0, \"fontsize\": 10.0, \"color\": \"#262626\", \"alpha\": 1, \"zorder\": 3, \"id\": \"el181082824805052256\"}, {\"text\": \"Regime Changes over Time with GDP and PCE\", \"position\": [0.5, 1.0315357931251972], \"coordinates\": \"axes\", \"h_anchor\": \"middle\", \"v_baseline\": \"auto\", \"rotation\": -0.0, \"fontsize\": 18.0, \"color\": \"#262626\", \"alpha\": 1, \"zorder\": 3, \"id\": \"el181082824801096648\"}], \"collections\": [], \"images\": [], \"sharex\": [], \"sharey\": []}], \"data\": {\"data01\": [[0.0, 3.0], [1.0, 3.0], [2.0, 1.0], [3.0, 2.0], [4.0, 1.0], [5.0, 1.0], [6.0, 3.0], [7.0, 4.0], [8.0, 4.0], [9.0, 2.0], [10.0, 4.0], [11.0, 1.0], [12.0, 1.0], [13.0, 1.0], [14.0, 1.0], [15.0, 3.0], [16.0, 2.0], [17.0, 2.0], [18.0, 3.0], [19.0, 2.0], [20.0, 4.0], [21.0, 2.0], [22.0, 1.0], [23.0, 4.0], [24.0, 4.0], [25.0, 1.0], [26.0, 1.0], [27.0, 4.0], [28.0, 2.0], [29.0, 3.0], [30.0, 3.0], [31.0, 3.0], [32.0, 4.0], [33.0, 3.0], [34.0, 3.0], [35.0, 2.0], [36.0, 2.0], [37.0, 1.0], [38.0, 4.0], [39.0, 4.0], [40.0, 2.0], [41.0, 1.0], [42.0, 2.0], [43.0, 2.0], [44.0, 4.0], [45.0, 3.0], [46.0, 4.0], [47.0, 2.0], [48.0, 3.0], [49.0, 4.0], [50.0, 3.0], [51.0, 1.0], [52.0, 4.0], [53.0, 3.0], [54.0, 1.0], [55.0, 4.0], [56.0, 2.0], [57.0, 1.0], [58.0, 4.0], [59.0, 3.0], [60.0, 1.0], [61.0, 3.0], [62.0, 3.0], [63.0, 3.0], [64.0, 3.0], [65.0, 1.0], [66.0, 1.0]]}, \"id\": \"el181082824799189480\", \"plugins\": [{\"type\": \"reset\"}, {\"type\": \"zoom\", \"button\": true, \"enabled\": false}, {\"type\": \"boxzoom\", \"button\": true, \"enabled\": false}, {\"type\": \"tooltip\", \"id\": \"el181082824801123520pts\", \"labels\": [\"1993-Q2\", \"1993-Q3\", \"1993-Q4\", \"1994-Q1\", \"1994-Q2\", \"1994-Q3\", \"1994-Q4\", \"1995-Q1\", \"1995-Q2\", \"1995-Q3\", \"1995-Q4\", \"1996-Q1\", \"1996-Q2\", \"1996-Q3\", \"1996-Q4\", \"1997-Q1\", \"1997-Q2\", \"1997-Q3\", \"1997-Q4\", \"1998-Q1\", \"1998-Q2\", \"1998-Q3\", \"1998-Q4\", \"1999-Q1\", \"1999-Q2\", \"1999-Q3\", \"1999-Q4\", \"2000-Q1\", \"2000-Q2\", \"2000-Q3\", \"2000-Q4\", \"2001-Q1\", \"2001-Q2\", \"2001-Q3\", \"2001-Q4\", \"2002-Q1\", \"2002-Q2\", \"2002-Q3\", \"2002-Q4\", \"2003-Q1\", \"2003-Q2\", \"2003-Q3\", \"2003-Q4\", \"2004-Q1\", \"2004-Q2\", \"2004-Q3\", \"2004-Q4\", \"2005-Q1\", \"2005-Q2\", \"2005-Q3\", \"2005-Q4\", \"2006-Q1\", \"2006-Q2\", \"2006-Q3\", \"2006-Q4\", \"2007-Q1\", \"2007-Q2\", \"2007-Q3\", \"2007-Q4\", \"2008-Q1\", \"2008-Q2\", \"2008-Q3\", \"2008-Q4\", \"2009-Q1\", \"2009-Q2\", \"2009-Q3\", \"2009-Q4\"], \"hoffset\": 0, \"voffset\": 10, \"location\": \"mouse\"}]});\n",
       "      });\n",
       "    });\n",
       "}else{\n",
       "    // require.js not available: dynamically load d3 & mpld3\n",
       "    mpld3_load_lib(\"https://mpld3.github.io/js/d3.v3.min.js\", function(){\n",
       "         mpld3_load_lib(\"https://mpld3.github.io/js/mpld3.v0.3.js\", function(){\n",
       "                 \n",
       "                 mpld3.draw_figure(\"fig_el1810828247991894801941132635\", {\"width\": 1008.0, \"height\": 252.0, \"axes\": [{\"bbox\": [0.125, 0.125, 0.775, 0.755], \"xlim\": [-3.3000000000000003, 69.3], \"ylim\": [0.85, 4.15], \"xdomain\": [-3.3000000000000003, 69.3], \"ydomain\": [0.85, 4.15], \"xscale\": \"linear\", \"yscale\": \"linear\", \"axes\": [{\"position\": \"bottom\", \"nticks\": 67, \"tickvalues\": null, \"tickformat\": null, \"scale\": \"linear\", \"fontsize\": 1.0, \"grid\": {\"gridOn\": false}, \"visible\": true}, {\"position\": \"left\", \"nticks\": 4, \"tickvalues\": [1, 2, 3, 4], \"tickformat\": null, \"scale\": \"linear\", \"fontsize\": 18.0, \"grid\": {\"gridOn\": false}, \"visible\": true}], \"axesbg\": \"#EAEAF2\", \"axesbgalpha\": null, \"zoomable\": true, \"id\": \"el181082824805410408\", \"lines\": [{\"data\": \"data01\", \"xindex\": 0, \"yindex\": 1, \"coordinates\": \"data\", \"id\": \"el181082824801123520\", \"color\": \"#4C72B0\", \"linewidth\": 1.75, \"dasharray\": \"1.75,2.8874999999999997\", \"alpha\": 1, \"zorder\": 2, \"drawstyle\": \"default\"}], \"paths\": [], \"markers\": [{\"data\": \"data01\", \"xindex\": 0, \"yindex\": 1, \"coordinates\": \"data\", \"id\": \"el181082824801123520pts\", \"facecolor\": \"#4C72B0\", \"edgecolor\": \"#4C72B0\", \"edgewidth\": 0.0, \"alpha\": 1, \"zorder\": 2, \"markerpath\": [[[0.0, 3.5], [0.9282108500000001, 3.5], [1.8185295477469872, 3.131217920558846], [2.4748737341529163, 2.4748737341529163], [3.131217920558846, 1.8185295477469872], [3.5, 0.9282108500000001], [3.5, 0.0], [3.5, -0.9282108500000001], [3.131217920558846, -1.8185295477469872], [2.4748737341529163, -2.4748737341529163], [1.8185295477469872, -3.131217920558846], [0.9282108500000001, -3.5], [0.0, -3.5], [-0.9282108500000001, -3.5], [-1.8185295477469872, -3.131217920558846], [-2.4748737341529163, -2.4748737341529163], [-3.131217920558846, -1.8185295477469872], [-3.5, -0.9282108500000001], [-3.5, 0.0], [-3.5, 0.9282108500000001], [-3.131217920558846, 1.8185295477469872], [-2.4748737341529163, 2.4748737341529163], [-1.8185295477469872, 3.131217920558846], [-0.9282108500000001, 3.5], [0.0, 3.5]], [\"M\", \"C\", \"C\", \"C\", \"C\", \"C\", \"C\", \"C\", \"C\", \"Z\"]]}], \"texts\": [{\"text\": \"Time\", \"position\": [0.5, -0.08244621617112684], \"coordinates\": \"axes\", \"h_anchor\": \"middle\", \"v_baseline\": \"hanging\", \"rotation\": -0.0, \"fontsize\": 10.0, \"color\": \"#262626\", \"alpha\": 1, \"zorder\": 3, \"id\": \"el181082824802551008\"}, {\"text\": \"Regime\", \"position\": [-0.028161802355350735, 0.5], \"coordinates\": \"axes\", \"h_anchor\": \"middle\", \"v_baseline\": \"auto\", \"rotation\": -90.0, \"fontsize\": 10.0, \"color\": \"#262626\", \"alpha\": 1, \"zorder\": 3, \"id\": \"el181082824805052256\"}, {\"text\": \"Regime Changes over Time with GDP and PCE\", \"position\": [0.5, 1.0315357931251972], \"coordinates\": \"axes\", \"h_anchor\": \"middle\", \"v_baseline\": \"auto\", \"rotation\": -0.0, \"fontsize\": 18.0, \"color\": \"#262626\", \"alpha\": 1, \"zorder\": 3, \"id\": \"el181082824801096648\"}], \"collections\": [], \"images\": [], \"sharex\": [], \"sharey\": []}], \"data\": {\"data01\": [[0.0, 3.0], [1.0, 3.0], [2.0, 1.0], [3.0, 2.0], [4.0, 1.0], [5.0, 1.0], [6.0, 3.0], [7.0, 4.0], [8.0, 4.0], [9.0, 2.0], [10.0, 4.0], [11.0, 1.0], [12.0, 1.0], [13.0, 1.0], [14.0, 1.0], [15.0, 3.0], [16.0, 2.0], [17.0, 2.0], [18.0, 3.0], [19.0, 2.0], [20.0, 4.0], [21.0, 2.0], [22.0, 1.0], [23.0, 4.0], [24.0, 4.0], [25.0, 1.0], [26.0, 1.0], [27.0, 4.0], [28.0, 2.0], [29.0, 3.0], [30.0, 3.0], [31.0, 3.0], [32.0, 4.0], [33.0, 3.0], [34.0, 3.0], [35.0, 2.0], [36.0, 2.0], [37.0, 1.0], [38.0, 4.0], [39.0, 4.0], [40.0, 2.0], [41.0, 1.0], [42.0, 2.0], [43.0, 2.0], [44.0, 4.0], [45.0, 3.0], [46.0, 4.0], [47.0, 2.0], [48.0, 3.0], [49.0, 4.0], [50.0, 3.0], [51.0, 1.0], [52.0, 4.0], [53.0, 3.0], [54.0, 1.0], [55.0, 4.0], [56.0, 2.0], [57.0, 1.0], [58.0, 4.0], [59.0, 3.0], [60.0, 1.0], [61.0, 3.0], [62.0, 3.0], [63.0, 3.0], [64.0, 3.0], [65.0, 1.0], [66.0, 1.0]]}, \"id\": \"el181082824799189480\", \"plugins\": [{\"type\": \"reset\"}, {\"type\": \"zoom\", \"button\": true, \"enabled\": false}, {\"type\": \"boxzoom\", \"button\": true, \"enabled\": false}, {\"type\": \"tooltip\", \"id\": \"el181082824801123520pts\", \"labels\": [\"1993-Q2\", \"1993-Q3\", \"1993-Q4\", \"1994-Q1\", \"1994-Q2\", \"1994-Q3\", \"1994-Q4\", \"1995-Q1\", \"1995-Q2\", \"1995-Q3\", \"1995-Q4\", \"1996-Q1\", \"1996-Q2\", \"1996-Q3\", \"1996-Q4\", \"1997-Q1\", \"1997-Q2\", \"1997-Q3\", \"1997-Q4\", \"1998-Q1\", \"1998-Q2\", \"1998-Q3\", \"1998-Q4\", \"1999-Q1\", \"1999-Q2\", \"1999-Q3\", \"1999-Q4\", \"2000-Q1\", \"2000-Q2\", \"2000-Q3\", \"2000-Q4\", \"2001-Q1\", \"2001-Q2\", \"2001-Q3\", \"2001-Q4\", \"2002-Q1\", \"2002-Q2\", \"2002-Q3\", \"2002-Q4\", \"2003-Q1\", \"2003-Q2\", \"2003-Q3\", \"2003-Q4\", \"2004-Q1\", \"2004-Q2\", \"2004-Q3\", \"2004-Q4\", \"2005-Q1\", \"2005-Q2\", \"2005-Q3\", \"2005-Q4\", \"2006-Q1\", \"2006-Q2\", \"2006-Q3\", \"2006-Q4\", \"2007-Q1\", \"2007-Q2\", \"2007-Q3\", \"2007-Q4\", \"2008-Q1\", \"2008-Q2\", \"2008-Q3\", \"2008-Q4\", \"2009-Q1\", \"2009-Q2\", \"2009-Q3\", \"2009-Q4\"], \"hoffset\": 0, \"voffset\": 10, \"location\": \"mouse\"}]});\n",
       "            })\n",
       "         });\n",
       "}\n",
       "</script>"
      ],
      "text/plain": [
       "<IPython.core.display.HTML object>"
      ]
     },
     "execution_count": 100,
     "metadata": {},
     "output_type": "execute_result"
    }
   ],
   "source": [
    "## Plotting the presence in regimes over time:  \n",
    "plot_subset_list = ['Date' , 'quadrant_number']\n",
    "\n",
    "df_plot = data_point.loc[data_point['Year'].isin(selected_timeframe_list)]\n",
    "df_plot >>= select (plot_subset_list) ## Subset the dataframe\n",
    "\n",
    "q = df_plot['Date']\n",
    "q = q.tolist()\n",
    "r = df_plot['quadrant_number']\n",
    "r = r.tolist()\n",
    "\n",
    "fig, ax = plt.subplots()\n",
    "\n",
    "line = plt.plot(q , r , marker = 'o' , linestyle = ':')\n",
    "\n",
    "plt.xticks(rotation = 60)\n",
    "ax.grid()\n",
    "fig.set_size_inches(14 , 3.5)\n",
    "\n",
    "plt.xlabel('Time'  , labelpad=5, fontsize=10)\n",
    "plt.ylabel('Regime', labelpad=5, fontsize=10)\n",
    "plt.title('Regime Changes over Time with GDP and PCE' , fontsize = 18)\n",
    "plt.yticks([1 , 2 , 3 , 4] , fontsize = 18)\n",
    "n = 7  # Keeps every 7th label in the x-axis\n",
    "[l.set_visible(False) for (i,l) in enumerate(ax.xaxis.get_ticklabels()) if i % n != 0]\n",
    "plt.xticks( fontsize = .001)\n",
    "\n",
    "\n",
    "#plt.show()\n",
    "#plt.figure(figsize=(25,3))\n",
    "mpld3.plugins.connect(fig, mpld3.plugins.PointLabelTooltip( line[0] , labels = q))\n",
    "mpld3.display()\n"
   ]
  },
  {
   "cell_type": "markdown",
   "metadata": {
    "extensions": {
     "jupyter_dashboards": {
      "version": 1,
      "views": {
       "grid_default": {
        "col": 8,
        "height": 4,
        "hidden": true,
        "row": 70,
        "width": 4
       },
       "report_default": {}
      }
     }
    }
   },
   "source": [
    "## Hierarchical Pie Chart"
   ]
  },
  {
   "cell_type": "code",
   "execution_count": 101,
   "metadata": {
    "extensions": {
     "jupyter_dashboards": {
      "version": 1,
      "views": {
       "grid_default": {
        "col": 0,
        "height": 67,
        "hidden": true,
        "row": 116,
        "width": 10
       },
       "report_default": {}
      }
     }
    }
   },
   "outputs": [],
   "source": [
    "### Dataframe for quadrant after another, hpie:\n",
    "## Use the same plotting Dataframe created before:\n",
    "df_hpie = df_plot.copy()\n",
    "df_hpie.columns = ['Quarter' , 'Regime_lag_0']\n",
    "req_history = 10 ## Required history of Regimes. Specify max . number of quarters to go back\n",
    "\n",
    "# Preparatory:\n",
    "for i in range(1, req_history + 1):\n",
    "    curr_col = \"Regime_lag_\" + str(i)\n",
    "    prev_col = \"Regime_lag_\" + str(i-1)\n",
    "    df_hpie[curr_col] = df_hpie[prev_col].shift(-1)\n",
    "    \n",
    "# #df_hpie = df_hpie[df_hpie['Regime_lag_0'] != 'Nil_future'] ## Remove future dates\n",
    "\n",
    "# #df_hpie = df_hpie.iloc[::-1] ## Reorder the dataframe so that the oldest date is plotted first\n",
    "\n",
    "lvl_count = 3 ## Specify the numbers of qtrs we want to go back (including current) -- change later to widget input\n",
    "\n",
    "df_hpie_out = pd.DataFrame() # Initialize an empty dataframe, reqd for the hierarchical pie chart\n",
    "\n",
    "# # for i in range (1 , lvl_count + 1):\n",
    "\n",
    "# #     Regime_list = [\"Regime_lag_\" + str(j) for j in range( 0 , i )] # List of the regimes which fall in this\n",
    "\n",
    "# #     df_hpie_sub = df_hpie >> select(['Quarter'] + Regime_list)\n",
    "# #     df_hpie_piv = pd.pivot_table(df_hpie_sub , values = 'Quarter', index = Regime_list , aggfunc = 'count')\n",
    "# #     df_hpie_piv = df_hpie_piv.reset_index()\n",
    "\n",
    "# #     df_hpie_piv = df_hpie_piv[df_hpie_piv.columns[::-1]] ## Reverse the order of columns \n",
    "\n",
    "# #     df_hpie_list = list(df_hpie_piv.columns[1:]) ## Create a list of the levels\n",
    "# #     df_hpie_piv = df_hpie_piv.astype(str)\n",
    "\n",
    "# #     df_hpie_piv['dictionary_key'] = df_hpie_piv[ df_hpie_list ].apply(lambda x: '/'.join(x), axis = 1) \n",
    "# #     df_hpie_piv >>= select(X.dictionary_key , X.Quarter)\n",
    "# #     df_hpie_piv['Quarter'] = pd.to_numeric( df_hpie_piv['Quarter'] )\n",
    "\n",
    "# #     df_hpie_piv = df_hpie_piv.set_index('dictionary_key')\n",
    "   \n",
    "# #     df_test = pd.concat([df_test, df_hpie_piv])\n",
    "    \n",
    "    \n",
    "Regime_list = [\"Regime_lag_\" + str(j) for j in range( 0 , lvl_count )] # List of the regimes which fall in this\n",
    "\n",
    "df_hpie_sub = df_hpie >> select(['Quarter'] + Regime_list)\n",
    "df_hpie_piv = pd.pivot_table(df_hpie_sub , values = 'Quarter', index = Regime_list , aggfunc = 'count')\n",
    "df_hpie_piv = df_hpie_piv.reset_index()\n",
    "\n",
    "df_hpie_piv = df_hpie_piv[df_hpie_piv.columns[::-1]] ## Reverse the order of columns \n",
    "\n",
    "df_hpie_list = list(df_hpie_piv.columns[1:]) ## Create a list of the levels\n",
    "df_hpie_piv = df_hpie_piv.astype(str)\n",
    "\n",
    "df_hpie_piv['dictionary_key'] = df_hpie_piv[ df_hpie_list ].apply(lambda x: '/'.join(x), axis = 1) \n",
    "df_hpie_piv >>= select(X.dictionary_key , X.Quarter)\n",
    "df_hpie_piv['Quarter'] = pd.to_numeric( df_hpie_piv['Quarter'] )\n",
    "\n",
    "df_hpie_piv = df_hpie_piv.set_index('dictionary_key')\n",
    "\n",
    "df_hpie_out = pd.concat([df_hpie_out, df_hpie_piv])\n",
    "  \n",
    "    \n",
    "## Convert the dataframe output into a dictionary for input into the HPie Chart:\n",
    "hpie_dict = df_hpie_out.to_dict()    \n",
    "hpie_dict = list(hpie_dict.values())\n",
    "hpie_dict = hpie_dict[0]\n",
    "\n",
    "#hpie_dict\n",
    "\n"
   ]
  },
  {
   "cell_type": "code",
   "execution_count": 102,
   "metadata": {
    "extensions": {
     "jupyter_dashboards": {
      "version": 1,
      "views": {
       "grid_default": {
        "col": 0,
        "height": 16,
        "hidden": false,
        "row": 19,
        "width": 5
       },
       "report_default": {}
      }
     }
    }
   },
   "outputs": [
    {
     "data": {
      "image/png": "[encoded data removed]",
      "text/plain": [
       "<Figure size 842.4x595.44 with 1 Axes>"
      ]
     },
     "metadata": {},
     "output_type": "display_data"
    }
   ],
   "source": [
    "from hpie import HPie, stringvalues_to_pv\n",
    "\n",
    "fig, ax = plt.subplots()\n",
    "\n",
    "# # set up some random data\n",
    "# a = {\n",
    "#     'ipsum':                      40.45,\n",
    "#     'ipsum/eirmod':               29.34,\n",
    "#     'ipsum/eirmod/dolor':         94.4,\n",
    "#     'lorem':                      36.12,\n",
    "#     'lorem/sadipscing/dolor':     44.32,\n",
    "#     'lorem/sadipscing/lorem':     37.15,\n",
    "#     'lorem/sadipscing/nonumy':    23.98,\n",
    "#     'lorem/eirmod':               11.12,\n",
    "#     'lorem/eirmod/lorem':         45.65,\n",
    "#     'lorem/sadipscing':           79.67,\n",
    "# }\n",
    "data = stringvalues_to_pv(hpie_dict)\n",
    "\n",
    "hp = HPie( data , ax )\n",
    "\n",
    "# set plot attributes\n",
    "\n",
    "hp.plot(setup_axes = True )\n",
    "ax.set_title('Regime Changes across Quarters')\n",
    "\n",
    "# save/show plot\n",
    "\n",
    "plt.show()\n",
    "\n"
   ]
  },
  {
   "cell_type": "markdown",
   "metadata": {
    "extensions": {
     "jupyter_dashboards": {
      "version": 1,
      "views": {
       "grid_default": {
        "col": 0,
        "height": 5,
        "hidden": true,
        "row": 93,
        "width": 12
       },
       "report_default": {}
      }
     }
    }
   },
   "source": [
    "# Creating a data frame - ' returns_data' \n",
    "\n",
    "# returns_data will help you look into the average returns of all the asset classes when they are falling into a particular regime"
   ]
  },
  {
   "cell_type": "code",
   "execution_count": 103,
   "metadata": {
    "extensions": {
     "jupyter_dashboards": {
      "version": 1,
      "views": {
       "grid_default": {
        "hidden": true
       },
       "report_default": {}
      }
     }
    }
   },
   "outputs": [
    {
     "ename": "AttributeError",
     "evalue": "'list' object has no attribute 'dtype'",
     "output_type": "error",
     "traceback": [
      "\u001b[1;31m---------------------------------------------------------------------------\u001b[0m",
      "\u001b[1;31mAttributeError\u001b[0m                            Traceback (most recent call last)",
      "\u001b[1;32m<ipython-input-103-da08815b5d56>\u001b[0m in \u001b[0;36m<module>\u001b[1;34m()\u001b[0m\n\u001b[0;32m     62\u001b[0m \u001b[1;33m\u001b[0m\u001b[0m\n\u001b[0;32m     63\u001b[0m \u001b[1;33m\u001b[0m\u001b[0m\n\u001b[1;32m---> 64\u001b[1;33m \u001b[0mavg_gold_1\u001b[0m \u001b[1;33m=\u001b[0m \u001b[0mmean\u001b[0m\u001b[1;33m(\u001b[0m\u001b[0mgold_returns_1\u001b[0m\u001b[1;33m)\u001b[0m\u001b[1;33m\u001b[0m\u001b[0m\n\u001b[0m\u001b[0;32m     65\u001b[0m \u001b[0mavg_bond_1\u001b[0m \u001b[1;33m=\u001b[0m \u001b[0mmean\u001b[0m\u001b[1;33m(\u001b[0m\u001b[0mbond_returns_1\u001b[0m\u001b[1;33m)\u001b[0m\u001b[1;33m\u001b[0m\u001b[0m\n\u001b[0;32m     66\u001b[0m \u001b[0mavg_equity_1\u001b[0m \u001b[1;33m=\u001b[0m \u001b[0mmean\u001b[0m\u001b[1;33m(\u001b[0m\u001b[0mequity_returns_1\u001b[0m\u001b[1;33m)\u001b[0m\u001b[1;33m\u001b[0m\u001b[0m\n",
      "\u001b[1;32m~\\Anaconda3\\lib\\site-packages\\dfply\\base.py\u001b[0m in \u001b[0;36mwrapper\u001b[1;34m(*args, **kwargs)\u001b[0m\n\u001b[0;32m     58\u001b[0m             \u001b[1;32mreturn\u001b[0m \u001b[0mIntention\u001b[0m\u001b[1;33m(\u001b[0m\u001b[0mdelayed\u001b[0m\u001b[1;33m)\u001b[0m\u001b[1;33m\u001b[0m\u001b[0m\n\u001b[0;32m     59\u001b[0m         \u001b[1;32melse\u001b[0m\u001b[1;33m:\u001b[0m\u001b[1;33m\u001b[0m\u001b[0m\n\u001b[1;32m---> 60\u001b[1;33m             \u001b[1;32mreturn\u001b[0m \u001b[0mf\u001b[0m\u001b[1;33m(\u001b[0m\u001b[1;33m*\u001b[0m\u001b[0margs\u001b[0m\u001b[1;33m,\u001b[0m \u001b[1;33m**\u001b[0m\u001b[0mkwargs\u001b[0m\u001b[1;33m)\u001b[0m\u001b[1;33m\u001b[0m\u001b[0m\n\u001b[0m\u001b[0;32m     61\u001b[0m \u001b[1;33m\u001b[0m\u001b[0m\n\u001b[0;32m     62\u001b[0m     \u001b[1;32mreturn\u001b[0m \u001b[0mwrapper\u001b[0m\u001b[1;33m\u001b[0m\u001b[0m\n",
      "\u001b[1;32m~\\Anaconda3\\lib\\site-packages\\dfply\\summary_functions.py\u001b[0m in \u001b[0;36mmean\u001b[1;34m(series)\u001b[0m\n\u001b[0;32m     17\u001b[0m     \"\"\"\n\u001b[0;32m     18\u001b[0m \u001b[1;33m\u001b[0m\u001b[0m\n\u001b[1;32m---> 19\u001b[1;33m     \u001b[1;32mif\u001b[0m \u001b[0mnp\u001b[0m\u001b[1;33m.\u001b[0m\u001b[0missubdtype\u001b[0m\u001b[1;33m(\u001b[0m\u001b[0mseries\u001b[0m\u001b[1;33m.\u001b[0m\u001b[0mdtype\u001b[0m\u001b[1;33m,\u001b[0m \u001b[0mnp\u001b[0m\u001b[1;33m.\u001b[0m\u001b[0mnumber\u001b[0m\u001b[1;33m)\u001b[0m\u001b[1;33m:\u001b[0m\u001b[1;33m\u001b[0m\u001b[0m\n\u001b[0m\u001b[0;32m     20\u001b[0m         \u001b[1;32mreturn\u001b[0m \u001b[0mseries\u001b[0m\u001b[1;33m.\u001b[0m\u001b[0mmean\u001b[0m\u001b[1;33m(\u001b[0m\u001b[1;33m)\u001b[0m\u001b[1;33m\u001b[0m\u001b[0m\n\u001b[0;32m     21\u001b[0m     \u001b[1;32melse\u001b[0m\u001b[1;33m:\u001b[0m\u001b[1;33m\u001b[0m\u001b[0m\n",
      "\u001b[1;31mAttributeError\u001b[0m: 'list' object has no attribute 'dtype'"
     ]
    }
   ],
   "source": [
    "###### below are the returns of all the data points that fall into a particular quadrant --- \n",
    "\n",
    "##### for example --- gold_returns_1 will give all gold returns of all the data points that fall into 1st quadrant\n",
    "\n",
    "gold_returns_1 = []\n",
    "bond_returns_1 =[]\n",
    "equity_returns_1 =[]\n",
    "USD_returns_1 =[]\n",
    "commodities_returns_1 =[]\n",
    "\n",
    "gold_returns_2 = []\n",
    "bond_returns_2 =[]\n",
    "equity_returns_2 =[]\n",
    "USD_returns_2 =[]\n",
    "commodities_returns_2 =[]\n",
    "\n",
    "gold_returns_3 = []\n",
    "bond_returns_3 =[]\n",
    "equity_returns_3 =[]\n",
    "USD_returns_3 =[]\n",
    "commodities_returns_3 =[]\n",
    "    \n",
    "gold_returns_4 = []\n",
    "bond_returns_4 =[]\n",
    "equity_returns_4 =[]\n",
    "USD_returns_4 =[]\n",
    "commodities_returns_4 =[]\n",
    "\n",
    "\n",
    "for i in index_quadrant1:\n",
    "    gold_returns_1.append(data_point['gold returns'][i])\n",
    "    bond_returns_1.append(data_point['bonds returns'][i])\n",
    "    equity_returns_1.append(data_point['equity returns'][i])\n",
    "    USD_returns_1.append(data_point['USD returns'][i])\n",
    "    commodities_returns_1.append(data_point['commodities returns'][i])\n",
    "\n",
    "    \n",
    "for i in index_quadrant2:\n",
    "    gold_returns_2.append(data_point['gold returns'][i])\n",
    "    bond_returns_2.append(data_point['bonds returns'][i])\n",
    "    equity_returns_2.append(data_point['equity returns'][i])\n",
    "    USD_returns_2.append(data_point['USD returns'][i])\n",
    "    commodities_returns_2.append(data_point['commodities returns'][i])\n",
    "\n",
    "for i in index_quadrant3:\n",
    "    gold_returns_3.append(data_point['gold returns'][i])\n",
    "    bond_returns_3.append(data_point['bonds returns'][i])\n",
    "    equity_returns_3.append(data_point['equity returns'][i])\n",
    "    USD_returns_3.append(data_point['USD returns'][i])\n",
    "    commodities_returns_3.append(data_point['commodities returns'][i])\n",
    "\n",
    "    \n",
    "for i in index_quadrant4:\n",
    "    gold_returns_4.append(data_point['gold returns'][i])\n",
    "    bond_returns_4.append(data_point['bonds returns'][i])\n",
    "    equity_returns_4.append(data_point['equity returns'][i])\n",
    "    USD_returns_4.append(data_point['USD returns'][i])\n",
    "    commodities_returns_4.append(data_point['commodities returns'][i])\n",
    "\n",
    "    \n",
    "####### for example: avg_gold_1 will give us the average of all gold returns that fall into 1st quadrant   \n",
    "\n",
    "        \n",
    "avg_gold_1 = mean(gold_returns_1)   \n",
    "avg_bond_1 = mean(bond_returns_1)   \n",
    "avg_equity_1 = mean(equity_returns_1)   \n",
    "avg_USD_1 = mean(USD_returns_1)   \n",
    "avg_commodities_1 = mean(commodities_returns_1)  \n",
    "\n",
    "avg_gold_2 = mean(gold_returns_2)   \n",
    "avg_bond_2 = mean(bond_returns_2)   \n",
    "avg_equity_2 = mean(equity_returns_2)   \n",
    "avg_USD_2 = mean(USD_returns_1)   \n",
    "avg_commodities_2 = mean(commodities_returns_2)  \n",
    "\n",
    "avg_gold_3 = mean(gold_returns_3)   \n",
    "avg_bond_3 = mean(bond_returns_3)   \n",
    "avg_equity_3 = mean(equity_returns_3)   \n",
    "avg_USD_3 = mean(USD_returns_3)   \n",
    "avg_commodities_3 = mean(commodities_returns_3)  \n",
    "\n",
    "avg_gold_4 = mean(gold_returns_4)   \n",
    "avg_bond_4 = mean(bond_returns_4)   \n",
    "avg_equity_4 = mean(equity_returns_4)   \n",
    "avg_USD_4 = mean(USD_returns_4)   \n",
    "avg_commodities_4 = mean(commodities_returns_4)      "
   ]
  },
  {
   "cell_type": "code",
   "execution_count": null,
   "metadata": {
    "extensions": {
     "jupyter_dashboards": {
      "version": 1,
      "views": {
       "grid_default": {
        "hidden": true
       },
       "report_default": {}
      }
     }
    }
   },
   "outputs": [],
   "source": [
    "\n",
    "return_data = pd.DataFrame(index=['Quadrant 1','Quadrant 2','Quadrant 3', 'Quadrant 4'])\n",
    "\n",
    "\n",
    "return_data['average_gold_retuns'] = [ avg_gold_1,avg_gold_2,avg_gold_3,avg_gold_4]\n",
    "return_data['max gold return'] = [max(gold_returns_1),max(gold_returns_2),max(gold_returns_3),max(gold_returns_4)]\n",
    "return_data['min gold return'] = [min(gold_returns_1),min(gold_returns_2),min(gold_returns_3),min(gold_returns_4)]\n",
    "return_data['average_bond_retuns'] = [ avg_bond_1,avg_bond_2,avg_bond_3,avg_bond_4]\n",
    "return_data['max bond return'] = [max(bond_returns_1),max(bond_returns_2),max(bond_returns_3),max(bond_returns_4)]\n",
    "return_data['min bond return'] = [min(bond_returns_1),min(bond_returns_2),min(bond_returns_3),min(bond_returns_4)]\n",
    "return_data['average_equity_retuns'] = [ avg_equity_1,avg_equity_2,avg_equity_3,avg_equity_4]\n",
    "return_data['max equity return'] = [max(equity_returns_1),max(equity_returns_2),max(equity_returns_3),max(equity_returns_4)]\n",
    "return_data['min equity return'] = [min(equity_returns_1),min(equity_returns_2),min(equity_returns_3),min(equity_returns_4)]\n",
    "return_data['average_USD_retuns'] = [ avg_USD_1,avg_USD_2,avg_USD_3,avg_USD_4]\n",
    "return_data['max USD return'] = [max(USD_returns_1),max(USD_returns_2),max(USD_returns_3),max(USD_returns_4)]\n",
    "return_data['min USD return'] = [min(USD_returns_1),min(USD_returns_2),min(USD_returns_3),min(USD_returns_4)]\n",
    "return_data['average_commodities_retuns'] = [ avg_commodities_1,avg_commodities_2,avg_commodities_3,avg_commodities_4]\n",
    "return_data['max commodities return'] = [max(commodities_returns_1),max(commodities_returns_2),max(commodities_returns_3),max(commodities_returns_4)]\n",
    "return_data['min commodities return'] = [min(commodities_returns_1),min(commodities_returns_2),min(commodities_returns_3),min(commodities_returns_4)]\n",
    "\n",
    "\n",
    "return_data"
   ]
  },
  {
   "cell_type": "code",
   "execution_count": null,
   "metadata": {
    "extensions": {
     "jupyter_dashboards": {
      "version": 1,
      "views": {
       "grid_default": {
        "hidden": true
       },
       "report_default": {}
      }
     }
    }
   },
   "outputs": [],
   "source": [
    "date_quad_1 =[]\n",
    "date_quad_2 =[]\n",
    "date_quad_3 =[]\n",
    "date_quad_4 =[]\n",
    "\n",
    "for i in index_quadrant1:\n",
    "    \n",
    "    date_quad_1.append(data_point['Date'][i])\n",
    "\n",
    "for i in index_quadrant2:\n",
    "    \n",
    "    date_quad_2.append(data_point['Date'][i])\n",
    "\n",
    "for i in index_quadrant3:\n",
    "    \n",
    "    date_quad_3.append(data_point['Date'][i])\n",
    "    \n",
    "for i in index_quadrant4:\n",
    "    \n",
    "    date_quad_4.append(data_point['Date'][i])\n",
    "    \n",
    "    \n",
    "quadrant_1_returns = pd.DataFrame(columns=['gold','bond','equity','USD','commodities'], index = date_quad_1)\n",
    "\n",
    "quadrant_1_returns['gold'] = gold_returns_1\n",
    "quadrant_1_returns['bond'] = bond_returns_1\n",
    "quadrant_1_returns['equity'] = equity_returns_1\n",
    "quadrant_1_returns['USD'] = USD_returns_1\n",
    "quadrant_1_returns['commodities'] = commodities_returns_1\n",
    "\n",
    "\n",
    "quadrant_2_returns = pd.DataFrame(columns=['gold','bond','equity','USD','commodities'], index = date_quad_2)\n",
    "\n",
    "quadrant_2_returns['gold'] = gold_returns_2\n",
    "quadrant_2_returns['bond'] = bond_returns_2\n",
    "quadrant_2_returns['equity'] = equity_returns_2\n",
    "quadrant_2_returns['USD'] = USD_returns_2\n",
    "quadrant_2_returns['commodities'] = commodities_returns_2\n",
    "\n",
    "\n",
    "quadrant_3_returns = pd.DataFrame(columns=['gold','bond','equity','USD','commodities'], index = date_quad_3)\n",
    "\n",
    "quadrant_3_returns['gold'] = gold_returns_3\n",
    "quadrant_3_returns['bond'] = bond_returns_3\n",
    "quadrant_3_returns['equity'] = equity_returns_3\n",
    "quadrant_3_returns['USD'] = USD_returns_3\n",
    "quadrant_3_returns['commodities'] = commodities_returns_3\n",
    "\n",
    "\n",
    "quadrant_4_returns = pd.DataFrame(columns=['gold','bond','equity','USD','commodities'], index = date_quad_4)\n",
    "\n",
    "quadrant_4_returns['gold'] = gold_returns_4\n",
    "quadrant_4_returns['bond'] = bond_returns_4\n",
    "quadrant_4_returns['equity'] = equity_returns_4\n",
    "quadrant_4_returns['USD'] = USD_returns_4\n",
    "quadrant_4_returns['commodities'] = commodities_returns_4\n",
    "\n",
    "\n",
    "# quadrant_1_returns\n",
    "# quadrant_2_returns\n",
    "# quadrant_3_returns\n",
    "quadrant_4_returns"
   ]
  },
  {
   "cell_type": "markdown",
   "metadata": {
    "extensions": {
     "jupyter_dashboards": {
      "version": 1,
      "views": {
       "grid_default": {
        "col": 0,
        "height": 4,
        "hidden": true,
        "row": 49,
        "width": 12
       },
       "report_default": {}
      }
     }
    }
   },
   "source": [
    "# Using 3 Optimisation methods to calculate optimum weights of Asset classes"
   ]
  },
  {
   "cell_type": "code",
   "execution_count": null,
   "metadata": {
    "extensions": {
     "jupyter_dashboards": {
      "version": 1,
      "views": {
       "grid_default": {
        "hidden": true
       },
       "report_default": {}
      }
     }
    }
   },
   "outputs": [],
   "source": [
    "##### monte_carlo method for obtaining optimum weights\n",
    "\n",
    "def monte_carlo_optimization(Data):\n",
    "    \n",
    "   \n",
    "    #calculate the return of the asset classses\n",
    "\n",
    "    \n",
    "    USD_return=Data['USD']\n",
    "    Gold_return=Data['gold']\n",
    "    Equity_return=Data['equity']\n",
    "    T_return=Data['bond']\n",
    "    commodities_return=Data['commodities'] \n",
    "\n",
    "   \n",
    "\n",
    "   #create the dataframe of the return of the asset classes\n",
    "    AssetClass=pd.DataFrame()\n",
    "    AssetClass['equity']=Equity_return\n",
    "    AssetClass['bond']=T_return\n",
    "    AssetClass['USD']=USD_return\n",
    "    AssetClass['gold']=Gold_return\n",
    "    AssetClass['commodities']=commodities_return\n",
    "    AssetClass.dropna(inplace=True)\n",
    "   \n",
    "    \n",
    "    mean_return=AssetClass.mean()           \n",
    "   #print(\"Mean Return of Portfolios\")\n",
    "   #print(mean_return)\n",
    "   \n",
    "    \n",
    "   #covraince matrix\n",
    "   #print(\"----------------------------------------------------\")\n",
    "    cov_matrix=AssetClass.cov()                    \n",
    "   #print(\"Covariance Matrix of the Portfolios\")\n",
    "   #print(cov_matrix)\n",
    "\n",
    "    number_port=len(AssetClass.columns)\n",
    "    V=np.matrix(cov_matrix)\n",
    "    R=np.matrix(mean_return)\n",
    "    Rf=0.0013 #Risk-free rate\n",
    "   \n",
    "    Port_Std=[]\n",
    "    Port_MeanReturn=[]\n",
    "    Sharpe_Ratio=[]\n",
    "    weight=[]\n",
    "    \n",
    "    for i in range(10000):\n",
    "        \n",
    "        w = np.random.uniform(0,1,size=number_port)\n",
    "       #w=np.random.normal(size=number_port)\n",
    "        w /= w.sum()\n",
    "        weight.append(w) #portfolio weight\n",
    "       #Portfolio Standard Deviation\n",
    "        Port_Var=np.asscalar(w*np.matrix(V)*w.reshape(number_port,1))\n",
    "        Port_Std.append(np.sqrt(Port_Var))\n",
    "       #Portfolio Mean Return\n",
    "        meanReturn=np.asscalar(np.matmul(R,np.matrix(w).transpose()))\n",
    "        Port_MeanReturn.append(meanReturn)\n",
    "       #Sharpe Ratio\n",
    "        Sharpe_Ratio.append((meanReturn-Rf)/np.sqrt(Port_Var))\n",
    "\n",
    "        num=Sharpe_Ratio.index(max(Sharpe_Ratio)) #the index of the lagest sharpe ratio\n",
    "        w_tan=weight[num]\n",
    "    \n",
    "    print(\"======================================================\")\n",
    "    print(\"The weight of the tangency portfolio is\")\n",
    "    print(w_tan)\n",
    "   \n",
    "    print(\"======================================================\")\n",
    "    print(\"The return of the tangency portfolio is\")\n",
    "    print(Port_MeanReturn[num]*4)\n",
    "   \n",
    "    print(\"======================================================\")\n",
    "    print(\"The Sharpe ratio of the tangency portfolio is\")\n",
    "    print(max(Sharpe_Ratio))\n",
    "\n",
    "    fig5=plt.figure()\n",
    "    ax5=fig5.add_subplot(111)\n",
    "    ax5.plot(Port_Std,Port_MeanReturn,'.')\n",
    "    ax5.set_title(\"minimum-variance frontier\")\n",
    "    ax5.set_xlabel(\"Standard Deviation\")\n",
    "    ax5.set_ylabel(\"Return\") \n",
    "   #ax5.set_xlim([0.018,0.1])\n",
    "   #ax5.set_ylim([-0.1,0.1])\n"
   ]
  },
  {
   "cell_type": "code",
   "execution_count": null,
   "metadata": {
    "extensions": {
     "jupyter_dashboards": {
      "version": 1,
      "views": {
       "grid_default": {
        "hidden": true
       },
       "report_default": {}
      }
     }
    }
   },
   "outputs": [],
   "source": [
    "##### below for loop will output results in order --- results from quadrant 1 to quadrant 4\n",
    "\n",
    "for i in range(4):\n",
    "    \n",
    "    monte_carlo_optimization(vars()['quadrant_'+ str(i+1)+'_returns'])    \n",
    "    "
   ]
  },
  {
   "cell_type": "code",
   "execution_count": null,
   "metadata": {
    "extensions": {
     "jupyter_dashboards": {
      "version": 1,
      "views": {
       "grid_default": {
        "hidden": true
       },
       "report_default": {}
      }
     }
    }
   },
   "outputs": [],
   "source": [
    "##### risk parity method for obtaining optimum weights\n",
    "\n",
    "\n",
    "def risk_parity_optimization(Data):\n",
    "    \n",
    "    \n",
    "    \n",
    "    USD_return=Data['USD']\n",
    "    Gold_return=Data['gold']\n",
    "    Equity_return=Data['equity']\n",
    "    T_return=Data['bond']\n",
    "    commodities_return=Data['commodities'] \n",
    "\n",
    "   \n",
    "\n",
    "   #create the dataframe of the return of the asset classes\n",
    "    AssetClass=pd.DataFrame()\n",
    "    AssetClass['equity']=Equity_return\n",
    "    AssetClass['bond']=T_return\n",
    "    AssetClass['USD']=USD_return\n",
    "    AssetClass['gold']=Gold_return\n",
    "    AssetClass['commodities']=commodities_return\n",
    "     \n",
    "\n",
    "    AssetClass.dropna(inplace=True)\n",
    "\n",
    "    cov_matrix=AssetClass.cov() \n",
    "    V=np.matrix(cov_matrix)\n",
    "\n",
    "    # risk budgeting optimization\n",
    "    def calculate_portfolio_var(w,V):\n",
    "        # function that calculates portfolio risk\n",
    "        w = np.matrix(w)\n",
    "        return (w*V*w.T)[0,0]\n",
    "\n",
    "    def calculate_risk_contribution(w,V):\n",
    "        # function that calculates asset contribution to total risk\n",
    "        w = np.matrix(w)\n",
    "        sigma = np.sqrt(calculate_portfolio_var(w,V))\n",
    "        # Marginal Risk Contribution\n",
    "        MRC = V*w.T\n",
    "        # Risk Contribution\n",
    "        RC = np.multiply(MRC,w.T)/sigma\n",
    "        return RC\n",
    "\n",
    "    def risk_budget_objective(x,pars):\n",
    "        # calculate portfolio risk\n",
    "        V = pars[0]# covariance table\n",
    "        x_t = pars[1] # risk target in percent of portfolio risk\n",
    "        sig_p =  np.sqrt(calculate_portfolio_var(x,V)) # portfolio sigma\n",
    "        risk_target = np.asmatrix(np.multiply(sig_p,x_t))\n",
    "        asset_RC = calculate_risk_contribution(x,V)\n",
    "        J = sum(np.square(asset_RC-risk_target.T))[0,0]*1000 # sum of squared error\n",
    "        return J\n",
    "\n",
    "    def total_weight_constraint(x):\n",
    "        return np.sum(x)-1.0\n",
    "\n",
    "    def long_only_constraint(x):\n",
    "        return x\n",
    "\n",
    "    x_t = [0.2, 0.2, 0.2, 0.2,0.2] # your risk budget percent of total portfolio risk (equal risk)\n",
    "    w0 = [0.2,0.2,0.2,0.2,0.2] \n",
    "    cons = ({'type': 'eq', 'fun': total_weight_constraint},\n",
    "    {'type': 'ineq', 'fun': long_only_constraint})\n",
    "    res= minimize(risk_budget_objective, w0, args=[V,x_t], method='SLSQP',constraints=cons, options={'disp': True})\n",
    "    w_rb = np.asmatrix(res.x)\n",
    "\n",
    "    #caculate the mean return of the asset classes\n",
    "    USD_MeanReturn=np.mean(USD_return)\n",
    "    Gold_MeanReturn=np.mean(Gold_return)\n",
    "    Equity_MeanReturn=np.mean(Equity_return)\n",
    "    T_MeanReturn=np.mean(T_return)\n",
    "    commodities_meanreturn = np.mean(commodities_return)\n",
    "\n",
    "    #return of the portfolio\n",
    "    R=USD_MeanReturn*res.x[0]+Gold_MeanReturn*res.x[1]+Equity_MeanReturn*res.x[2]+T_MeanReturn*res.x[3]+commodities_meanreturn*res.x[4]\n",
    "    print(\"Aunnual Return of the portfolio is\",R*4)\n",
    "\n",
    "    print(w_rb)\n",
    "\n",
    "\n"
   ]
  },
  {
   "cell_type": "code",
   "execution_count": null,
   "metadata": {
    "extensions": {
     "jupyter_dashboards": {
      "version": 1,
      "views": {
       "grid_default": {
        "hidden": true
       },
       "report_default": {}
      }
     }
    }
   },
   "outputs": [],
   "source": [
    "##### below for loop will output results in order --- results from quadrant 1 to quadrant 4\n",
    "\n",
    "for i in range(4):\n",
    "    \n",
    "    risk_parity_optimization(vars()['quadrant_'+ str(i+1)+'_returns'])"
   ]
  },
  {
   "cell_type": "code",
   "execution_count": null,
   "metadata": {
    "extensions": {
     "jupyter_dashboards": {
      "version": 1,
      "views": {
       "grid_default": {
        "hidden": true
       },
       "report_default": {}
      }
     }
    }
   },
   "outputs": [],
   "source": [
    "##### inverse vol method for obtaining optimum weights\n",
    "\n",
    "\n",
    "def inverse_vol_optimization(Data):\n",
    "    \n",
    "    USD_return=Data['USD']\n",
    "    Gold_return=Data['gold']\n",
    "    Equity_return=Data['equity']\n",
    "    T_return=Data['bond']\n",
    "    commodities_return=Data['commodities'] \n",
    "\n",
    "    \n",
    "    #volatility of each asset\n",
    "    \n",
    "    Equity_vol=np.std(Equity_return)\n",
    "    USD_vol=np.std(USD_return)\n",
    "    T_vol=np.std(T_return)\n",
    "    Gold_vol=np.std(Gold_return)\n",
    "    commodities_vol=np.std(commodities_return)\n",
    "    \n",
    "    vol=np.array([Equity_vol,USD_vol,T_vol,Gold_vol,commodities_vol])\n",
    "\n",
    "    #inverse the vol\n",
    "    inverse_vol=1/vol\n",
    "    sum_vol=np.sum(inverse_vol)\n",
    "    #the portfolio weight\n",
    "    port_weight=inverse_vol/sum_vol\n",
    "\n",
    "    #to test whether the sum of the weight is equal to 1\n",
    "    if np.sum(port_weight)==1:\n",
    "        print('True')\n",
    "\n",
    "    #caculate the mean return of the asset classes\n",
    "    USD_MeanReturn=np.mean(USD_return)\n",
    "    Gold_MeanReturn=np.mean(Gold_return)\n",
    "    Equity_MeanReturn=np.mean(Equity_return)\n",
    "    T_MeanReturn=np.mean(T_return)\n",
    "    commodities_meanreturn=np.mean(commodities_return)\n",
    "    \n",
    "\n",
    "    #return of the portfolio\n",
    "    R=commodities_meanreturn*port_weight[-1]+USD_MeanReturn*port_weight[1]+Gold_MeanReturn*port_weight[3]+Equity_MeanReturn*port_weight[0]+T_MeanReturn*port_weight[2]\n",
    "   \n",
    "    print(\"Aunnual Return of the portfolio is\",R*4)\n",
    "\n",
    "    print(port_weight)\n",
    "\n"
   ]
  },
  {
   "cell_type": "code",
   "execution_count": null,
   "metadata": {
    "extensions": {
     "jupyter_dashboards": {
      "version": 1,
      "views": {
       "grid_default": {
        "hidden": true
       },
       "report_default": {}
      }
     }
    }
   },
   "outputs": [],
   "source": [
    "##### below for loop will output results in order --- results from quadrant 1 to quadrant 4\n",
    "\n",
    "for i in range(4):\n",
    "    \n",
    "    inverse_vol_optimization(vars()['quadrant_'+ str(i+1)+'_returns'])"
   ]
  },
  {
   "cell_type": "markdown",
   "metadata": {
    "extensions": {
     "jupyter_dashboards": {
      "version": 1,
      "views": {
       "grid_default": {
        "col": 0,
        "height": 4,
        "hidden": true,
        "row": 97,
        "width": 12
       },
       "report_default": {}
      }
     }
    }
   },
   "source": [
    "# Below plots will help you observe how the asset class returns are changing when they are in a particular regime"
   ]
  },
  {
   "cell_type": "code",
   "execution_count": null,
   "metadata": {
    "extensions": {
     "jupyter_dashboards": {
      "version": 1,
      "views": {
       "grid_default": {
        "hidden": true
       },
       "report_default": {}
      }
     }
    }
   },
   "outputs": [],
   "source": [
    "#### quarter 1 returns graph  for all assets\n",
    "\n",
    "plt.figure(figsize=(60, 60))\n",
    "\n",
    "plt.subplot(3,2,1)\n",
    "plt.plot(gold_returns_1)\n",
    "plt.title('Gold returns in quadrant 1')\n",
    "\n",
    "plt.subplot(3,2,2)\n",
    "plt.plot(bond_returns_1)\n",
    "plt.title('Bond returns in quadrant 1')\n",
    "\n",
    "plt.subplot(3,2,3)\n",
    "plt.plot(equity_returns_1)\n",
    "plt.title('equity returns in quadrant 1')\n",
    "\n",
    "plt.subplot(3,2,4)\n",
    "plt.plot(USD_returns_1)\n",
    "plt.title('USD returns in quadrant 1')\n",
    "\n",
    "plt.subplot(3,2,5)\n",
    "plt.plot(commodities_returns_1)\n",
    "plt.title('commodities returns in quadrant 1')\n",
    "\n"
   ]
  },
  {
   "cell_type": "code",
   "execution_count": null,
   "metadata": {
    "extensions": {
     "jupyter_dashboards": {
      "version": 1,
      "views": {
       "grid_default": {
        "hidden": true
       },
       "report_default": {}
      }
     }
    }
   },
   "outputs": [],
   "source": [
    "#### quarter 2 returns graph  for all assets\n",
    "\n",
    "plt.figure(figsize=(40, 40))\n",
    "\n",
    "plt.subplot(3,2,1)\n",
    "plt.plot(gold_returns_2)\n",
    "plt.title('Gold returns in quadrant 2')\n",
    "\n",
    "plt.subplot(3,2,2)\n",
    "plt.plot(bond_returns_2)\n",
    "plt.title('Bond returns in quadrant 2')\n",
    "\n",
    "plt.subplot(3,2,3)\n",
    "plt.plot(equity_returns_2)\n",
    "plt.title('equity returns in quadrant 2')\n",
    "\n",
    "plt.subplot(3,2,4)\n",
    "plt.plot(USD_returns_2)\n",
    "plt.title('USD returns in quadrant 2')\n",
    "\n",
    "plt.subplot(3,2,5)\n",
    "plt.plot(commodities_returns_2)\n",
    "plt.title('commodities returns in quadrant 2')\n"
   ]
  },
  {
   "cell_type": "code",
   "execution_count": null,
   "metadata": {
    "extensions": {
     "jupyter_dashboards": {
      "version": 1,
      "views": {
       "grid_default": {
        "hidden": true
       },
       "report_default": {}
      }
     }
    }
   },
   "outputs": [],
   "source": [
    "#### quarter 3 returns graph  for all assets\n",
    "\n",
    "plt.figure(figsize=(40, 40))\n",
    "\n",
    "plt.subplot(3,2,1)\n",
    "plt.plot(gold_returns_3)\n",
    "plt.title('Gold returns in quadrant 3')\n",
    "\n",
    "plt.subplot(3,2,2)\n",
    "plt.plot(bond_returns_3)\n",
    "plt.title('Bond returns in quadrant 3')\n",
    "\n",
    "plt.subplot(3,2,3)\n",
    "plt.plot(equity_returns_3)\n",
    "plt.title('equity returns in quadrant 3')\n",
    "\n",
    "plt.subplot(3,2,4)\n",
    "plt.plot(USD_returns_3)\n",
    "plt.title('USD returns in quadrant 3')\n",
    "\n",
    "plt.subplot(3,2,5)\n",
    "plt.plot(commodities_returns_3)\n",
    "plt.title('commodities returns in quadrant 3')\n"
   ]
  },
  {
   "cell_type": "code",
   "execution_count": null,
   "metadata": {
    "extensions": {
     "jupyter_dashboards": {
      "version": 1,
      "views": {
       "grid_default": {
        "hidden": true
       },
       "report_default": {}
      }
     }
    }
   },
   "outputs": [],
   "source": [
    "#### quarter 4 returns graph  for all assets\n",
    "\n",
    "plt.figure(figsize=(40, 40))\n",
    "\n",
    "plt.subplot(3,2,1)\n",
    "plt.plot(gold_returns_4)\n",
    "plt.title('Gold returns in quadrant 4')\n",
    "\n",
    "plt.subplot(3,2,2)\n",
    "plt.plot(bond_returns_4)\n",
    "plt.title('Bond returns in quadrant 4')\n",
    "\n",
    "plt.subplot(3,2,3)\n",
    "plt.plot(equity_returns_4)\n",
    "plt.title('equity returns in quadrant 4')\n",
    "\n",
    "plt.subplot(3,2,4)\n",
    "plt.plot(USD_returns_4)\n",
    "plt.title('USD returns in quadrant 4')\n",
    "\n",
    "plt.subplot(3,2,5)\n",
    "plt.plot(commodities_returns_4)\n",
    "plt.title('commodities returns in quadrant 4')\n"
   ]
  },
  {
   "cell_type": "code",
   "execution_count": null,
   "metadata": {
    "extensions": {
     "jupyter_dashboards": {
      "version": 1,
      "views": {
       "grid_default": {
        "hidden": true
       },
       "report_default": {}
      }
     }
    }
   },
   "outputs": [],
   "source": [
    "mom = ['1_1','2_1','3_1','4_1', '1_2','2_2','3_2','4_2', '1_3','2_3','3_3','4_3', '1_4','2_4','3_4','4_4']\n",
    "\n",
    "##### index_i_j ---- this is the list of all the index of data points in 'data_point' DataFrame ---\n",
    "##### 'i' is from what quadrant you are coming from  ---- 'j' is your current quadrant\n",
    "\n",
    "for i in mom:\n",
    "    vars()['index_'+ i] = []\n",
    "        \n",
    "for i in index_quadrant1:\n",
    "   \n",
    "    if data_point['previous_quadrant'][i]== 1:\n",
    "        index_1_1.append(i)\n",
    "        \n",
    "    elif data_point['previous_quadrant'][i]== 2:\n",
    "        index_2_1.append(i)\n",
    "    \n",
    "    elif data_point['previous_quadrant'][i]== 3:\n",
    "        index_3_1.append(i) \n",
    "        \n",
    "    elif data_point['previous_quadrant'][i]== 4:\n",
    "        index_4_1.append(i)\n",
    "        \n",
    "        \n",
    "for i in index_quadrant2:\n",
    "   \n",
    "    if data_point['previous_quadrant'][i]== 1:\n",
    "        index_1_2.append(i)\n",
    "        \n",
    "    elif data_point['previous_quadrant'][i]== 2:\n",
    "        index_2_2.append(i)\n",
    "    \n",
    "    elif data_point['previous_quadrant'][i]== 3:\n",
    "        index_3_2.append(i) \n",
    "        \n",
    "    elif data_point['previous_quadrant'][i]== 4:\n",
    "        index_4_2.append(i)    \n",
    "        \n",
    "for i in index_quadrant3:\n",
    "   \n",
    "    if data_point['previous_quadrant'][i]== 1:\n",
    "        index_1_3.append(i)\n",
    "        \n",
    "    elif data_point['previous_quadrant'][i]== 2:\n",
    "        index_2_3.append(i)\n",
    "    \n",
    "    elif data_point['previous_quadrant'][i]== 3:\n",
    "        index_3_3.append(i) \n",
    "        \n",
    "    elif data_point['previous_quadrant'][i]== 4:\n",
    "        index_4_3.append(i)        \n",
    "        \n",
    "for i in index_quadrant4:\n",
    "   \n",
    "    if data_point['previous_quadrant'][i]== 1:\n",
    "        index_1_4.append(i)\n",
    "        \n",
    "    elif data_point['previous_quadrant'][i]== 2:\n",
    "        index_2_4.append(i)\n",
    "    \n",
    "    elif data_point['previous_quadrant'][i]== 3:\n",
    "        index_3_4.append(i) \n",
    "        \n",
    "    elif data_point['previous_quadrant'][i]== 4:\n",
    "        index_4_4.append(i)        \n",
    "            "
   ]
  },
  {
   "cell_type": "code",
   "execution_count": null,
   "metadata": {
    "extensions": {
     "jupyter_dashboards": {
      "version": 1,
      "views": {
       "grid_default": {
        "hidden": true
       },
       "report_default": {}
      }
     }
    }
   },
   "outputs": [],
   "source": [
    "#### below data frame gives average return of each asset for a particular type of regime change\n",
    "\n",
    "momentum_df = pd.DataFrame(index = mom, columns = ['gold', 'equity', 'bonds', 'commodities','USD'])\n",
    "\n",
    "for p in mom:\n",
    "    \n",
    "    L = vars()['index_'+ p]\n",
    "    \n",
    "    momentum_df['gold'][p] = mean([data_point['gold returns'][i] for i in L])\n",
    "    momentum_df['equity'][p] = mean([ data_point['equity returns'][i] for i in L ])\n",
    "    momentum_df['bonds'][p] = mean([ data_point['bonds returns'][i] for i in L ]) \n",
    "    momentum_df['USD'][p] = mean([ data_point['USD returns'][i] for i in L ]) \n",
    "    momentum_df['commodities'][p] = mean( [ data_point['commodities returns'][i] for i in L])     "
   ]
  },
  {
   "cell_type": "code",
   "execution_count": null,
   "metadata": {
    "extensions": {
     "jupyter_dashboards": {
      "version": 1,
      "views": {
       "grid_default": {
        "hidden": true
       },
       "report_default": {}
      }
     }
    }
   },
   "outputs": [],
   "source": [
    "momentum_df   "
   ]
  },
  {
   "cell_type": "code",
   "execution_count": null,
   "metadata": {
    "extensions": {
     "jupyter_dashboards": {
      "version": 1,
      "views": {
       "grid_default": {
        "hidden": true
       },
       "report_default": {}
      }
     }
    }
   },
   "outputs": [],
   "source": [
    "### Dataframe for quadrant after another, hpie: \n",
    "\n",
    "## Use the same plotting Dataframe created before: \n",
    "\n",
    "\n",
    "from dfply import * \n",
    "\n",
    "from IPython.display import Image , display, Javascript \n",
    "\n",
    "plot_subset_list = ['Date','quadrant_number']\n",
    "df_hpie = data_point >> select( plot_subset_list ) \n",
    "\n",
    "df_hpie.columns = ['Quarter' , 'Regime_0'] \n",
    "\n",
    "req_history = 10 ## Required history of Regimes. Specify number of quarters to go back \n",
    "\n",
    " \n",
    "\n",
    "for i in range(1, req_history + 1): \n",
    "\n",
    "    curr_col = \"Regime_\" + str(i) \n",
    "\n",
    "    prev_col = \"Regime_\" + str(i-1) \n",
    "\n",
    "    df_hpie[curr_col] = df_hpie[prev_col].shift(-1) \n",
    "\n",
    "     \n",
    "    \n",
    "# df_hpie = df_hpie[df_hpie['Regime_0'] != 'Nil_future'] ## Remove future dates \n",
    "\n",
    " \n",
    "\n",
    "df_hpie = df_hpie.iloc[::-1] ## Reorder the dataframe so that the oldest date is plotted first \n",
    "\n",
    " \n",
    "lvl_count = 2\n",
    "\n",
    "Regime_list = [\"Regime_\" + str(lvl_count-i) for i in range( 0 , lvl_count )] \n",
    "\n",
    "\n",
    "df_hpie_sub = df_hpie >> select(['Quarter'] + Regime_list) \n",
    "\n",
    "df_hpie_piv = pd.pivot_table(df_hpie_sub , values = 'Quarter', index = Regime_list , aggfunc = 'count') \n",
    "\n",
    "df_hpie_piv = df_hpie_piv.reset_index() \n",
    "\n",
    " \n",
    "df_hpie_piv1 =  df_hpie_piv[df_hpie_piv.columns[::-1]] ## Reverse the order of columns  \n",
    "\n",
    "\n",
    "display(df_hpie_piv1)  "
   ]
  },
  {
   "cell_type": "markdown",
   "metadata": {
    "extensions": {
     "jupyter_dashboards": {
      "version": 1,
      "views": {
       "grid_default": {
        "col": 8,
        "height": 4,
        "hidden": true,
        "row": 70,
        "width": 4
       },
       "report_default": {}
      }
     }
    }
   },
   "source": [
    "# Data required for Validation - 2016 Q1 to 2018 Q4"
   ]
  },
  {
   "cell_type": "code",
   "execution_count": null,
   "metadata": {
    "extensions": {
     "jupyter_dashboards": {
      "version": 1,
      "views": {
       "grid_default": {
        "hidden": true
       },
       "report_default": {}
      }
     }
    }
   },
   "outputs": [],
   "source": [
    "df_USD = pd.read_excel(\"Data.xlsx\", header = None,sheet_name = 'USD')\n",
    "df_gold = pd.read_excel(\"Data.xlsx\", header = None,sheet_name = 'gold')\n",
    "df_equity = pd.read_excel(\"Data.xlsx\", header = None,sheet_name = 'equity')\n",
    "df_bonds = pd.read_excel(\"Data.xlsx\", header = None,sheet_name = 'bonds')\n",
    "df_commodities = pd.read_excel(\"Data.xlsx\", header = None,sheet_name = 'commodities')\n",
    "df_GDP = pd.read_excel(\"Data.xlsx\", header = None,sheet_name = 'GDP')\n",
    "df_CPI = pd.read_excel(\"Data.xlsx\", header = None,sheet_name = 'CPI')\n",
    "\n",
    "\n",
    "df_USD.columns = ['Date','price']\n",
    "df_gold.columns = ['Date','price']\n",
    "df_equity.columns = ['Date','price']\n",
    "df_bonds.columns = ['Date','price']\n",
    "df_commodities.columns = ['Date','price']\n",
    "df_GDP.columns = ['Date','return']\n",
    "df_CPI.columns = ['Date','return']\n",
    "\n",
    "\n",
    "Last_date = '2015-10-01 00:00:00'\n",
    "\n",
    "index_for_Last_date_testing = 91\n",
    "\n",
    "\n",
    "df_USD_validation = df_USD.loc[index_for_Last_date_testing+1:,:]\n",
    "df_gold_validation = df_gold.loc[index_for_Last_date_testing+1:,:]\n",
    "df_equity_validation = df_equity.loc[index_for_Last_date_testing+1:,:]\n",
    "df_bonds_validation = df_bonds.loc[index_for_Last_date_testing+1:,:]\n",
    "df_commodities_validation = df_commodities.loc[index_for_Last_date_testing+1:,:]\n",
    "df_GDP_validation = df_GDP.loc[index_for_Last_date_testing+1:,:]\n",
    "df_CPI_validation = df_CPI.loc[index_for_Last_date_testing+1:,:]\n",
    "\n",
    "\n",
    "df_CPI_validation"
   ]
  },
  {
   "cell_type": "code",
   "execution_count": null,
   "metadata": {
    "extensions": {
     "jupyter_dashboards": {
      "version": 1,
      "views": {
       "grid_default": {
        "hidden": true
       },
       "report_default": {}
      }
     }
    }
   },
   "outputs": [],
   "source": []
  },
  {
   "cell_type": "code",
   "execution_count": null,
   "metadata": {
    "extensions": {
     "jupyter_dashboards": {
      "version": 1,
      "views": {
       "grid_default": {
        "hidden": true
       },
       "report_default": {}
      }
     }
    }
   },
   "outputs": [],
   "source": []
  },
  {
   "cell_type": "code",
   "execution_count": null,
   "metadata": {
    "extensions": {
     "jupyter_dashboards": {
      "version": 1,
      "views": {
       "grid_default": {
        "hidden": true
       },
       "report_default": {}
      }
     }
    }
   },
   "outputs": [],
   "source": []
  },
  {
   "cell_type": "code",
   "execution_count": null,
   "metadata": {
    "extensions": {
     "jupyter_dashboards": {
      "version": 1,
      "views": {
       "grid_default": {
        "hidden": true
       },
       "report_default": {}
      }
     }
    }
   },
   "outputs": [],
   "source": []
  },
  {
   "cell_type": "code",
   "execution_count": null,
   "metadata": {
    "extensions": {
     "jupyter_dashboards": {
      "version": 1,
      "views": {
       "grid_default": {
        "hidden": true
       },
       "report_default": {}
      }
     }
    }
   },
   "outputs": [],
   "source": []
  },
  {
   "cell_type": "code",
   "execution_count": null,
   "metadata": {
    "extensions": {
     "jupyter_dashboards": {
      "version": 1,
      "views": {
       "grid_default": {
        "hidden": true
       },
       "report_default": {}
      }
     }
    }
   },
   "outputs": [],
   "source": []
  }
 ],
 "metadata": {
  "extensions": {
   "jupyter_dashboards": {
    "activeView": "grid_default",
    "version": 1,
    "views": {
     "grid_default": {
      "cellMargin": 10,
      "defaultCellHeight": 20,
      "maxColumns": 12,
      "name": "grid",
      "type": "grid"
     },
     "report_default": {
      "name": "report",
      "type": "report"
     }
    }
   }
  },
  "kernelspec": {
   "display_name": "Python 3",
   "language": "python",
   "name": "python3"
  },
  "language_info": {
   "codemirror_mode": {
    "name": "ipython",
    "version": 3
   },
   "file_extension": ".py",
   "mimetype": "text/x-python",
   "name": "python",
   "nbconvert_exporter": "python",
   "pygments_lexer": "ipython3",
   "version": "3.6.5"
  }
 },
 "nbformat": 4,
 "nbformat_minor": 2
}
