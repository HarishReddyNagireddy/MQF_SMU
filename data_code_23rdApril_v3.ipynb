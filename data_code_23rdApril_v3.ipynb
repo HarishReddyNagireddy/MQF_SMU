{
 "cells": [
  {
   "cell_type": "markdown",
   "metadata": {
    "extensions": {
     "jupyter_dashboards": {
      "version": 1,
      "views": {
       "grid_default": {
        "col": 0,
        "height": 2,
        "hidden": false,
        "row": 0,
        "width": 12
       },
       "report_default": {}
      }
     }
    }
   },
   "source": [
    "<h1><center> Research Methods for Quantitative Professionals </center></h1>"
   ]
  },
  {
   "cell_type": "markdown",
   "metadata": {
    "extensions": {
     "jupyter_dashboards": {
      "version": 1,
      "views": {
       "grid_default": {
        "col": 0,
        "height": 2,
        "hidden": false,
        "row": 2,
        "width": 12
       },
       "report_default": {}
      }
     }
    }
   },
   "source": [
    "<h2><center> Historical Performance of Assets in Regimes </center></h2>"
   ]
  },
  {
   "cell_type": "markdown",
   "metadata": {
    "extensions": {
     "jupyter_dashboards": {
      "version": 1,
      "views": {
       "grid_default": {
        "col": 0,
        "height": 4,
        "hidden": true,
        "row": 0,
        "width": 4
       },
       "report_default": {
        "hidden": false
       }
      }
     }
    }
   },
   "source": [
    "## Libraries:"
   ]
  },
  {
   "cell_type": "code",
   "execution_count": 1,
   "metadata": {
    "extensions": {
     "jupyter_dashboards": {
      "version": 1,
      "views": {
       "grid_default": {
        "hidden": true
       },
       "report_default": {}
      }
     }
    }
   },
   "outputs": [],
   "source": [
    "\n",
    "## Libraries:import pandas as pd\n",
    "import pandas as pd\n",
    "import numpy as np\n",
    "import datetime\n",
    "import matplotlib.pyplot as plt\n",
    "import math\n",
    "from openpyxl import load_workbook \n",
    "import seaborn as sns\n",
    "import warnings \n",
    "from IPython.display import Image\n",
    "from statistics import mean \n",
    "\n",
    "from dfply import *\n",
    "\n",
    "import seaborn as sns\n",
    "sns.set(rc={'figure.figsize':(11.7,8.27)})\n",
    "\n",
    "\n",
    "import warnings\n",
    "warnings.filterwarnings('ignore')\n",
    "\n",
    "from IPython.display import Image , display, Javascript\n",
    "# from IPython.html.widgets import interact, SelectWidget, CheckboxWidget, RadioButtonsWidget, SelectMultiple\n",
    "from __future__ import print_function\n",
    "\n",
    "from ipywidgets.widgets import (interact, interactive, interactive_output, fixed, ToggleButtons,\n",
    "interact_manual, SelectMultiple, Output, RadioButtons,IntSlider, Dropdown, Layout, Select, HBox, VBox, Checkbox, Button)\n",
    "#import ipywidgets as widgets\n",
    "\n",
    "from traitlets import link , dlink\n",
    "\n",
    "import asyncio\n",
    "import re\n",
    "\n",
    "\n",
    "from plotly import plotly\n",
    "\n",
    "\n",
    "import itertools\n",
    "\n",
    "from decimal import Decimal\n",
    "\n",
    "from colour import Color\n",
    "\n",
    "import mpld3\n",
    "\n",
    "\n",
    "from hpie import HPie, stringvalues_to_pv\n",
    "\n",
    "from scipy.optimize import minimize"
   ]
  },
  {
   "cell_type": "markdown",
   "metadata": {
    "extensions": {
     "jupyter_dashboards": {
      "version": 1,
      "views": {
       "grid_default": {
        "col": 8,
        "height": 4,
        "hidden": true,
        "row": 0,
        "width": 4
       },
       "report_default": {
        "hidden": false
       }
      }
     }
    }
   },
   "source": [
    "## Setting the size of the output window:"
   ]
  },
  {
   "cell_type": "code",
   "execution_count": 81,
   "metadata": {
    "extensions": {
     "jupyter_dashboards": {
      "version": 1,
      "views": {
       "grid_default": {
        "col": 4,
        "height": 4,
        "hidden": true,
        "row": 0,
        "width": 4
       },
       "report_default": {
        "hidden": false
       }
      }
     }
    }
   },
   "outputs": [
    {
     "data": {
      "text/html": [
       "<style>\n",
       ".output_wrapper, .output {\n",
       "    height:auto !important;\n",
       "    max-height:5000px;  /* your desired max-height here */\n",
       "    max-width: 5000px;\n",
       "}\n",
       ".output_scroll {\n",
       "    box-shadow:none !important;\n",
       "    webkit-box-shadow:none !important;\n",
       "}\n",
       "</style>"
      ],
      "text/plain": [
       "<IPython.core.display.HTML object>"
      ]
     },
     "metadata": {},
     "output_type": "display_data"
    }
   ],
   "source": [
    "%%html\n",
    "<style>\n",
    ".output_wrapper, .output {\n",
    "    height:auto !important;\n",
    "    max-height:5000px;  /* your desired max-height here */\n",
    "    max-width: 5000px;\n",
    "}\n",
    ".output_scroll {\n",
    "    box-shadow:none !important;\n",
    "    webkit-box-shadow:none !important;\n",
    "}\n",
    "</style>"
   ]
  },
  {
   "cell_type": "markdown",
   "metadata": {
    "extensions": {
     "jupyter_dashboards": {
      "version": 1,
      "views": {
       "grid_default": {
        "col": 4,
        "height": 4,
        "hidden": true,
        "row": 0,
        "width": 4
       },
       "report_default": {
        "hidden": false
       }
      }
     }
    }
   },
   "source": [
    "## Function to store values from the widgets:"
   ]
  },
  {
   "cell_type": "code",
   "execution_count": 3,
   "metadata": {
    "extensions": {
     "jupyter_dashboards": {
      "version": 1,
      "views": {
       "grid_default": {
        "hidden": true
       },
       "report_default": {
        "hidden": true
       }
      }
     }
    }
   },
   "outputs": [],
   "source": [
    "%gui asyncio\n",
    "\n",
    "def wait_for_change(widget, value):\n",
    "    future = asyncio.Future()\n",
    "    def getvalue(change):\n",
    "        # make the new value available\n",
    "        future.set_result(change.new)\n",
    "        widget.unobserve(getvalue, value)\n",
    "    widget.observe(getvalue, value)\n",
    "    temp = future\n",
    "    return future"
   ]
  },
  {
   "cell_type": "code",
   "execution_count": 4,
   "metadata": {
    "extensions": {
     "jupyter_dashboards": {
      "version": 1,
      "views": {
       "grid_default": {
        "col": 8,
        "height": 4,
        "hidden": false,
        "row": 4,
        "width": 2
       },
       "report_default": {}
      }
     }
    },
    "scrolled": false
   },
   "outputs": [
    {
     "data": {
      "image/jpeg": "[encoded data removed]",
      "text/plain": [
       "<IPython.core.display.Image object>"
      ]
     },
     "execution_count": 4,
     "metadata": {},
     "output_type": "execute_result"
    }
   ],
   "source": [
    "Image(filename='quad.jpg')"
   ]
  },
  {
   "cell_type": "markdown",
   "metadata": {
    "extensions": {
     "jupyter_dashboards": {
      "version": 1,
      "views": {
       "grid_default": {
        "col": 0,
        "height": 4,
        "hidden": true,
        "row": 95,
        "width": 4
       },
       "report_default": {}
      }
     }
    }
   },
   "source": [
    "## Define a custom color map function:"
   ]
  },
  {
   "cell_type": "code",
   "execution_count": 5,
   "metadata": {
    "extensions": {
     "jupyter_dashboards": {
      "version": 1,
      "views": {
       "grid_default": {
        "hidden": true
       },
       "report_default": {}
      }
     }
    }
   },
   "outputs": [],
   "source": [
    "def my_color_map(val):\n",
    "    if type(val) == str:\n",
    "        val = re.sub(r'%', ' ', val) # Remove '%', if any\n",
    "        color = 'red' if int(val) <= 0 else 'green'\n",
    "    else:\n",
    "        color = 'red' if val <= 0 else 'green'\n",
    "    return 'color: %s' % color\n",
    "\n",
    "# display(avg_table.style.background_gradient( cmap = \"coolwarm_r\" , axis = 0 ))"
   ]
  },
  {
   "cell_type": "markdown",
   "metadata": {
    "extensions": {
     "jupyter_dashboards": {
      "version": 1,
      "views": {
       "grid_default": {
        "col": 0,
        "height": 4,
        "hidden": true,
        "row": 40,
        "width": 4
       },
       "report_default": {}
      }
     }
    }
   },
   "source": [
    "# Collecting Data from excel and trimming it based on the requirement"
   ]
  },
  {
   "cell_type": "code",
   "execution_count": 6,
   "metadata": {
    "extensions": {
     "jupyter_dashboards": {
      "version": 1,
      "views": {
       "grid_default": {
        "hidden": true
       },
       "report_default": {}
      }
     }
    }
   },
   "outputs": [],
   "source": [
    "df_USD = pd.read_excel(\"Data.xlsx\", header = None,sheet_name = 'USD')\n",
    "df_gold = pd.read_excel(\"Data.xlsx\", header = None,sheet_name = 'gold')\n",
    "df_equity = pd.read_excel(\"Data.xlsx\", header = None,sheet_name = 'equity')\n",
    "df_bonds = pd.read_excel(\"Data.xlsx\", header = None,sheet_name = 'bonds')\n",
    "df_commodities = pd.read_excel(\"Data.xlsx\", header = None,sheet_name = 'commodities')\n",
    "df_GDP = pd.read_excel(\"Data.xlsx\", header = None,sheet_name = 'GDP')\n",
    "df_CPI = pd.read_excel(\"Data.xlsx\", header = None,sheet_name = 'CPI')\n",
    "\n",
    "\n",
    "df_USD.columns = ['Date','price']\n",
    "df_gold.columns = ['Date','price']\n",
    "df_equity.columns = ['Date','price']\n",
    "df_bonds.columns = ['Date','price']\n",
    "df_commodities.columns = ['Date','price']\n",
    "df_GDP.columns = ['Date','return']\n",
    "df_CPI.columns = ['Date','return']\n",
    "\n",
    "\n",
    "####   input below --- till what date you want to trim the data?\n",
    "\n",
    "Last_date_input = \"01OCT2015\"\n",
    "\n",
    "date = datetime.datetime.strptime(Last_date_input, \"%d%b%Y\")\n",
    "\n",
    "Last_date = date\n",
    "\n",
    "index_for_Last_date_testing =0\n",
    "\n",
    "\n",
    "for i in range(len(df_USD)):\n",
    "    \n",
    "    \n",
    "    if df_USD['Date'][i] ==  Last_date:\n",
    "        \n",
    "        index_for_Last_date_testing  = i\n",
    "        \n",
    "        break\n",
    "    \n",
    "    else:\n",
    "        continue\n",
    "\n",
    "        \n",
    "############## Below dataframes are new dateframes created from orginal dataframes which include entrire data\n",
    "############## Dataframes are trimmed according to the 'Date' inputed above \n",
    "\n",
    "df_USD = df_USD.loc[:index_for_Last_date_testing,:]\n",
    "df_gold = df_gold.loc[:index_for_Last_date_testing,:]\n",
    "df_equity = df_equity.loc[:index_for_Last_date_testing,:]\n",
    "df_bonds = df_bonds.loc[:index_for_Last_date_testing,:]\n",
    "df_commodities = df_commodities.loc[:index_for_Last_date_testing,:]\n",
    "df_GDP = df_GDP.loc[:index_for_Last_date_testing,:]\n",
    "df_CPI = df_CPI.loc[:index_for_Last_date_testing,:]\n"
   ]
  },
  {
   "cell_type": "markdown",
   "metadata": {
    "extensions": {
     "jupyter_dashboards": {
      "version": 1,
      "views": {
       "grid_default": {
        "col": 4,
        "height": 4,
        "hidden": true,
        "row": 40,
        "width": 4
       },
       "report_default": {}
      }
     }
    }
   },
   "source": [
    "# Splitting data in the above DataFrames -- to study correlation "
   ]
  },
  {
   "cell_type": "code",
   "execution_count": 7,
   "metadata": {
    "extensions": {
     "jupyter_dashboards": {
      "version": 1,
      "views": {
       "grid_default": {
        "hidden": true
       },
       "report_default": {}
      }
     }
    }
   },
   "outputs": [],
   "source": [
    "# n = 10 # 'n' is number of splits you want in data\n",
    "\n",
    "# num = [ i+1 for i in range(n) ] "
   ]
  },
  {
   "cell_type": "code",
   "execution_count": 8,
   "metadata": {
    "extensions": {
     "jupyter_dashboards": {
      "version": 1,
      "views": {
       "grid_default": {
        "hidden": true
       },
       "report_default": {}
      }
     }
    }
   },
   "outputs": [],
   "source": [
    "# for i in num:\n",
    "    \n",
    "\n",
    "#     if i != num[-1]:\n",
    "        \n",
    "#         vars()['dataUSD' + str(i)] = df_USD.iloc[(i-1)*math.floor(len(df_USD)/n):i*math.floor(len(df_USD)/n)]\n",
    "#         vars()['datagold' + str(i)] = df_gold.iloc[(i-1)*math.floor(len(df_gold)/n):i*math.floor(len(df_gold)/n)]\n",
    "#         vars()['dataequity' + str(i)] = df_equity.iloc[(i-1)*math.floor(len(df_equity)/n):i*math.floor(len(df_equity)/n)]\n",
    "#         vars()['databonds' + str(i)] = df_bonds.iloc[(i-1)*math.floor(len(df_bonds)/n):i*math.floor(len(df_bonds)/n)]\n",
    "#         vars()['datacommodities' + str(i)] = df_commodities.iloc[(i-1)*math.floor(len(df_commodities)/n):i*math.floor(len(df_commodities)/n)]\n",
    "#         vars()['dataGDP' + str(i)] = df_GDP.iloc[(i-1)*math.floor(len(df_GDP)/n):i*math.floor(len(df_GDP)/n)] \n",
    "#         vars()['dataCPI' + str(i)] = df_CPI.iloc[(i-1)*math.floor(len(df_CPI)/n):i*math.floor(len(df_CPI)/n)] \n",
    "        \n",
    "#     else:\n",
    "        \n",
    "#         vars()['dataUSD' + str(i)] = df_USD.iloc[(i-1)*math.floor(len(df_USD)/n):]\n",
    "#         vars()['datagold' + str(i)] = df_gold.iloc[(i-1)*math.floor(len(df_gold)/n):]\n",
    "#         vars()['dataequity' + str(i)] = df_equity.iloc[(i-1)*math.floor(len(df_equity)/n):]\n",
    "#         vars()['databonds' + str(i)] = df_bonds.iloc[(i-1)*math.floor(len(df_bonds)/n):]\n",
    "#         vars()['datacommodities' + str(i)] = df_commodities.iloc[(i-1)*math.floor(len(df_commodities)/n):]\n",
    "#         vars()['dataGDP' + str(i)] = df_GDP.iloc[(i-1)*math.floor(len(df_GDP)/n):] \n",
    "#         vars()['dataCPI' + str(i)] = df_CPI.iloc[(i-1)*math.floor(len(df_CPI)/n):]\n",
    "        \n",
    "    \n",
    "#     vars()['dataUSD_return' + str(i)] = vars()['dataUSD' + str(i)]['price'].pct_change()\n",
    "#     vars()['datagold_return' + str(i)] = vars()['datagold' + str(i)]['price'].pct_change()\n",
    "#     vars()['dataequity_return' + str(i)] = vars()['dataequity' + str(i)]['price'].pct_change()\n",
    "#     vars()['databonds_return' + str(i)] = -vars()['databonds' + str(i)]['price'].pct_change()\n",
    "#     vars()['datacommodities_return' + str(i)] = vars()['datacommodities' + str(i)]['price'].pct_change()\n",
    "#     vars()['dataGDP_return' + str(i)] = vars()['dataGDP' + str(i)]['return'].pct_change()\n",
    "#     vars()['dataCPI_return' + str(i)] = vars()['dataCPI' + str(i)]['return'].pct_change()\n",
    "    \n",
    "    \n",
    "    \n",
    "    \n",
    "#     vars()['AssetClass'+str(i)] = pd.DataFrame()\n",
    "#     vars()['AssetClass'+str(i)]['Equity'] = vars()['dataequity_return' + str(i)] \n",
    "#     vars()['AssetClass'+str(i)]['Bonds'] = vars()['databonds_return' + str(i)]\n",
    "#     vars()['AssetClass'+str(i)]['USD'] = vars()['dataUSD_return' + str(i)]\n",
    "#     vars()['AssetClass'+str(i)]['Gold'] = vars()['datagold_return' + str(i)]\n",
    "#     vars()['AssetClass'+str(i)]['commodities']= vars()['datacommodities_return' + str(i)]\n",
    "#     vars()['AssetClass'+str(i)]['GDP'] = vars()['dataGDP_return' + str(i)]\n",
    "#     vars()['AssetClass'+str(i)]['CPI'] = vars()['dataCPI_return' + str(i)]\n",
    "    \n",
    "#     vars()['AssetClass'+str(i)].dropna(inplace=True)\n",
    "\n",
    "#     vars()['AssetCorrmatrix'+str(i)]=vars()['AssetClass'+str(i)].corr()\n",
    "    \n"
   ]
  },
  {
   "cell_type": "code",
   "execution_count": 9,
   "metadata": {
    "extensions": {
     "jupyter_dashboards": {
      "version": 1,
      "views": {
       "grid_default": {
        "col": 0,
        "height": 8,
        "hidden": true,
        "row": 59,
        "width": 7
       },
       "report_default": {}
      }
     }
    }
   },
   "outputs": [],
   "source": [
    "# type 'AssetCorrmatrix2' -- this will give the correlation matrix if we had 2 splits in the data -- \n",
    "# if you have 3 splits then type 3 at end\n",
    "\n",
    "# AssetCorrmatrix2"
   ]
  },
  {
   "cell_type": "code",
   "execution_count": 10,
   "metadata": {
    "extensions": {
     "jupyter_dashboards": {
      "version": 1,
      "views": {
       "grid_default": {
        "hidden": true
       },
       "report_default": {}
      }
     }
    }
   },
   "outputs": [],
   "source": [
    "# ### for example : equity_bond -- this will give the list of correlations between equity and bond --- \n",
    "# ### correlation in the list are in order --- first element in the list will give you correlation of all the returns \\\\\\\n",
    "# ### of bonds and equity that fall into first cluster of data ( after splitting it into 'n' clusters)\n",
    "\n",
    "# equity_bond = []\n",
    "# equity_USD = []\n",
    "# equity_gold = []\n",
    "# equity_commodities = []\n",
    "# bonds_USD = []\n",
    "# bonds_gold =[]\n",
    "# bonds_commodities = []\n",
    "# USD_gold =[]\n",
    "# USD_commodities =[]\n",
    "# gold_commodities = []\n",
    "\n",
    "\n",
    "# for i in num:\n",
    "#     equity_bond.append(vars()['AssetCorrmatrix' + str(i)]['Equity']['Bonds']) \n",
    "#     equity_USD.append(vars()['AssetCorrmatrix' + str(i)]['Equity']['USD'])\n",
    "#     equity_gold.append(vars()['AssetCorrmatrix' + str(i)]['Equity']['Gold'])\n",
    "#     equity_commodities.append(vars()['AssetCorrmatrix' + str(i)]['Equity']['commodities'])\n",
    "#     bonds_USD.append(vars()['AssetCorrmatrix' + str(i)]['Bonds']['USD'])\n",
    "#     bonds_gold.append(vars()['AssetCorrmatrix' + str(i)]['Bonds']['Gold'])\n",
    "#     bonds_commodities.append(vars()['AssetCorrmatrix' + str(i)]['Bonds']['commodities'])\n",
    "#     USD_gold.append(vars()['AssetCorrmatrix' + str(i)]['USD']['Gold'])\n",
    "#     USD_commodities.append(vars()['AssetCorrmatrix' + str(i)]['USD']['commodities'])\n",
    "#     gold_commodities.append(vars()['AssetCorrmatrix' + str(i)]['Gold']['commodities'])"
   ]
  },
  {
   "cell_type": "code",
   "execution_count": 14,
   "metadata": {
    "extensions": {
     "jupyter_dashboards": {
      "version": 1,
      "views": {
       "grid_default": {
        "hidden": true
       },
       "report_default": {}
      }
     }
    }
   },
   "outputs": [],
   "source": [
    "# correlation = pd.DataFrame()  #shows correlation of different asset classes over different time spans "
   ]
  },
  {
   "cell_type": "code",
   "execution_count": 13,
   "metadata": {
    "extensions": {
     "jupyter_dashboards": {
      "version": 1,
      "views": {
       "grid_default": {
        "hidden": true
       },
       "report_default": {}
      }
     }
    }
   },
   "outputs": [],
   "source": [
    "# correlation['equity_bond'] = equity_bond\n",
    "# correlation['equity_USD'] = equity_USD\n",
    "# correlation['equity_gold'] = equity_gold\n",
    "# correlation['equity_commodities'] = equity_commodities\n",
    "# correlation['bonds_USD'] = bonds_USD\n",
    "# correlation['bonds_gold'] = bonds_gold\n",
    "# correlation['bonds_commodities'] = bonds_commodities\n",
    "# correlation['USD_gold'] = USD_gold\n",
    "# correlation['USD_commodities '] = USD_commodities \n",
    "# correlation['gold_commodities'] = gold_commodities"
   ]
  },
  {
   "cell_type": "code",
   "execution_count": null,
   "metadata": {
    "extensions": {
     "jupyter_dashboards": {
      "version": 1,
      "views": {
       "grid_default": {
        "col": 0,
        "height": 11,
        "hidden": true,
        "row": 59,
        "width": 11
       },
       "report_default": {}
      }
     }
    }
   },
   "outputs": [],
   "source": [
    "# correlation   "
   ]
  },
  {
   "cell_type": "code",
   "execution_count": null,
   "metadata": {
    "extensions": {
     "jupyter_dashboards": {
      "version": 1,
      "views": {
       "grid_default": {
        "col": 8,
        "height": 4,
        "hidden": true,
        "row": 40,
        "width": 4
       },
       "report_default": {}
      }
     }
    }
   },
   "outputs": [],
   "source": [
    "# Plotting the correlation of assets in each time-span that was split above"
   ]
  },
  {
   "cell_type": "code",
   "execution_count": null,
   "metadata": {
    "extensions": {
     "jupyter_dashboards": {
      "version": 1,
      "views": {
       "grid_default": {
        "hidden": true
       },
       "report_default": {}
      }
     }
    }
   },
   "outputs": [],
   "source": [
    "# plt.figure(figsize=(30, 30))\n",
    "\n",
    "# plt.subplot(4,3,1)\n",
    "# plt.plot(num,equity_bond)\n",
    "# plt.title('equity and bonds')\n",
    "\n",
    "# plt.subplot(4,3,2)\n",
    "# plt.plot(num,equity_USD)\n",
    "# plt.title('equity and USD')\n",
    "\n",
    "# plt.subplot(4,3,3)\n",
    "# plt.plot(num,equity_gold)\n",
    "# plt.title('equity and gold')\n",
    "\n",
    "# plt.subplot(4,3,4)\n",
    "# plt.plot(num,equity_commodities)\n",
    "# plt.title('equity and commodities')\n",
    "\n",
    "# plt.subplot(4,3,5)\n",
    "# plt.plot(num, bonds_USD)\n",
    "# plt.title('Bonds and USD')\n",
    "\n",
    "# plt.subplot(4,3,6)\n",
    "# plt.plot(num, bonds_gold)\n",
    "# plt.title('Bonds and Gold')\n",
    "\n",
    "# plt.subplot(4,3,7)\n",
    "# plt.plot(num, bonds_commodities)\n",
    "# plt.title('Bonds and Commodities')\n",
    "\n",
    "# plt.subplot(4,3,8)\n",
    "# plt.plot(num, USD_gold)\n",
    "# plt.title('USD and Gold')\n",
    "\n",
    "# plt.subplot(4,3,9)\n",
    "# plt.plot(num, USD_commodities )\n",
    "# plt.title('USD and Commodities')\n",
    "\n",
    "# plt.subplot(4,3,10)\n",
    "# plt.plot(num, USD_commodities )\n",
    "# plt.title('USD and Commodities')\n",
    "\n",
    "#plt.show()\n"
   ]
  },
  {
   "cell_type": "code",
   "execution_count": null,
   "metadata": {
    "extensions": {
     "jupyter_dashboards": {
      "version": 1,
      "views": {
       "grid_default": {
        "col": 7,
        "height": 4,
        "hidden": true,
        "row": 40,
        "width": 4
       },
       "report_default": {}
      }
     }
    }
   },
   "outputs": [],
   "source": [
    "# below code output will produce heat maps for each split we made in the data "
   ]
  },
  {
   "cell_type": "code",
   "execution_count": null,
   "metadata": {
    "extensions": {
     "jupyter_dashboards": {
      "version": 1,
      "views": {
       "grid_default": {
        "hidden": true
       },
       "report_default": {}
      }
     }
    }
   },
   "outputs": [],
   "source": [
    "# # Compute the correlation matrix\n",
    "# for i in num:\n",
    "#     corr = vars()['AssetCorrmatrix' + str(i)]\n",
    "#     sns.set(style = \"white\")\n",
    "\n",
    "# # Generate a mask for the upper triangle\n",
    "#     mask = np.zeros_like(corr, dtype = np.bool)\n",
    "#     mask[np.triu_indices_from(mask)] = True\n",
    "\n",
    "# # Set up the matplotlib figure\n",
    "#     f, ax = plt.subplots(figsize=(11, 9))\n",
    "\n",
    "# # Generate a custom diverging colormap\n",
    "#     cmap = sns.diverging_palette(220, 10, as_cmap = True)\n",
    "\n",
    "# # # Draw the heatmap with the mask and correct aspect ratio\n",
    "# #     sns.heatmap(corr, mask = mask, cmap = cmap, vmax = 0.3, center = 0, \n",
    "# #                 square = True, linewidths = 0.5, cbar_kws = {\"shrink\": 0.5})\n",
    "\n",
    "# # Looking at the heatmap, we don't see much correlation among variables, expect for an inverse mpg to engine size, which makes sense"
   ]
  },
  {
   "cell_type": "code",
   "execution_count": null,
   "metadata": {
    "extensions": {
     "jupyter_dashboards": {
      "version": 1,
      "views": {
       "grid_default": {
        "col": 0,
        "height": 4,
        "hidden": true,
        "row": 59,
        "width": 12
       },
       "report_default": {}
      }
     }
    }
   },
   "outputs": [],
   "source": [
    "# Creating a DataFrame to observe correlation between each Asset class and GDP, PCE"
   ]
  },
  {
   "cell_type": "code",
   "execution_count": 16,
   "metadata": {
    "extensions": {
     "jupyter_dashboards": {
      "version": 1,
      "views": {
       "grid_default": {
        "hidden": true
       },
       "report_default": {}
      }
     }
    }
   },
   "outputs": [],
   "source": [
    "# equity_GDP = []\n",
    "# equity_CPI = []\n",
    "\n",
    "# bonds_GDP = []\n",
    "# bonds_CPI =[]\n",
    "\n",
    "# USD_GDP =[]\n",
    "# USD_CPI =[]\n",
    "\n",
    "# gold_GDP = []\n",
    "# gold_CPI = []\n",
    "\n",
    "# commodities_GDP = []\n",
    "# commodities_CPI = []\n",
    "\n",
    "# GDP_CPI = []\n",
    "\n",
    "\n",
    "\n",
    "# for i in num:\n",
    "    \n",
    "#     equity_GDP.append(vars()['AssetCorrmatrix' + str(i)]['Equity']['GDP']) \n",
    "#     equity_CPI.append(vars()['AssetCorrmatrix' + str(i)]['Equity']['CPI'])\n",
    "    \n",
    "#     bonds_GDP.append(vars()['AssetCorrmatrix' + str(i)]['Bonds']['GDP'])\n",
    "#     bonds_CPI.append(vars()['AssetCorrmatrix' + str(i)]['Bonds']['CPI'])\n",
    "    \n",
    "#     USD_GDP.append(vars()['AssetCorrmatrix' + str(i)]['USD']['GDP'])\n",
    "#     USD_CPI.append(vars()['AssetCorrmatrix' + str(i)]['USD']['CPI'])\n",
    "    \n",
    "#     gold_GDP.append(vars()['AssetCorrmatrix' + str(i)]['Gold']['GDP'])\n",
    "#     gold_CPI.append(vars()['AssetCorrmatrix' + str(i)]['Gold']['CPI'])\n",
    "    \n",
    "#     commodities_GDP.append(vars()['AssetCorrmatrix' + str(i)]['commodities']['GDP'])\n",
    "#     commodities_CPI.append(vars()['AssetCorrmatrix' + str(i)]['commodities']['CPI'])\n",
    "    \n",
    "#     GDP_CPI.append(vars()['AssetCorrmatrix' + str(i)]['CPI']['GDP'])\n",
    "    "
   ]
  },
  {
   "cell_type": "code",
   "execution_count": 17,
   "metadata": {
    "extensions": {
     "jupyter_dashboards": {
      "version": 1,
      "views": {
       "grid_default": {
        "hidden": true
       },
       "report_default": {}
      }
     }
    }
   },
   "outputs": [],
   "source": [
    "# correlation_Assets_GDP_CPI = pd.DataFrame()"
   ]
  },
  {
   "cell_type": "code",
   "execution_count": 18,
   "metadata": {
    "extensions": {
     "jupyter_dashboards": {
      "version": 1,
      "views": {
       "grid_default": {
        "hidden": true
       },
       "report_default": {}
      }
     }
    }
   },
   "outputs": [],
   "source": [
    "# correlation_Assets_GDP_CPI['equity_GDP'] = equity_GDP\n",
    "# correlation_Assets_GDP_CPI['equity_CPI'] = equity_CPI\n",
    "\n",
    "# correlation_Assets_GDP_CPI['bonds_GDP'] = bonds_GDP\n",
    "# correlation_Assets_GDP_CPI['bonds_CPI'] = bonds_CPI\n",
    "\n",
    "# correlation_Assets_GDP_CPI['USD_GDP'] = USD_GDP\n",
    "# correlation_Assets_GDP_CPI['USD_CPI'] = USD_CPI\n",
    "\n",
    "# correlation_Assets_GDP_CPI['gold_GDP'] = gold_GDP\n",
    "# correlation_Assets_GDP_CPI['gold_CPI'] = gold_CPI\n",
    "\n",
    "# correlation_Assets_GDP_CPI['commodities_GDP'] = commodities_GDP\n",
    "# correlation_Assets_GDP_CPI['commodities_CPI'] = commodities_CPI\n",
    "\n",
    "# correlation_Assets_GDP_CPI['GDP_CPI'] = GDP_CPI\n"
   ]
  },
  {
   "cell_type": "code",
   "execution_count": null,
   "metadata": {
    "extensions": {
     "jupyter_dashboards": {
      "version": 1,
      "views": {
       "grid_default": {
        "col": 0,
        "height": 11,
        "hidden": true,
        "row": 70,
        "width": 10
       },
       "report_default": {}
      }
     }
    }
   },
   "outputs": [],
   "source": [
    "# correlation_Assets_GDP_CPI"
   ]
  },
  {
   "cell_type": "code",
   "execution_count": null,
   "metadata": {
    "extensions": {
     "jupyter_dashboards": {
      "version": 1,
      "views": {
       "grid_default": {
        "col": 7,
        "height": 4,
        "hidden": true,
        "row": 40,
        "width": 4
       },
       "report_default": {}
      }
     }
    }
   },
   "outputs": [],
   "source": [
    "# Plotting the Correlation between Assets - GDP&CPI "
   ]
  },
  {
   "cell_type": "code",
   "execution_count": null,
   "metadata": {
    "extensions": {
     "jupyter_dashboards": {
      "version": 1,
      "views": {
       "grid_default": {
        "hidden": true
       },
       "report_default": {}
      }
     }
    }
   },
   "outputs": [],
   "source": [
    "\n",
    "# plt.figure(figsize=(30, 30))\n",
    "\n",
    "# plt.subplot(4,3,1)\n",
    "# plt.plot(num,equity_GDP)\n",
    "# plt.title('equity and GDP')\n",
    "\n",
    "# plt.subplot(4,3,2)\n",
    "# plt.plot(num,equity_CPI)\n",
    "# plt.title('equity and CPI')\n",
    "\n",
    "# plt.subplot(4,3,3)\n",
    "# plt.plot(num,bonds_GDP)\n",
    "# plt.title('Bonds and GDP')\n",
    "\n",
    "# plt.subplot(4,3,4)\n",
    "# plt.plot(num,bonds_CPI)\n",
    "# plt.title('Bonds and CPI')\n",
    "\n",
    "# plt.subplot(4,3,5)\n",
    "# plt.plot(num, USD_GDP)\n",
    "# plt.title('USD and GDP')\n",
    "\n",
    "# plt.subplot(4,3,6)\n",
    "# plt.plot(num,USD_CPI)\n",
    "# plt.title('USD and CPI')\n",
    "\n",
    "# plt.subplot(4,3,7)\n",
    "# plt.plot(num, commodities_GDP)\n",
    "# plt.title('Commodities and GDP')\n",
    "\n",
    "# plt.subplot(4,3,8)\n",
    "# plt.plot(num, commodities_CPI)\n",
    "# plt.title('commodities and CPI')\n",
    "\n",
    "# plt.subplot(4,3,9)\n",
    "# plt.plot(num, gold_GDP )\n",
    "# plt.title('Gold and GDP')\n",
    "\n",
    "# plt.subplot(4,3,10)\n",
    "# plt.plot(num, gold_CPI )\n",
    "# plt.title('gold and CPI')\n",
    "\n",
    "# plt.subplot(4,3,11)\n",
    "# plt.plot(num, GDP_CPI )\n",
    "# plt.title('GDP and CPI')\n",
    "\n",
    "# plt.show()\n"
   ]
  },
  {
   "cell_type": "code",
   "execution_count": 19,
   "metadata": {
    "extensions": {
     "jupyter_dashboards": {
      "version": 1,
      "views": {
       "grid_default": {
        "hidden": true
       },
       "report_default": {}
      }
     }
    }
   },
   "outputs": [],
   "source": [
    "#### below list contains change in GDP values quarter on quarter \n",
    "\n",
    "delta_change_GDP = [df_GDP['return'][i+1] - df_GDP['return'][i] for i in range(len(df_GDP)-1)]\n",
    "\n"
   ]
  },
  {
   "cell_type": "code",
   "execution_count": 20,
   "metadata": {
    "extensions": {
     "jupyter_dashboards": {
      "version": 1,
      "views": {
       "grid_default": {
        "hidden": true
       },
       "report_default": {}
      }
     }
    }
   },
   "outputs": [],
   "source": [
    "#### below list contains change in CPI values quarter on quarter \n",
    "\n",
    "delta_change_CPI = [df_CPI['return'][i+1] - df_CPI['return'][i] for i in range(len(df_GDP)-1)]\n"
   ]
  },
  {
   "cell_type": "code",
   "execution_count": null,
   "metadata": {
    "extensions": {
     "jupyter_dashboards": {
      "version": 1,
      "views": {
       "grid_default": {
        "col": 0,
        "height": 4,
        "hidden": true,
        "row": 70,
        "width": 4
       },
       "report_default": {}
      }
     }
    }
   },
   "outputs": [],
   "source": [
    "# Plotting values of GDP and Inflation - Data is from 1993 Q1 to 2015 Q4"
   ]
  },
  {
   "cell_type": "code",
   "execution_count": null,
   "metadata": {
    "extensions": {
     "jupyter_dashboards": {
      "version": 1,
      "views": {
       "grid_default": {
        "col": 4,
        "height": 14,
        "hidden": true,
        "row": 70,
        "width": 4
       },
       "report_default": {}
      }
     }
    }
   },
   "outputs": [],
   "source": [
    "# plt.figure(figsize=(10, 10))\n",
    "# plt.plot([0,0],[-5,6], linewidth=0.5, color='green' )\n",
    "# plt.plot([-5,6],[0,0], linewidth=0.5, color='green' )\n",
    "# plt.plot(df_CPI['return'],df_GDP['return'],'.')\n",
    "# plt.xlabel('Inflation in a quarter')\n",
    "# plt.ylabel('GDP in a quarter')"
   ]
  },
  {
   "cell_type": "markdown",
   "metadata": {
    "extensions": {
     "jupyter_dashboards": {
      "version": 1,
      "views": {
       "grid_default": {
        "col": 8,
        "height": 4,
        "hidden": true,
        "row": 70,
        "width": 4
       },
       "report_default": {}
      }
     }
    }
   },
   "source": [
    "# Plotting change in GDP and Inflation values -  Data is from 1993 Q1 to 2015 Q4"
   ]
  },
  {
   "cell_type": "code",
   "execution_count": 21,
   "metadata": {
    "extensions": {
     "jupyter_dashboards": {
      "version": 1,
      "views": {
       "grid_default": {
        "col": 0,
        "height": 14,
        "hidden": false,
        "row": 10,
        "width": 4
       },
       "report_default": {}
      }
     }
    }
   },
   "outputs": [
    {
     "data": {
      "image/png": "[encoded data removed]",
      "text/plain": [
       "<Figure size 720x720 with 1 Axes>"
      ]
     },
     "metadata": {},
     "output_type": "display_data"
    }
   ],
   "source": [
    "##### How I defined the quadrant\n",
    "##### Quadrant 1 - Growing GDP(y-axis) & growing inflation(x-axis)\n",
    "##### Quadrant 2 - Growing GDP(y-axis) & falling inflation(x-axis)\n",
    "##### Quadrant 3 - Falling is(y-axis) & falling inflation(x-axis)\n",
    "##### Quadrant 4 - Falling is(y-axis) & growing inflation(x-axis)\n",
    "\n",
    "\n",
    "plt.figure(figsize=(10, 10))\n",
    "plt.plot([0,0],[-5,5], linewidth=0.5, color='green' )\n",
    "plt.plot([-5,5],[0,0], linewidth=0.5, color='green' )\n",
    "plt.plot(delta_change_CPI,delta_change_GDP,'.')\n",
    "plt.xlabel('Inflation change quarter on quarter')\n",
    "plt.ylabel('GDP change quater on quarter')\n",
    "\n",
    "plt.show()"
   ]
  },
  {
   "cell_type": "markdown",
   "metadata": {
    "extensions": {
     "jupyter_dashboards": {
      "version": 1,
      "views": {
       "grid_default": {
        "col": 0,
        "height": 5,
        "hidden": true,
        "row": 84,
        "width": 12
       },
       "report_default": {}
      }
     }
    }
   },
   "source": [
    "# Creating a DataFrame - 'data_point' to study the data points collected above \n",
    "\n",
    "# Data points here are all the ( delta inflation, delta GDP) points in between 1993 Q1 and 2015 Q4"
   ]
  },
  {
   "cell_type": "code",
   "execution_count": 22,
   "metadata": {
    "extensions": {
     "jupyter_dashboards": {
      "version": 1,
      "views": {
       "grid_default": {
        "hidden": true
       },
       "report_default": {}
      }
     }
    }
   },
   "outputs": [],
   "source": [
    "data_point = pd.DataFrame()\n",
    "data_point['Date'] = df_GDP['Date'][1:]\n",
    "data_point['delta_change_CPI'] = delta_change_CPI\n",
    "data_point['delta_change_GDP'] = delta_change_GDP\n",
    "data_point['quadrant_number'] = np.zeros(len(delta_change_CPI))\n"
   ]
  },
  {
   "cell_type": "code",
   "execution_count": 23,
   "metadata": {
    "extensions": {
     "jupyter_dashboards": {
      "version": 1,
      "views": {
       "grid_default": {
        "hidden": true
       },
       "report_default": {}
      }
     }
    }
   },
   "outputs": [],
   "source": [
    "#### for example: 'index_quadrant1' will give us a list of index of all the data points that fall into 1st quadrant  ( index is coming from 'data_point' DataFrame)\n",
    "#### for example: 'Date_quadrant2' will give us a list of dates of all the data points that fall into 1st quadrant \n",
    "\n",
    "Date_quadrant1 = []\n",
    "index_quadrant1 = []\n",
    "\n",
    "Date_quadrant2 = []\n",
    "index_quadrant2 = []\n",
    "\n",
    "Date_quadrant3 = []\n",
    "index_quadrant3 = []\n",
    "\n",
    "Date_quadrant4 = []\n",
    "index_quadrant4 = []\n"
   ]
  },
  {
   "cell_type": "code",
   "execution_count": 24,
   "metadata": {
    "extensions": {
     "jupyter_dashboards": {
      "version": 1,
      "views": {
       "grid_default": {
        "hidden": true
       },
       "report_default": {}
      }
     }
    }
   },
   "outputs": [],
   "source": [
    "\n",
    "for i in range(len(delta_change_CPI)):\n",
    "    \n",
    "    if data_point.iloc[i,1]>=0 and data_point.iloc[i,2]>=0:\n",
    "        \n",
    "        Date_quadrant1.append(data_point['Date'][i+1])\n",
    "        index_quadrant1.append(i+1)\n",
    "        \n",
    "        \n",
    "    elif data_point.iloc[i,1]<0 and data_point.iloc[i,2]>=0:\n",
    "        Date_quadrant2.append(data_point['Date'][i+1])    \n",
    "        index_quadrant2.append(i+1)\n",
    "        \n",
    "        \n",
    "    elif data_point.iloc[i,1]<0 and data_point.iloc[i,2]<0:\n",
    "        Date_quadrant3.append(data_point['Date'][i+1])    \n",
    "        index_quadrant3.append(i+1)\n",
    "        \n",
    "        \n",
    "    else:\n",
    "        Date_quadrant4.append(data_point['Date'][i+1])\n",
    "        index_quadrant4.append(i+1)\n",
    "        \n",
    "        \n",
    "        "
   ]
  },
  {
   "cell_type": "code",
   "execution_count": 25,
   "metadata": {
    "extensions": {
     "jupyter_dashboards": {
      "version": 1,
      "views": {
       "grid_default": {
        "hidden": true
       },
       "report_default": {}
      }
     }
    }
   },
   "outputs": [],
   "source": [
    "for i in index_quadrant1:\n",
    "    data_point.loc[i,'quadrant_number'] = int(1)\n",
    "\n",
    "for i in index_quadrant2:\n",
    "    data_point.loc[i,'quadrant_number'] = int(2)\n",
    "    \n",
    "for i in index_quadrant3:\n",
    "    data_point.loc[i,'quadrant_number'] = int(3)\n",
    "    \n",
    "for i in index_quadrant4:\n",
    "    data_point.loc[i,'quadrant_number'] = int(4)"
   ]
  },
  {
   "cell_type": "code",
   "execution_count": 26,
   "metadata": {
    "extensions": {
     "jupyter_dashboards": {
      "version": 1,
      "views": {
       "grid_default": {
        "hidden": true
       },
       "report_default": {}
      }
     }
    }
   },
   "outputs": [],
   "source": [
    "data_point['previous_quadrant'] = np.zeros(len(data_point))\n",
    "data_point['next_quadrant'] = np.zeros(len(data_point))"
   ]
  },
  {
   "cell_type": "code",
   "execution_count": 27,
   "metadata": {
    "extensions": {
     "jupyter_dashboards": {
      "version": 1,
      "views": {
       "grid_default": {
        "hidden": true
       },
       "report_default": {}
      }
     }
    }
   },
   "outputs": [],
   "source": [
    "warnings.filterwarnings('ignore') \n",
    "data_point['previous_quadrant'][1] = 'data_not_available'\n",
    "data_point['next_quadrant'][len(data_point)] = 'data_not_available'\n"
   ]
  },
  {
   "cell_type": "code",
   "execution_count": 28,
   "metadata": {
    "extensions": {
     "jupyter_dashboards": {
      "version": 1,
      "views": {
       "grid_default": {
        "hidden": true
       },
       "report_default": {}
      }
     }
    }
   },
   "outputs": [],
   "source": [
    "warnings.filterwarnings('ignore') \n",
    "for i in data_point.index[1:]:\n",
    "        data_point['previous_quadrant'][i] = data_point['quadrant_number'][i-1]\n",
    "\n",
    "for i in data_point.index[:-1]:\n",
    "        data_point['next_quadrant'][i] = data_point['quadrant_number'][i+1]  \n",
    "                "
   ]
  },
  {
   "cell_type": "code",
   "execution_count": null,
   "metadata": {
    "extensions": {
     "jupyter_dashboards": {
      "version": 1,
      "views": {
       "grid_default": {
        "col": 0,
        "height": 67,
        "hidden": true,
        "row": 84,
        "width": 7
       },
       "report_default": {}
      }
     }
    }
   },
   "outputs": [],
   "source": [
    "# data_point"
   ]
  },
  {
   "cell_type": "code",
   "execution_count": 29,
   "metadata": {
    "extensions": {
     "jupyter_dashboards": {
      "version": 1,
      "views": {
       "grid_default": {
        "hidden": true
       },
       "report_default": {}
      }
     }
    },
    "scrolled": false
   },
   "outputs": [],
   "source": [
    "data_point['USD returns'] = df_USD['price'].pct_change()[1:]*100\n",
    "data_point['gold returns'] = df_gold['price'].pct_change()[1:]*100\n",
    "data_point['equity returns'] = df_equity['price'].pct_change()[1:]*100\n",
    "data_point['bonds returns'] = -df_bonds['price'].pct_change()[1:]*100\n",
    "data_point['commodities returns'] = df_commodities['price'].pct_change()[1:]*100\n",
    "#data_point\n"
   ]
  },
  {
   "cell_type": "code",
   "execution_count": 30,
   "metadata": {
    "extensions": {
     "jupyter_dashboards": {
      "version": 1,
      "views": {
       "grid_default": {
        "col": 0,
        "height": 9,
        "hidden": true,
        "row": 73,
        "width": 11
       },
       "report_default": {}
      }
     }
    }
   },
   "outputs": [
    {
     "data": {
      "text/html": [
       "<div>\n",
       "<style scoped>\n",
       "    .dataframe tbody tr th:only-of-type {\n",
       "        vertical-align: middle;\n",
       "    }\n",
       "\n",
       "    .dataframe tbody tr th {\n",
       "        vertical-align: top;\n",
       "    }\n",
       "\n",
       "    .dataframe thead th {\n",
       "        text-align: right;\n",
       "    }\n",
       "</style>\n",
       "<table border=\"1\" class=\"dataframe\">\n",
       "  <thead>\n",
       "    <tr style=\"text-align: right;\">\n",
       "      <th></th>\n",
       "      <th>Date</th>\n",
       "      <th>delta_change_CPI</th>\n",
       "      <th>delta_change_GDP</th>\n",
       "      <th>quadrant_number</th>\n",
       "      <th>previous_quadrant</th>\n",
       "      <th>next_quadrant</th>\n",
       "      <th>USD returns</th>\n",
       "      <th>gold returns</th>\n",
       "      <th>equity returns</th>\n",
       "      <th>bonds returns</th>\n",
       "      <th>commodities returns</th>\n",
       "      <th>Year</th>\n",
       "    </tr>\n",
       "  </thead>\n",
       "  <tbody>\n",
       "    <tr>\n",
       "      <th>1</th>\n",
       "      <td>1993-Q2</td>\n",
       "      <td>-0.1</td>\n",
       "      <td>-0.5</td>\n",
       "      <td>3.0</td>\n",
       "      <td>data_not_available</td>\n",
       "      <td>3</td>\n",
       "      <td>1.893981</td>\n",
       "      <td>11.533923</td>\n",
       "      <td>-0.276625</td>\n",
       "      <td>4.116866</td>\n",
       "      <td>-7.467700</td>\n",
       "      <td>1993</td>\n",
       "    </tr>\n",
       "    <tr>\n",
       "      <th>2</th>\n",
       "      <td>1993-Q3</td>\n",
       "      <td>-0.3</td>\n",
       "      <td>-0.5</td>\n",
       "      <td>3.0</td>\n",
       "      <td>3</td>\n",
       "      <td>1</td>\n",
       "      <td>-0.843927</td>\n",
       "      <td>-6.003703</td>\n",
       "      <td>1.941748</td>\n",
       "      <td>6.821330</td>\n",
       "      <td>0.788432</td>\n",
       "      <td>1993</td>\n",
       "    </tr>\n",
       "    <tr>\n",
       "      <th>3</th>\n",
       "      <td>1993-Q4</td>\n",
       "      <td>0.0</td>\n",
       "      <td>0.3</td>\n",
       "      <td>1.0</td>\n",
       "      <td>3</td>\n",
       "      <td>2</td>\n",
       "      <td>4.330963</td>\n",
       "      <td>9.932470</td>\n",
       "      <td>1.428680</td>\n",
       "      <td>-7.655147</td>\n",
       "      <td>-7.782495</td>\n",
       "      <td>1993</td>\n",
       "    </tr>\n",
       "    <tr>\n",
       "      <th>4</th>\n",
       "      <td>1994-Q1</td>\n",
       "      <td>-0.2</td>\n",
       "      <td>0.8</td>\n",
       "      <td>2.0</td>\n",
       "      <td>1</td>\n",
       "      <td>1</td>\n",
       "      <td>-3.903346</td>\n",
       "      <td>0.076785</td>\n",
       "      <td>-4.292417</td>\n",
       "      <td>-16.292717</td>\n",
       "      <td>4.177025</td>\n",
       "      <td>1994</td>\n",
       "    </tr>\n",
       "    <tr>\n",
       "      <th>5</th>\n",
       "      <td>1994-Q2</td>\n",
       "      <td>0.0</td>\n",
       "      <td>0.8</td>\n",
       "      <td>1.0</td>\n",
       "      <td>2</td>\n",
       "      <td>1</td>\n",
       "      <td>-3.696540</td>\n",
       "      <td>-1.202046</td>\n",
       "      <td>-0.280308</td>\n",
       "      <td>-8.637578</td>\n",
       "      <td>5.691492</td>\n",
       "      <td>1994</td>\n",
       "    </tr>\n",
       "  </tbody>\n",
       "</table>\n",
       "</div>"
      ],
      "text/plain": [
       "      Date  delta_change_CPI  delta_change_GDP  quadrant_number  \\\n",
       "1  1993-Q2              -0.1              -0.5              3.0   \n",
       "2  1993-Q3              -0.3              -0.5              3.0   \n",
       "3  1993-Q4               0.0               0.3              1.0   \n",
       "4  1994-Q1              -0.2               0.8              2.0   \n",
       "5  1994-Q2               0.0               0.8              1.0   \n",
       "\n",
       "    previous_quadrant next_quadrant  USD returns  gold returns  \\\n",
       "1  data_not_available             3     1.893981     11.533923   \n",
       "2                   3             1    -0.843927     -6.003703   \n",
       "3                   3             2     4.330963      9.932470   \n",
       "4                   1             1    -3.903346      0.076785   \n",
       "5                   2             1    -3.696540     -1.202046   \n",
       "\n",
       "   equity returns  bonds returns  commodities returns  Year  \n",
       "1       -0.276625       4.116866            -7.467700  1993  \n",
       "2        1.941748       6.821330             0.788432  1993  \n",
       "3        1.428680      -7.655147            -7.782495  1993  \n",
       "4       -4.292417     -16.292717             4.177025  1994  \n",
       "5       -0.280308      -8.637578             5.691492  1994  "
      ]
     },
     "execution_count": 30,
     "metadata": {},
     "output_type": "execute_result"
    }
   ],
   "source": [
    "data_point['Year'] = data_point.Date.str.slice(0, 4) ## Extract the year\n",
    "data_point.head()\n"
   ]
  },
  {
   "cell_type": "markdown",
   "metadata": {
    "extensions": {
     "jupyter_dashboards": {
      "version": 1,
      "views": {
       "grid_default": {
        "col": 0,
        "height": 4,
        "hidden": true,
        "row": 0,
        "width": 4
       },
       "report_default": {
        "hidden": false
       }
      }
     }
    }
   },
   "source": [
    "## Create required dictionaries:"
   ]
  },
  {
   "cell_type": "code",
   "execution_count": 31,
   "metadata": {
    "extensions": {
     "jupyter_dashboards": {
      "version": 1,
      "views": {
       "grid_default": {
        "hidden": true
       },
       "report_default": {
        "hidden": true
       }
      }
     }
    }
   },
   "outputs": [],
   "source": [
    "## Create dictionary with Assets available: \n",
    "asset_dic = ['USD' , 'gold' , 'equity' , 'bonds' , 'commodities']\n",
    "asset_list = {key: value for (key, value) in zip(asset_dic, asset_dic)}\n",
    "\n",
    "## Create a Dictionary of all the available timeperiods:\n",
    "timeframe_dic = list(data_point.Year.unique())\n",
    "timeframe_list = {key: value for (key, value) in zip(timeframe_dic, timeframe_dic)}\n"
   ]
  },
  {
   "cell_type": "markdown",
   "metadata": {
    "extensions": {
     "jupyter_dashboards": {
      "version": 1,
      "views": {
       "grid_default": {
        "col": 8,
        "height": 4,
        "hidden": true,
        "row": 0,
        "width": 4
       },
       "report_default": {
        "hidden": false
       }
      }
     }
    }
   },
   "source": [
    "## Based on User Inputs, Select the Assets and Fields:"
   ]
  },
  {
   "cell_type": "code",
   "execution_count": 32,
   "metadata": {
    "extensions": {
     "jupyter_dashboards": {
      "version": 1,
      "views": {
       "grid_default": {
        "col": 0,
        "height": 13,
        "hidden": true,
        "row": 0,
        "width": 12
       },
       "report_default": {
        "hidden": false
       }
      }
     }
    },
    "scrolled": true
   },
   "outputs": [
    {
     "data": {
      "text/plain": [
       "<Task pending coro=<f_corr() running at <ipython-input-32-2bcba32fffa0>:86>>"
      ]
     },
     "execution_count": 32,
     "metadata": {},
     "output_type": "execute_result"
    }
   ],
   "source": [
    "## Define functions for the widgets:\n",
    "\n",
    "# Print Asset Selected:\n",
    "def print_assets(Asset_Class):\n",
    "    Asset_Class\n",
    "\n",
    "# Timeframe Selection:\n",
    "def print_time(Timeframe):\n",
    "    Timeframe     \n",
    "    \n",
    "## Count of instances Selection:\n",
    "def count_selection(count):\n",
    "    count \n",
    "          \n",
    "## Correlation view type selection -- Decide whether or not to display values on the correlation matrix:\n",
    "def corr_selection(corr_vis):\n",
    "    corr_vis \n",
    "\n",
    "    \n",
    "    \n",
    "    \n",
    "#### Define the widgets:\n",
    "\n",
    "# Asset Widget\n",
    "assetW = SelectMultiple( options = asset_dic , value = [asset_dic[0]] )\n",
    "\n",
    "# Timeframe Widget\n",
    "timeframeW = SelectMultiple( options = timeframe_dic , value = [timeframe_dic[0]])\n",
    "\n",
    "# Count of instances in quadrant/regime Widget\n",
    "count_w = Checkbox( value = False , description = 'Include Count of Instances')\n",
    "\n",
    "# Selection display type from corr_toggle_button Widget\n",
    "corr_toggle_button = ToggleButtons( options = ['Yes', 'No'],\n",
    "                                    value = 'No',\n",
    "                                    description = 'Corr. values:',\n",
    "                                    disabled = False,\n",
    "                                    button_style = '', # 'success', 'info', 'warning', 'danger' or ''\n",
    "                                    tooltips=['Show the correlation values'],\n",
    "                                    # icons=['check'] * 3 \n",
    "                                  )\n",
    "\n",
    "## Calling widget functions:\n",
    "\n",
    "asset_w_call = interactive( print_assets , Asset_Class = assetW )\n",
    "\n",
    "timeframe_w_call = interactive( print_time , Timeframe = timeframeW )\n",
    "\n",
    "count_w_call = interactive ( count_selection , count = count_w )\n",
    "\n",
    "corr_toggle_call = interactive ( corr_selection , corr_vis = corr_toggle_button )\n",
    "\n",
    "\n",
    "\n",
    "\n",
    "## Initialize the diplayed values into lists:\n",
    "\n",
    "asset_w_call_list = [assetW.value]\n",
    "timeframe_w_call_list = [timeframeW.value]\n",
    "count_call_list = [count_w.value]\n",
    "corr_toggle_call_list = [corr_toggle_button.options[1]]\n",
    "\n",
    "## Functions to store the changes in the widget selections:\n",
    "        \n",
    "async def f_asset():\n",
    "    for i in range(100):\n",
    "\n",
    "        asset_w_call_val = await wait_for_change(assetW, 'value')\n",
    "        asset_w_call_list.append(asset_w_call_val)\n",
    "      \n",
    "    \n",
    "async def f_timeframe():\n",
    "    for i in range(100):\n",
    "\n",
    "        timeframe_w_call_val = await wait_for_change(timeframeW, 'value')\n",
    "        timeframe_w_call_list.append(timeframe_w_call_val)\n",
    "      \n",
    "    \n",
    "async def f_count():\n",
    "    for i in range(100):\n",
    "\n",
    "        count_call_val = await wait_for_change(count_w, 'value')\n",
    "        count_call_list.append(count_call_val)\n",
    "        \n",
    "        \n",
    "async def f_corr():\n",
    "    for i in range(100):\n",
    "\n",
    "        corr_toggle_call_val = await wait_for_change(corr_toggle_button, 'value')\n",
    "        corr_toggle_call_list.append(corr_toggle_call_val)\n",
    "        \n",
    "        \n",
    "## Capture the value changes in the widgets: \n",
    "asyncio.ensure_future(f_asset())\n",
    "asyncio.ensure_future(f_timeframe())\n",
    "asyncio.ensure_future(f_count())\n",
    "asyncio.ensure_future(f_corr())\n"
   ]
  },
  {
   "cell_type": "markdown",
   "metadata": {
    "extensions": {
     "jupyter_dashboards": {
      "version": 1,
      "views": {
       "grid_default": {
        "col": 4,
        "height": 4,
        "hidden": true,
        "row": 25,
        "width": 4
       },
       "report_default": {}
      }
     }
    }
   },
   "source": [
    "## Widget Container and Display:"
   ]
  },
  {
   "cell_type": "code",
   "execution_count": 33,
   "metadata": {
    "extensions": {
     "jupyter_dashboards": {
      "version": 1,
      "views": {
       "grid_default": {
        "col": 0,
        "height": 6,
        "hidden": false,
        "row": 4,
        "width": 8
       },
       "report_default": {
        "hidden": false
       }
      }
     }
    },
    "scrolled": true
   },
   "outputs": [
    {
     "data": {
      "application/vnd.jupyter.widget-view+json": {
       "model_id": "07d3a40953dd457eb980eaaf055d5fb7",
       "version_major": 2,
       "version_minor": 0
      },
      "text/plain": [
       "VBox(children=(HBox(children=(interactive(children=(SelectMultiple(description='Asset_Class', index=(0,), opti…"
      ]
     },
     "metadata": {},
     "output_type": "display_data"
    }
   ],
   "source": [
    "## Place the Widgets in a container:\n",
    "ui = VBox([\n",
    "           \n",
    "                    HBox([asset_w_call, timeframe_w_call]),\n",
    "                     \n",
    "                    HBox([corr_toggle_button , count_w_call])\n",
    "          ])\n",
    "         \n",
    "\n",
    "## Display the widgets:\n",
    "ui\n"
   ]
  },
  {
   "cell_type": "markdown",
   "metadata": {
    "extensions": {
     "jupyter_dashboards": {
      "version": 1,
      "views": {
       "grid_default": {
        "col": 6,
        "height": 4,
        "hidden": true,
        "row": 9,
        "width": 4
       },
       "report_default": {
        "hidden": false
       }
      }
     }
    }
   },
   "source": [
    "## Run the cells below by clicking the following button:"
   ]
  },
  {
   "cell_type": "code",
   "execution_count": 246,
   "metadata": {
    "extensions": {
     "jupyter_dashboards": {
      "version": 1,
      "views": {
       "grid_default": {
        "col": 8,
        "height": 2,
        "hidden": false,
        "row": 8,
        "width": 2
       },
       "report_default": {
        "hidden": false
       }
      }
     }
    },
    "scrolled": true
   },
   "outputs": [
    {
     "data": {
      "application/javascript": [
       "IPython.notebook.execute_cells_below()"
      ],
      "text/plain": [
       "<IPython.core.display.Javascript object>"
      ]
     },
     "metadata": {},
     "output_type": "display_data"
    },
    {
     "data": {
      "application/vnd.jupyter.widget-view+json": {
       "model_id": "e907e83a4efd439582b019cea65f77da",
       "version_major": 2,
       "version_minor": 0
      },
      "text/plain": [
       "Button(description='Confirm Selection', style=ButtonStyle())"
      ]
     },
     "metadata": {},
     "output_type": "display_data"
    }
   ],
   "source": [
    "def run_all(ev):\n",
    "    display(Javascript('IPython.notebook.execute_cells_below()'))\n",
    "\n",
    "button = Button(description = \"Confirm Selection\")\n",
    "button.on_click(run_all)\n",
    "display(button)"
   ]
  },
  {
   "cell_type": "markdown",
   "metadata": {
    "extensions": {
     "jupyter_dashboards": {
      "version": 1,
      "views": {
       "grid_default": {
        "col": 5,
        "height": 4,
        "hidden": true,
        "row": 10,
        "width": 4
       },
       "report_default": {}
      }
     }
    }
   },
   "source": [
    "## Store the user selections into variables:\n"
   ]
  },
  {
   "cell_type": "code",
   "execution_count": 247,
   "metadata": {
    "extensions": {
     "jupyter_dashboards": {
      "version": 1,
      "views": {
       "grid_default": {
        "hidden": true
       },
       "report_default": {}
      }
     }
    }
   },
   "outputs": [],
   "source": [
    "\n",
    "## Store the selections made by the user:\n",
    "\n",
    "selected_assets = asset_w_call_list[-1]\n",
    "selected_timeframe = timeframe_w_call_list[-1]\n",
    "selected_count = count_call_list[-1]\n",
    "selected_corr_view = corr_toggle_call_list[-1]\n",
    "\n",
    "#display(selected_assets, selected_timeframe, selected_count,selected_corr_view )\n",
    "\n"
   ]
  },
  {
   "cell_type": "markdown",
   "metadata": {
    "extensions": {
     "jupyter_dashboards": {
      "version": 1,
      "views": {
       "grid_default": {
        "col": 5,
        "height": 4,
        "hidden": true,
        "row": 10,
        "width": 4
       },
       "report_default": {}
      }
     }
    }
   },
   "source": [
    "## Subset based on assets and timeframe:"
   ]
  },
  {
   "cell_type": "code",
   "execution_count": 248,
   "metadata": {
    "extensions": {
     "jupyter_dashboards": {
      "version": 1,
      "views": {
       "grid_default": {
        "col": 0,
        "height": 67,
        "hidden": true,
        "row": 41,
        "width": 8
       },
       "report_default": {}
      }
     }
    }
   },
   "outputs": [
    {
     "data": {
      "text/html": [
       "<div>\n",
       "<style scoped>\n",
       "    .dataframe tbody tr th:only-of-type {\n",
       "        vertical-align: middle;\n",
       "    }\n",
       "\n",
       "    .dataframe tbody tr th {\n",
       "        vertical-align: top;\n",
       "    }\n",
       "\n",
       "    .dataframe thead th {\n",
       "        text-align: right;\n",
       "    }\n",
       "</style>\n",
       "<table border=\"1\" class=\"dataframe\">\n",
       "  <thead>\n",
       "    <tr style=\"text-align: right;\">\n",
       "      <th></th>\n",
       "      <th>Date</th>\n",
       "      <th>Year</th>\n",
       "      <th>delta_change_CPI</th>\n",
       "      <th>delta_change_GDP</th>\n",
       "      <th>USD returns</th>\n",
       "      <th>gold returns</th>\n",
       "      <th>equity returns</th>\n",
       "      <th>bonds returns</th>\n",
       "      <th>commodities returns</th>\n",
       "    </tr>\n",
       "  </thead>\n",
       "  <tbody>\n",
       "    <tr>\n",
       "      <th>1</th>\n",
       "      <td>1993-Q2</td>\n",
       "      <td>1993</td>\n",
       "      <td>-0.1</td>\n",
       "      <td>-0.5</td>\n",
       "      <td>1.893981</td>\n",
       "      <td>11.533923</td>\n",
       "      <td>-0.276625</td>\n",
       "      <td>4.116866</td>\n",
       "      <td>-7.467700</td>\n",
       "    </tr>\n",
       "    <tr>\n",
       "      <th>2</th>\n",
       "      <td>1993-Q3</td>\n",
       "      <td>1993</td>\n",
       "      <td>-0.3</td>\n",
       "      <td>-0.5</td>\n",
       "      <td>-0.843927</td>\n",
       "      <td>-6.003703</td>\n",
       "      <td>1.941748</td>\n",
       "      <td>6.821330</td>\n",
       "      <td>0.788432</td>\n",
       "    </tr>\n",
       "    <tr>\n",
       "      <th>3</th>\n",
       "      <td>1993-Q4</td>\n",
       "      <td>1993</td>\n",
       "      <td>0.0</td>\n",
       "      <td>0.3</td>\n",
       "      <td>4.330963</td>\n",
       "      <td>9.932470</td>\n",
       "      <td>1.428680</td>\n",
       "      <td>-7.655147</td>\n",
       "      <td>-7.782495</td>\n",
       "    </tr>\n",
       "    <tr>\n",
       "      <th>4</th>\n",
       "      <td>1994-Q1</td>\n",
       "      <td>1994</td>\n",
       "      <td>-0.2</td>\n",
       "      <td>0.8</td>\n",
       "      <td>-3.903346</td>\n",
       "      <td>0.076785</td>\n",
       "      <td>-4.292417</td>\n",
       "      <td>-16.292717</td>\n",
       "      <td>4.177025</td>\n",
       "    </tr>\n",
       "    <tr>\n",
       "      <th>5</th>\n",
       "      <td>1994-Q2</td>\n",
       "      <td>1994</td>\n",
       "      <td>0.0</td>\n",
       "      <td>0.8</td>\n",
       "      <td>-3.696540</td>\n",
       "      <td>-1.202046</td>\n",
       "      <td>-0.280308</td>\n",
       "      <td>-8.637578</td>\n",
       "      <td>5.691492</td>\n",
       "    </tr>\n",
       "    <tr>\n",
       "      <th>6</th>\n",
       "      <td>1994-Q3</td>\n",
       "      <td>1994</td>\n",
       "      <td>0.5</td>\n",
       "      <td>0.1</td>\n",
       "      <td>-1.941531</td>\n",
       "      <td>2.057986</td>\n",
       "      <td>3.829876</td>\n",
       "      <td>-3.866120</td>\n",
       "      <td>-4.813103</td>\n",
       "    </tr>\n",
       "    <tr>\n",
       "      <th>7</th>\n",
       "      <td>1994-Q4</td>\n",
       "      <td>1994</td>\n",
       "      <td>-0.3</td>\n",
       "      <td>-0.2</td>\n",
       "      <td>0.955849</td>\n",
       "      <td>-2.802790</td>\n",
       "      <td>-1.319850</td>\n",
       "      <td>-2.880442</td>\n",
       "      <td>5.449906</td>\n",
       "    </tr>\n",
       "    <tr>\n",
       "      <th>8</th>\n",
       "      <td>1995-Q1</td>\n",
       "      <td>1995</td>\n",
       "      <td>0.2</td>\n",
       "      <td>-0.6</td>\n",
       "      <td>-7.687106</td>\n",
       "      <td>2.139875</td>\n",
       "      <td>9.979479</td>\n",
       "      <td>8.003068</td>\n",
       "      <td>-0.939434</td>\n",
       "    </tr>\n",
       "    <tr>\n",
       "      <th>9</th>\n",
       "      <td>1995-Q2</td>\n",
       "      <td>1995</td>\n",
       "      <td>0.1</td>\n",
       "      <td>-1.1</td>\n",
       "      <td>-0.390720</td>\n",
       "      <td>-1.737353</td>\n",
       "      <td>8.575038</td>\n",
       "      <td>13.799333</td>\n",
       "      <td>-2.552668</td>\n",
       "    </tr>\n",
       "    <tr>\n",
       "      <th>10</th>\n",
       "      <td>1995-Q3</td>\n",
       "      <td>1995</td>\n",
       "      <td>-0.5</td>\n",
       "      <td>0.3</td>\n",
       "      <td>3.321893</td>\n",
       "      <td>-0.156006</td>\n",
       "      <td>7.495639</td>\n",
       "      <td>0.338546</td>\n",
       "      <td>3.778235</td>\n",
       "    </tr>\n",
       "    <tr>\n",
       "      <th>11</th>\n",
       "      <td>1995-Q4</td>\n",
       "      <td>1995</td>\n",
       "      <td>0.0</td>\n",
       "      <td>-0.5</td>\n",
       "      <td>0.557599</td>\n",
       "      <td>0.807292</td>\n",
       "      <td>5.129573</td>\n",
       "      <td>9.867357</td>\n",
       "      <td>12.378736</td>\n",
       "    </tr>\n",
       "    <tr>\n",
       "      <th>12</th>\n",
       "      <td>1996-Q1</td>\n",
       "      <td>1996</td>\n",
       "      <td>0.3</td>\n",
       "      <td>0.4</td>\n",
       "      <td>2.076451</td>\n",
       "      <td>2.157065</td>\n",
       "      <td>5.209614</td>\n",
       "      <td>-13.549892</td>\n",
       "      <td>1.556238</td>\n",
       "    </tr>\n",
       "    <tr>\n",
       "      <th>13</th>\n",
       "      <td>1996-Q2</td>\n",
       "      <td>1996</td>\n",
       "      <td>0.0</td>\n",
       "      <td>1.4</td>\n",
       "      <td>1.502543</td>\n",
       "      <td>-3.793147</td>\n",
       "      <td>3.744000</td>\n",
       "      <td>-6.069227</td>\n",
       "      <td>-0.068904</td>\n",
       "    </tr>\n",
       "    <tr>\n",
       "      <th>14</th>\n",
       "      <td>1996-Q3</td>\n",
       "      <td>1996</td>\n",
       "      <td>0.2</td>\n",
       "      <td>0.1</td>\n",
       "      <td>0.136643</td>\n",
       "      <td>-0.538836</td>\n",
       "      <td>2.258402</td>\n",
       "      <td>0.119207</td>\n",
       "      <td>-0.632234</td>\n",
       "    </tr>\n",
       "    <tr>\n",
       "      <th>15</th>\n",
       "      <td>1996-Q4</td>\n",
       "      <td>1996</td>\n",
       "      <td>0.3</td>\n",
       "      <td>0.3</td>\n",
       "      <td>0.204685</td>\n",
       "      <td>-2.827696</td>\n",
       "      <td>7.604809</td>\n",
       "      <td>4.251828</td>\n",
       "      <td>4.892603</td>\n",
       "    </tr>\n",
       "    <tr>\n",
       "      <th>16</th>\n",
       "      <td>1997-Q1</td>\n",
       "      <td>1997</td>\n",
       "      <td>-0.5</td>\n",
       "      <td>-0.1</td>\n",
       "      <td>7.489787</td>\n",
       "      <td>-4.473756</td>\n",
       "      <td>1.904290</td>\n",
       "      <td>-7.556871</td>\n",
       "      <td>-10.604753</td>\n",
       "    </tr>\n",
       "    <tr>\n",
       "      <th>17</th>\n",
       "      <td>1997-Q2</td>\n",
       "      <td>1997</td>\n",
       "      <td>-0.5</td>\n",
       "      <td>0.0</td>\n",
       "      <td>1.002956</td>\n",
       "      <td>-4.925267</td>\n",
       "      <td>17.358804</td>\n",
       "      <td>5.838041</td>\n",
       "      <td>-3.772822</td>\n",
       "    </tr>\n",
       "    <tr>\n",
       "      <th>18</th>\n",
       "      <td>1997-Q3</td>\n",
       "      <td>1997</td>\n",
       "      <td>-0.1</td>\n",
       "      <td>0.4</td>\n",
       "      <td>1.505174</td>\n",
       "      <td>0.149723</td>\n",
       "      <td>6.864827</td>\n",
       "      <td>6.107692</td>\n",
       "      <td>8.945671</td>\n",
       "    </tr>\n",
       "    <tr>\n",
       "      <th>19</th>\n",
       "      <td>1997-Q4</td>\n",
       "      <td>1997</td>\n",
       "      <td>-0.5</td>\n",
       "      <td>-0.2</td>\n",
       "      <td>2.615591</td>\n",
       "      <td>-13.574525</td>\n",
       "      <td>2.847682</td>\n",
       "      <td>5.915124</td>\n",
       "      <td>-12.943066</td>\n",
       "    </tr>\n",
       "    <tr>\n",
       "      <th>20</th>\n",
       "      <td>1998-Q1</td>\n",
       "      <td>1998</td>\n",
       "      <td>-0.3</td>\n",
       "      <td>0.4</td>\n",
       "      <td>1.856498</td>\n",
       "      <td>4.116935</td>\n",
       "      <td>13.264649</td>\n",
       "      <td>1.532567</td>\n",
       "      <td>-5.072229</td>\n",
       "    </tr>\n",
       "    <tr>\n",
       "      <th>21</th>\n",
       "      <td>1998-Q2</td>\n",
       "      <td>1998</td>\n",
       "      <td>0.3</td>\n",
       "      <td>-0.8</td>\n",
       "      <td>-0.325123</td>\n",
       "      <td>-1.329124</td>\n",
       "      <td>3.069926</td>\n",
       "      <td>3.678811</td>\n",
       "      <td>-6.907417</td>\n",
       "    </tr>\n",
       "    <tr>\n",
       "      <th>22</th>\n",
       "      <td>1998-Q3</td>\n",
       "      <td>1998</td>\n",
       "      <td>-0.2</td>\n",
       "      <td>0.0</td>\n",
       "      <td>-4.942177</td>\n",
       "      <td>0.000000</td>\n",
       "      <td>-10.204082</td>\n",
       "      <td>18.839515</td>\n",
       "      <td>-0.923780</td>\n",
       "    </tr>\n",
       "    <tr>\n",
       "      <th>23</th>\n",
       "      <td>1998-Q4</td>\n",
       "      <td>1998</td>\n",
       "      <td>0.1</td>\n",
       "      <td>0.8</td>\n",
       "      <td>-2.079651</td>\n",
       "      <td>-2.929786</td>\n",
       "      <td>21.191646</td>\n",
       "      <td>-5.158371</td>\n",
       "      <td>-13.492355</td>\n",
       "    </tr>\n",
       "    <tr>\n",
       "      <th>24</th>\n",
       "      <td>1999-Q1</td>\n",
       "      <td>1999</td>\n",
       "      <td>0.1</td>\n",
       "      <td>-0.1</td>\n",
       "      <td>6.297122</td>\n",
       "      <td>-2.844753</td>\n",
       "      <td>4.105423</td>\n",
       "      <td>-12.779690</td>\n",
       "      <td>15.724370</td>\n",
       "    </tr>\n",
       "    <tr>\n",
       "      <th>25</th>\n",
       "      <td>1999-Q2</td>\n",
       "      <td>1999</td>\n",
       "      <td>0.3</td>\n",
       "      <td>-0.1</td>\n",
       "      <td>2.747253</td>\n",
       "      <td>-6.266738</td>\n",
       "      <td>6.718598</td>\n",
       "      <td>-10.263258</td>\n",
       "      <td>6.123738</td>\n",
       "    </tr>\n",
       "    <tr>\n",
       "      <th>26</th>\n",
       "      <td>1999-Q3</td>\n",
       "      <td>1999</td>\n",
       "      <td>0.6</td>\n",
       "      <td>0.0</td>\n",
       "      <td>-4.190569</td>\n",
       "      <td>13.809524</td>\n",
       "      <td>-6.021898</td>\n",
       "      <td>-1.678201</td>\n",
       "      <td>16.956820</td>\n",
       "    </tr>\n",
       "    <tr>\n",
       "      <th>27</th>\n",
       "      <td>1999-Q4</td>\n",
       "      <td>1999</td>\n",
       "      <td>0.1</td>\n",
       "      <td>0.1</td>\n",
       "      <td>3.379338</td>\n",
       "      <td>-3.598326</td>\n",
       "      <td>14.077670</td>\n",
       "      <td>-9.613749</td>\n",
       "      <td>1.818353</td>\n",
       "    </tr>\n",
       "    <tr>\n",
       "      <th>28</th>\n",
       "      <td>2000-Q1</td>\n",
       "      <td>2000</td>\n",
       "      <td>1.1</td>\n",
       "      <td>-0.6</td>\n",
       "      <td>3.504466</td>\n",
       "      <td>-3.097222</td>\n",
       "      <td>2.382979</td>\n",
       "      <td>6.799131</td>\n",
       "      <td>6.345470</td>\n",
       "    </tr>\n",
       "    <tr>\n",
       "      <th>29</th>\n",
       "      <td>2000-Q2</td>\n",
       "      <td>2000</td>\n",
       "      <td>-0.1</td>\n",
       "      <td>1.1</td>\n",
       "      <td>1.327769</td>\n",
       "      <td>3.744446</td>\n",
       "      <td>-3.387332</td>\n",
       "      <td>-0.449700</td>\n",
       "      <td>13.936577</td>\n",
       "    </tr>\n",
       "    <tr>\n",
       "      <th>30</th>\n",
       "      <td>2000-Q3</td>\n",
       "      <td>2000</td>\n",
       "      <td>-0.2</td>\n",
       "      <td>-1.2</td>\n",
       "      <td>5.999626</td>\n",
       "      <td>-5.277519</td>\n",
       "      <td>-1.140064</td>\n",
       "      <td>3.797049</td>\n",
       "      <td>0.750741</td>\n",
       "    </tr>\n",
       "    <tr>\n",
       "      <th>...</th>\n",
       "      <td>...</td>\n",
       "      <td>...</td>\n",
       "      <td>...</td>\n",
       "      <td>...</td>\n",
       "      <td>...</td>\n",
       "      <td>...</td>\n",
       "      <td>...</td>\n",
       "      <td>...</td>\n",
       "      <td>...</td>\n",
       "    </tr>\n",
       "    <tr>\n",
       "      <th>62</th>\n",
       "      <td>2008-Q3</td>\n",
       "      <td>2008</td>\n",
       "      <td>-0.1</td>\n",
       "      <td>-1.1</td>\n",
       "      <td>9.639402</td>\n",
       "      <td>-5.883942</td>\n",
       "      <td>-9.368651</td>\n",
       "      <td>3.676656</td>\n",
       "      <td>-27.882417</td>\n",
       "    </tr>\n",
       "    <tr>\n",
       "      <th>63</th>\n",
       "      <td>2008-Q4</td>\n",
       "      <td>2008</td>\n",
       "      <td>-4.8</td>\n",
       "      <td>-2.8</td>\n",
       "      <td>2.341154</td>\n",
       "      <td>1.274470</td>\n",
       "      <td>-22.200190</td>\n",
       "      <td>42.117647</td>\n",
       "      <td>-43.905939</td>\n",
       "    </tr>\n",
       "    <tr>\n",
       "      <th>64</th>\n",
       "      <td>2009-Q1</td>\n",
       "      <td>2009</td>\n",
       "      <td>-0.5</td>\n",
       "      <td>-0.5</td>\n",
       "      <td>5.069612</td>\n",
       "      <td>4.228785</td>\n",
       "      <td>-11.879433</td>\n",
       "      <td>-20.370370</td>\n",
       "      <td>2.718329</td>\n",
       "    </tr>\n",
       "    <tr>\n",
       "      <th>65</th>\n",
       "      <td>2009-Q2</td>\n",
       "      <td>2009</td>\n",
       "      <td>-1.0</td>\n",
       "      <td>-0.6</td>\n",
       "      <td>-6.200398</td>\n",
       "      <td>0.777723</td>\n",
       "      <td>15.631288</td>\n",
       "      <td>-32.645403</td>\n",
       "      <td>25.574435</td>\n",
       "    </tr>\n",
       "    <tr>\n",
       "      <th>66</th>\n",
       "      <td>2009-Q3</td>\n",
       "      <td>2009</td>\n",
       "      <td>0.1</td>\n",
       "      <td>0.9</td>\n",
       "      <td>-4.342780</td>\n",
       "      <td>8.764166</td>\n",
       "      <td>14.834149</td>\n",
       "      <td>6.449788</td>\n",
       "      <td>2.783324</td>\n",
       "    </tr>\n",
       "    <tr>\n",
       "      <th>67</th>\n",
       "      <td>2009-Q4</td>\n",
       "      <td>2009</td>\n",
       "      <td>4.0</td>\n",
       "      <td>3.2</td>\n",
       "      <td>1.574629</td>\n",
       "      <td>8.859780</td>\n",
       "      <td>5.540297</td>\n",
       "      <td>-16.087088</td>\n",
       "      <td>13.370776</td>\n",
       "    </tr>\n",
       "    <tr>\n",
       "      <th>68</th>\n",
       "      <td>2010-Q1</td>\n",
       "      <td>2010</td>\n",
       "      <td>-0.4</td>\n",
       "      <td>1.5</td>\n",
       "      <td>4.126638</td>\n",
       "      <td>1.483163</td>\n",
       "      <td>4.989232</td>\n",
       "      <td>0.286533</td>\n",
       "      <td>1.055619</td>\n",
       "    </tr>\n",
       "    <tr>\n",
       "      <th>69</th>\n",
       "      <td>2010-Q2</td>\n",
       "      <td>2010</td>\n",
       "      <td>-1.2</td>\n",
       "      <td>1.1</td>\n",
       "      <td>6.100675</td>\n",
       "      <td>11.599371</td>\n",
       "      <td>-11.777778</td>\n",
       "      <td>23.380355</td>\n",
       "      <td>-6.598398</td>\n",
       "    </tr>\n",
       "    <tr>\n",
       "      <th>70</th>\n",
       "      <td>2010-Q3</td>\n",
       "      <td>2010</td>\n",
       "      <td>0.0</td>\n",
       "      <td>0.4</td>\n",
       "      <td>-8.485335</td>\n",
       "      <td>5.325263</td>\n",
       "      <td>10.569657</td>\n",
       "      <td>14.353904</td>\n",
       "      <td>10.276527</td>\n",
       "    </tr>\n",
       "    <tr>\n",
       "      <th>71</th>\n",
       "      <td>2010-Q4</td>\n",
       "      <td>2010</td>\n",
       "      <td>0.4</td>\n",
       "      <td>-0.6</td>\n",
       "      <td>0.391260</td>\n",
       "      <td>8.624880</td>\n",
       "      <td>10.181372</td>\n",
       "      <td>-31.170382</td>\n",
       "      <td>15.706218</td>\n",
       "    </tr>\n",
       "    <tr>\n",
       "      <th>72</th>\n",
       "      <td>2011-Q1</td>\n",
       "      <td>2011</td>\n",
       "      <td>1.2</td>\n",
       "      <td>-0.7</td>\n",
       "      <td>-4.012502</td>\n",
       "      <td>0.759814</td>\n",
       "      <td>5.439364</td>\n",
       "      <td>-5.371775</td>\n",
       "      <td>14.844183</td>\n",
       "    </tr>\n",
       "    <tr>\n",
       "      <th>73</th>\n",
       "      <td>2011-Q2</td>\n",
       "      <td>2011</td>\n",
       "      <td>0.9</td>\n",
       "      <td>-0.2</td>\n",
       "      <td>-2.048591</td>\n",
       "      <td>4.746544</td>\n",
       "      <td>-0.467607</td>\n",
       "      <td>8.957373</td>\n",
       "      <td>-7.823654</td>\n",
       "    </tr>\n",
       "    <tr>\n",
       "      <th>74</th>\n",
       "      <td>2011-Q3</td>\n",
       "      <td>2011</td>\n",
       "      <td>0.3</td>\n",
       "      <td>-0.8</td>\n",
       "      <td>5.719823</td>\n",
       "      <td>8.239678</td>\n",
       "      <td>-14.260817</td>\n",
       "      <td>39.386270</td>\n",
       "      <td>-11.639381</td>\n",
       "    </tr>\n",
       "    <tr>\n",
       "      <th>75</th>\n",
       "      <td>2011-Q4</td>\n",
       "      <td>2011</td>\n",
       "      <td>-0.9</td>\n",
       "      <td>0.7</td>\n",
       "      <td>2.068667</td>\n",
       "      <td>-3.626085</td>\n",
       "      <td>10.914715</td>\n",
       "      <td>2.035491</td>\n",
       "      <td>9.121827</td>\n",
       "    </tr>\n",
       "    <tr>\n",
       "      <th>76</th>\n",
       "      <td>2012-Q1</td>\n",
       "      <td>2012</td>\n",
       "      <td>-0.3</td>\n",
       "      <td>1.1</td>\n",
       "      <td>-1.464242</td>\n",
       "      <td>6.597185</td>\n",
       "      <td>12.199203</td>\n",
       "      <td>-17.794353</td>\n",
       "      <td>6.791645</td>\n",
       "    </tr>\n",
       "    <tr>\n",
       "      <th>77</th>\n",
       "      <td>2012-Q2</td>\n",
       "      <td>2012</td>\n",
       "      <td>-1.0</td>\n",
       "      <td>-0.3</td>\n",
       "      <td>3.320085</td>\n",
       "      <td>-4.238228</td>\n",
       "      <td>-3.341382</td>\n",
       "      <td>25.554048</td>\n",
       "      <td>-12.961914</td>\n",
       "    </tr>\n",
       "    <tr>\n",
       "      <th>78</th>\n",
       "      <td>2012-Q3</td>\n",
       "      <td>2012</td>\n",
       "      <td>0.3</td>\n",
       "      <td>0.1</td>\n",
       "      <td>-2.072844</td>\n",
       "      <td>10.942440</td>\n",
       "      <td>5.778627</td>\n",
       "      <td>0.729040</td>\n",
       "      <td>11.058655</td>\n",
       "    </tr>\n",
       "    <tr>\n",
       "      <th>79</th>\n",
       "      <td>2012-Q4</td>\n",
       "      <td>2012</td>\n",
       "      <td>-0.3</td>\n",
       "      <td>-1.0</td>\n",
       "      <td>-0.207669</td>\n",
       "      <td>-5.467626</td>\n",
       "      <td>-1.083559</td>\n",
       "      <td>-7.588739</td>\n",
       "      <td>-2.876542</td>\n",
       "    </tr>\n",
       "    <tr>\n",
       "      <th>80</th>\n",
       "      <td>2013-Q1</td>\n",
       "      <td>2013</td>\n",
       "      <td>-0.2</td>\n",
       "      <td>0.1</td>\n",
       "      <td>4.020359</td>\n",
       "      <td>-4.646790</td>\n",
       "      <td>10.013342</td>\n",
       "      <td>-5.233220</td>\n",
       "      <td>1.309969</td>\n",
       "    </tr>\n",
       "    <tr>\n",
       "      <th>81</th>\n",
       "      <td>2013-Q2</td>\n",
       "      <td>2013</td>\n",
       "      <td>0.3</td>\n",
       "      <td>-0.3</td>\n",
       "      <td>0.192827</td>\n",
       "      <td>-22.721127</td>\n",
       "      <td>2.393566</td>\n",
       "      <td>-34.432432</td>\n",
       "      <td>-6.678879</td>\n",
       "    </tr>\n",
       "    <tr>\n",
       "      <th>82</th>\n",
       "      <td>2013-Q3</td>\n",
       "      <td>2013</td>\n",
       "      <td>-0.6</td>\n",
       "      <td>0.6</td>\n",
       "      <td>-3.506303</td>\n",
       "      <td>7.654735</td>\n",
       "      <td>4.731330</td>\n",
       "      <td>-4.985927</td>\n",
       "      <td>3.451660</td>\n",
       "    </tr>\n",
       "    <tr>\n",
       "      <th>83</th>\n",
       "      <td>2013-Q4</td>\n",
       "      <td>2013</td>\n",
       "      <td>0.3</td>\n",
       "      <td>0.7</td>\n",
       "      <td>-0.231859</td>\n",
       "      <td>-9.585186</td>\n",
       "      <td>9.927980</td>\n",
       "      <td>-16.009192</td>\n",
       "      <td>-0.017394</td>\n",
       "    </tr>\n",
       "    <tr>\n",
       "      <th>84</th>\n",
       "      <td>2014-Q1</td>\n",
       "      <td>2014</td>\n",
       "      <td>0.0</td>\n",
       "      <td>-1.1</td>\n",
       "      <td>0.081214</td>\n",
       "      <td>6.854798</td>\n",
       "      <td>1.256159</td>\n",
       "      <td>10.234401</td>\n",
       "      <td>2.620158</td>\n",
       "    </tr>\n",
       "    <tr>\n",
       "      <th>85</th>\n",
       "      <td>2014-Q2</td>\n",
       "      <td>2014</td>\n",
       "      <td>0.6</td>\n",
       "      <td>1.1</td>\n",
       "      <td>-0.405743</td>\n",
       "      <td>3.373805</td>\n",
       "      <td>4.657505</td>\n",
       "      <td>6.914307</td>\n",
       "      <td>1.497294</td>\n",
       "    </tr>\n",
       "    <tr>\n",
       "      <th>86</th>\n",
       "      <td>2014-Q3</td>\n",
       "      <td>2014</td>\n",
       "      <td>-0.4</td>\n",
       "      <td>0.4</td>\n",
       "      <td>7.722971</td>\n",
       "      <td>-8.978928</td>\n",
       "      <td>0.664214</td>\n",
       "      <td>1.619913</td>\n",
       "      <td>-12.797137</td>\n",
       "    </tr>\n",
       "    <tr>\n",
       "      <th>87</th>\n",
       "      <td>2014-Q4</td>\n",
       "      <td>2014</td>\n",
       "      <td>-0.9</td>\n",
       "      <td>-0.3</td>\n",
       "      <td>5.042124</td>\n",
       "      <td>-1.968299</td>\n",
       "      <td>4.324434</td>\n",
       "      <td>12.771084</td>\n",
       "      <td>-27.193637</td>\n",
       "    </tr>\n",
       "    <tr>\n",
       "      <th>88</th>\n",
       "      <td>2015-Q1</td>\n",
       "      <td>2015</td>\n",
       "      <td>-0.9</td>\n",
       "      <td>1.1</td>\n",
       "      <td>8.959887</td>\n",
       "      <td>-0.067546</td>\n",
       "      <td>0.433006</td>\n",
       "      <td>11.418048</td>\n",
       "      <td>-5.135648</td>\n",
       "    </tr>\n",
       "    <tr>\n",
       "      <th>89</th>\n",
       "      <td>2015-Q2</td>\n",
       "      <td>2015</td>\n",
       "      <td>0.2</td>\n",
       "      <td>-0.4</td>\n",
       "      <td>-2.919975</td>\n",
       "      <td>-0.947979</td>\n",
       "      <td>-0.280967</td>\n",
       "      <td>-22.349272</td>\n",
       "      <td>11.103867</td>\n",
       "    </tr>\n",
       "    <tr>\n",
       "      <th>90</th>\n",
       "      <td>2015-Q3</td>\n",
       "      <td>2015</td>\n",
       "      <td>-0.1</td>\n",
       "      <td>-1.0</td>\n",
       "      <td>0.905901</td>\n",
       "      <td>-4.884207</td>\n",
       "      <td>-6.907943</td>\n",
       "      <td>13.423959</td>\n",
       "      <td>-18.460873</td>\n",
       "    </tr>\n",
       "    <tr>\n",
       "      <th>91</th>\n",
       "      <td>2015-Q4</td>\n",
       "      <td>2015</td>\n",
       "      <td>0.7</td>\n",
       "      <td>-0.4</td>\n",
       "      <td>2.367410</td>\n",
       "      <td>-4.841762</td>\n",
       "      <td>6.387309</td>\n",
       "      <td>-11.383710</td>\n",
       "      <td>-13.270137</td>\n",
       "    </tr>\n",
       "  </tbody>\n",
       "</table>\n",
       "<p>91 rows × 9 columns</p>\n",
       "</div>"
      ],
      "text/plain": [
       "       Date  Year  delta_change_CPI  delta_change_GDP  USD returns  \\\n",
       "1   1993-Q2  1993              -0.1              -0.5     1.893981   \n",
       "2   1993-Q3  1993              -0.3              -0.5    -0.843927   \n",
       "3   1993-Q4  1993               0.0               0.3     4.330963   \n",
       "4   1994-Q1  1994              -0.2               0.8    -3.903346   \n",
       "5   1994-Q2  1994               0.0               0.8    -3.696540   \n",
       "6   1994-Q3  1994               0.5               0.1    -1.941531   \n",
       "7   1994-Q4  1994              -0.3              -0.2     0.955849   \n",
       "8   1995-Q1  1995               0.2              -0.6    -7.687106   \n",
       "9   1995-Q2  1995               0.1              -1.1    -0.390720   \n",
       "10  1995-Q3  1995              -0.5               0.3     3.321893   \n",
       "11  1995-Q4  1995               0.0              -0.5     0.557599   \n",
       "12  1996-Q1  1996               0.3               0.4     2.076451   \n",
       "13  1996-Q2  1996               0.0               1.4     1.502543   \n",
       "14  1996-Q3  1996               0.2               0.1     0.136643   \n",
       "15  1996-Q4  1996               0.3               0.3     0.204685   \n",
       "16  1997-Q1  1997              -0.5              -0.1     7.489787   \n",
       "17  1997-Q2  1997              -0.5               0.0     1.002956   \n",
       "18  1997-Q3  1997              -0.1               0.4     1.505174   \n",
       "19  1997-Q4  1997              -0.5              -0.2     2.615591   \n",
       "20  1998-Q1  1998              -0.3               0.4     1.856498   \n",
       "21  1998-Q2  1998               0.3              -0.8    -0.325123   \n",
       "22  1998-Q3  1998              -0.2               0.0    -4.942177   \n",
       "23  1998-Q4  1998               0.1               0.8    -2.079651   \n",
       "24  1999-Q1  1999               0.1              -0.1     6.297122   \n",
       "25  1999-Q2  1999               0.3              -0.1     2.747253   \n",
       "26  1999-Q3  1999               0.6               0.0    -4.190569   \n",
       "27  1999-Q4  1999               0.1               0.1     3.379338   \n",
       "28  2000-Q1  2000               1.1              -0.6     3.504466   \n",
       "29  2000-Q2  2000              -0.1               1.1     1.327769   \n",
       "30  2000-Q3  2000              -0.2              -1.2     5.999626   \n",
       "..      ...   ...               ...               ...          ...   \n",
       "62  2008-Q3  2008              -0.1              -1.1     9.639402   \n",
       "63  2008-Q4  2008              -4.8              -2.8     2.341154   \n",
       "64  2009-Q1  2009              -0.5              -0.5     5.069612   \n",
       "65  2009-Q2  2009              -1.0              -0.6    -6.200398   \n",
       "66  2009-Q3  2009               0.1               0.9    -4.342780   \n",
       "67  2009-Q4  2009               4.0               3.2     1.574629   \n",
       "68  2010-Q1  2010              -0.4               1.5     4.126638   \n",
       "69  2010-Q2  2010              -1.2               1.1     6.100675   \n",
       "70  2010-Q3  2010               0.0               0.4    -8.485335   \n",
       "71  2010-Q4  2010               0.4              -0.6     0.391260   \n",
       "72  2011-Q1  2011               1.2              -0.7    -4.012502   \n",
       "73  2011-Q2  2011               0.9              -0.2    -2.048591   \n",
       "74  2011-Q3  2011               0.3              -0.8     5.719823   \n",
       "75  2011-Q4  2011              -0.9               0.7     2.068667   \n",
       "76  2012-Q1  2012              -0.3               1.1    -1.464242   \n",
       "77  2012-Q2  2012              -1.0              -0.3     3.320085   \n",
       "78  2012-Q3  2012               0.3               0.1    -2.072844   \n",
       "79  2012-Q4  2012              -0.3              -1.0    -0.207669   \n",
       "80  2013-Q1  2013              -0.2               0.1     4.020359   \n",
       "81  2013-Q2  2013               0.3              -0.3     0.192827   \n",
       "82  2013-Q3  2013              -0.6               0.6    -3.506303   \n",
       "83  2013-Q4  2013               0.3               0.7    -0.231859   \n",
       "84  2014-Q1  2014               0.0              -1.1     0.081214   \n",
       "85  2014-Q2  2014               0.6               1.1    -0.405743   \n",
       "86  2014-Q3  2014              -0.4               0.4     7.722971   \n",
       "87  2014-Q4  2014              -0.9              -0.3     5.042124   \n",
       "88  2015-Q1  2015              -0.9               1.1     8.959887   \n",
       "89  2015-Q2  2015               0.2              -0.4    -2.919975   \n",
       "90  2015-Q3  2015              -0.1              -1.0     0.905901   \n",
       "91  2015-Q4  2015               0.7              -0.4     2.367410   \n",
       "\n",
       "    gold returns  equity returns  bonds returns  commodities returns  \n",
       "1      11.533923       -0.276625       4.116866            -7.467700  \n",
       "2      -6.003703        1.941748       6.821330             0.788432  \n",
       "3       9.932470        1.428680      -7.655147            -7.782495  \n",
       "4       0.076785       -4.292417     -16.292717             4.177025  \n",
       "5      -1.202046       -0.280308      -8.637578             5.691492  \n",
       "6       2.057986        3.829876      -3.866120            -4.813103  \n",
       "7      -2.802790       -1.319850      -2.880442             5.449906  \n",
       "8       2.139875        9.979479       8.003068            -0.939434  \n",
       "9      -1.737353        8.575038      13.799333            -2.552668  \n",
       "10     -0.156006        7.495639       0.338546             3.778235  \n",
       "11      0.807292        5.129573       9.867357            12.378736  \n",
       "12      2.157065        5.209614     -13.549892             1.556238  \n",
       "13     -3.793147        3.744000      -6.069227            -0.068904  \n",
       "14     -0.538836        2.258402       0.119207            -0.632234  \n",
       "15     -2.827696        7.604809       4.251828             4.892603  \n",
       "16     -4.473756        1.904290      -7.556871           -10.604753  \n",
       "17     -4.925267       17.358804       5.838041            -3.772822  \n",
       "18      0.149723        6.864827       6.107692             8.945671  \n",
       "19    -13.574525        2.847682       5.915124           -12.943066  \n",
       "20      4.116935       13.264649       1.532567            -5.072229  \n",
       "21     -1.329124        3.069926       3.678811            -6.907417  \n",
       "22      0.000000      -10.204082      18.839515            -0.923780  \n",
       "23     -2.929786       21.191646      -5.158371           -13.492355  \n",
       "24     -2.844753        4.105423     -12.779690            15.724370  \n",
       "25     -6.266738        6.718598     -10.263258             6.123738  \n",
       "26     13.809524       -6.021898      -1.678201            16.956820  \n",
       "27     -3.598326       14.077670      -9.613749             1.818353  \n",
       "28     -3.097222        2.382979       6.799131             6.345470  \n",
       "29      3.744446       -3.387332      -0.449700            13.936577  \n",
       "30     -5.277519       -1.140064       3.797049             0.750741  \n",
       "..           ...             ...            ...                  ...  \n",
       "62     -5.883942       -9.368651       3.676656           -27.882417  \n",
       "63      1.274470      -22.200190      42.117647           -43.905939  \n",
       "64      4.228785      -11.879433     -20.370370             2.718329  \n",
       "65      0.777723       15.631288     -32.645403            25.574435  \n",
       "66      8.764166       14.834149       6.449788             2.783324  \n",
       "67      8.859780        5.540297     -16.087088            13.370776  \n",
       "68      1.483163        4.989232       0.286533             1.055619  \n",
       "69     11.599371      -11.777778      23.380355            -6.598398  \n",
       "70      5.325263       10.569657      14.353904            10.276527  \n",
       "71      8.624880       10.181372     -31.170382            15.706218  \n",
       "72      0.759814        5.439364      -5.371775            14.844183  \n",
       "73      4.746544       -0.467607       8.957373            -7.823654  \n",
       "74      8.239678      -14.260817      39.386270           -11.639381  \n",
       "75     -3.626085       10.914715       2.035491             9.121827  \n",
       "76      6.597185       12.199203     -17.794353             6.791645  \n",
       "77     -4.238228       -3.341382      25.554048           -12.961914  \n",
       "78     10.942440        5.778627       0.729040            11.058655  \n",
       "79     -5.467626       -1.083559      -7.588739            -2.876542  \n",
       "80     -4.646790       10.013342      -5.233220             1.309969  \n",
       "81    -22.721127        2.393566     -34.432432            -6.678879  \n",
       "82      7.654735        4.731330      -4.985927             3.451660  \n",
       "83     -9.585186        9.927980     -16.009192            -0.017394  \n",
       "84      6.854798        1.256159      10.234401             2.620158  \n",
       "85      3.373805        4.657505       6.914307             1.497294  \n",
       "86     -8.978928        0.664214       1.619913           -12.797137  \n",
       "87     -1.968299        4.324434      12.771084           -27.193637  \n",
       "88     -0.067546        0.433006      11.418048            -5.135648  \n",
       "89     -0.947979       -0.280967     -22.349272            11.103867  \n",
       "90     -4.884207       -6.907943      13.423959           -18.460873  \n",
       "91     -4.841762        6.387309     -11.383710           -13.270137  \n",
       "\n",
       "[91 rows x 9 columns]"
      ]
     },
     "execution_count": 248,
     "metadata": {},
     "output_type": "execute_result"
    }
   ],
   "source": [
    "selected_timeframe_list = list(selected_timeframe)\n",
    "df_sub = data_point.loc[data_point['Year'].isin(selected_timeframe_list)]\n",
    "\n",
    "selected_assets_list = list(selected_assets)\n",
    "selected_assets_list = [ i + ' returns' for i in selected_assets_list]\n",
    "fields = ['Date' , 'Year' , 'delta_change_CPI' , 'delta_change_GDP'] + selected_assets_list\n",
    "\n",
    "df_sub  >>= select (fields)\n",
    "df_sub\n",
    "\n"
   ]
  },
  {
   "cell_type": "markdown",
   "metadata": {
    "extensions": {
     "jupyter_dashboards": {
      "version": 1,
      "views": {
       "grid_default": {
        "col": 5,
        "height": 4,
        "hidden": true,
        "row": 10,
        "width": 4
       },
       "report_default": {}
      }
     }
    }
   },
   "source": [
    "\n",
    "## Intuitive Correlation Matrix Plot Function:\n"
   ]
  },
  {
   "cell_type": "code",
   "execution_count": 249,
   "metadata": {
    "extensions": {
     "jupyter_dashboards": {
      "version": 1,
      "views": {
       "grid_default": {
        "hidden": true
       },
       "report_default": {}
      }
     }
    }
   },
   "outputs": [],
   "source": [
    "## Intuitive Correlation Matrix Plot Funtion:\n",
    "\n",
    "def my_heatmap( x , y , size , color , field_len , num_show ):\n",
    "    \n",
    "    fig, ax = plt.subplots()\n",
    "    \n",
    "    # Mapping from column names to integer coordinates\n",
    "    x_labels = [v for v in sorted(x.unique())]\n",
    "    y_labels = [v for v in sorted(y.unique())]\n",
    "    x_to_num = {p[1]:p[0] for p in enumerate(x_labels)} \n",
    "    y_to_num = {p[1]:p[0] for p in enumerate(y_labels)} \n",
    "    \n",
    "    size_scale = ( 350 / field_len ) ** 2\n",
    "    \n",
    "    n_colors = 256 # Use 256 colors for the diverging color palette\n",
    "    palette = sns.diverging_palette(20, 220, n=n_colors) # Create the palette\n",
    "    color_min, color_max = [-1, 1] # Range of values that will be mapped to the palette, i.e. min and max possible correlation\n",
    "\n",
    "    def value_to_color(val):\n",
    "        val_position = float((val - color_min)) / (color_max - color_min) # position of value in the input range, relative to the length of the input range\n",
    "        ind = int(val_position * (n_colors - 1)) # target index in the color palette\n",
    "        return palette[ind]\n",
    "    \n",
    "    plot_grid = plt.GridSpec(1, 15, hspace=0.2, wspace=0.1) # Setup a 1x15 grid\n",
    "    ax = plt.subplot(plot_grid[:,:-1]) # Use the leftmost 14 columns of the grid for the main plot\n",
    "    \n",
    "    ax.scatter(\n",
    "        x = x.map(x_to_num), # Use mapping for x\n",
    "        y = y.map(y_to_num), # Use mapping for y\n",
    "        s = size.abs() * size_scale, # Vector of square sizes, proportional to size parameter\n",
    "        c = color.apply(value_to_color), # Vector of square colors, mapped to color palette\n",
    "        marker='s' # Use square as scatterplot marker\n",
    "    )\n",
    "    \n",
    "    # Show column labels on the axes\n",
    "    ax.set_xticks([x_to_num[v] for v in x_labels])\n",
    "    ax.set_xticklabels(x_labels, rotation=45, horizontalalignment='right')\n",
    "    ax.set_yticks([y_to_num[v] for v in y_labels])\n",
    "    ax.set_yticklabels(y_labels)\n",
    "    \n",
    "    ax.grid(False, 'major') # Turn off major gridlines\n",
    "    ax.grid(True, 'minor') # Turn on minor gridlines\n",
    "    ax.set_xticks([t + 0.5 for t in ax.get_xticks()], minor=True) # Set gridlines to appear between integer coordinates\n",
    "    ax.set_yticks([t + 0.5 for t in ax.get_yticks()], minor=True) # Do the same for y axis\n",
    "    \n",
    "    ax.set_xlim([-0.5, max([v for v in x_to_num.values()]) + 0.5]) \n",
    "    ax.set_ylim([-0.5, max([v for v in y_to_num.values()]) + 0.5])\n",
    "    \n",
    "    ## Displaying the numerical values:\n",
    "    \n",
    "    if num_show == 'Yes':\n",
    "        \n",
    "            size_disp = [round(i,2) for i in size]\n",
    "\n",
    "            for i, txt in enumerate(size_disp):\n",
    "                ax.annotate(txt , (x.map(x_to_num)[i] , y.map(y_to_num)[i]) , fontsize = 150 / field_len)\n",
    "\n",
    "       \n",
    "    # Add color legend on the right side of the plot\n",
    "    ax = plt.subplot(plot_grid[:,-1]) # Use the rightmost column of the plot\n",
    "\n",
    "    col_x = [0]*len(palette) # Fixed x coordinate for the bars\n",
    "    y=np.linspace(color_min, color_max, n_colors) # y coordinates for each of the n_colors bars\n",
    "\n",
    "    bar_height = y[1] - y[0]\n",
    "    ax.barh(\n",
    "        y=y,\n",
    "        width=[5]*len(palette), # Make bars 5 units wide\n",
    "        left=col_x, # Make bars start at 0\n",
    "        height=bar_height,\n",
    "        color=palette,\n",
    "        linewidth=0\n",
    "    )\n",
    "    ax.set_xlim(1, 2) # Bars are going from 0 to 5, so lets crop the plot somewhere in the middle\n",
    "    ax.grid(False) # Hide grid\n",
    "    ax.set_facecolor('white') # Make background white\n",
    "    ax.set_xticks([]) # Remove horizontal ticks\n",
    "    ax.set_yticks(np.linspace(min(y), max(y), 3)) # Show vertical ticks for min, middle and max\n",
    "    ax.yaxis.tick_right() # Show vertical ticks on the right \n"
   ]
  },
  {
   "cell_type": "markdown",
   "metadata": {
    "extensions": {
     "jupyter_dashboards": {
      "version": 1,
      "views": {
       "grid_default": {
        "col": 5,
        "height": 4,
        "hidden": true,
        "row": 10,
        "width": 4
       },
       "report_default": {}
      }
     }
    }
   },
   "source": [
    "## Create a Correlation Matrix based on the 'Returns' Columns for the selected assets:\n"
   ]
  },
  {
   "cell_type": "code",
   "execution_count": 250,
   "metadata": {
    "extensions": {
     "jupyter_dashboards": {
      "version": 1,
      "views": {
       "grid_default": {
        "col": 0,
        "height": 14,
        "hidden": false,
        "row": 24,
        "width": 5
       },
       "report_default": {}
      }
     }
    }
   },
   "outputs": [
    {
     "data": {
      "image/png": "[encoded data removed]",
      "text/plain": [
       "<Figure size 842.4x595.44 with 2 Axes>"
      ]
     },
     "metadata": {},
     "output_type": "display_data"
    }
   ],
   "source": [
    "# Selected view type of the correlation matrix:\n",
    "\n",
    "sns.set(rc={'figure.figsize':(11.7,8.27)})\n",
    "corr_df = df_sub >> select (selected_assets_list) \n",
    "corr_df = corr_df.dropna()\n",
    "corr_in = corr_df.corr()\n",
    "corr = pd.melt(corr_in.reset_index(), id_vars='index') # Unpivot the dataframe, so we can get pair of arrays for x and y\n",
    "corr.columns = ['x', 'y', 'value']\n",
    "\n",
    "corr_plot_store = my_heatmap(x = corr['x'],\n",
    "                             y = corr['y'],\n",
    "                             size = corr['value'],\n",
    "                             color = corr['value'],\n",
    "                             field_len = len(fields),\n",
    "                             num_show = selected_corr_view)"
   ]
  },
  {
   "cell_type": "markdown",
   "metadata": {
    "extensions": {
     "jupyter_dashboards": {
      "version": 1,
      "views": {
       "grid_default": {
        "col": 8,
        "height": 4,
        "hidden": true,
        "row": 24,
        "width": 4
       },
       "report_default": {}
      }
     }
    }
   },
   "source": [
    "\n",
    "## Chart to track Regime Change over time:"
   ]
  },
  {
   "cell_type": "code",
   "execution_count": 251,
   "metadata": {
    "extensions": {
     "jupyter_dashboards": {
      "version": 1,
      "views": {
       "grid_default": {
        "col": null,
        "height": 9,
        "hidden": false,
        "row": 146,
        "width": null
       },
       "report_default": {}
      }
     }
    }
   },
   "outputs": [
    {
     "data": {
      "text/html": [
       "\n",
       "\n",
       "<style>\n",
       "\n",
       "</style>\n",
       "\n",
       "<div id=\"fig_el1764425860735014809490555838\"></div>\n",
       "<script>\n",
       "function mpld3_load_lib(url, callback){\n",
       "  var s = document.createElement('script');\n",
       "  s.src = url;\n",
       "  s.async = true;\n",
       "  s.onreadystatechange = s.onload = callback;\n",
       "  s.onerror = function(){console.warn(\"failed to load library \" + url);};\n",
       "  document.getElementsByTagName(\"head\")[0].appendChild(s);\n",
       "}\n",
       "\n",
       "if(typeof(mpld3) !== \"undefined\" && mpld3._mpld3IsLoaded){\n",
       "   // already loaded: just create the figure\n",
       "   !function(mpld3){\n",
       "       \n",
       "       mpld3.draw_figure(\"fig_el1764425860735014809490555838\", {\"width\": 1008.0, \"height\": 252.0, \"axes\": [{\"bbox\": [0.125, 0.125, 0.775, 0.755], \"xlim\": [-4.5, 94.5], \"ylim\": [0.85, 4.15], \"xdomain\": [-4.5, 94.5], \"ydomain\": [0.85, 4.15], \"xscale\": \"linear\", \"yscale\": \"linear\", \"axes\": [{\"position\": \"bottom\", \"nticks\": 91, \"tickvalues\": null, \"tickformat\": null, \"scale\": \"linear\", \"fontsize\": 1.0, \"grid\": {\"gridOn\": false}, \"visible\": true}, {\"position\": \"left\", \"nticks\": 4, \"tickvalues\": [1, 2, 3, 4], \"tickformat\": null, \"scale\": \"linear\", \"fontsize\": 18.0, \"grid\": {\"gridOn\": false}, \"visible\": true}], \"axesbg\": \"#EAEAF2\", \"axesbgalpha\": null, \"zoomable\": true, \"id\": \"el176442586077873544\", \"lines\": [{\"data\": \"data01\", \"xindex\": 0, \"yindex\": 1, \"coordinates\": \"data\", \"id\": \"el176442586077985872\", \"color\": \"#4C72B0\", \"linewidth\": 1.75, \"dasharray\": \"1.75,2.8874999999999997\", \"alpha\": 1, \"zorder\": 2, \"drawstyle\": \"default\"}], \"paths\": [], \"markers\": [{\"data\": \"data01\", \"xindex\": 0, \"yindex\": 1, \"coordinates\": \"data\", \"id\": \"el176442586077985872pts\", \"facecolor\": \"#4C72B0\", \"edgecolor\": \"#4C72B0\", \"edgewidth\": 0.0, \"alpha\": 1, \"zorder\": 2, \"markerpath\": [[[0.0, 3.5], [0.9282108500000001, 3.5], [1.8185295477469872, 3.131217920558846], [2.4748737341529163, 2.4748737341529163], [3.131217920558846, 1.8185295477469872], [3.5, 0.9282108500000001], [3.5, 0.0], [3.5, -0.9282108500000001], [3.131217920558846, -1.8185295477469872], [2.4748737341529163, -2.4748737341529163], [1.8185295477469872, -3.131217920558846], [0.9282108500000001, -3.5], [0.0, -3.5], [-0.9282108500000001, -3.5], [-1.8185295477469872, -3.131217920558846], [-2.4748737341529163, -2.4748737341529163], [-3.131217920558846, -1.8185295477469872], [-3.5, -0.9282108500000001], [-3.5, 0.0], [-3.5, 0.9282108500000001], [-3.131217920558846, 1.8185295477469872], [-2.4748737341529163, 2.4748737341529163], [-1.8185295477469872, 3.131217920558846], [-0.9282108500000001, 3.5], [0.0, 3.5]], [\"M\", \"C\", \"C\", \"C\", \"C\", \"C\", \"C\", \"C\", \"C\", \"Z\"]]}], \"texts\": [{\"text\": \"Time\", \"position\": [0.5, -0.08244621617112684], \"coordinates\": \"axes\", \"h_anchor\": \"middle\", \"v_baseline\": \"hanging\", \"rotation\": -0.0, \"fontsize\": 10.0, \"color\": \"#262626\", \"alpha\": 1, \"zorder\": 3, \"id\": \"el176442586071584160\"}, {\"text\": \"Regime\", \"position\": [-0.028161802355350735, 0.5], \"coordinates\": \"axes\", \"h_anchor\": \"middle\", \"v_baseline\": \"auto\", \"rotation\": -90.0, \"fontsize\": 10.0, \"color\": \"#262626\", \"alpha\": 1, \"zorder\": 3, \"id\": \"el176442586077948728\"}, {\"text\": \"Regime Changes over Time with GDP and PCE\", \"position\": [0.5, 1.0315357931251972], \"coordinates\": \"axes\", \"h_anchor\": \"middle\", \"v_baseline\": \"auto\", \"rotation\": -0.0, \"fontsize\": 18.0, \"color\": \"#262626\", \"alpha\": 1, \"zorder\": 3, \"id\": \"el176442586071303280\"}], \"collections\": [], \"images\": [], \"sharex\": [], \"sharey\": []}], \"data\": {\"data01\": [[0.0, 3.0], [1.0, 3.0], [2.0, 1.0], [3.0, 2.0], [4.0, 1.0], [5.0, 1.0], [6.0, 3.0], [7.0, 4.0], [8.0, 4.0], [9.0, 2.0], [10.0, 4.0], [11.0, 1.0], [12.0, 1.0], [13.0, 1.0], [14.0, 1.0], [15.0, 3.0], [16.0, 2.0], [17.0, 2.0], [18.0, 3.0], [19.0, 2.0], [20.0, 4.0], [21.0, 2.0], [22.0, 1.0], [23.0, 4.0], [24.0, 4.0], [25.0, 1.0], [26.0, 1.0], [27.0, 4.0], [28.0, 2.0], [29.0, 3.0], [30.0, 3.0], [31.0, 3.0], [32.0, 4.0], [33.0, 3.0], [34.0, 3.0], [35.0, 2.0], [36.0, 2.0], [37.0, 1.0], [38.0, 4.0], [39.0, 4.0], [40.0, 2.0], [41.0, 1.0], [42.0, 2.0], [43.0, 2.0], [44.0, 4.0], [45.0, 3.0], [46.0, 4.0], [47.0, 2.0], [48.0, 3.0], [49.0, 4.0], [50.0, 3.0], [51.0, 1.0], [52.0, 4.0], [53.0, 3.0], [54.0, 1.0], [55.0, 4.0], [56.0, 2.0], [57.0, 1.0], [58.0, 4.0], [59.0, 3.0], [60.0, 1.0], [61.0, 3.0], [62.0, 3.0], [63.0, 3.0], [64.0, 3.0], [65.0, 1.0], [66.0, 1.0], [67.0, 2.0], [68.0, 2.0], [69.0, 1.0], [70.0, 4.0], [71.0, 4.0], [72.0, 4.0], [73.0, 4.0], [74.0, 2.0], [75.0, 2.0], [76.0, 3.0], [77.0, 1.0], [78.0, 3.0], [79.0, 2.0], [80.0, 4.0], [81.0, 2.0], [82.0, 1.0], [83.0, 4.0], [84.0, 1.0], [85.0, 2.0], [86.0, 3.0], [87.0, 2.0], [88.0, 4.0], [89.0, 3.0], [90.0, 4.0]]}, \"id\": \"el176442586073501480\", \"plugins\": [{\"type\": \"reset\"}, {\"type\": \"zoom\", \"button\": true, \"enabled\": false}, {\"type\": \"boxzoom\", \"button\": true, \"enabled\": false}, {\"type\": \"tooltip\", \"id\": \"el176442586077985872pts\", \"labels\": [\"1993-Q2\", \"1993-Q3\", \"1993-Q4\", \"1994-Q1\", \"1994-Q2\", \"1994-Q3\", \"1994-Q4\", \"1995-Q1\", \"1995-Q2\", \"1995-Q3\", \"1995-Q4\", \"1996-Q1\", \"1996-Q2\", \"1996-Q3\", \"1996-Q4\", \"1997-Q1\", \"1997-Q2\", \"1997-Q3\", \"1997-Q4\", \"1998-Q1\", \"1998-Q2\", \"1998-Q3\", \"1998-Q4\", \"1999-Q1\", \"1999-Q2\", \"1999-Q3\", \"1999-Q4\", \"2000-Q1\", \"2000-Q2\", \"2000-Q3\", \"2000-Q4\", \"2001-Q1\", \"2001-Q2\", \"2001-Q3\", \"2001-Q4\", \"2002-Q1\", \"2002-Q2\", \"2002-Q3\", \"2002-Q4\", \"2003-Q1\", \"2003-Q2\", \"2003-Q3\", \"2003-Q4\", \"2004-Q1\", \"2004-Q2\", \"2004-Q3\", \"2004-Q4\", \"2005-Q1\", \"2005-Q2\", \"2005-Q3\", \"2005-Q4\", \"2006-Q1\", \"2006-Q2\", \"2006-Q3\", \"2006-Q4\", \"2007-Q1\", \"2007-Q2\", \"2007-Q3\", \"2007-Q4\", \"2008-Q1\", \"2008-Q2\", \"2008-Q3\", \"2008-Q4\", \"2009-Q1\", \"2009-Q2\", \"2009-Q3\", \"2009-Q4\", \"2010-Q1\", \"2010-Q2\", \"2010-Q3\", \"2010-Q4\", \"2011-Q1\", \"2011-Q2\", \"2011-Q3\", \"2011-Q4\", \"2012-Q1\", \"2012-Q2\", \"2012-Q3\", \"2012-Q4\", \"2013-Q1\", \"2013-Q2\", \"2013-Q3\", \"2013-Q4\", \"2014-Q1\", \"2014-Q2\", \"2014-Q3\", \"2014-Q4\", \"2015-Q1\", \"2015-Q2\", \"2015-Q3\", \"2015-Q4\"], \"hoffset\": 0, \"voffset\": 10, \"location\": \"mouse\"}]});\n",
       "   }(mpld3);\n",
       "}else if(typeof define === \"function\" && define.amd){\n",
       "   // require.js is available: use it to load d3/mpld3\n",
       "   require.config({paths: {d3: \"https://mpld3.github.io/js/d3.v3.min\"}});\n",
       "   require([\"d3\"], function(d3){\n",
       "      window.d3 = d3;\n",
       "      mpld3_load_lib(\"https://mpld3.github.io/js/mpld3.v0.3.js\", function(){\n",
       "         \n",
       "         mpld3.draw_figure(\"fig_el1764425860735014809490555838\", {\"width\": 1008.0, \"height\": 252.0, \"axes\": [{\"bbox\": [0.125, 0.125, 0.775, 0.755], \"xlim\": [-4.5, 94.5], \"ylim\": [0.85, 4.15], \"xdomain\": [-4.5, 94.5], \"ydomain\": [0.85, 4.15], \"xscale\": \"linear\", \"yscale\": \"linear\", \"axes\": [{\"position\": \"bottom\", \"nticks\": 91, \"tickvalues\": null, \"tickformat\": null, \"scale\": \"linear\", \"fontsize\": 1.0, \"grid\": {\"gridOn\": false}, \"visible\": true}, {\"position\": \"left\", \"nticks\": 4, \"tickvalues\": [1, 2, 3, 4], \"tickformat\": null, \"scale\": \"linear\", \"fontsize\": 18.0, \"grid\": {\"gridOn\": false}, \"visible\": true}], \"axesbg\": \"#EAEAF2\", \"axesbgalpha\": null, \"zoomable\": true, \"id\": \"el176442586077873544\", \"lines\": [{\"data\": \"data01\", \"xindex\": 0, \"yindex\": 1, \"coordinates\": \"data\", \"id\": \"el176442586077985872\", \"color\": \"#4C72B0\", \"linewidth\": 1.75, \"dasharray\": \"1.75,2.8874999999999997\", \"alpha\": 1, \"zorder\": 2, \"drawstyle\": \"default\"}], \"paths\": [], \"markers\": [{\"data\": \"data01\", \"xindex\": 0, \"yindex\": 1, \"coordinates\": \"data\", \"id\": \"el176442586077985872pts\", \"facecolor\": \"#4C72B0\", \"edgecolor\": \"#4C72B0\", \"edgewidth\": 0.0, \"alpha\": 1, \"zorder\": 2, \"markerpath\": [[[0.0, 3.5], [0.9282108500000001, 3.5], [1.8185295477469872, 3.131217920558846], [2.4748737341529163, 2.4748737341529163], [3.131217920558846, 1.8185295477469872], [3.5, 0.9282108500000001], [3.5, 0.0], [3.5, -0.9282108500000001], [3.131217920558846, -1.8185295477469872], [2.4748737341529163, -2.4748737341529163], [1.8185295477469872, -3.131217920558846], [0.9282108500000001, -3.5], [0.0, -3.5], [-0.9282108500000001, -3.5], [-1.8185295477469872, -3.131217920558846], [-2.4748737341529163, -2.4748737341529163], [-3.131217920558846, -1.8185295477469872], [-3.5, -0.9282108500000001], [-3.5, 0.0], [-3.5, 0.9282108500000001], [-3.131217920558846, 1.8185295477469872], [-2.4748737341529163, 2.4748737341529163], [-1.8185295477469872, 3.131217920558846], [-0.9282108500000001, 3.5], [0.0, 3.5]], [\"M\", \"C\", \"C\", \"C\", \"C\", \"C\", \"C\", \"C\", \"C\", \"Z\"]]}], \"texts\": [{\"text\": \"Time\", \"position\": [0.5, -0.08244621617112684], \"coordinates\": \"axes\", \"h_anchor\": \"middle\", \"v_baseline\": \"hanging\", \"rotation\": -0.0, \"fontsize\": 10.0, \"color\": \"#262626\", \"alpha\": 1, \"zorder\": 3, \"id\": \"el176442586071584160\"}, {\"text\": \"Regime\", \"position\": [-0.028161802355350735, 0.5], \"coordinates\": \"axes\", \"h_anchor\": \"middle\", \"v_baseline\": \"auto\", \"rotation\": -90.0, \"fontsize\": 10.0, \"color\": \"#262626\", \"alpha\": 1, \"zorder\": 3, \"id\": \"el176442586077948728\"}, {\"text\": \"Regime Changes over Time with GDP and PCE\", \"position\": [0.5, 1.0315357931251972], \"coordinates\": \"axes\", \"h_anchor\": \"middle\", \"v_baseline\": \"auto\", \"rotation\": -0.0, \"fontsize\": 18.0, \"color\": \"#262626\", \"alpha\": 1, \"zorder\": 3, \"id\": \"el176442586071303280\"}], \"collections\": [], \"images\": [], \"sharex\": [], \"sharey\": []}], \"data\": {\"data01\": [[0.0, 3.0], [1.0, 3.0], [2.0, 1.0], [3.0, 2.0], [4.0, 1.0], [5.0, 1.0], [6.0, 3.0], [7.0, 4.0], [8.0, 4.0], [9.0, 2.0], [10.0, 4.0], [11.0, 1.0], [12.0, 1.0], [13.0, 1.0], [14.0, 1.0], [15.0, 3.0], [16.0, 2.0], [17.0, 2.0], [18.0, 3.0], [19.0, 2.0], [20.0, 4.0], [21.0, 2.0], [22.0, 1.0], [23.0, 4.0], [24.0, 4.0], [25.0, 1.0], [26.0, 1.0], [27.0, 4.0], [28.0, 2.0], [29.0, 3.0], [30.0, 3.0], [31.0, 3.0], [32.0, 4.0], [33.0, 3.0], [34.0, 3.0], [35.0, 2.0], [36.0, 2.0], [37.0, 1.0], [38.0, 4.0], [39.0, 4.0], [40.0, 2.0], [41.0, 1.0], [42.0, 2.0], [43.0, 2.0], [44.0, 4.0], [45.0, 3.0], [46.0, 4.0], [47.0, 2.0], [48.0, 3.0], [49.0, 4.0], [50.0, 3.0], [51.0, 1.0], [52.0, 4.0], [53.0, 3.0], [54.0, 1.0], [55.0, 4.0], [56.0, 2.0], [57.0, 1.0], [58.0, 4.0], [59.0, 3.0], [60.0, 1.0], [61.0, 3.0], [62.0, 3.0], [63.0, 3.0], [64.0, 3.0], [65.0, 1.0], [66.0, 1.0], [67.0, 2.0], [68.0, 2.0], [69.0, 1.0], [70.0, 4.0], [71.0, 4.0], [72.0, 4.0], [73.0, 4.0], [74.0, 2.0], [75.0, 2.0], [76.0, 3.0], [77.0, 1.0], [78.0, 3.0], [79.0, 2.0], [80.0, 4.0], [81.0, 2.0], [82.0, 1.0], [83.0, 4.0], [84.0, 1.0], [85.0, 2.0], [86.0, 3.0], [87.0, 2.0], [88.0, 4.0], [89.0, 3.0], [90.0, 4.0]]}, \"id\": \"el176442586073501480\", \"plugins\": [{\"type\": \"reset\"}, {\"type\": \"zoom\", \"button\": true, \"enabled\": false}, {\"type\": \"boxzoom\", \"button\": true, \"enabled\": false}, {\"type\": \"tooltip\", \"id\": \"el176442586077985872pts\", \"labels\": [\"1993-Q2\", \"1993-Q3\", \"1993-Q4\", \"1994-Q1\", \"1994-Q2\", \"1994-Q3\", \"1994-Q4\", \"1995-Q1\", \"1995-Q2\", \"1995-Q3\", \"1995-Q4\", \"1996-Q1\", \"1996-Q2\", \"1996-Q3\", \"1996-Q4\", \"1997-Q1\", \"1997-Q2\", \"1997-Q3\", \"1997-Q4\", \"1998-Q1\", \"1998-Q2\", \"1998-Q3\", \"1998-Q4\", \"1999-Q1\", \"1999-Q2\", \"1999-Q3\", \"1999-Q4\", \"2000-Q1\", \"2000-Q2\", \"2000-Q3\", \"2000-Q4\", \"2001-Q1\", \"2001-Q2\", \"2001-Q3\", \"2001-Q4\", \"2002-Q1\", \"2002-Q2\", \"2002-Q3\", \"2002-Q4\", \"2003-Q1\", \"2003-Q2\", \"2003-Q3\", \"2003-Q4\", \"2004-Q1\", \"2004-Q2\", \"2004-Q3\", \"2004-Q4\", \"2005-Q1\", \"2005-Q2\", \"2005-Q3\", \"2005-Q4\", \"2006-Q1\", \"2006-Q2\", \"2006-Q3\", \"2006-Q4\", \"2007-Q1\", \"2007-Q2\", \"2007-Q3\", \"2007-Q4\", \"2008-Q1\", \"2008-Q2\", \"2008-Q3\", \"2008-Q4\", \"2009-Q1\", \"2009-Q2\", \"2009-Q3\", \"2009-Q4\", \"2010-Q1\", \"2010-Q2\", \"2010-Q3\", \"2010-Q4\", \"2011-Q1\", \"2011-Q2\", \"2011-Q3\", \"2011-Q4\", \"2012-Q1\", \"2012-Q2\", \"2012-Q3\", \"2012-Q4\", \"2013-Q1\", \"2013-Q2\", \"2013-Q3\", \"2013-Q4\", \"2014-Q1\", \"2014-Q2\", \"2014-Q3\", \"2014-Q4\", \"2015-Q1\", \"2015-Q2\", \"2015-Q3\", \"2015-Q4\"], \"hoffset\": 0, \"voffset\": 10, \"location\": \"mouse\"}]});\n",
       "      });\n",
       "    });\n",
       "}else{\n",
       "    // require.js not available: dynamically load d3 & mpld3\n",
       "    mpld3_load_lib(\"https://mpld3.github.io/js/d3.v3.min.js\", function(){\n",
       "         mpld3_load_lib(\"https://mpld3.github.io/js/mpld3.v0.3.js\", function(){\n",
       "                 \n",
       "                 mpld3.draw_figure(\"fig_el1764425860735014809490555838\", {\"width\": 1008.0, \"height\": 252.0, \"axes\": [{\"bbox\": [0.125, 0.125, 0.775, 0.755], \"xlim\": [-4.5, 94.5], \"ylim\": [0.85, 4.15], \"xdomain\": [-4.5, 94.5], \"ydomain\": [0.85, 4.15], \"xscale\": \"linear\", \"yscale\": \"linear\", \"axes\": [{\"position\": \"bottom\", \"nticks\": 91, \"tickvalues\": null, \"tickformat\": null, \"scale\": \"linear\", \"fontsize\": 1.0, \"grid\": {\"gridOn\": false}, \"visible\": true}, {\"position\": \"left\", \"nticks\": 4, \"tickvalues\": [1, 2, 3, 4], \"tickformat\": null, \"scale\": \"linear\", \"fontsize\": 18.0, \"grid\": {\"gridOn\": false}, \"visible\": true}], \"axesbg\": \"#EAEAF2\", \"axesbgalpha\": null, \"zoomable\": true, \"id\": \"el176442586077873544\", \"lines\": [{\"data\": \"data01\", \"xindex\": 0, \"yindex\": 1, \"coordinates\": \"data\", \"id\": \"el176442586077985872\", \"color\": \"#4C72B0\", \"linewidth\": 1.75, \"dasharray\": \"1.75,2.8874999999999997\", \"alpha\": 1, \"zorder\": 2, \"drawstyle\": \"default\"}], \"paths\": [], \"markers\": [{\"data\": \"data01\", \"xindex\": 0, \"yindex\": 1, \"coordinates\": \"data\", \"id\": \"el176442586077985872pts\", \"facecolor\": \"#4C72B0\", \"edgecolor\": \"#4C72B0\", \"edgewidth\": 0.0, \"alpha\": 1, \"zorder\": 2, \"markerpath\": [[[0.0, 3.5], [0.9282108500000001, 3.5], [1.8185295477469872, 3.131217920558846], [2.4748737341529163, 2.4748737341529163], [3.131217920558846, 1.8185295477469872], [3.5, 0.9282108500000001], [3.5, 0.0], [3.5, -0.9282108500000001], [3.131217920558846, -1.8185295477469872], [2.4748737341529163, -2.4748737341529163], [1.8185295477469872, -3.131217920558846], [0.9282108500000001, -3.5], [0.0, -3.5], [-0.9282108500000001, -3.5], [-1.8185295477469872, -3.131217920558846], [-2.4748737341529163, -2.4748737341529163], [-3.131217920558846, -1.8185295477469872], [-3.5, -0.9282108500000001], [-3.5, 0.0], [-3.5, 0.9282108500000001], [-3.131217920558846, 1.8185295477469872], [-2.4748737341529163, 2.4748737341529163], [-1.8185295477469872, 3.131217920558846], [-0.9282108500000001, 3.5], [0.0, 3.5]], [\"M\", \"C\", \"C\", \"C\", \"C\", \"C\", \"C\", \"C\", \"C\", \"Z\"]]}], \"texts\": [{\"text\": \"Time\", \"position\": [0.5, -0.08244621617112684], \"coordinates\": \"axes\", \"h_anchor\": \"middle\", \"v_baseline\": \"hanging\", \"rotation\": -0.0, \"fontsize\": 10.0, \"color\": \"#262626\", \"alpha\": 1, \"zorder\": 3, \"id\": \"el176442586071584160\"}, {\"text\": \"Regime\", \"position\": [-0.028161802355350735, 0.5], \"coordinates\": \"axes\", \"h_anchor\": \"middle\", \"v_baseline\": \"auto\", \"rotation\": -90.0, \"fontsize\": 10.0, \"color\": \"#262626\", \"alpha\": 1, \"zorder\": 3, \"id\": \"el176442586077948728\"}, {\"text\": \"Regime Changes over Time with GDP and PCE\", \"position\": [0.5, 1.0315357931251972], \"coordinates\": \"axes\", \"h_anchor\": \"middle\", \"v_baseline\": \"auto\", \"rotation\": -0.0, \"fontsize\": 18.0, \"color\": \"#262626\", \"alpha\": 1, \"zorder\": 3, \"id\": \"el176442586071303280\"}], \"collections\": [], \"images\": [], \"sharex\": [], \"sharey\": []}], \"data\": {\"data01\": [[0.0, 3.0], [1.0, 3.0], [2.0, 1.0], [3.0, 2.0], [4.0, 1.0], [5.0, 1.0], [6.0, 3.0], [7.0, 4.0], [8.0, 4.0], [9.0, 2.0], [10.0, 4.0], [11.0, 1.0], [12.0, 1.0], [13.0, 1.0], [14.0, 1.0], [15.0, 3.0], [16.0, 2.0], [17.0, 2.0], [18.0, 3.0], [19.0, 2.0], [20.0, 4.0], [21.0, 2.0], [22.0, 1.0], [23.0, 4.0], [24.0, 4.0], [25.0, 1.0], [26.0, 1.0], [27.0, 4.0], [28.0, 2.0], [29.0, 3.0], [30.0, 3.0], [31.0, 3.0], [32.0, 4.0], [33.0, 3.0], [34.0, 3.0], [35.0, 2.0], [36.0, 2.0], [37.0, 1.0], [38.0, 4.0], [39.0, 4.0], [40.0, 2.0], [41.0, 1.0], [42.0, 2.0], [43.0, 2.0], [44.0, 4.0], [45.0, 3.0], [46.0, 4.0], [47.0, 2.0], [48.0, 3.0], [49.0, 4.0], [50.0, 3.0], [51.0, 1.0], [52.0, 4.0], [53.0, 3.0], [54.0, 1.0], [55.0, 4.0], [56.0, 2.0], [57.0, 1.0], [58.0, 4.0], [59.0, 3.0], [60.0, 1.0], [61.0, 3.0], [62.0, 3.0], [63.0, 3.0], [64.0, 3.0], [65.0, 1.0], [66.0, 1.0], [67.0, 2.0], [68.0, 2.0], [69.0, 1.0], [70.0, 4.0], [71.0, 4.0], [72.0, 4.0], [73.0, 4.0], [74.0, 2.0], [75.0, 2.0], [76.0, 3.0], [77.0, 1.0], [78.0, 3.0], [79.0, 2.0], [80.0, 4.0], [81.0, 2.0], [82.0, 1.0], [83.0, 4.0], [84.0, 1.0], [85.0, 2.0], [86.0, 3.0], [87.0, 2.0], [88.0, 4.0], [89.0, 3.0], [90.0, 4.0]]}, \"id\": \"el176442586073501480\", \"plugins\": [{\"type\": \"reset\"}, {\"type\": \"zoom\", \"button\": true, \"enabled\": false}, {\"type\": \"boxzoom\", \"button\": true, \"enabled\": false}, {\"type\": \"tooltip\", \"id\": \"el176442586077985872pts\", \"labels\": [\"1993-Q2\", \"1993-Q3\", \"1993-Q4\", \"1994-Q1\", \"1994-Q2\", \"1994-Q3\", \"1994-Q4\", \"1995-Q1\", \"1995-Q2\", \"1995-Q3\", \"1995-Q4\", \"1996-Q1\", \"1996-Q2\", \"1996-Q3\", \"1996-Q4\", \"1997-Q1\", \"1997-Q2\", \"1997-Q3\", \"1997-Q4\", \"1998-Q1\", \"1998-Q2\", \"1998-Q3\", \"1998-Q4\", \"1999-Q1\", \"1999-Q2\", \"1999-Q3\", \"1999-Q4\", \"2000-Q1\", \"2000-Q2\", \"2000-Q3\", \"2000-Q4\", \"2001-Q1\", \"2001-Q2\", \"2001-Q3\", \"2001-Q4\", \"2002-Q1\", \"2002-Q2\", \"2002-Q3\", \"2002-Q4\", \"2003-Q1\", \"2003-Q2\", \"2003-Q3\", \"2003-Q4\", \"2004-Q1\", \"2004-Q2\", \"2004-Q3\", \"2004-Q4\", \"2005-Q1\", \"2005-Q2\", \"2005-Q3\", \"2005-Q4\", \"2006-Q1\", \"2006-Q2\", \"2006-Q3\", \"2006-Q4\", \"2007-Q1\", \"2007-Q2\", \"2007-Q3\", \"2007-Q4\", \"2008-Q1\", \"2008-Q2\", \"2008-Q3\", \"2008-Q4\", \"2009-Q1\", \"2009-Q2\", \"2009-Q3\", \"2009-Q4\", \"2010-Q1\", \"2010-Q2\", \"2010-Q3\", \"2010-Q4\", \"2011-Q1\", \"2011-Q2\", \"2011-Q3\", \"2011-Q4\", \"2012-Q1\", \"2012-Q2\", \"2012-Q3\", \"2012-Q4\", \"2013-Q1\", \"2013-Q2\", \"2013-Q3\", \"2013-Q4\", \"2014-Q1\", \"2014-Q2\", \"2014-Q3\", \"2014-Q4\", \"2015-Q1\", \"2015-Q2\", \"2015-Q3\", \"2015-Q4\"], \"hoffset\": 0, \"voffset\": 10, \"location\": \"mouse\"}]});\n",
       "            })\n",
       "         });\n",
       "}\n",
       "</script>"
      ],
      "text/plain": [
       "<IPython.core.display.HTML object>"
      ]
     },
     "execution_count": 251,
     "metadata": {},
     "output_type": "execute_result"
    }
   ],
   "source": [
    "\n",
    "## Plotting the presence in regimes over time:  \n",
    "plot_subset_list = ['Date' , 'quadrant_number']\n",
    "\n",
    "df_plot = data_point.loc[data_point['Year'].isin(selected_timeframe_list)]\n",
    "df_plot >>= select (plot_subset_list) ## Subset the dataframe\n",
    "\n",
    "q = df_plot['Date']\n",
    "q = q.tolist()\n",
    "r = df_plot['quadrant_number']\n",
    "r = r.tolist()\n",
    "\n",
    "fig, ax = plt.subplots()\n",
    "\n",
    "line = plt.plot(q , r , marker = 'o' , linestyle = ':')\n",
    "\n",
    "plt.xticks(rotation = 60)\n",
    "ax.grid()\n",
    "fig.set_size_inches(14 , 3.5)\n",
    "\n",
    "plt.xlabel('Time'  , labelpad=5, fontsize=10)\n",
    "plt.ylabel('Regime', labelpad=5, fontsize=10)\n",
    "plt.title('Regime Changes over Time with GDP and PCE' , fontsize = 18)\n",
    "plt.yticks([1 , 2 , 3 , 4] , fontsize = 18)\n",
    "n = 7  # Keeps every 7th label in the x-axis\n",
    "[l.set_visible(False) for (i,l) in enumerate(ax.xaxis.get_ticklabels()) if i % n != 0]\n",
    "plt.xticks( fontsize = .001)\n",
    "\n",
    "\n",
    "#plt.show()\n",
    "#plt.figure(figsize=(25,3))\n",
    "mpld3.plugins.connect(fig, mpld3.plugins.PointLabelTooltip( line[0] , labels = q))\n",
    "mpld3.display()\n"
   ]
  },
  {
   "cell_type": "markdown",
   "metadata": {
    "extensions": {
     "jupyter_dashboards": {
      "version": 1,
      "views": {
       "grid_default": {
        "col": 8,
        "height": 4,
        "hidden": true,
        "row": 24,
        "width": 4
       },
       "report_default": {}
      }
     }
    }
   },
   "source": [
    "\n",
    "## Hierarchical Pie Chart"
   ]
  },
  {
   "cell_type": "code",
   "execution_count": 252,
   "metadata": {
    "extensions": {
     "jupyter_dashboards": {
      "version": 1,
      "views": {
       "grid_default": {
        "col": 4,
        "height": 14,
        "hidden": false,
        "row": 10,
        "width": 4
       },
       "report_default": {}
      }
     }
    }
   },
   "outputs": [
    {
     "data": {
      "image/png": "[encoded data removed]",
      "text/plain": [
       "<Figure size 842.4x595.44 with 1 Axes>"
      ]
     },
     "metadata": {},
     "output_type": "display_data"
    }
   ],
   "source": [
    "\n",
    "### Dataframe for quadrant after another, hpie:\n",
    "## Use the same plotting Dataframe created before:\n",
    "df_hpie = data_point.loc[data_point['Year'].isin(selected_timeframe_list)]\n",
    "df_hpie >>= select ( plot_subset_list + selected_assets_list ) ## Subset the dataframe\n",
    "\n",
    "df_hpie.columns = ['Quarter' , 'Regime_lag_0'] + selected_assets_list\n",
    "lvl_count = 2 ## Specify the numbers of qtrs we want to go back (including current) -- change later to widget input\n",
    "\n",
    "## Preparatory:\n",
    "for i in range(1, lvl_count + 1):\n",
    "    curr_col = \"Regime_lag_\" + str(i)\n",
    "    prev_col = \"Regime_lag_\" + str(i-1)\n",
    "    df_hpie[curr_col] = df_hpie[prev_col].shift(-1)\n",
    "\n",
    "df_hpie_out = pd.DataFrame() # Initialize an empty dataframe, reqd for the hierarchical pie chart\n",
    "   \n",
    "    \n",
    "Regime_list = [\"Regime_lag_\" + str(j) for j in range( 0 , lvl_count )] # List of the regimes which fall in this\n",
    "\n",
    "df_hpie_sub = df_hpie >> select(['Quarter'] + Regime_list)\n",
    "df_hpie_piv = pd.pivot_table(df_hpie_sub , values = 'Quarter', index = Regime_list , aggfunc = 'count')\n",
    "df_hpie_piv = df_hpie_piv.reset_index()\n",
    "\n",
    "df_hpie_piv = df_hpie_piv[df_hpie_piv.columns[::-1]] ## Reverse the order of columns \n",
    "\n",
    "df_hpie_list = list(df_hpie_piv.columns[1:]) ## Create a list of the levels\n",
    "df_hpie_piv = df_hpie_piv.astype(str)\n",
    "\n",
    "df_hpie_piv['dictionary_key'] = df_hpie_piv[ df_hpie_list ].apply(lambda x: '/'.join(x), axis = 1) \n",
    "df_hpie_piv >>= select(X.dictionary_key , X.Quarter)\n",
    "df_hpie_piv['Quarter'] = pd.to_numeric( df_hpie_piv['Quarter'] )\n",
    "\n",
    "df_hpie_piv = df_hpie_piv.set_index('dictionary_key')\n",
    "\n",
    "## Convert the dataframe output into a dictionary for input into the HPie Chart:\n",
    "hpie_dict = df_hpie_piv.to_dict()    \n",
    "hpie_dict = list(hpie_dict.values())\n",
    "hpie_dict = hpie_dict[0]\n",
    "\n",
    "\n",
    "## Create Asset wise pivots, to display the average returns in individual hpie charts:\n",
    "\n",
    "for i in selected_assets_list:\n",
    "    \n",
    "    df_asset_sub = df_hpie >> select(['Quarter'] + Regime_list + [i])\n",
    "    df_asset_sub = df_asset_sub.dropna()\n",
    "    df_asset_piv = pd.pivot_table(df_asset_sub , values = i, index = Regime_list + ['Quarter'], aggfunc = np.sum)\n",
    "    df_asset_piv = df_asset_piv.reset_index()\n",
    "    df_asset_piv = df_asset_piv.drop(columns = ['Quarter'])\n",
    "    \n",
    "    df_asset_piv = df_asset_piv[df_asset_piv.columns[::-1]] ## Reverse the order of columns \n",
    "\n",
    "    df_asset_list = list(df_asset_piv.columns[1:]) ## Create a list of the levels\n",
    "    df_asset_piv = df_asset_piv.astype(str)\n",
    "    \n",
    "    df_asset_piv['dictionary_key'] = df_asset_piv[ df_asset_list ].apply(lambda x: '/'.join(x), axis = 1) \n",
    "    df_asset_piv['dictionary_key'] = df_asset_piv['dictionary_key'].astype(str) + '/_' \n",
    "    \n",
    "    df_asset_piv = df_asset_piv.drop(columns = df_asset_list)\n",
    "    \n",
    "    df_asset_piv[i] = pd.to_numeric( df_asset_piv[i] , downcast='float')\n",
    "        \n",
    "    df_asset_piv.rename(columns={i:'_t'} , inplace = True)\n",
    "    df_asset_piv >>= group_by( X.dictionary_key ) >> summarize( mean_ = X._t.mean() )\n",
    "    df_asset_piv['mean_'] = np.round( df_asset_piv['mean_'] , 2)\n",
    "    \n",
    "    df_asset_piv = df_asset_piv.set_index('dictionary_key')\n",
    "    \n",
    "    hpie_asset_dict = df_asset_piv.to_dict()\n",
    "    hpie_asset_dict = list(hpie_asset_dict.values())\n",
    "    hpie_asset_dict = hpie_asset_dict[0]\n",
    "    hpie_asset_dict.update(hpie_dict)\n",
    "    \n",
    "    \n",
    "#     fig, ax = plt.subplots()\n",
    "#     data = stringvalues_to_pv(hpie_asset_dict)\n",
    "#     hp = HPie( data , ax )\n",
    "\n",
    "#     # set plot attributes\n",
    "\n",
    "#     hp.plot(setup_axes = True )\n",
    "#     ax.set_title('Regime Changes across Quarters - ' + i)\n",
    "\n",
    "#     # save/show plot\n",
    "\n",
    "#     plt.show()\n",
    "    \n",
    "#     #cdisplay(hpie_asset_dict)\n",
    "\n",
    "\n",
    "## Overall:  \n",
    "   \n",
    "fig, ax = plt.subplots()\n",
    "\n",
    "data = stringvalues_to_pv(hpie_dict)\n",
    "\n",
    "hp = HPie( data , ax )\n",
    "\n",
    "# set plot attributes\n",
    "\n",
    "hp.plot(setup_axes = True)\n",
    "ax.set_title('Regime Changes across Quarters')\n",
    "\n",
    "# save/show plot\n",
    "\n",
    "plt.show()"
   ]
  },
  {
   "cell_type": "markdown",
   "metadata": {
    "extensions": {
     "jupyter_dashboards": {
      "version": 1,
      "views": {
       "grid_default": {
        "col": 0,
        "height": 5,
        "hidden": true,
        "row": 93,
        "width": 12
       },
       "report_default": {}
      }
     }
    }
   },
   "source": [
    "# Creating a data frame - ' returns_data' \n",
    "\n",
    "# returns_data will help you look into the average returns of all the asset classes when they are falling into a particular regime"
   ]
  },
  {
   "cell_type": "code",
   "execution_count": 253,
   "metadata": {
    "extensions": {
     "jupyter_dashboards": {
      "version": 1,
      "views": {
       "grid_default": {
        "hidden": true
       },
       "report_default": {}
      }
     }
    }
   },
   "outputs": [],
   "source": [
    "###### below are the returns of all the data points that fall into a particular quadrant --- \n",
    "\n",
    "##### for example --- gold_returns_1 will give all gold returns of all the data points that fall into 1st quadrant\n",
    "\n",
    "gold_returns_1 = []\n",
    "bond_returns_1 =[]\n",
    "equity_returns_1 =[]\n",
    "USD_returns_1 =[]\n",
    "commodities_returns_1 =[]\n",
    "\n",
    "gold_returns_2 = []\n",
    "bond_returns_2 =[]\n",
    "equity_returns_2 =[]\n",
    "USD_returns_2 =[]\n",
    "commodities_returns_2 =[]\n",
    "\n",
    "gold_returns_3 = []\n",
    "bond_returns_3 =[]\n",
    "equity_returns_3 =[]\n",
    "USD_returns_3 =[]\n",
    "commodities_returns_3 =[]\n",
    "    \n",
    "gold_returns_4 = []\n",
    "bond_returns_4 =[]\n",
    "equity_returns_4 =[]\n",
    "USD_returns_4 =[]\n",
    "commodities_returns_4 =[]\n",
    "\n",
    "\n",
    "for i in index_quadrant1:\n",
    "    gold_returns_1.append(data_point['gold returns'][i])\n",
    "    bond_returns_1.append(data_point['bonds returns'][i])\n",
    "    equity_returns_1.append(data_point['equity returns'][i])\n",
    "    USD_returns_1.append(data_point['USD returns'][i])\n",
    "    commodities_returns_1.append(data_point['commodities returns'][i])\n",
    "\n",
    "    \n",
    "for i in index_quadrant2:\n",
    "    gold_returns_2.append(data_point['gold returns'][i])\n",
    "    bond_returns_2.append(data_point['bonds returns'][i])\n",
    "    equity_returns_2.append(data_point['equity returns'][i])\n",
    "    USD_returns_2.append(data_point['USD returns'][i])\n",
    "    commodities_returns_2.append(data_point['commodities returns'][i])\n",
    "\n",
    "for i in index_quadrant3:\n",
    "    gold_returns_3.append(data_point['gold returns'][i])\n",
    "    bond_returns_3.append(data_point['bonds returns'][i])\n",
    "    equity_returns_3.append(data_point['equity returns'][i])\n",
    "    USD_returns_3.append(data_point['USD returns'][i])\n",
    "    commodities_returns_3.append(data_point['commodities returns'][i])\n",
    "\n",
    "    \n",
    "for i in index_quadrant4:\n",
    "    gold_returns_4.append(data_point['gold returns'][i])\n",
    "    bond_returns_4.append(data_point['bonds returns'][i])\n",
    "    equity_returns_4.append(data_point['equity returns'][i])\n",
    "    USD_returns_4.append(data_point['USD returns'][i])\n",
    "    commodities_returns_4.append(data_point['commodities returns'][i])\n",
    "\n",
    "    \n",
    "####### for example: avg_gold_1 will give us the average of all gold returns that fall into 1st quadrant   \n",
    "\n",
    "avg_gold_1 = mean(np.array(gold_returns_1))\n",
    "avg_bond_1 = mean(np.array(bond_returns_1))\n",
    "avg_equity_1 = mean(np.array(equity_returns_1))   \n",
    "avg_USD_1 = mean(np.array(USD_returns_1))   \n",
    "avg_commodities_1 = mean(np.array(commodities_returns_1))  \n",
    "\n",
    "avg_gold_2 = mean(np.array(gold_returns_2))   \n",
    "avg_bond_2 = mean(np.array(bond_returns_2))   \n",
    "avg_equity_2 = mean(np.array(equity_returns_2))   \n",
    "avg_USD_2 = mean(np.array(USD_returns_1))   \n",
    "avg_commodities_2 = mean(np.array(commodities_returns_2))\n",
    "\n",
    "avg_gold_3 = mean(np.array(gold_returns_3))  \n",
    "avg_bond_3 = mean(np.array(bond_returns_3))   \n",
    "avg_equity_3 = mean(np.array(equity_returns_3))   \n",
    "avg_USD_3 = mean(np.array(USD_returns_3))   \n",
    "avg_commodities_3 = mean(np.array(commodities_returns_3))  \n",
    "\n",
    "avg_gold_4 = mean(np.array(gold_returns_4))   \n",
    "avg_bond_4 = mean(np.array(bond_returns_4))  \n",
    "avg_equity_4 = mean(np.array(equity_returns_4))   \n",
    "avg_USD_4 = mean(np.array(USD_returns_4))\n",
    "avg_commodities_4 = mean(np.array(commodities_returns_4))\n"
   ]
  },
  {
   "cell_type": "code",
   "execution_count": 254,
   "metadata": {
    "extensions": {
     "jupyter_dashboards": {
      "version": 1,
      "views": {
       "grid_default": {
        "hidden": true
       },
       "report_default": {}
      }
     }
    }
   },
   "outputs": [],
   "source": [
    "\n",
    "return_data = pd.DataFrame(index=['Quadrant 1','Quadrant 2','Quadrant 3', 'Quadrant 4'])\n",
    "\n",
    "\n",
    "return_data['average_gold_retuns'] = [ avg_gold_1,avg_gold_2,avg_gold_3,avg_gold_4]\n",
    "return_data['max gold return'] = [max(gold_returns_1),max(gold_returns_2),max(gold_returns_3),max(gold_returns_4)]\n",
    "return_data['min gold return'] = [min(gold_returns_1),min(gold_returns_2),min(gold_returns_3),min(gold_returns_4)]\n",
    "return_data['average_bond_retuns'] = [ avg_bond_1,avg_bond_2,avg_bond_3,avg_bond_4]\n",
    "return_data['max bond return'] = [max(bond_returns_1),max(bond_returns_2),max(bond_returns_3),max(bond_returns_4)]\n",
    "return_data['min bond return'] = [min(bond_returns_1),min(bond_returns_2),min(bond_returns_3),min(bond_returns_4)]\n",
    "return_data['average_equity_retuns'] = [ avg_equity_1,avg_equity_2,avg_equity_3,avg_equity_4]\n",
    "return_data['max equity return'] = [max(equity_returns_1),max(equity_returns_2),max(equity_returns_3),max(equity_returns_4)]\n",
    "return_data['min equity return'] = [min(equity_returns_1),min(equity_returns_2),min(equity_returns_3),min(equity_returns_4)]\n",
    "return_data['average_USD_retuns'] = [ avg_USD_1,avg_USD_2,avg_USD_3,avg_USD_4]\n",
    "return_data['max USD return'] = [max(USD_returns_1),max(USD_returns_2),max(USD_returns_3),max(USD_returns_4)]\n",
    "return_data['min USD return'] = [min(USD_returns_1),min(USD_returns_2),min(USD_returns_3),min(USD_returns_4)]\n",
    "return_data['average_commodities_retuns'] = [ avg_commodities_1,avg_commodities_2,avg_commodities_3,avg_commodities_4]\n",
    "return_data['max commodities return'] = [max(commodities_returns_1),max(commodities_returns_2),max(commodities_returns_3),max(commodities_returns_4)]\n",
    "return_data['min commodities return'] = [min(commodities_returns_1),min(commodities_returns_2),min(commodities_returns_3),min(commodities_returns_4)]\n",
    "\n",
    "\n",
    "# return_data"
   ]
  },
  {
   "cell_type": "code",
   "execution_count": 255,
   "metadata": {
    "extensions": {
     "jupyter_dashboards": {
      "version": 1,
      "views": {
       "grid_default": {
        "hidden": true
       },
       "report_default": {}
      }
     }
    }
   },
   "outputs": [],
   "source": [
    "date_quad_1 =[]\n",
    "date_quad_2 =[]\n",
    "date_quad_3 =[]\n",
    "date_quad_4 =[]\n",
    "\n",
    "for i in index_quadrant1:\n",
    "    \n",
    "    date_quad_1.append(data_point['Date'][i])\n",
    "\n",
    "for i in index_quadrant2:\n",
    "    \n",
    "    date_quad_2.append(data_point['Date'][i])\n",
    "\n",
    "for i in index_quadrant3:\n",
    "    \n",
    "    date_quad_3.append(data_point['Date'][i])\n",
    "    \n",
    "for i in index_quadrant4:\n",
    "    \n",
    "    date_quad_4.append(data_point['Date'][i])\n",
    "    \n",
    "    \n",
    "quadrant_1_returns = pd.DataFrame(columns=['gold','bond','equity','USD','commodities'], index = date_quad_1)\n",
    "\n",
    "quadrant_1_returns['gold'] = gold_returns_1\n",
    "quadrant_1_returns['bond'] = bond_returns_1\n",
    "quadrant_1_returns['equity'] = equity_returns_1\n",
    "quadrant_1_returns['USD'] = USD_returns_1\n",
    "quadrant_1_returns['commodities'] = commodities_returns_1\n",
    "\n",
    "\n",
    "quadrant_2_returns = pd.DataFrame(columns=['gold','bond','equity','USD','commodities'], index = date_quad_2)\n",
    "\n",
    "quadrant_2_returns['gold'] = gold_returns_2\n",
    "quadrant_2_returns['bond'] = bond_returns_2\n",
    "quadrant_2_returns['equity'] = equity_returns_2\n",
    "quadrant_2_returns['USD'] = USD_returns_2\n",
    "quadrant_2_returns['commodities'] = commodities_returns_2\n",
    "\n",
    "\n",
    "quadrant_3_returns = pd.DataFrame(columns=['gold','bond','equity','USD','commodities'], index = date_quad_3)\n",
    "\n",
    "quadrant_3_returns['gold'] = gold_returns_3\n",
    "quadrant_3_returns['bond'] = bond_returns_3\n",
    "quadrant_3_returns['equity'] = equity_returns_3\n",
    "quadrant_3_returns['USD'] = USD_returns_3\n",
    "quadrant_3_returns['commodities'] = commodities_returns_3\n",
    "\n",
    "\n",
    "quadrant_4_returns = pd.DataFrame(columns=['gold','bond','equity','USD','commodities'], index = date_quad_4)\n",
    "\n",
    "quadrant_4_returns['gold'] = gold_returns_4\n",
    "quadrant_4_returns['bond'] = bond_returns_4\n",
    "quadrant_4_returns['equity'] = equity_returns_4\n",
    "quadrant_4_returns['USD'] = USD_returns_4\n",
    "quadrant_4_returns['commodities'] = commodities_returns_4\n",
    "\n",
    "\n",
    "# quadrant_1_returns\n",
    "# quadrant_2_returns\n",
    "# quadrant_3_returns\n",
    "# quadrant_4_returns"
   ]
  },
  {
   "cell_type": "markdown",
   "metadata": {
    "extensions": {
     "jupyter_dashboards": {
      "version": 1,
      "views": {
       "grid_default": {
        "col": 0,
        "height": 4,
        "hidden": true,
        "row": 49,
        "width": 12
       },
       "report_default": {}
      }
     }
    }
   },
   "source": [
    "# Using 3 Optimisation methods to calculate optimum weights of Asset classes"
   ]
  },
  {
   "cell_type": "code",
   "execution_count": 256,
   "metadata": {
    "extensions": {
     "jupyter_dashboards": {
      "version": 1,
      "views": {
       "grid_default": {
        "hidden": true
       },
       "report_default": {}
      }
     }
    }
   },
   "outputs": [],
   "source": [
    "##### monte_carlo method for obtaining optimum weights\n",
    "\n",
    "optimum_weights_monte_carlo = pd.DataFrame(index=['equity','Bonds','USD','gold','commodities'],columns= ['Quadrant1','Quadrant2', 'Quadrant3','Quadrant4'])\n",
    "\n",
    "weights_each_quadrant =[]\n",
    "\n",
    "def monte_carlo_optimization(Data):\n",
    "    \n",
    "   \n",
    "    #calculate the return of the asset classses\n",
    "\n",
    "    \n",
    "    USD_return=Data['USD']\n",
    "    Gold_return=Data['gold']\n",
    "    Equity_return=Data['equity']\n",
    "    T_return=Data['bond']\n",
    "    commodities_return=Data['commodities'] \n",
    "\n",
    "   \n",
    "\n",
    "   #create the dataframe of the return of the asset classes\n",
    "    AssetClass=pd.DataFrame()\n",
    "    AssetClass['equity']=Equity_return\n",
    "    AssetClass['bond']=T_return\n",
    "    AssetClass['USD']=USD_return\n",
    "    AssetClass['gold']=Gold_return\n",
    "    AssetClass['commodities']=commodities_return\n",
    "    AssetClass.dropna(inplace=True)\n",
    "   \n",
    "    \n",
    "    mean_return=AssetClass.mean()           \n",
    "   #print(\"Mean Return of Portfolios\")\n",
    "   #print(mean_return)\n",
    "   \n",
    "    \n",
    "   #covraince matrix\n",
    "   #print(\"----------------------------------------------------\")\n",
    "    cov_matrix=AssetClass.cov()                    \n",
    "   #print(\"Covariance Matrix of the Portfolios\")\n",
    "   #print(cov_matrix)\n",
    "\n",
    "    number_port=len(AssetClass.columns)\n",
    "    V=np.matrix(cov_matrix)\n",
    "    R=np.matrix(mean_return)\n",
    "    Rf=0.0013 #Risk-free rate\n",
    "   \n",
    "    Port_Std=[]\n",
    "    Port_MeanReturn=[]\n",
    "    Sharpe_Ratio=[]\n",
    "    weight=[]\n",
    "    \n",
    "    for i in range(10000):\n",
    "        \n",
    "        w = np.random.uniform(0,1,size=number_port)\n",
    "       #w=np.random.normal(size=number_port)\n",
    "        w /= w.sum()\n",
    "        weight.append(w) #portfolio weight\n",
    "       #Portfolio Standard Deviation\n",
    "        Port_Var=np.asscalar(w*np.matrix(V)*w.reshape(number_port,1))\n",
    "        Port_Std.append(np.sqrt(Port_Var))\n",
    "       #Portfolio Mean Return\n",
    "        meanReturn=np.asscalar(np.matmul(R,np.matrix(w).transpose()))\n",
    "        Port_MeanReturn.append(meanReturn)\n",
    "       #Sharpe Ratio\n",
    "        Sharpe_Ratio.append((meanReturn-Rf)/np.sqrt(Port_Var))\n",
    "\n",
    "        num=Sharpe_Ratio.index(max(Sharpe_Ratio)) #the index of the lagest sharpe ratio\n",
    "        w_tan=weight[num]\n",
    "        \n",
    "    weights_each_quadrant.append(w_tan)\n",
    "    print(\"======================================================\")\n",
    "    print(\"The weight of the tangency portfolio is\")\n",
    "    print(w_tan)\n",
    "   \n",
    "    print(\"======================================================\")\n",
    "    print(\"The return of the tangency portfolio is\")\n",
    "    print(Port_MeanReturn[num]*4)\n",
    "   \n",
    "    print(\"======================================================\")\n",
    "    print(\"The Sharpe ratio of the tangency portfolio is\")\n",
    "    print(max(Sharpe_Ratio))\n",
    "\n",
    "    fig5=plt.figure()\n",
    "    ax5=fig5.add_subplot(111)\n",
    "    ax5.plot(Port_Std,Port_MeanReturn,'.')\n",
    "    ax5.set_title(\"minimum-variance frontier\")\n",
    "    ax5.set_xlabel(\"Standard Deviation\")\n",
    "    ax5.set_ylabel(\"Return\") \n",
    "    #ax5.set_xlim([0.018,0.1])\n",
    "    #ax5.set_ylim([-0.1,0.1])\n",
    "    \n",
    "    \n",
    "\n",
    "    \n",
    "\n"
   ]
  },
  {
   "cell_type": "code",
   "execution_count": 257,
   "metadata": {
    "extensions": {
     "jupyter_dashboards": {
      "version": 1,
      "views": {
       "grid_default": {
        "col": 0,
        "height": 91,
        "hidden": false,
        "row": 38,
        "width": 12
       },
       "report_default": {}
      }
     }
    }
   },
   "outputs": [
    {
     "name": "stdout",
     "output_type": "stream",
     "text": [
      "======================================================\n",
      "The weight of the tangency portfolio is\n",
      "[0.33961846 0.01364303 0.163861   0.26112945 0.22174805]\n",
      "======================================================\n",
      "The return of the tangency portfolio is\n",
      "13.449711216028732\n",
      "======================================================\n",
      "The Sharpe ratio of the tangency portfolio is\n",
      "1.2850202452157127\n",
      "======================================================\n",
      "The weight of the tangency portfolio is\n",
      "[0.24130199 0.18334899 0.1357853  0.20540153 0.23416219]\n",
      "======================================================\n",
      "The return of the tangency portfolio is\n",
      "9.529438371099701\n",
      "======================================================\n",
      "The Sharpe ratio of the tangency portfolio is\n",
      "0.9182051346073088\n",
      "======================================================\n",
      "The weight of the tangency portfolio is\n",
      "[0.1069488  0.24527201 0.63150712 0.01443802 0.00183404]\n",
      "======================================================\n",
      "The return of the tangency portfolio is\n",
      "8.122561177185482\n",
      "======================================================\n",
      "The Sharpe ratio of the tangency portfolio is\n",
      "0.48034138736438403\n",
      "======================================================\n",
      "The weight of the tangency portfolio is\n",
      "[0.67764638 0.04493372 0.06939233 0.03298364 0.17504393]\n",
      "======================================================\n",
      "The return of the tangency portfolio is\n",
      "9.254179626797683\n",
      "======================================================\n",
      "The Sharpe ratio of the tangency portfolio is\n",
      "0.5867345793454474\n"
     ]
    },
    {
     "data": {
      "image/png": "[encoded data removed]",
      "text/plain": [
       "<Figure size 842.4x595.44 with 1 Axes>"
      ]
     },
     "metadata": {},
     "output_type": "display_data"
    },
    {
     "data": {
      "image/png": "[encoded data removed]",
      "text/plain": [
       "<Figure size 842.4x595.44 with 1 Axes>"
      ]
     },
     "metadata": {},
     "output_type": "display_data"
    },
    {
     "data": {
      "image/png": "[encoded data removed]",
      "text/plain": [
       "<Figure size 842.4x595.44 with 1 Axes>"
      ]
     },
     "metadata": {},
     "output_type": "display_data"
    },
    {
     "data": {
      "image/png": "[encoded data removed]",
      "text/plain": [
       "<Figure size 842.4x595.44 with 1 Axes>"
      ]
     },
     "metadata": {},
     "output_type": "display_data"
    }
   ],
   "source": [
    "##### below for loop will output results in order --- results from quadrant 1 to quadrant 4\n",
    "\n",
    "\n",
    "for i in range(4):\n",
    "    \n",
    "    \n",
    "    monte_carlo_optimization(vars()['quadrant_'+ str(i+1)+'_returns'])  \n",
    "    \n",
    "    optimum_weights_monte_carlo[optimum_weights_monte_carlo.columns[i]] = weights_each_quadrant[i]   \n",
    "    \n",
    "    "
   ]
  },
  {
   "cell_type": "code",
   "execution_count": 258,
   "metadata": {
    "extensions": {
     "jupyter_dashboards": {
      "version": 1,
      "views": {
       "grid_default": {
        "col": 0,
        "height": 7,
        "hidden": true,
        "row": 24,
        "width": 5
       },
       "report_default": {}
      }
     }
    }
   },
   "outputs": [],
   "source": [
    "# optimum_weights_monte_carlo"
   ]
  },
  {
   "cell_type": "code",
   "execution_count": 259,
   "metadata": {
    "extensions": {
     "jupyter_dashboards": {
      "version": 1,
      "views": {
       "grid_default": {
        "hidden": true
       },
       "report_default": {}
      }
     }
    }
   },
   "outputs": [],
   "source": [
    "##### risk parity method for obtaining optimum weights\n",
    "\n",
    "optimum_weights_rp = pd.DataFrame(index=['equity','Bonds','USD','gold','commodities'],columns= ['Quadrant1','Quadrant2', 'Quadrant3','Quadrant4'])\n",
    "\n",
    "weights_each_quadrant_rp =[]\n",
    "\n",
    "def risk_parity_optimization(Data):\n",
    "    \n",
    "    USD_return=Data['USD']\n",
    "    Gold_return=Data['gold']\n",
    "    Equity_return=Data['equity']\n",
    "    T_return=Data['bond']\n",
    "    commodities_return=Data['commodities'] \n",
    "\n",
    "   \n",
    "\n",
    "   #create the dataframe of the return of the asset classes\n",
    "    AssetClass=pd.DataFrame()\n",
    "    AssetClass['equity']=Equity_return\n",
    "    AssetClass['bond']=T_return\n",
    "    AssetClass['USD']=USD_return\n",
    "    AssetClass['gold']=Gold_return\n",
    "    AssetClass['commodities']=commodities_return\n",
    "     \n",
    "\n",
    "    AssetClass.dropna(inplace=True)\n",
    "\n",
    "    cov_matrix=AssetClass.cov() \n",
    "    V=np.matrix(cov_matrix)\n",
    "\n",
    "    # risk budgeting optimization\n",
    "    def calculate_portfolio_var(w,V):\n",
    "        # function that calculates portfolio risk\n",
    "        w = np.matrix(w)\n",
    "        return (w*V*w.T)[0,0]\n",
    "\n",
    "    def calculate_risk_contribution(w,V):\n",
    "        # function that calculates asset contribution to total risk\n",
    "        w = np.matrix(w)\n",
    "        sigma = np.sqrt(calculate_portfolio_var(w,V))\n",
    "        # Marginal Risk Contribution\n",
    "        MRC = V*w.T\n",
    "        # Risk Contribution\n",
    "        RC = np.multiply(MRC,w.T)/sigma\n",
    "        return RC\n",
    "\n",
    "    def risk_budget_objective(x,pars):\n",
    "        # calculate portfolio risk\n",
    "        V = pars[0]# covariance table\n",
    "        x_t = pars[1] # risk target in percent of portfolio risk\n",
    "        sig_p =  np.sqrt(calculate_portfolio_var(x,V)) # portfolio sigma\n",
    "        risk_target = np.asmatrix(np.multiply(sig_p,x_t))\n",
    "        asset_RC = calculate_risk_contribution(x,V)\n",
    "        J = sum(np.square(asset_RC-risk_target.T))[0,0]*1000 # sum of squared error\n",
    "        return J\n",
    "\n",
    "    def total_weight_constraint(x):\n",
    "        return np.sum(x)-1.0\n",
    "\n",
    "    def long_only_constraint(x):\n",
    "        return x\n",
    "\n",
    "    x_t = [0.2, 0.2, 0.2, 0.2,0.2] # your risk budget percent of total portfolio risk (equal risk)\n",
    "    w0 = [0.2,0.2,0.2,0.2,0.2] \n",
    "    cons = ({'type': 'eq', 'fun': total_weight_constraint},\n",
    "    {'type': 'ineq', 'fun': long_only_constraint})\n",
    "    res= minimize(risk_budget_objective, w0, args=[V,x_t], method='SLSQP',constraints=cons, options={'disp': True})\n",
    "    w_rb = np.asmatrix(res.x)\n",
    "\n",
    "    #caculate the mean return of the asset classes\n",
    "    USD_MeanReturn=np.mean(USD_return)\n",
    "    Gold_MeanReturn=np.mean(Gold_return)\n",
    "    Equity_MeanReturn=np.mean(Equity_return)\n",
    "    T_MeanReturn=np.mean(T_return)\n",
    "    commodities_meanreturn = np.mean(commodities_return)\n",
    "\n",
    "    #return of the portfolio\n",
    "    R=USD_MeanReturn*res.x[0]+Gold_MeanReturn*res.x[1]+Equity_MeanReturn*res.x[2]+T_MeanReturn*res.x[3]+commodities_meanreturn*res.x[4]\n",
    "    print(\"Aunnual Return of the portfolio is\",R*4)\n",
    "\n",
    "    print(w_rb)\n",
    "    \n",
    "    w_rb_list = w_rb.tolist()\n",
    "    weights_each_quadrant_rp.append(w_rb_list)\n",
    "\n",
    "\n"
   ]
  },
  {
   "cell_type": "code",
   "execution_count": 260,
   "metadata": {
    "extensions": {
     "jupyter_dashboards": {
      "version": 1,
      "views": {
       "grid_default": {
        "hidden": true
       },
       "report_default": {}
      }
     }
    }
   },
   "outputs": [
    {
     "name": "stdout",
     "output_type": "stream",
     "text": [
      "Optimization terminated successfully.    (Exit mode 0)\n",
      "            Current function value: 513.8759424650466\n",
      "            Iterations: 21\n",
      "            Function evaluations: 165\n",
      "            Gradient evaluations: 18\n",
      "Aunnual Return of the portfolio is 2.6351990604833184\n",
      "[[3.72908320e-01 1.62216480e-01 3.31718349e-07 2.30823529e-01\n",
      "  2.34051339e-01]]\n",
      "Optimization terminated successfully.    (Exit mode 0)\n",
      "            Current function value: 4.3850913815807057e-10\n",
      "            Iterations: 10\n",
      "            Function evaluations: 83\n",
      "            Gradient evaluations: 10\n",
      "Aunnual Return of the portfolio is 8.79414936409227\n",
      "[[0.1742325  0.16359111 0.2532807  0.23697502 0.17192069]]\n",
      "Positive directional derivative for linesearch    (Exit mode 8)\n",
      "            Current function value: 668.3219337520349\n",
      "            Iterations: 33\n",
      "            Function evaluations: 307\n",
      "            Gradient evaluations: 29\n",
      "Aunnual Return of the portfolio is 4.063734743129194\n",
      "[[ 3.43303033e-01  2.40637472e-01 -2.89472697e-13  2.84403263e-01\n",
      "   1.31656232e-01]]\n",
      "Optimization terminated successfully.    (Exit mode 0)\n",
      "            Current function value: 1.0653380054921911e-07\n",
      "            Iterations: 13\n",
      "            Function evaluations: 103\n",
      "            Gradient evaluations: 13\n",
      "Aunnual Return of the portfolio is 3.808302838328961\n",
      "[[0.30807053 0.0862755  0.38262871 0.12199668 0.10102858]]\n"
     ]
    }
   ],
   "source": [
    "##### below for loop will output results in order --- results from quadrant 1 to quadrant 4\n",
    "\n",
    "for i in range(4):\n",
    "    \n",
    "    risk_parity_optimization(vars()['quadrant_'+ str(i+1)+'_returns'])\n",
    "    \n",
    "    optimum_weights_rp[optimum_weights_rp.columns[i]] = weights_each_quadrant_rp[0][0][i] \n",
    "    \n",
    "    "
   ]
  },
  {
   "cell_type": "code",
   "execution_count": 261,
   "metadata": {
    "extensions": {
     "jupyter_dashboards": {
      "version": 1,
      "views": {
       "grid_default": {
        "col": 5,
        "height": 9,
        "hidden": true,
        "row": 10,
        "width": 5
       },
       "report_default": {}
      }
     }
    }
   },
   "outputs": [],
   "source": [
    "# optimum_weights_rp"
   ]
  },
  {
   "cell_type": "code",
   "execution_count": 262,
   "metadata": {
    "extensions": {
     "jupyter_dashboards": {
      "version": 1,
      "views": {
       "grid_default": {
        "hidden": true
       },
       "report_default": {}
      }
     }
    }
   },
   "outputs": [],
   "source": [
    "##### inverse vol method for obtaining optimum weights\n",
    "\n",
    "optimum_weights_iv = pd.DataFrame(index=['equity','Bonds','USD','gold','commodities'],columns= ['Quadrant1','Quadrant2', 'Quadrant3','Quadrant4'])\n",
    "\n",
    "weights_each_quadrant_iv =[]\n",
    "\n",
    "def inverse_vol_optimization(Data):\n",
    "    \n",
    "    USD_return=Data['USD']\n",
    "    Gold_return=Data['gold']\n",
    "    Equity_return=Data['equity']\n",
    "    T_return=Data['bond']\n",
    "    commodities_return=Data['commodities'] \n",
    "\n",
    "    \n",
    "    #volatility of each asset\n",
    "    \n",
    "    Equity_vol=np.std(Equity_return)\n",
    "    USD_vol=np.std(USD_return)\n",
    "    T_vol=np.std(T_return)\n",
    "    Gold_vol=np.std(Gold_return)\n",
    "    commodities_vol=np.std(commodities_return)\n",
    "    \n",
    "    vol=np.array([Equity_vol,USD_vol,T_vol,Gold_vol,commodities_vol])\n",
    "\n",
    "    #inverse the vol\n",
    "    inverse_vol=1/vol\n",
    "    sum_vol=np.sum(inverse_vol)\n",
    "    #the portfolio weight\n",
    "    port_weight=inverse_vol/sum_vol\n",
    "\n",
    "    #to test whether the sum of the weight is equal to 1\n",
    "    if np.sum(port_weight)==1:\n",
    "        print('True')\n",
    "\n",
    "    #caculate the mean return of the asset classes\n",
    "    USD_MeanReturn=np.mean(USD_return)\n",
    "    Gold_MeanReturn=np.mean(Gold_return)\n",
    "    Equity_MeanReturn=np.mean(Equity_return)\n",
    "    T_MeanReturn=np.mean(T_return)\n",
    "    commodities_meanreturn=np.mean(commodities_return)\n",
    "    \n",
    "\n",
    "    #return of the portfolio\n",
    "    R=commodities_meanreturn*port_weight[-1]+USD_MeanReturn*port_weight[1]+Gold_MeanReturn*port_weight[3]+Equity_MeanReturn*port_weight[0]+T_MeanReturn*port_weight[2]\n",
    "   \n",
    "    print(\"Aunnual Return of the portfolio is\",R*4)\n",
    "\n",
    "    print(port_weight)\n",
    "    \n",
    "    weights_each_quadrant_iv.append(port_weight)\n",
    "    \n",
    "    \n",
    "\n"
   ]
  },
  {
   "cell_type": "code",
   "execution_count": 263,
   "metadata": {
    "extensions": {
     "jupyter_dashboards": {
      "version": 1,
      "views": {
       "grid_default": {
        "hidden": true
       },
       "report_default": {}
      }
     }
    }
   },
   "outputs": [
    {
     "name": "stdout",
     "output_type": "stream",
     "text": [
      "True\n",
      "Aunnual Return of the portfolio is 5.173180862198192\n",
      "[0.15835966 0.40774106 0.11518244 0.18322699 0.13548985]\n",
      "True\n",
      "Aunnual Return of the portfolio is 7.6088111506703555\n",
      "[0.15555113 0.28511119 0.13191773 0.26918216 0.15823779]\n",
      "Aunnual Return of the portfolio is -0.6691848112431673\n",
      "[0.18710622 0.3614383  0.10353483 0.24421185 0.1037088 ]\n",
      "True\n",
      "Aunnual Return of the portfolio is 3.3606470283626586\n",
      "[0.24088096 0.36429014 0.08213251 0.17990643 0.13278997]\n"
     ]
    }
   ],
   "source": [
    "##### below for loop will output results in order --- results from quadrant 1 to quadrant 4\n",
    "\n",
    "for i in range(4):\n",
    "    \n",
    "    inverse_vol_optimization(vars()['quadrant_'+ str(i+1)+'_returns'])\n",
    "    \n",
    "    optimum_weights_iv[optimum_weights_iv.columns[i]] = weights_each_quadrant_iv[i] "
   ]
  },
  {
   "cell_type": "code",
   "execution_count": 264,
   "metadata": {
    "extensions": {
     "jupyter_dashboards": {
      "version": 1,
      "views": {
       "grid_default": {
        "col": 0,
        "height": 7,
        "hidden": true,
        "row": 24,
        "width": 5
       },
       "report_default": {}
      }
     }
    }
   },
   "outputs": [],
   "source": [
    "# optimum_weights_iv"
   ]
  },
  {
   "cell_type": "code",
   "execution_count": 265,
   "metadata": {
    "extensions": {
     "jupyter_dashboards": {
      "version": 1,
      "views": {
       "grid_default": {
        "hidden": true
       },
       "report_default": {}
      }
     }
    }
   },
   "outputs": [],
   "source": [
    "\n",
    "\n",
    "####Write the output to Excel   \n",
    "\n",
    "\n",
    "writer = pd.ExcelWriter('return_output.xlsx') \n",
    "\n",
    "\n",
    "optimum_weights_monte_carlo.to_excel(writer,'monte carlo') \n",
    "\n",
    "\n",
    "\n",
    "\n",
    "optimum_weights_iv.to_excel(writer,'inverse vol') \n",
    "\n",
    " \n",
    "\n",
    "optimum_weights_rp.to_excel(writer,'risk parity') \n",
    "\n",
    " \n",
    "\n",
    "writer.save()  \n",
    "\n",
    " \n",
    "\n",
    "\n"
   ]
  },
  {
   "cell_type": "code",
   "execution_count": 266,
   "metadata": {
    "extensions": {
     "jupyter_dashboards": {
      "version": 1,
      "views": {
       "grid_default": {
        "hidden": true
       },
       "report_default": {}
      }
     }
    }
   },
   "outputs": [],
   "source": [
    "mom = ['1_1','2_1','3_1','4_1', '1_2','2_2','3_2','4_2', '1_3','2_3','3_3','4_3', '1_4','2_4','3_4','4_4']\n",
    "\n",
    "##### index_i_j ---- this is the list of all the index of data points in 'data_point' DataFrame ---\n",
    "##### 'i' is from what quadrant you are coming from  ---- 'j' is your current quadrant\n",
    "\n",
    "for i in mom:\n",
    "    vars()['index_'+ i] = []\n",
    "        \n",
    "for i in index_quadrant1:\n",
    "   \n",
    "    if data_point['previous_quadrant'][i]== 1:\n",
    "        index_1_1.append(i)\n",
    "        \n",
    "    elif data_point['previous_quadrant'][i]== 2:\n",
    "        index_2_1.append(i)\n",
    "    \n",
    "    elif data_point['previous_quadrant'][i]== 3:\n",
    "        index_3_1.append(i) \n",
    "        \n",
    "    elif data_point['previous_quadrant'][i]== 4:\n",
    "        index_4_1.append(i)\n",
    "        \n",
    "        \n",
    "for i in index_quadrant2:\n",
    "   \n",
    "    if data_point['previous_quadrant'][i]== 1:\n",
    "        index_1_2.append(i)\n",
    "        \n",
    "    elif data_point['previous_quadrant'][i]== 2:\n",
    "        index_2_2.append(i)\n",
    "    \n",
    "    elif data_point['previous_quadrant'][i]== 3:\n",
    "        index_3_2.append(i) \n",
    "        \n",
    "    elif data_point['previous_quadrant'][i]== 4:\n",
    "        index_4_2.append(i)    \n",
    "        \n",
    "for i in index_quadrant3:\n",
    "   \n",
    "    if data_point['previous_quadrant'][i]== 1:\n",
    "        index_1_3.append(i)\n",
    "        \n",
    "    elif data_point['previous_quadrant'][i]== 2:\n",
    "        index_2_3.append(i)\n",
    "    \n",
    "    elif data_point['previous_quadrant'][i]== 3:\n",
    "        index_3_3.append(i) \n",
    "        \n",
    "    elif data_point['previous_quadrant'][i]== 4:\n",
    "        index_4_3.append(i)        \n",
    "        \n",
    "for i in index_quadrant4:\n",
    "   \n",
    "    if data_point['previous_quadrant'][i]== 1:\n",
    "        index_1_4.append(i)\n",
    "        \n",
    "    elif data_point['previous_quadrant'][i]== 2:\n",
    "        index_2_4.append(i)\n",
    "    \n",
    "    elif data_point['previous_quadrant'][i]== 3:\n",
    "        index_3_4.append(i) \n",
    "        \n",
    "    elif data_point['previous_quadrant'][i]== 4:\n",
    "        index_4_4.append(i)        \n",
    "            "
   ]
  },
  {
   "cell_type": "code",
   "execution_count": 267,
   "metadata": {
    "extensions": {
     "jupyter_dashboards": {
      "version": 1,
      "views": {
       "grid_default": {
        "hidden": true
       },
       "report_default": {}
      }
     }
    }
   },
   "outputs": [],
   "source": [
    "#### below data frame gives average return of each asset for a particular type of regime change\n",
    "\n",
    "momentum_df = pd.DataFrame(index = mom, columns = ['gold', 'equity', 'bonds', 'commodities','USD'])\n",
    "\n",
    "for p in mom:\n",
    "    \n",
    "    L = vars()['index_'+ p]\n",
    "    \n",
    "    momentum_df['gold'][p] = mean(np.array([data_point['gold returns'][i] for i in L]))\n",
    "    momentum_df['equity'][p] = mean(np.array([ data_point['equity returns'][i] for i in L ]))\n",
    "    momentum_df['bonds'][p] = mean(np.array([ data_point['bonds returns'][i] for i in L ]))\n",
    "    momentum_df['USD'][p] = mean(np.array([ data_point['USD returns'][i] for i in L ]))\n",
    "    momentum_df['commodities'][p] = mean(np.array([ data_point['commodities returns'][i] for i in L]))  "
   ]
  },
  {
   "cell_type": "code",
   "execution_count": 268,
   "metadata": {
    "extensions": {
     "jupyter_dashboards": {
      "version": 1,
      "views": {
       "grid_default": {
        "col": 5,
        "height": 16,
        "hidden": true,
        "row": 10,
        "width": 5
       },
       "report_default": {}
      }
     }
    }
   },
   "outputs": [
    {
     "data": {
      "text/html": [
       "<div>\n",
       "<style scoped>\n",
       "    .dataframe tbody tr th:only-of-type {\n",
       "        vertical-align: middle;\n",
       "    }\n",
       "\n",
       "    .dataframe tbody tr th {\n",
       "        vertical-align: top;\n",
       "    }\n",
       "\n",
       "    .dataframe thead th {\n",
       "        text-align: right;\n",
       "    }\n",
       "</style>\n",
       "<table border=\"1\" class=\"dataframe\">\n",
       "  <thead>\n",
       "    <tr style=\"text-align: right;\">\n",
       "      <th></th>\n",
       "      <th>gold</th>\n",
       "      <th>equity</th>\n",
       "      <th>bonds</th>\n",
       "      <th>commodities</th>\n",
       "      <th>USD</th>\n",
       "    </tr>\n",
       "  </thead>\n",
       "  <tbody>\n",
       "    <tr>\n",
       "      <th>1_1</th>\n",
       "      <td>0.0266269</td>\n",
       "      <td>6.17584</td>\n",
       "      <td>-5.21086</td>\n",
       "      <td>2.42792</td>\n",
       "      <td>0.809384</td>\n",
       "    </tr>\n",
       "    <tr>\n",
       "      <th>2_1</th>\n",
       "      <td>2.88686</td>\n",
       "      <td>3.98058</td>\n",
       "      <td>0.895511</td>\n",
       "      <td>3.72409</td>\n",
       "      <td>-2.98427</td>\n",
       "    </tr>\n",
       "    <tr>\n",
       "      <th>3_1</th>\n",
       "      <td>8.31266</td>\n",
       "      <td>4.88494</td>\n",
       "      <td>-4.81204</td>\n",
       "      <td>6.47566</td>\n",
       "      <td>-0.918336</td>\n",
       "    </tr>\n",
       "    <tr>\n",
       "      <th>4_1</th>\n",
       "      <td>6.4468</td>\n",
       "      <td>1.28174</td>\n",
       "      <td>-2.77126</td>\n",
       "      <td>6.67012</td>\n",
       "      <td>-0.839953</td>\n",
       "    </tr>\n",
       "    <tr>\n",
       "      <th>1_2</th>\n",
       "      <td>0.0980253</td>\n",
       "      <td>3.17417</td>\n",
       "      <td>-5.55773</td>\n",
       "      <td>1.10811</td>\n",
       "      <td>0.389904</td>\n",
       "    </tr>\n",
       "    <tr>\n",
       "      <th>2_2</th>\n",
       "      <td>4.97858</td>\n",
       "      <td>-0.933076</td>\n",
       "      <td>6.48652</td>\n",
       "      <td>3.63818</td>\n",
       "      <td>-0.722168</td>\n",
       "    </tr>\n",
       "    <tr>\n",
       "      <th>3_2</th>\n",
       "      <td>0.594695</td>\n",
       "      <td>8.25246</td>\n",
       "      <td>1.34502</td>\n",
       "      <td>1.25768</td>\n",
       "      <td>3.48828</td>\n",
       "    </tr>\n",
       "    <tr>\n",
       "      <th>4_2</th>\n",
       "      <td>0.729262</td>\n",
       "      <td>3.53632</td>\n",
       "      <td>1.10224</td>\n",
       "      <td>7.22739</td>\n",
       "      <td>-0.396842</td>\n",
       "    </tr>\n",
       "    <tr>\n",
       "      <th>1_3</th>\n",
       "      <td>-4.65703</td>\n",
       "      <td>-2.46694</td>\n",
       "      <td>-3.58735</td>\n",
       "      <td>-8.97845</td>\n",
       "      <td>4.46934</td>\n",
       "    </tr>\n",
       "    <tr>\n",
       "      <th>2_3</th>\n",
       "      <td>-4.67787</td>\n",
       "      <td>0.744984</td>\n",
       "      <td>12.1415</td>\n",
       "      <td>-10.6695</td>\n",
       "      <td>4.59225</td>\n",
       "    </tr>\n",
       "    <tr>\n",
       "      <th>3_3</th>\n",
       "      <td>-1.51156</td>\n",
       "      <td>-3.82521</td>\n",
       "      <td>0.219809</td>\n",
       "      <td>-4.51522</td>\n",
       "      <td>1.02596</td>\n",
       "    </tr>\n",
       "    <tr>\n",
       "      <th>4_3</th>\n",
       "      <td>4.46125</td>\n",
       "      <td>-4.61544</td>\n",
       "      <td>10.3872</td>\n",
       "      <td>-3.4946</td>\n",
       "      <td>-1.54865</td>\n",
       "    </tr>\n",
       "    <tr>\n",
       "      <th>1_4</th>\n",
       "      <td>4.875</td>\n",
       "      <td>2.48633</td>\n",
       "      <td>-3.18629</td>\n",
       "      <td>9.11866</td>\n",
       "      <td>-0.211823</td>\n",
       "    </tr>\n",
       "    <tr>\n",
       "      <th>2_4</th>\n",
       "      <td>-6.34833</td>\n",
       "      <td>2.31529</td>\n",
       "      <td>-12.5356</td>\n",
       "      <td>2.27932</td>\n",
       "      <td>-0.227276</td>\n",
       "    </tr>\n",
       "    <tr>\n",
       "      <th>3_4</th>\n",
       "      <td>2.97798</td>\n",
       "      <td>6.56434</td>\n",
       "      <td>-5.26963</td>\n",
       "      <td>-0.676126</td>\n",
       "      <td>-2.10207</td>\n",
       "    </tr>\n",
       "    <tr>\n",
       "      <th>4_4</th>\n",
       "      <td>0.449401</td>\n",
       "      <td>0.341501</td>\n",
       "      <td>7.82994</td>\n",
       "      <td>-0.378419</td>\n",
       "      <td>-0.150132</td>\n",
       "    </tr>\n",
       "  </tbody>\n",
       "</table>\n",
       "</div>"
      ],
      "text/plain": [
       "          gold    equity     bonds commodities       USD\n",
       "1_1  0.0266269   6.17584  -5.21086     2.42792  0.809384\n",
       "2_1    2.88686   3.98058  0.895511     3.72409  -2.98427\n",
       "3_1    8.31266   4.88494  -4.81204     6.47566 -0.918336\n",
       "4_1     6.4468   1.28174  -2.77126     6.67012 -0.839953\n",
       "1_2  0.0980253   3.17417  -5.55773     1.10811  0.389904\n",
       "2_2    4.97858 -0.933076   6.48652     3.63818 -0.722168\n",
       "3_2   0.594695   8.25246   1.34502     1.25768   3.48828\n",
       "4_2   0.729262   3.53632   1.10224     7.22739 -0.396842\n",
       "1_3   -4.65703  -2.46694  -3.58735    -8.97845   4.46934\n",
       "2_3   -4.67787  0.744984   12.1415    -10.6695   4.59225\n",
       "3_3   -1.51156  -3.82521  0.219809    -4.51522   1.02596\n",
       "4_3    4.46125  -4.61544   10.3872     -3.4946  -1.54865\n",
       "1_4      4.875   2.48633  -3.18629     9.11866 -0.211823\n",
       "2_4   -6.34833   2.31529  -12.5356     2.27932 -0.227276\n",
       "3_4    2.97798   6.56434  -5.26963   -0.676126  -2.10207\n",
       "4_4   0.449401  0.341501   7.82994   -0.378419 -0.150132"
      ]
     },
     "execution_count": 268,
     "metadata": {},
     "output_type": "execute_result"
    }
   ],
   "source": [
    "momentum_df"
   ]
  },
  {
   "cell_type": "markdown",
   "metadata": {
    "extensions": {
     "jupyter_dashboards": {
      "version": 1,
      "views": {
       "grid_default": {
        "col": 8,
        "height": 4,
        "hidden": true,
        "row": 70,
        "width": 4
       },
       "report_default": {}
      }
     }
    }
   },
   "source": [
    "# Data required for Validation - 2016 Q1 to 2018 Q4"
   ]
  },
  {
   "cell_type": "code",
   "execution_count": 269,
   "metadata": {
    "extensions": {
     "jupyter_dashboards": {
      "version": 1,
      "views": {
       "grid_default": {
        "hidden": true
       },
       "report_default": {}
      }
     }
    }
   },
   "outputs": [],
   "source": [
    "df_USD = pd.read_excel(\"Data.xlsx\", header = None,sheet_name = 'USD')\n",
    "df_gold = pd.read_excel(\"Data.xlsx\", header = None,sheet_name = 'gold')\n",
    "df_equity = pd.read_excel(\"Data.xlsx\", header = None,sheet_name = 'equity')\n",
    "df_bonds = pd.read_excel(\"Data.xlsx\", header = None,sheet_name = 'bonds')\n",
    "df_commodities = pd.read_excel(\"Data.xlsx\", header = None,sheet_name = 'commodities')\n",
    "df_GDP = pd.read_excel(\"Data.xlsx\", header = None,sheet_name = 'GDP')\n",
    "df_CPI = pd.read_excel(\"Data.xlsx\", header = None,sheet_name = 'CPI')\n",
    "\n",
    "df_USD.columns = ['Date','price']\n",
    "df_gold.columns = ['Date','price']\n",
    "df_equity.columns = ['Date','price']\n",
    "df_bonds.columns = ['Date','price']\n",
    "df_commodities.columns = ['Date','price']\n",
    "df_GDP.columns = ['Date','return']\n",
    "df_CPI.columns = ['Date','return']\n",
    "\n",
    "Last_date = '2015-10-01 00:00:00'\n",
    "\n",
    "index_for_Last_date_testing = 91\n",
    "\n",
    "df_USD_validation = df_USD.loc[index_for_Last_date_testing+1:,:]\n",
    "df_gold_validation = df_gold.loc[index_for_Last_date_testing+1:,:]\n",
    "df_equity_validation = df_equity.loc[index_for_Last_date_testing+1:,:]\n",
    "df_bonds_validation = df_bonds.loc[index_for_Last_date_testing+1:,:]\n",
    "df_commodities_validation = df_commodities.loc[index_for_Last_date_testing+1:,:]\n",
    "df_GDP_validation = df_GDP.loc[index_for_Last_date_testing+1:,:]\n",
    "df_CPI_validation = df_CPI.loc[index_for_Last_date_testing+1:,:]\n",
    "\n",
    "# df_GDP_validation"
   ]
  },
  {
   "cell_type": "code",
   "execution_count": 270,
   "metadata": {
    "extensions": {
     "jupyter_dashboards": {
      "version": 1,
      "views": {
       "grid_default": {
        "hidden": true
       },
       "report_default": {}
      }
     }
    }
   },
   "outputs": [],
   "source": [
    "\n",
    "####below list contains change in GDP values quarter on quarter \n",
    "delta_change_GDP_test = [df_GDP_validation.iloc[i+1,1] - df_GDP_validation.iloc[i,1] for i in range(len(df_GDP_validation)-1)]\n",
    "\n",
    "\n",
    "####below list contains change in CPI values quarter on quarter \n",
    "delta_change_CPI_test = [df_CPI_validation.iloc[i+1,1] - df_CPI_validation.iloc[i,1] for i in range(len(df_GDP_validation)-1)]\n",
    "\n",
    "# df_GDP_validation"
   ]
  },
  {
   "cell_type": "code",
   "execution_count": 271,
   "metadata": {
    "extensions": {
     "jupyter_dashboards": {
      "version": 1,
      "views": {
       "grid_default": {
        "hidden": true
       },
       "report_default": {}
      }
     }
    }
   },
   "outputs": [
    {
     "data": {
      "text/html": [
       "<div>\n",
       "<style scoped>\n",
       "    .dataframe tbody tr th:only-of-type {\n",
       "        vertical-align: middle;\n",
       "    }\n",
       "\n",
       "    .dataframe tbody tr th {\n",
       "        vertical-align: top;\n",
       "    }\n",
       "\n",
       "    .dataframe thead th {\n",
       "        text-align: right;\n",
       "    }\n",
       "</style>\n",
       "<table border=\"1\" class=\"dataframe\">\n",
       "  <thead>\n",
       "    <tr style=\"text-align: right;\">\n",
       "      <th></th>\n",
       "      <th>Date</th>\n",
       "      <th>delta_change_CPI</th>\n",
       "      <th>delta_change_GDP</th>\n",
       "      <th>quadrant_number</th>\n",
       "    </tr>\n",
       "  </thead>\n",
       "  <tbody>\n",
       "    <tr>\n",
       "      <th>93</th>\n",
       "      <td>2016-Q2</td>\n",
       "      <td>0.1</td>\n",
       "      <td>-0.3</td>\n",
       "      <td>0.0</td>\n",
       "    </tr>\n",
       "    <tr>\n",
       "      <th>94</th>\n",
       "      <td>2016-Q3</td>\n",
       "      <td>0.5</td>\n",
       "      <td>0.2</td>\n",
       "      <td>0.0</td>\n",
       "    </tr>\n",
       "    <tr>\n",
       "      <th>95</th>\n",
       "      <td>2016-Q4</td>\n",
       "      <td>0.6</td>\n",
       "      <td>0.4</td>\n",
       "      <td>0.0</td>\n",
       "    </tr>\n",
       "    <tr>\n",
       "      <th>96</th>\n",
       "      <td>2017-Q1</td>\n",
       "      <td>0.3</td>\n",
       "      <td>0.0</td>\n",
       "      <td>0.0</td>\n",
       "    </tr>\n",
       "    <tr>\n",
       "      <th>97</th>\n",
       "      <td>2017-Q2</td>\n",
       "      <td>-0.8</td>\n",
       "      <td>0.2</td>\n",
       "      <td>0.0</td>\n",
       "    </tr>\n",
       "    <tr>\n",
       "      <th>98</th>\n",
       "      <td>2017-Q3</td>\n",
       "      <td>0.6</td>\n",
       "      <td>0.2</td>\n",
       "      <td>0.0</td>\n",
       "    </tr>\n",
       "    <tr>\n",
       "      <th>99</th>\n",
       "      <td>2017-Q4</td>\n",
       "      <td>-0.1</td>\n",
       "      <td>0.2</td>\n",
       "      <td>0.0</td>\n",
       "    </tr>\n",
       "    <tr>\n",
       "      <th>100</th>\n",
       "      <td>2018-Q1</td>\n",
       "      <td>0.3</td>\n",
       "      <td>0.1</td>\n",
       "      <td>0.0</td>\n",
       "    </tr>\n",
       "    <tr>\n",
       "      <th>101</th>\n",
       "      <td>2018-Q2</td>\n",
       "      <td>0.5</td>\n",
       "      <td>0.3</td>\n",
       "      <td>0.0</td>\n",
       "    </tr>\n",
       "    <tr>\n",
       "      <th>102</th>\n",
       "      <td>2018-Q3</td>\n",
       "      <td>-0.6</td>\n",
       "      <td>0.1</td>\n",
       "      <td>0.0</td>\n",
       "    </tr>\n",
       "    <tr>\n",
       "      <th>103</th>\n",
       "      <td>2018-Q4</td>\n",
       "      <td>-0.4</td>\n",
       "      <td>0.0</td>\n",
       "      <td>0.0</td>\n",
       "    </tr>\n",
       "  </tbody>\n",
       "</table>\n",
       "</div>"
      ],
      "text/plain": [
       "        Date  delta_change_CPI  delta_change_GDP  quadrant_number\n",
       "93   2016-Q2               0.1              -0.3              0.0\n",
       "94   2016-Q3               0.5               0.2              0.0\n",
       "95   2016-Q4               0.6               0.4              0.0\n",
       "96   2017-Q1               0.3               0.0              0.0\n",
       "97   2017-Q2              -0.8               0.2              0.0\n",
       "98   2017-Q3               0.6               0.2              0.0\n",
       "99   2017-Q4              -0.1               0.2              0.0\n",
       "100  2018-Q1               0.3               0.1              0.0\n",
       "101  2018-Q2               0.5               0.3              0.0\n",
       "102  2018-Q3              -0.6               0.1              0.0\n",
       "103  2018-Q4              -0.4               0.0              0.0"
      ]
     },
     "execution_count": 271,
     "metadata": {},
     "output_type": "execute_result"
    }
   ],
   "source": [
    "data_point_val = pd.DataFrame()\n",
    "data_point_val['Date'] = df_GDP_validation.loc[93:,'Date']\n",
    "data_point_val['delta_change_CPI'] = delta_change_CPI_test\n",
    "data_point_val['delta_change_GDP'] = delta_change_GDP_test\n",
    "data_point_val['quadrant_number'] = np.zeros(len(delta_change_CPI_test))\n",
    "\n",
    "data_point_val"
   ]
  },
  {
   "cell_type": "code",
   "execution_count": 272,
   "metadata": {
    "extensions": {
     "jupyter_dashboards": {
      "version": 1,
      "views": {
       "grid_default": {
        "hidden": true
       },
       "report_default": {}
      }
     }
    }
   },
   "outputs": [],
   "source": [
    "#### for example: 'index_quadrant1' will give us a list of index of all the data points that fall into 1st quadrant  ( index is coming from 'data_point' DataFrame)\n",
    "#### for example: 'Date_quadrant2' will give us a list of dates of all the data points that fall into 1st quadrant \n",
    "\n",
    "index_quadrant1_test= []\n",
    "\n",
    "index_quadrant2_test = []\n",
    "\n",
    "index_quadrant3_test = []\n",
    "\n",
    "index_quadrant4_test = []\n"
   ]
  },
  {
   "cell_type": "code",
   "execution_count": 273,
   "metadata": {
    "extensions": {
     "jupyter_dashboards": {
      "version": 1,
      "views": {
       "grid_default": {
        "hidden": true
       },
       "report_default": {}
      }
     }
    }
   },
   "outputs": [],
   "source": [
    "\n",
    "for i in range(len(delta_change_CPI_test)):\n",
    "    \n",
    "    if data_point_val.iloc[i,1]>=0 and data_point_val.iloc[i,2]>=0:    \n",
    "        \n",
    "        index_quadrant1_test.append(i)\n",
    "        \n",
    "        \n",
    "    elif data_point_val.iloc[i,1]<0 and data_point_val.iloc[i,2]>=0:\n",
    "           \n",
    "        index_quadrant2_test.append(i)\n",
    "        \n",
    "        \n",
    "    elif data_point_val.iloc[i,1]<0 and data_point_val.iloc[i,2]<0:\n",
    "           \n",
    "        index_quadrant3_test.append(i)\n",
    "               \n",
    "    else:\n",
    "       \n",
    "        index_quadrant4_test.append(i)\n",
    "        \n",
    "   #### note that the index you append here is 0,1,2, so on .. 0 means 1st row and 1 means 2nd row -- so use 'iloc' to call rows     \n",
    "        "
   ]
  },
  {
   "cell_type": "code",
   "execution_count": 274,
   "metadata": {
    "extensions": {
     "jupyter_dashboards": {
      "version": 1,
      "views": {
       "grid_default": {
        "hidden": true
       },
       "report_default": {}
      }
     }
    }
   },
   "outputs": [],
   "source": [
    "data_point_val['quadrant_number'] = np.nan \n",
    "\n",
    "\n",
    "for i in index_quadrant1_test:\n",
    "    \n",
    "    data_point_val.iloc[i,3] = 1\n",
    "\n",
    "for i in index_quadrant2_test:\n",
    "    \n",
    "    data_point_val.iloc[i,3] = 2\n",
    "    \n",
    "for i in index_quadrant3_test:\n",
    "    \n",
    "    data_point_val.iloc[i,3]= 3\n",
    "    \n",
    "for i in index_quadrant4_test:\n",
    "    \n",
    "    data_point_val.iloc[i,3] = 4"
   ]
  },
  {
   "cell_type": "code",
   "execution_count": 275,
   "metadata": {
    "extensions": {
     "jupyter_dashboards": {
      "version": 1,
      "views": {
       "grid_default": {
        "hidden": true
       },
       "report_default": {}
      }
     }
    }
   },
   "outputs": [],
   "source": [
    "data_point_val['previous_quadrant'] = np.zeros(len(data_point_val))\n",
    "data_point_val['next_quadrant'] = np.zeros(len(data_point_val))\n",
    "\n"
   ]
  },
  {
   "cell_type": "code",
   "execution_count": 276,
   "metadata": {
    "extensions": {
     "jupyter_dashboards": {
      "version": 1,
      "views": {
       "grid_default": {
        "col": 0,
        "height": 17,
        "hidden": true,
        "row": 24,
        "width": 8
       },
       "report_default": {}
      }
     }
    }
   },
   "outputs": [],
   "source": [
    "warnings.filterwarnings('ignore') \n",
    "data_point_val['previous_quadrant'][93] = 'data_not_available'\n",
    "data_point_val['next_quadrant'][103] = 'data_not_available'\n",
    "\n",
    "# data_point_val"
   ]
  },
  {
   "cell_type": "code",
   "execution_count": 277,
   "metadata": {
    "extensions": {
     "jupyter_dashboards": {
      "version": 1,
      "views": {
       "grid_default": {
        "hidden": true
       },
       "report_default": {}
      }
     }
    }
   },
   "outputs": [],
   "source": [
    "warnings.filterwarnings('ignore') \n",
    "\n",
    "for i in data_point_val.index[1:]:\n",
    "    \n",
    "    data_point_val['previous_quadrant'][i] = data_point_val['quadrant_number'][i-1]\n",
    "\n",
    "for i in data_point_val.index[:-1]:\n",
    "    \n",
    "    data_point_val['next_quadrant'][i] = data_point_val['quadrant_number'][i+1]  \n",
    "  "
   ]
  },
  {
   "cell_type": "code",
   "execution_count": 278,
   "metadata": {
    "extensions": {
     "jupyter_dashboards": {
      "version": 1,
      "views": {
       "grid_default": {
        "col": 0,
        "height": 16,
        "hidden": true,
        "row": 24,
        "width": 12
       },
       "report_default": {}
      }
     }
    }
   },
   "outputs": [
    {
     "data": {
      "text/html": [
       "<div>\n",
       "<style scoped>\n",
       "    .dataframe tbody tr th:only-of-type {\n",
       "        vertical-align: middle;\n",
       "    }\n",
       "\n",
       "    .dataframe tbody tr th {\n",
       "        vertical-align: top;\n",
       "    }\n",
       "\n",
       "    .dataframe thead th {\n",
       "        text-align: right;\n",
       "    }\n",
       "</style>\n",
       "<table border=\"1\" class=\"dataframe\">\n",
       "  <thead>\n",
       "    <tr style=\"text-align: right;\">\n",
       "      <th></th>\n",
       "      <th>Date</th>\n",
       "      <th>delta_change_CPI</th>\n",
       "      <th>delta_change_GDP</th>\n",
       "      <th>quadrant_number</th>\n",
       "      <th>previous_quadrant</th>\n",
       "      <th>next_quadrant</th>\n",
       "      <th>USD returns</th>\n",
       "      <th>gold returns</th>\n",
       "      <th>equity returns</th>\n",
       "      <th>bonds returns</th>\n",
       "      <th>commodities returns</th>\n",
       "    </tr>\n",
       "  </thead>\n",
       "  <tbody>\n",
       "    <tr>\n",
       "      <th>93</th>\n",
       "      <td>2016-Q2</td>\n",
       "      <td>0.1</td>\n",
       "      <td>-0.3</td>\n",
       "      <td>4.0</td>\n",
       "      <td>data_not_available</td>\n",
       "      <td>1</td>\n",
       "      <td>1.646121</td>\n",
       "      <td>7.231799</td>\n",
       "      <td>1.924387</td>\n",
       "      <td>16.892655</td>\n",
       "      <td>15.649630</td>\n",
       "    </tr>\n",
       "    <tr>\n",
       "      <th>94</th>\n",
       "      <td>2016-Q3</td>\n",
       "      <td>0.5</td>\n",
       "      <td>0.2</td>\n",
       "      <td>1.0</td>\n",
       "      <td>4</td>\n",
       "      <td>1</td>\n",
       "      <td>-0.707280</td>\n",
       "      <td>-0.456162</td>\n",
       "      <td>3.258145</td>\n",
       "      <td>-8.429640</td>\n",
       "      <td>-2.556250</td>\n",
       "    </tr>\n",
       "    <tr>\n",
       "      <th>95</th>\n",
       "      <td>2016-Q4</td>\n",
       "      <td>0.6</td>\n",
       "      <td>0.4</td>\n",
       "      <td>1.0</td>\n",
       "      <td>1</td>\n",
       "      <td>1</td>\n",
       "      <td>7.067660</td>\n",
       "      <td>-12.795337</td>\n",
       "      <td>3.342580</td>\n",
       "      <td>-53.291536</td>\n",
       "      <td>9.255274</td>\n",
       "    </tr>\n",
       "    <tr>\n",
       "      <th>96</th>\n",
       "      <td>2017-Q1</td>\n",
       "      <td>0.3</td>\n",
       "      <td>0.0</td>\n",
       "      <td>1.0</td>\n",
       "      <td>1</td>\n",
       "      <td>2</td>\n",
       "      <td>-1.819783</td>\n",
       "      <td>8.862745</td>\n",
       "      <td>5.462354</td>\n",
       "      <td>2.331288</td>\n",
       "      <td>-2.506103</td>\n",
       "    </tr>\n",
       "    <tr>\n",
       "      <th>97</th>\n",
       "      <td>2017-Q2</td>\n",
       "      <td>-0.8</td>\n",
       "      <td>0.2</td>\n",
       "      <td>2.0</td>\n",
       "      <td>1</td>\n",
       "      <td>1</td>\n",
       "      <td>-4.705531</td>\n",
       "      <td>-0.607589</td>\n",
       "      <td>2.570629</td>\n",
       "      <td>3.475712</td>\n",
       "      <td>-4.081917</td>\n",
       "    </tr>\n",
       "    <tr>\n",
       "      <th>98</th>\n",
       "      <td>2017-Q3</td>\n",
       "      <td>0.6</td>\n",
       "      <td>0.2</td>\n",
       "      <td>1.0</td>\n",
       "      <td>2</td>\n",
       "      <td>2</td>\n",
       "      <td>-2.668674</td>\n",
       "      <td>3.071818</td>\n",
       "      <td>3.899917</td>\n",
       "      <td>-1.258134</td>\n",
       "      <td>7.232096</td>\n",
       "    </tr>\n",
       "    <tr>\n",
       "      <th>99</th>\n",
       "      <td>2017-Q4</td>\n",
       "      <td>-0.1</td>\n",
       "      <td>0.2</td>\n",
       "      <td>2.0</td>\n",
       "      <td>1</td>\n",
       "      <td>1</td>\n",
       "      <td>-1.022820</td>\n",
       "      <td>1.801133</td>\n",
       "      <td>6.221391</td>\n",
       "      <td>-3.084833</td>\n",
       "      <td>10.800555</td>\n",
       "    </tr>\n",
       "    <tr>\n",
       "      <th>100</th>\n",
       "      <td>2018-Q1</td>\n",
       "      <td>0.3</td>\n",
       "      <td>0.1</td>\n",
       "      <td>1.0</td>\n",
       "      <td>2</td>\n",
       "      <td>1</td>\n",
       "      <td>-2.333811</td>\n",
       "      <td>1.740866</td>\n",
       "      <td>-1.390242</td>\n",
       "      <td>-13.881962</td>\n",
       "      <td>2.373136</td>\n",
       "    </tr>\n",
       "    <tr>\n",
       "      <th>101</th>\n",
       "      <td>2018-Q2</td>\n",
       "      <td>0.5</td>\n",
       "      <td>0.3</td>\n",
       "      <td>1.0</td>\n",
       "      <td>1</td>\n",
       "      <td>2</td>\n",
       "      <td>4.996999</td>\n",
       "      <td>-5.498385</td>\n",
       "      <td>3.089493</td>\n",
       "      <td>-4.416058</td>\n",
       "      <td>7.617401</td>\n",
       "    </tr>\n",
       "    <tr>\n",
       "      <th>102</th>\n",
       "      <td>2018-Q3</td>\n",
       "      <td>-0.6</td>\n",
       "      <td>0.1</td>\n",
       "      <td>2.0</td>\n",
       "      <td>1</td>\n",
       "      <td>2</td>\n",
       "      <td>0.700752</td>\n",
       "      <td>-4.927351</td>\n",
       "      <td>7.166028</td>\n",
       "      <td>-7.025516</td>\n",
       "      <td>-0.237528</td>\n",
       "    </tr>\n",
       "    <tr>\n",
       "      <th>103</th>\n",
       "      <td>2018-Q4</td>\n",
       "      <td>-0.4</td>\n",
       "      <td>0.0</td>\n",
       "      <td>2.0</td>\n",
       "      <td>2</td>\n",
       "      <td>data_not_available</td>\n",
       "      <td>1.094269</td>\n",
       "      <td>7.692631</td>\n",
       "      <td>-14.034122</td>\n",
       "      <td>12.312214</td>\n",
       "      <td>-23.021991</td>\n",
       "    </tr>\n",
       "  </tbody>\n",
       "</table>\n",
       "</div>"
      ],
      "text/plain": [
       "        Date  delta_change_CPI  delta_change_GDP  quadrant_number  \\\n",
       "93   2016-Q2               0.1              -0.3              4.0   \n",
       "94   2016-Q3               0.5               0.2              1.0   \n",
       "95   2016-Q4               0.6               0.4              1.0   \n",
       "96   2017-Q1               0.3               0.0              1.0   \n",
       "97   2017-Q2              -0.8               0.2              2.0   \n",
       "98   2017-Q3               0.6               0.2              1.0   \n",
       "99   2017-Q4              -0.1               0.2              2.0   \n",
       "100  2018-Q1               0.3               0.1              1.0   \n",
       "101  2018-Q2               0.5               0.3              1.0   \n",
       "102  2018-Q3              -0.6               0.1              2.0   \n",
       "103  2018-Q4              -0.4               0.0              2.0   \n",
       "\n",
       "      previous_quadrant       next_quadrant  USD returns  gold returns  \\\n",
       "93   data_not_available                   1     1.646121      7.231799   \n",
       "94                    4                   1    -0.707280     -0.456162   \n",
       "95                    1                   1     7.067660    -12.795337   \n",
       "96                    1                   2    -1.819783      8.862745   \n",
       "97                    1                   1    -4.705531     -0.607589   \n",
       "98                    2                   2    -2.668674      3.071818   \n",
       "99                    1                   1    -1.022820      1.801133   \n",
       "100                   2                   1    -2.333811      1.740866   \n",
       "101                   1                   2     4.996999     -5.498385   \n",
       "102                   1                   2     0.700752     -4.927351   \n",
       "103                   2  data_not_available     1.094269      7.692631   \n",
       "\n",
       "     equity returns  bonds returns  commodities returns  \n",
       "93         1.924387      16.892655            15.649630  \n",
       "94         3.258145      -8.429640            -2.556250  \n",
       "95         3.342580     -53.291536             9.255274  \n",
       "96         5.462354       2.331288            -2.506103  \n",
       "97         2.570629       3.475712            -4.081917  \n",
       "98         3.899917      -1.258134             7.232096  \n",
       "99         6.221391      -3.084833            10.800555  \n",
       "100       -1.390242     -13.881962             2.373136  \n",
       "101        3.089493      -4.416058             7.617401  \n",
       "102        7.166028      -7.025516            -0.237528  \n",
       "103      -14.034122      12.312214           -23.021991  "
      ]
     },
     "execution_count": 278,
     "metadata": {},
     "output_type": "execute_result"
    }
   ],
   "source": [
    "data_point_val['USD returns'] = df_USD_validation['price'].pct_change()[1:]*100\n",
    "data_point_val['gold returns'] = df_gold_validation['price'].pct_change()[1:]*100\n",
    "data_point_val['equity returns'] = df_equity_validation['price'].pct_change()[1:]*100\n",
    "data_point_val['bonds returns'] = -df_bonds_validation['price'].pct_change()[1:]*100\n",
    "data_point_val['commodities returns'] = df_commodities_validation['price'].pct_change()[1:]*100\n",
    "data_point_val"
   ]
  },
  {
   "cell_type": "code",
   "execution_count": 279,
   "metadata": {
    "extensions": {
     "jupyter_dashboards": {
      "version": 1,
      "views": {
       "grid_default": {
        "hidden": true
       },
       "report_default": {}
      }
     }
    }
   },
   "outputs": [],
   "source": [
    "data_point_val['total_return_monte_carlo'] = np.nan"
   ]
  },
  {
   "cell_type": "code",
   "execution_count": 280,
   "metadata": {
    "extensions": {
     "jupyter_dashboards": {
      "version": 1,
      "views": {
       "grid_default": {
        "hidden": true
       },
       "report_default": {}
      }
     }
    }
   },
   "outputs": [],
   "source": [
    "for i in index_quadrant1_test:\n",
    "    \n",
    "    data_point_val.iloc[i,11] = optimum_weights_monte_carlo['Quadrant1']['equity']*data_point_val.iloc[i,8] + \\\n",
    "     optimum_weights_monte_carlo['Quadrant1']['Bonds']*data_point_val.iloc[i,9] + \\\n",
    "     optimum_weights_monte_carlo['Quadrant1']['USD']*data_point_val.iloc[i,6] + \\\n",
    "     optimum_weights_monte_carlo['Quadrant1']['gold']*data_point_val.iloc[i,7] + \\\n",
    "     optimum_weights_monte_carlo['Quadrant1']['commodities']*data_point_val.iloc[i,10]\n",
    "    \n",
    "for i in index_quadrant2_test:\n",
    "    \n",
    "    data_point_val.iloc[i,11] = optimum_weights_monte_carlo['Quadrant2']['equity']*data_point_val.iloc[i,8] + \\\n",
    "     optimum_weights_monte_carlo['Quadrant2']['Bonds']*data_point_val.iloc[i,9] + \\\n",
    "     optimum_weights_monte_carlo['Quadrant2']['USD']*data_point_val.iloc[i,6] + \\\n",
    "     optimum_weights_monte_carlo['Quadrant2']['gold']*data_point_val.iloc[i,7] + \\\n",
    "     optimum_weights_monte_carlo['Quadrant2']['commodities']*data_point_val.iloc[i,10]\n",
    "    \n",
    "for i in index_quadrant3_test:\n",
    "    \n",
    "    data_point_val.iloc[i,11] = optimum_weights_monte_carlo['Quadrant3']['equity']*data_point_val.iloc[i,8] + \\\n",
    "     optimum_weights_monte_carlo['Quadrant3']['Bonds']*data_point_val.iloc[i,9] + \\\n",
    "     optimum_weights_monte_carlo['Quadrant3']['USD']*data_point_val.iloc[i,6] + \\\n",
    "     optimum_weights_monte_carlo['Quadrant3']['gold']*data_point_val.iloc[i,7] + \\\n",
    "     optimum_weights_monte_carlo['Quadrant3']['commodities']*data_point_val.iloc[i,10]\n",
    "    \n",
    "for i in index_quadrant4_test:\n",
    "    \n",
    "    data_point_val.iloc[i,11] = optimum_weights_monte_carlo['Quadrant4']['equity']*data_point_val.iloc[i,8] + \\\n",
    "     optimum_weights_monte_carlo['Quadrant4']['Bonds']*data_point_val.iloc[i,9] + \\\n",
    "     optimum_weights_monte_carlo['Quadrant4']['USD']*data_point_val.iloc[i,6] + \\\n",
    "     optimum_weights_monte_carlo['Quadrant4']['gold']*data_point_val.iloc[i,7] + \\\n",
    "     optimum_weights_monte_carlo['Quadrant4']['commodities']*data_point_val.iloc[i,10]\n",
    "    \n",
    "    \n",
    "    "
   ]
  },
  {
   "cell_type": "code",
   "execution_count": 281,
   "metadata": {
    "extensions": {
     "jupyter_dashboards": {
      "version": 1,
      "views": {
       "grid_default": {
        "hidden": true
       },
       "report_default": {}
      }
     }
    }
   },
   "outputs": [],
   "source": [
    "data_point_val['total_return_rp'] = np.nan"
   ]
  },
  {
   "cell_type": "code",
   "execution_count": 282,
   "metadata": {
    "extensions": {
     "jupyter_dashboards": {
      "version": 1,
      "views": {
       "grid_default": {
        "hidden": true
       },
       "report_default": {}
      }
     }
    }
   },
   "outputs": [],
   "source": [
    "for i in index_quadrant1_test:\n",
    "    \n",
    "    data_point_val.iloc[i,12] = optimum_weights_rp['Quadrant1']['equity']*data_point_val.iloc[i,8] + \\\n",
    "     optimum_weights_rp['Quadrant1']['Bonds']*data_point_val.iloc[i,9] + \\\n",
    "     optimum_weights_rp['Quadrant1']['USD']*data_point_val.iloc[i,6] + \\\n",
    "     optimum_weights_rp['Quadrant1']['gold']*data_point_val.iloc[i,7] + \\\n",
    "     optimum_weights_rp['Quadrant1']['commodities']*data_point_val.iloc[i,10]\n",
    "    \n",
    "    \n",
    "\n",
    "for i in index_quadrant2_test:\n",
    "    \n",
    "    data_point_val.iloc[i,12] = optimum_weights_rp['Quadrant2']['equity']*data_point_val.iloc[i,8] + \\\n",
    "     optimum_weights_rp['Quadrant2']['Bonds']*data_point_val.iloc[i,9] + \\\n",
    "     optimum_weights_rp['Quadrant2']['USD']*data_point_val.iloc[i,6] + \\\n",
    "     optimum_weights_rp['Quadrant2']['gold']*data_point_val.iloc[i,7] + \\\n",
    "     optimum_weights_rp['Quadrant2']['commodities']*data_point_val.iloc[i,10]\n",
    "    \n",
    "for i in index_quadrant3_test:\n",
    "    \n",
    "    data_point_val.iloc[i,12] = optimum_weights_rp['Quadrant3']['equity']*data_point_val.iloc[i,8] + \\\n",
    "     optimum_weights_rp['Quadrant3']['Bonds']*data_point_val.iloc[i,9] + \\\n",
    "     optimum_weights_rp['Quadrant3']['USD']*data_point_val.iloc[i,6] + \\\n",
    "     optimum_weights_rp['Quadrant3']['gold']*data_point_val.iloc[i,7] + \\\n",
    "     optimum_weights_rp['Quadrant3']['commodities']*data_point_val.iloc[i,10]\n",
    "    \n",
    "for i in index_quadrant4_test:\n",
    "    \n",
    "    data_point_val.iloc[i,12] = optimum_weights_rp['Quadrant4']['equity']*data_point_val.iloc[i,8] + \\\n",
    "     optimum_weights_rp['Quadrant4']['Bonds']*data_point_val.iloc[i,9] + \\\n",
    "     optimum_weights_rp['Quadrant4']['USD']*data_point_val.iloc[i,6] + \\\n",
    "     optimum_weights_rp['Quadrant4']['gold']*data_point_val.iloc[i,7] + \\\n",
    "     optimum_weights_rp['Quadrant4']['commodities']*data_point_val.iloc[i,10]\n",
    "    \n",
    "    \n",
    "    "
   ]
  },
  {
   "cell_type": "code",
   "execution_count": 283,
   "metadata": {
    "extensions": {
     "jupyter_dashboards": {
      "version": 1,
      "views": {
       "grid_default": {
        "col": 0,
        "height": 17,
        "hidden": true,
        "row": 24,
        "width": 12
       },
       "report_default": {}
      }
     }
    }
   },
   "outputs": [
    {
     "data": {
      "text/html": [
       "<div>\n",
       "<style scoped>\n",
       "    .dataframe tbody tr th:only-of-type {\n",
       "        vertical-align: middle;\n",
       "    }\n",
       "\n",
       "    .dataframe tbody tr th {\n",
       "        vertical-align: top;\n",
       "    }\n",
       "\n",
       "    .dataframe thead th {\n",
       "        text-align: right;\n",
       "    }\n",
       "</style>\n",
       "<table border=\"1\" class=\"dataframe\">\n",
       "  <thead>\n",
       "    <tr style=\"text-align: right;\">\n",
       "      <th></th>\n",
       "      <th>Date</th>\n",
       "      <th>delta_change_CPI</th>\n",
       "      <th>delta_change_GDP</th>\n",
       "      <th>quadrant_number</th>\n",
       "      <th>previous_quadrant</th>\n",
       "      <th>next_quadrant</th>\n",
       "      <th>USD returns</th>\n",
       "      <th>gold returns</th>\n",
       "      <th>equity returns</th>\n",
       "      <th>bonds returns</th>\n",
       "      <th>commodities returns</th>\n",
       "      <th>total_return_monte_carlo</th>\n",
       "      <th>total_return_rp</th>\n",
       "    </tr>\n",
       "  </thead>\n",
       "  <tbody>\n",
       "    <tr>\n",
       "      <th>93</th>\n",
       "      <td>2016-Q2</td>\n",
       "      <td>0.1</td>\n",
       "      <td>-0.3</td>\n",
       "      <td>4.0</td>\n",
       "      <td>data_not_available</td>\n",
       "      <td>1</td>\n",
       "      <td>1.646121</td>\n",
       "      <td>7.231799</td>\n",
       "      <td>1.924387</td>\n",
       "      <td>16.892655</td>\n",
       "      <td>15.649630</td>\n",
       "      <td>5.155236</td>\n",
       "      <td>10.004952</td>\n",
       "    </tr>\n",
       "    <tr>\n",
       "      <th>94</th>\n",
       "      <td>2016-Q3</td>\n",
       "      <td>0.5</td>\n",
       "      <td>0.2</td>\n",
       "      <td>1.0</td>\n",
       "      <td>4</td>\n",
       "      <td>1</td>\n",
       "      <td>-0.707280</td>\n",
       "      <td>-0.456162</td>\n",
       "      <td>3.258145</td>\n",
       "      <td>-8.429640</td>\n",
       "      <td>-2.556250</td>\n",
       "      <td>0.189664</td>\n",
       "      <td>-3.315597</td>\n",
       "    </tr>\n",
       "    <tr>\n",
       "      <th>95</th>\n",
       "      <td>2016-Q4</td>\n",
       "      <td>0.6</td>\n",
       "      <td>0.4</td>\n",
       "      <td>1.0</td>\n",
       "      <td>1</td>\n",
       "      <td>1</td>\n",
       "      <td>7.067660</td>\n",
       "      <td>-12.795337</td>\n",
       "      <td>3.342580</td>\n",
       "      <td>-53.291536</td>\n",
       "      <td>9.255274</td>\n",
       "      <td>0.277357</td>\n",
       "      <td>-17.310911</td>\n",
       "    </tr>\n",
       "    <tr>\n",
       "      <th>96</th>\n",
       "      <td>2017-Q1</td>\n",
       "      <td>0.3</td>\n",
       "      <td>0.0</td>\n",
       "      <td>1.0</td>\n",
       "      <td>1</td>\n",
       "      <td>2</td>\n",
       "      <td>-1.819783</td>\n",
       "      <td>8.862745</td>\n",
       "      <td>5.462354</td>\n",
       "      <td>2.331288</td>\n",
       "      <td>-2.506103</td>\n",
       "      <td>3.347331</td>\n",
       "      <td>4.598147</td>\n",
       "    </tr>\n",
       "    <tr>\n",
       "      <th>97</th>\n",
       "      <td>2017-Q2</td>\n",
       "      <td>-0.8</td>\n",
       "      <td>0.2</td>\n",
       "      <td>2.0</td>\n",
       "      <td>1</td>\n",
       "      <td>1</td>\n",
       "      <td>-4.705531</td>\n",
       "      <td>-0.607589</td>\n",
       "      <td>2.570629</td>\n",
       "      <td>3.475712</td>\n",
       "      <td>-4.081917</td>\n",
       "      <td>-0.462006</td>\n",
       "      <td>-0.543214</td>\n",
       "    </tr>\n",
       "    <tr>\n",
       "      <th>98</th>\n",
       "      <td>2017-Q3</td>\n",
       "      <td>0.6</td>\n",
       "      <td>0.2</td>\n",
       "      <td>1.0</td>\n",
       "      <td>2</td>\n",
       "      <td>2</td>\n",
       "      <td>-2.668674</td>\n",
       "      <td>3.071818</td>\n",
       "      <td>3.899917</td>\n",
       "      <td>-1.258134</td>\n",
       "      <td>7.232096</td>\n",
       "      <td>3.275873</td>\n",
       "      <td>3.832387</td>\n",
       "    </tr>\n",
       "    <tr>\n",
       "      <th>99</th>\n",
       "      <td>2017-Q4</td>\n",
       "      <td>-0.1</td>\n",
       "      <td>0.2</td>\n",
       "      <td>2.0</td>\n",
       "      <td>1</td>\n",
       "      <td>1</td>\n",
       "      <td>-1.022820</td>\n",
       "      <td>1.801133</td>\n",
       "      <td>6.221391</td>\n",
       "      <td>-3.084833</td>\n",
       "      <td>10.800555</td>\n",
       "      <td>3.695786</td>\n",
       "      <td>2.387085</td>\n",
       "    </tr>\n",
       "    <tr>\n",
       "      <th>100</th>\n",
       "      <td>2018-Q1</td>\n",
       "      <td>0.3</td>\n",
       "      <td>0.1</td>\n",
       "      <td>1.0</td>\n",
       "      <td>2</td>\n",
       "      <td>1</td>\n",
       "      <td>-2.333811</td>\n",
       "      <td>1.740866</td>\n",
       "      <td>-1.390242</td>\n",
       "      <td>-13.881962</td>\n",
       "      <td>2.373136</td>\n",
       "      <td>-0.063135</td>\n",
       "      <td>-5.031284</td>\n",
       "    </tr>\n",
       "    <tr>\n",
       "      <th>101</th>\n",
       "      <td>2018-Q2</td>\n",
       "      <td>0.5</td>\n",
       "      <td>0.3</td>\n",
       "      <td>1.0</td>\n",
       "      <td>1</td>\n",
       "      <td>2</td>\n",
       "      <td>4.996999</td>\n",
       "      <td>-5.498385</td>\n",
       "      <td>3.089493</td>\n",
       "      <td>-4.416058</td>\n",
       "      <td>7.617401</td>\n",
       "      <td>2.061167</td>\n",
       "      <td>2.158934</td>\n",
       "    </tr>\n",
       "    <tr>\n",
       "      <th>102</th>\n",
       "      <td>2018-Q3</td>\n",
       "      <td>-0.6</td>\n",
       "      <td>0.1</td>\n",
       "      <td>2.0</td>\n",
       "      <td>1</td>\n",
       "      <td>2</td>\n",
       "      <td>0.700752</td>\n",
       "      <td>-4.927351</td>\n",
       "      <td>7.166028</td>\n",
       "      <td>-7.025516</td>\n",
       "      <td>-0.237528</td>\n",
       "      <td>-0.531498</td>\n",
       "      <td>-0.701362</td>\n",
       "    </tr>\n",
       "    <tr>\n",
       "      <th>103</th>\n",
       "      <td>2018-Q4</td>\n",
       "      <td>-0.4</td>\n",
       "      <td>0.0</td>\n",
       "      <td>2.0</td>\n",
       "      <td>2</td>\n",
       "      <td>data_not_available</td>\n",
       "      <td>1.094269</td>\n",
       "      <td>7.692631</td>\n",
       "      <td>-14.034122</td>\n",
       "      <td>12.312214</td>\n",
       "      <td>-23.021991</td>\n",
       "      <td>-4.791246</td>\n",
       "      <td>-2.588488</td>\n",
       "    </tr>\n",
       "  </tbody>\n",
       "</table>\n",
       "</div>"
      ],
      "text/plain": [
       "        Date  delta_change_CPI  delta_change_GDP  quadrant_number  \\\n",
       "93   2016-Q2               0.1              -0.3              4.0   \n",
       "94   2016-Q3               0.5               0.2              1.0   \n",
       "95   2016-Q4               0.6               0.4              1.0   \n",
       "96   2017-Q1               0.3               0.0              1.0   \n",
       "97   2017-Q2              -0.8               0.2              2.0   \n",
       "98   2017-Q3               0.6               0.2              1.0   \n",
       "99   2017-Q4              -0.1               0.2              2.0   \n",
       "100  2018-Q1               0.3               0.1              1.0   \n",
       "101  2018-Q2               0.5               0.3              1.0   \n",
       "102  2018-Q3              -0.6               0.1              2.0   \n",
       "103  2018-Q4              -0.4               0.0              2.0   \n",
       "\n",
       "      previous_quadrant       next_quadrant  USD returns  gold returns  \\\n",
       "93   data_not_available                   1     1.646121      7.231799   \n",
       "94                    4                   1    -0.707280     -0.456162   \n",
       "95                    1                   1     7.067660    -12.795337   \n",
       "96                    1                   2    -1.819783      8.862745   \n",
       "97                    1                   1    -4.705531     -0.607589   \n",
       "98                    2                   2    -2.668674      3.071818   \n",
       "99                    1                   1    -1.022820      1.801133   \n",
       "100                   2                   1    -2.333811      1.740866   \n",
       "101                   1                   2     4.996999     -5.498385   \n",
       "102                   1                   2     0.700752     -4.927351   \n",
       "103                   2  data_not_available     1.094269      7.692631   \n",
       "\n",
       "     equity returns  bonds returns  commodities returns  \\\n",
       "93         1.924387      16.892655            15.649630   \n",
       "94         3.258145      -8.429640            -2.556250   \n",
       "95         3.342580     -53.291536             9.255274   \n",
       "96         5.462354       2.331288            -2.506103   \n",
       "97         2.570629       3.475712            -4.081917   \n",
       "98         3.899917      -1.258134             7.232096   \n",
       "99         6.221391      -3.084833            10.800555   \n",
       "100       -1.390242     -13.881962             2.373136   \n",
       "101        3.089493      -4.416058             7.617401   \n",
       "102        7.166028      -7.025516            -0.237528   \n",
       "103      -14.034122      12.312214           -23.021991   \n",
       "\n",
       "     total_return_monte_carlo  total_return_rp  \n",
       "93                   5.155236        10.004952  \n",
       "94                   0.189664        -3.315597  \n",
       "95                   0.277357       -17.310911  \n",
       "96                   3.347331         4.598147  \n",
       "97                  -0.462006        -0.543214  \n",
       "98                   3.275873         3.832387  \n",
       "99                   3.695786         2.387085  \n",
       "100                 -0.063135        -5.031284  \n",
       "101                  2.061167         2.158934  \n",
       "102                 -0.531498        -0.701362  \n",
       "103                 -4.791246        -2.588488  "
      ]
     },
     "execution_count": 283,
     "metadata": {},
     "output_type": "execute_result"
    }
   ],
   "source": [
    "\n",
    "data_point_val"
   ]
  },
  {
   "cell_type": "code",
   "execution_count": 284,
   "metadata": {
    "extensions": {
     "jupyter_dashboards": {
      "version": 1,
      "views": {
       "grid_default": {
        "hidden": true
       },
       "report_default": {}
      }
     }
    }
   },
   "outputs": [],
   "source": [
    "data_point_val['total_return_iv'] = np.nan"
   ]
  },
  {
   "cell_type": "code",
   "execution_count": 285,
   "metadata": {
    "extensions": {
     "jupyter_dashboards": {
      "version": 1,
      "views": {
       "grid_default": {
        "hidden": true
       },
       "report_default": {}
      }
     }
    }
   },
   "outputs": [],
   "source": [
    "for i in index_quadrant1_test:\n",
    "    \n",
    "    data_point_val.iloc[i,13] = optimum_weights_iv['Quadrant1']['equity']*data_point_val.iloc[i,8] + \\\n",
    "     optimum_weights_iv['Quadrant1']['Bonds']*data_point_val.iloc[i,9] + \\\n",
    "     optimum_weights_iv['Quadrant1']['USD']*data_point_val.iloc[i,6] + \\\n",
    "     optimum_weights_iv['Quadrant1']['gold']*data_point_val.iloc[i,7] + \\\n",
    "     optimum_weights_iv['Quadrant1']['commodities']*data_point_val.iloc[i,10]\n",
    "    \n",
    "    \n",
    "\n",
    "for i in index_quadrant2_test:\n",
    "    \n",
    "    data_point_val.iloc[i,13] = optimum_weights_iv['Quadrant2']['equity']*data_point_val.iloc[i,8] + \\\n",
    "     optimum_weights_iv['Quadrant2']['Bonds']*data_point_val.iloc[i,9] + \\\n",
    "     optimum_weights_iv['Quadrant2']['USD']*data_point_val.iloc[i,6] + \\\n",
    "     optimum_weights_iv['Quadrant2']['gold']*data_point_val.iloc[i,7] + \\\n",
    "     optimum_weights_iv['Quadrant2']['commodities']*data_point_val.iloc[i,10]\n",
    "    \n",
    "for i in index_quadrant3_test:\n",
    "    \n",
    "    data_point_val.iloc[i,13] = optimum_weights_iv['Quadrant3']['equity']*data_point_val.iloc[i,8] + \\\n",
    "     optimum_weights_iv['Quadrant3']['Bonds']*data_point_val.iloc[i,9] + \\\n",
    "     optimum_weights_iv['Quadrant3']['USD']*data_point_val.iloc[i,6] + \\\n",
    "     optimum_weights_iv['Quadrant3']['gold']*data_point_val.iloc[i,7] + \\\n",
    "     optimum_weights_iv['Quadrant3']['commodities']*data_point_val.iloc[i,10]\n",
    "    \n",
    "for i in index_quadrant4_test:\n",
    "    \n",
    "    data_point_val.iloc[i,13] = optimum_weights_rp['Quadrant4']['equity']*data_point_val.iloc[i,8] + \\\n",
    "     optimum_weights_iv['Quadrant4']['Bonds']*data_point_val.iloc[i,9] + \\\n",
    "     optimum_weights_iv['Quadrant4']['USD']*data_point_val.iloc[i,6] + \\\n",
    "     optimum_weights_iv['Quadrant4']['gold']*data_point_val.iloc[i,7] + \\\n",
    "     optimum_weights_iv['Quadrant4']['commodities']*data_point_val.iloc[i,10]\n",
    "    \n",
    "    \n",
    "    "
   ]
  },
  {
   "cell_type": "code",
   "execution_count": 286,
   "metadata": {
    "extensions": {
     "jupyter_dashboards": {
      "version": 1,
      "views": {
       "grid_default": {
        "col": 0,
        "height": 17,
        "hidden": false,
        "row": 129,
        "width": 12
       },
       "report_default": {}
      }
     }
    }
   },
   "outputs": [
    {
     "ename": "SyntaxError",
     "evalue": "invalid syntax (<ipython-input-286-85a33495a3c6>, line 1)",
     "output_type": "error",
     "traceback": [
      "\u001b[1;36m  File \u001b[1;32m\"<ipython-input-286-85a33495a3c6>\"\u001b[1;36m, line \u001b[1;32m1\u001b[0m\n\u001b[1;33m    data_point_val1 =\u001b[0m\n\u001b[1;37m                      ^\u001b[0m\n\u001b[1;31mSyntaxError\u001b[0m\u001b[1;31m:\u001b[0m invalid syntax\n"
     ]
    }
   ],
   "source": [
    "data_point_val1 = "
   ]
  },
  {
   "cell_type": "code",
   "execution_count": null,
   "metadata": {
    "extensions": {
     "jupyter_dashboards": {
      "version": 1,
      "views": {
       "grid_default": {
        "col": 0,
        "height": 13,
        "hidden": true,
        "row": 24,
        "width": 7
       },
       "report_default": {}
      }
     }
    }
   },
   "outputs": [],
   "source": [
    "plt.figure(figsize=(10,10))\n",
    "\n",
    "plt.subplot(2,2,1)\n",
    "plt.plot(data_point_val.index,data_point_val['total_return_monte_carlo'])\n",
    "plt.title('monte carlo')\n",
    "\n",
    "plt.subplot(2,2,2)\n",
    "plt.plot(data_point_val.index,data_point_val['total_return_rp'])\n",
    "plt.title('risk parity')\n",
    "\n",
    "plt.subplot(2,2,3)\n",
    "plt.plot(data_point_val.index,data_point_val['total_return_iv'])\n",
    "plt.title('inverse vol')\n",
    "\n",
    "plt.show()\n"
   ]
  },
  {
   "cell_type": "code",
   "execution_count": null,
   "metadata": {
    "extensions": {
     "jupyter_dashboards": {
      "version": 1,
      "views": {
       "grid_default": {
        "hidden": true
       },
       "report_default": {}
      }
     }
    }
   },
   "outputs": [],
   "source": []
  }
 ],
 "metadata": {
  "extensions": {
   "jupyter_dashboards": {
    "activeView": "grid_default",
    "version": 1,
    "views": {
     "grid_default": {
      "cellMargin": 10,
      "defaultCellHeight": 20,
      "maxColumns": 12,
      "name": "grid",
      "type": "grid"
     },
     "report_default": {
      "name": "report",
      "type": "report"
     }
    }
   }
  },
  "kernelspec": {
   "display_name": "Python 3",
   "language": "python",
   "name": "python3"
  },
  "language_info": {
   "codemirror_mode": {
    "name": "ipython",
    "version": 3
   },
   "file_extension": ".py",
   "mimetype": "text/x-python",
   "name": "python",
   "nbconvert_exporter": "python",
   "pygments_lexer": "ipython3",
   "version": "3.6.5"
  }
 },
 "nbformat": 4,
 "nbformat_minor": 2
}
